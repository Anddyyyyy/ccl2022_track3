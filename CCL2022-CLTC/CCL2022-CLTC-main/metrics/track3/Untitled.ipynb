{
 "cells": [
  {
   "cell_type": "code",
   "execution_count": 13,
   "id": "d58538a3-182e-4d0f-ba19-f5f60b473819",
   "metadata": {},
   "outputs": [],
   "source": [
    "import re"
   ]
  },
  {
   "cell_type": "code",
   "execution_count": 14,
   "id": "1106c0b7-d4f8-4eab-a9ab-02462fc2ac15",
   "metadata": {},
   "outputs": [
    {
     "data": {
      "text/plain": [
       "'我在家里一个人学习中文。    我在家里自学中文。'"
      ]
     },
     "execution_count": 14,
     "metadata": {},
     "output_type": "execute_result"
    }
   ],
   "source": [
    "line = \"我在家里一个人学习中文。    我在家里自学中文。\"\n",
    "line"
   ]
  },
  {
   "cell_type": "code",
   "execution_count": 15,
   "id": "a8344fe4-1e03-4196-8966-7a3d915b27ae",
   "metadata": {},
   "outputs": [
    {
     "data": {
      "text/plain": [
       "'我在家里一个人学习中文。    我在家里自学中文。'"
      ]
     },
     "execution_count": 15,
     "metadata": {},
     "output_type": "execute_result"
    }
   ],
   "source": [
    "line = line.strip(\"\\n\")\n",
    "line"
   ]
  },
  {
   "cell_type": "code",
   "execution_count": 16,
   "id": "d6a581dc-4ff5-4ead-970c-1422645352b4",
   "metadata": {},
   "outputs": [
    {
     "data": {
      "text/plain": [
       "['我在家里一个人学习中文。', '我在家里自学中文。']"
      ]
     },
     "execution_count": 16,
     "metadata": {},
     "output_type": "execute_result"
    }
   ],
   "source": [
    "line = line.split()\n",
    "line"
   ]
  },
  {
   "cell_type": "code",
   "execution_count": 23,
   "id": "577d843f-d6db-473f-b1f2-07dd2075915f",
   "metadata": {},
   "outputs": [
    {
     "data": {
      "text/plain": [
       "'我 在 家 里 一 个 人 学 习 中 文 。'"
      ]
     },
     "execution_count": 23,
     "metadata": {},
     "output_type": "execute_result"
    }
   ],
   "source": [
    "\n",
    "' '.join(line[0])"
   ]
  }
 ],
 "metadata": {
  "kernelspec": {
   "display_name": "Python 3",
   "language": "python",
   "name": "python3"
  },
  "language_info": {
   "codemirror_mode": {
    "name": "ipython",
    "version": 3
   },
   "file_extension": ".py",
   "mimetype": "text/x-python",
   "name": "python",
   "nbconvert_exporter": "python",
   "pygments_lexer": "ipython3",
   "version": "3.7.6"
  }
 },
 "nbformat": 4,
 "nbformat_minor": 5
}
