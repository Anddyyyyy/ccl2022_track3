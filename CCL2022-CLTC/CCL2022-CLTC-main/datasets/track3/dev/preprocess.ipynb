{
 "cells": [
  {
   "cell_type": "code",
   "execution_count": 40,
   "id": "cc93bfff-e425-435c-8b59-ea8e44ebb8da",
   "metadata": {},
   "outputs": [
    {
     "name": "stdout",
     "output_type": "stream",
     "text": [
      "0\t如果独生的话，一到家就睡觉。\t如果我一个人的话，一到家就可以睡觉。\t如果单身的话，我一到家就睡觉。\t如果单身的话，一到家就睡觉。\t如果一个人的话，一到家就可以睡觉。\t如果独身的话，一到家就可以睡觉了。\t如果我独自生活的话，一到家就睡觉。\t如果是单身的话，一到家就可以睡觉了。\t如果是独自生活的话，一到家就可以睡觉。\t如果独自生活的话，一到家就能睡觉。\t如果独自生活的话，一到家就睡觉。\n",
      "\n",
      "0\t如果独生的话，一到家就睡觉。\t如果我一个人的话，一到家就可以睡觉。\t如果单身的话，我一到家就睡觉。\t如果单身的话，一到家就睡觉。\t如果一个人的话，一到家就可以睡觉。\t如果独身的话，一到家就可以睡觉了。\t如果我独自生活的话，一到家就睡觉。\t如果是单身的话，一到家就可以睡觉了。\t如果是独自生活的话，一到家就可以睡觉。\t如果独自生活的话，一到家就能睡觉。\t如果独自生活的话，一到家就睡觉。\n",
      "['0', '如果独生的话，一到家就睡觉。', '如果我一个人的话，一到家就可以睡觉。', '如果单身的话，我一到家就睡觉。', '如果单身的话，一到家就睡觉。', '如果一个人的话，一到家就可以睡觉。', '如果独身的话，一到家就可以睡觉了。', '如果我独自生活的话，一到家就睡觉。', '如果是单身的话，一到家就可以睡觉了。', '如果是独自生活的话，一到家就可以睡觉。', '如果独自生活的话，一到家就能睡觉。', '如果独自生活的话，一到家就睡觉。']\n",
      "['如果独生的话，一到家就睡觉。', '如果独生的话，一到家就睡觉。', '如果独生的话，一到家就睡觉。', '如果独生的话，一到家就睡觉。', '如果独生的话，一到家就睡觉。', '如果独生的话，一到家就睡觉。', '如果独生的话，一到家就睡觉。', '如果独生的话，一到家就睡觉。', '如果独生的话，一到家就睡觉。', '如果独生的话，一到家就睡觉。']\n",
      "['如果我一个人的话，一到家就可以睡觉。', '如果单身的话，我一到家就睡觉。', '如果单身的话，一到家就睡觉。', '如果一个人的话，一到家就可以睡觉。', '如果独身的话，一到家就可以睡觉了。', '如果我独自生活的话，一到家就睡觉。', '如果是单身的话，一到家就可以睡觉了。', '如果是独自生活的话，一到家就可以睡觉。', '如果独自生活的话，一到家就能睡觉。', '如果独自生活的话，一到家就睡觉。']\n"
     ]
    }
   ],
   "source": [
    "src =[]\n",
    "tgt =[]\n",
    "with open(\"yaclc-minimal_dev.para\",\"r\") as f:\n",
    "    line = f.readlines()[0]\n",
    "    print(line)\n",
    "    line = line.strip(\"\\n\")\n",
    "    print(line)\n",
    "    line = line.split()\n",
    "    print(line)\n",
    "    for t in line[2:]:\n",
    "        src.append(line[1])\n",
    "        tgt.append(t)\n",
    "    print(src)\n",
    "    print(tgt)"
   ]
  },
  {
   "cell_type": "code",
   "execution_count": null,
   "id": "3fb0b021-b92a-4667-bb31-9eb8cf66c66c",
   "metadata": {},
   "outputs": [],
   "source": []
  },
  {
   "cell_type": "code",
   "execution_count": 41,
   "id": "9e684099-245d-461e-8338-b854ec2e4cdf",
   "metadata": {},
   "outputs": [],
   "source": [
    "!python ../../../../preprocess_dev_para.py --file yaclc-minimal_dev.para --s yaclc-minimal_dev.src --t yaclc-minimal_dev.tgt"
   ]
  },
  {
   "cell_type": "code",
   "execution_count": 43,
   "id": "41827700-0f64-4b74-afe6-bc3b9f2e3260",
   "metadata": {},
   "outputs": [
    {
     "name": "stdout",
     "output_type": "stream",
     "text": [
      "15970 yaclc-minimal_dev.tgt\n"
     ]
    }
   ],
   "source": [
    "!wc -l yaclc-minimal_dev.tgt"
   ]
  },
  {
   "cell_type": "code",
   "execution_count": 44,
   "id": "6aee714b-6b8f-46bc-a7da-adf443d420c7",
   "metadata": {},
   "outputs": [
    {
     "name": "stdout",
     "output_type": "stream",
     "text": [
      "15970 yaclc-minimal_dev.src\n"
     ]
    }
   ],
   "source": [
    "!wc -l yaclc-minimal_dev.src"
   ]
  }
 ],
 "metadata": {
  "kernelspec": {
   "display_name": "Python 3",
   "language": "python",
   "name": "python3"
  },
  "language_info": {
   "codemirror_mode": {
    "name": "ipython",
    "version": 3
   },
   "file_extension": ".py",
   "mimetype": "text/x-python",
   "name": "python",
   "nbconvert_exporter": "python",
   "pygments_lexer": "ipython3",
   "version": "3.7.6"
  }
 },
 "nbformat": 4,
 "nbformat_minor": 5
}
