{
 "cells": [
  {
   "cell_type": "code",
   "execution_count": 24,
   "id": "93d83167-b4ce-43e3-89e6-4d1b59fca272",
   "metadata": {},
   "outputs": [
    {
     "data": {
      "text/plain": [
       "['0\\t从今年年头开始一直想这个事了。\\n',\n",
       " '1\\t（其实对我来说没有关系）\\n',\n",
       " '2\\t逛街之后，看手表已经是19点了。\\n',\n",
       " '3\\t老公没吃过小尾羊的火锅，昨天第一次。\\n',\n",
       " '4\\t（有90分钟可以随便吃的制度）\\n']"
      ]
     },
     "execution_count": 24,
     "metadata": {},
     "output_type": "execute_result"
    }
   ],
   "source": [
    "s = open(\"yaclc-fluency_testA.src\",\"r\").readlines()\n",
    "t = open(\"../../../baselines/track3/seq2edit/result/yaclc-minimal_testA.preds\",\"r\").readlines()\n",
    "s[:5]\n"
   ]
  },
  {
   "cell_type": "code",
   "execution_count": 22,
   "id": "f23c6505-df48-4bae-8874-c199d60da0b1",
   "metadata": {},
   "outputs": [
    {
     "data": {
      "text/plain": [
       "'在东京的中国人比率是75分之1！\\n'"
      ]
     },
     "execution_count": 22,
     "metadata": {},
     "output_type": "execute_result"
    }
   ],
   "source": [
    "t[:5]\n",
    "t[60].lstrip(\"60\")"
   ]
  },
  {
   "cell_type": "code",
   "execution_count": 39,
   "id": "793744d5-62a9-4f84-9b84-0c36c30952cf",
   "metadata": {},
   "outputs": [
    {
     "data": {
      "text/plain": [
       "['今天下午我打算告诉上司我想辞职。\\n',\n",
       " '从今年年头开始一直想这件事了。\\n',\n",
       " '（其实对我来说没有关系）\\n',\n",
       " '逛街之后，看手表已经是19点了。\\n',\n",
       " '老公没吃过小尾羊的火锅，昨天第一次。\\n']"
      ]
     },
     "execution_count": 39,
     "metadata": {},
     "output_type": "execute_result"
    }
   ],
   "source": [
    "for i in range(len(t)):\n",
    "    t[i]=t[i].lstrip(str(i))"
   ]
  },
  {
   "cell_type": "code",
   "execution_count": 51,
   "id": "89a9b66e-9068-4f4e-b2b8-cbe867797b94",
   "metadata": {},
   "outputs": [
    {
     "data": {
      "text/plain": [
       "['0\\t从今年年头开始一直想这个事了。\\t今天下午我打算告诉上司我想辞职。\\n',\n",
       " '1\\t（其实对我来说没有关系）\\t从今年年头开始一直想这件事了。\\n']"
      ]
     },
     "execution_count": 51,
     "metadata": {},
     "output_type": "execute_result"
    }
   ],
   "source": [
    "para = []\n",
    "para.append(s[0].strip(\"\\n\")+\"\\t\"+t[0].strip(\"\\n\")+\"\\n\")\n",
    "para.append(s[1].strip(\"\\n\")+\"\\t\"+t[1].strip(\"\\n\")+\"\\n\")\n",
    "para"
   ]
  },
  {
   "cell_type": "code",
   "execution_count": 52,
   "id": "2df966c4-0da8-4b27-a0f6-ac3e0d041624",
   "metadata": {},
   "outputs": [
    {
     "name": "stdout",
     "output_type": "stream",
     "text": [
      "python: can't open file '../../../../utils/precess_test_para.py': [Errno 2] No such file or directory\n"
     ]
    }
   ],
   "source": [
    "!python ../../../../utils/preprocess_test_para.py -s yaclc-minimal_testA.src -t ../../../baselines/track3/seq2edit/result/yaclc-minimal_testA.preds -f ../../../baselines/track3/seq2edit/result/yaclc-minimal_testA.para"
   ]
  }
 ],
 "metadata": {
  "kernelspec": {
   "display_name": "Python 3",
   "language": "python",
   "name": "python3"
  },
  "language_info": {
   "codemirror_mode": {
    "name": "ipython",
    "version": 3
   },
   "file_extension": ".py",
   "mimetype": "text/x-python",
   "name": "python",
   "nbconvert_exporter": "python",
   "pygments_lexer": "ipython3",
   "version": "3.7.6"
  }
 },
 "nbformat": 4,
 "nbformat_minor": 5
}
