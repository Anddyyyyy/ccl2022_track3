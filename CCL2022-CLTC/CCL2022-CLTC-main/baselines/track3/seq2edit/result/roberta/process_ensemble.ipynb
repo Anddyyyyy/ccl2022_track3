{
 "cells": [
  {
   "cell_type": "code",
   "execution_count": 16,
   "id": "1f1452d1-58cf-4744-b4a0-ebee6b2856e9",
   "metadata": {},
   "outputs": [
    {
     "data": {
      "text/plain": [
       "['0\\t从今年年头开始一直想这个事了。\\t从今年年头开始一直想这个事了。\\n',\n",
       " '1\\t（其实对我来说没有关系）\\t（其实对我来说没有关系）\\n',\n",
       " '2\\t逛街之后，看手表已经是19点了。\\t逛完街之后，看手表已经是19点了。\\n',\n",
       " '3\\t老公没吃过小尾羊的火锅，昨天第一次。\\t老公没吃过小尾羊的火锅，昨天第一次。\\n',\n",
       " '4\\t（有90分钟可以随便吃的制度）\\t（有90分钟可以随便吃的制度）\\n']"
      ]
     },
     "execution_count": 16,
     "metadata": {},
     "output_type": "execute_result"
    }
   ],
   "source": [
    "para = open(\"yaclc-fluency_testA.para\",\"r\").readlines()\n",
    "para[:5]"
   ]
  },
  {
   "cell_type": "code",
   "execution_count": 17,
   "id": "140de669-c792-43d0-aa24-f04d91e1ab68",
   "metadata": {},
   "outputs": [],
   "source": [
    "src = []\n",
    "tgt = []\n",
    "for line in para :\n",
    "    line=line.split()\n",
    "    src.append(' '.join(line[1]))\n",
    "    tgt.append(' '.join(line[2]))"
   ]
  },
  {
   "cell_type": "code",
   "execution_count": 21,
   "id": "0e617df0-cb5a-432f-86da-9f862e82d48a",
   "metadata": {},
   "outputs": [],
   "source": [
    "s = open(\"yaclc-fluency_testA.src\",\"w\")\n",
    "[s.write(str(item)+'\\n') for item in src]\n",
    "s.close()"
   ]
  },
  {
   "cell_type": "code",
   "execution_count": 22,
   "id": "b2997607-cae2-4c98-8379-dbf2afd240a0",
   "metadata": {},
   "outputs": [],
   "source": [
    "t = open(\"yaclc-fluency_testA.tgt\",\"w\")\n",
    "[t.write(str(item)+'\\n')for item in tgt]\n",
    "t.close()"
   ]
  }
 ],
 "metadata": {
  "kernelspec": {
   "display_name": "Python 3",
   "language": "python",
   "name": "python3"
  },
  "language_info": {
   "codemirror_mode": {
    "name": "ipython",
    "version": 3
   },
   "file_extension": ".py",
   "mimetype": "text/x-python",
   "name": "python",
   "nbconvert_exporter": "python",
   "pygments_lexer": "ipython3",
   "version": "3.7.6"
  }
 },
 "nbformat": 4,
 "nbformat_minor": 5
}
