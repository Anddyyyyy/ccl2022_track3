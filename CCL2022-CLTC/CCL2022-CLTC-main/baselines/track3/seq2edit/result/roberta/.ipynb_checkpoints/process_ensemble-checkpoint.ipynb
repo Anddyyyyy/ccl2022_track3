{
 "cells": [
  {
   "cell_type": "code",
   "execution_count": 16,
   "id": "1f1452d1-58cf-4744-b4a0-ebee6b2856e9",
   "metadata": {},
   "outputs": [
    {
     "data": {
      "text/plain": [
       "['0\\t从今年年头开始一直想这个事了。\\t从今年年头开始一直想这个事了。\\n',\n",
       " '1\\t（其实对我来说没有关系）\\t（其实对我来说没有关系）\\n',\n",
       " '2\\t逛街之后，看手表已经是19点了。\\t逛完街之后，看手表已经是19点了。\\n',\n",
       " '3\\t老公没吃过小尾羊的火锅，昨天第一次。\\t老公没吃过小尾羊的火锅，昨天第一次。\\n',\n",
       " '4\\t（有90分钟可以随便吃的制度）\\t（有90分钟可以随便吃的制度）\\n']"
      ]
     },
     "execution_count": 16,
     "metadata": {},
     "output_type": "execute_result"
    }
   ],
   "source": [
    "para = open(\"yaclc-fluency_testA.para\",\"r\").readlines()\n",
    "para[:5]"
   ]
  },
  {
   "cell_type": "code",
   "execution_count": 17,
   "id": "140de669-c792-43d0-aa24-f04d91e1ab68",
   "metadata": {},
   "outputs": [],
   "source": [
    "src = []\n",
    "tgt = []\n",
    "for line in para :\n",
    "    line=line.split()\n",
    "    src.append(' '.join(line[1]))\n",
    "    tgt.append(' '.join(line[2]))"
   ]
  },
  {
   "cell_type": "code",
   "execution_count": 18,
   "id": "04522ce4-3a0a-4eca-b3a3-6988008d9466",
   "metadata": {},
   "outputs": [
    {
     "data": {
      "text/plain": [
       "['从 今 年 年 头 开 始 一 直 想 这 个 事 了 。',\n",
       " '（ 其 实 对 我 来 说 没 有 关 系 ）',\n",
       " '逛 街 之 后 ， 看 手 表 已 经 是 1 9 点 了 。',\n",
       " '老 公 没 吃 过 小 尾 羊 的 火 锅 ， 昨 天 第 一 次 。',\n",
       " '（ 有 9 0 分 钟 可 以 随 便 吃 的 制 度 ）']"
      ]
     },
     "execution_count": 18,
     "metadata": {},
     "output_type": "execute_result"
    }
   ],
   "source": [
    "src[:5]"
   ]
  },
  {
   "cell_type": "code",
   "execution_count": 20,
   "id": "0e617df0-cb5a-432f-86da-9f862e82d48a",
   "metadata": {},
   "outputs": [],
   "source": [
    "s = open(\"yaclc-fluency_testA.src\",\"w\")\n",
    "[s.write(str(item)+'\\n') for item in src]\n",
    "s.close()"
   ]
  },
  {
   "cell_type": "code",
   "execution_count": 9,
   "id": "b2997607-cae2-4c98-8379-dbf2afd240a0",
   "metadata": {},
   "outputs": [
    {
     "data": {
      "text/plain": [
       "'从 今 年 年 头 开 始 一 直 想 这 个 事 了 。'"
      ]
     },
     "execution_count": 9,
     "metadata": {},
     "output_type": "execute_result"
    }
   ],
   "source": [
    "' '.join(para[0].split()[1])"
   ]
  }
 ],
 "metadata": {
  "kernelspec": {
   "display_name": "Python 3",
   "language": "python",
   "name": "python3"
  },
  "language_info": {
   "codemirror_mode": {
    "name": "ipython",
    "version": 3
   },
   "file_extension": ".py",
   "mimetype": "text/x-python",
   "name": "python",
   "nbconvert_exporter": "python",
   "pygments_lexer": "ipython3",
   "version": "3.7.6"
  }
 },
 "nbformat": 4,
 "nbformat_minor": 5
}
