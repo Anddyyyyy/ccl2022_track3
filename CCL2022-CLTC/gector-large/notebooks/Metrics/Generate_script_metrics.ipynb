{
 "cells": [
  {
   "cell_type": "code",
   "execution_count": 202,
   "metadata": {},
   "outputs": [],
   "source": [
    "def generate_script_text(folder_name, start_epoch=0, end_epoch=20, use_cpu=1, cuda_device_index=-1,experiment_name=\"\", model_name=\"roberta\", vocabulary=\"data/output_vocabulary\", generate_predict=True, generate_metrics=True):\n",
    "    text = ''\n",
    "    if len(experiment_name)>0:\n",
    "        text += 'echo -e \"'+experiment_name+'\"'+\"\\n\" \n",
    "    for num in range(start_epoch, end_epoch):\n",
    "        if generate_predict:\n",
    "            pass\n",
    "            text += \"source activate maks_env\"+\"\\n\"\n",
    "            text += 'echo -e \"Predict epoch : '+str(num)+'\"'+\"\\n\"\n",
    "            #--use_cpu 1 #--cuda_device_index 0\n",
    "            text += \"python predict.py --model_path models/\"+folder_name+\"/model_state_epoch_\"+str(num)+\".th --vocab_path \"+vocabulary+\" --input_file data_parallel/wi+locness/dev_src --output_file predicts/\"+folder_name+\"_epoch_\"+str(num)+\".txt --transformer_model \"+model_name+\" --special_tokens_fix 1\"\n",
    "            if use_cpu:\n",
    "                text += ' --use_cpu 1'\n",
    "            if cuda_device_index>=0:\n",
    "                text += ' --cuda_device_index '+str(cuda_device_index)\n",
    "            text +=\"\\n\\n\"\n",
    "\n",
    "            text += \"conda deactivate\"+\"\\n\\n\"\n",
    "        \n",
    "        if generate_metrics:\n",
    "            text += \"source activate errant_env\"+\"\\n\"\n",
    "\n",
    "            text += 'echo -e \"Calculate metric for epoch : '+str(num)+'\"'+\"\\n\"\n",
    "\n",
    "            text += \"errant_parallel -orig data_parallel/wi+locness/dev_src -cor predicts/\"+folder_name+\"_epoch_\"+str(num)+\".txt -out evaluation/\"+folder_name+\"_epoch_\"+str(num)+\".m2\"+\"\\n\\n\"\n",
    "\n",
    "            text += 'echo -e \"Metrics for epoch : '+str(num)+'\"'+\"\\n\"\n",
    "            text += \"errant_compare -hyp evaluation/\"+folder_name+\"_epoch_\"+str(num)+\".m2 -ref data_m2/wi+locness/ABCN.dev.gold.bea19.m2\"\"\\n\\n\"\n",
    "\n",
    "            text += \"conda deactivate\"+\"\\n\\n\"\n",
    "    print(text)"
   ]
  },
  {
   "cell_type": "code",
   "execution_count": 45,
   "metadata": {},
   "outputs": [],
   "source": [
    "folder_name = \"Exp_024_roberta_base_stage_1\"\n",
    "experiment_name=\"Experiment stage 1 Pie Base\"\n",
    "model_name = \"roberta\"\n",
    "start = 0\n",
    "end = 20\n",
    "cuda = 0\n",
    "#generate_script_text(folder_name, start_epoch=start, end_epoch=end, use_cpu=0,cuda_device_index=cuda, model_name=model_name, experiment_name=experiment_name)"
   ]
  },
  {
   "cell_type": "code",
   "execution_count": null,
   "metadata": {},
   "outputs": [],
   "source": [
    "folder_name = \"Exp_025_roberta_base_stage_2\"\n",
    "experiment_name=\"Experiment stage 2 Pie base\"\n",
    "#generate_script_text(folder_name, start_epoch=0, end_epoch=10, use_cpu=0,cuda_device_index=0, model_name=\"roberta\", experiment_name=experiment_name)"
   ]
  },
  {
   "cell_type": "code",
   "execution_count": 3,
   "metadata": {},
   "outputs": [],
   "source": [
    "folder_name = \"Exp_025_roberta_base_stage_2\"\n",
    "experiment_name=\"Experiment stage 2 Pie base\"\n",
    "#generate_script_text(folder_name, start_epoch=0, end_epoch=10, use_cpu=0,cuda_device_index=0, model_name=\"roberta\", experiment_name=experiment_name)"
   ]
  },
  {
   "cell_type": "code",
   "execution_count": null,
   "metadata": {},
   "outputs": [],
   "source": []
  },
  {
   "cell_type": "code",
   "execution_count": 11,
   "metadata": {},
   "outputs": [],
   "source": [
    "folder_name = \"Exp_026_roberta_large_stage_2\"\n",
    "experiment_name=\"Experiment stage 2 Pie Large\"\n",
    "model_name = \"roberta-large\"\n",
    "start = 0\n",
    "end = 9\n",
    "cuda = 0\n",
    "#generate_script_text(folder_name, start_epoch=start, end_epoch=end, use_cpu=0,cuda_device_index=cuda, model_name=model_name, experiment_name=experiment_name)"
   ]
  },
  {
   "cell_type": "code",
   "execution_count": 18,
   "metadata": {},
   "outputs": [],
   "source": [
    "folder_name = \"Exp_055_roberta_base_stage_1_pie_1bw\"\n",
    "experiment_name=\"Experiment stage 1 Pie+1BW Base\"\n",
    "model_name = \"roberta\"\n",
    "start = 9\n",
    "end = 10\n",
    "cuda = 0\n",
    "#generate_script_text(folder_name, start_epoch=start, end_epoch=end, use_cpu=0,cuda_device_index=cuda, model_name=model_name, experiment_name=experiment_name)"
   ]
  },
  {
   "cell_type": "code",
   "execution_count": 34,
   "metadata": {},
   "outputs": [],
   "source": [
    "folder_name = \"Exp_056_roberta_large_stage_1_pie_1bw\"\n",
    "experiment_name=\"Experiment stage 1 Pie+1BW Large\"\n",
    "model_name = \"roberta-large\"\n",
    "start = 7\n",
    "end = 8\n",
    "cuda = 0\n",
    "#generate_script_text(folder_name, start_epoch=start, end_epoch=end, use_cpu=0,cuda_device_index=cuda, model_name=model_name, experiment_name=experiment_name)"
   ]
  },
  {
   "cell_type": "code",
   "execution_count": 23,
   "metadata": {},
   "outputs": [],
   "source": [
    "folder_name = \"Exp_057_roberta_base_stage_2_pie_1bw_gold\"\n",
    "experiment_name=\"Experiment stage 2 GOLD Pie+1BW Base \"\n",
    "model_name = \"roberta\"\n",
    "start = 1\n",
    "end = 2\n",
    "cuda = 0\n",
    "#generate_script_text(folder_name, start_epoch=start, end_epoch=end, use_cpu=0,cuda_device_index=cuda, model_name=model_name, experiment_name=experiment_name)"
   ]
  },
  {
   "cell_type": "code",
   "execution_count": 28,
   "metadata": {
    "scrolled": false
   },
   "outputs": [],
   "source": [
    "folder_name = \"Exp_058_roberta_base_stage_2_pie_1bw_gold\"\n",
    "experiment_name=\"Experiment stage 2 GOLD Pie+1BW Base \"\n",
    "model_name = \"roberta\"\n",
    "start = 3\n",
    "end = 11\n",
    "cuda = 0\n",
    "#generate_script_text(folder_name, start_epoch=start, end_epoch=end, use_cpu=0,cuda_device_index=cuda, model_name=model_name, experiment_name=experiment_name)"
   ]
  },
  {
   "cell_type": "code",
   "execution_count": 30,
   "metadata": {},
   "outputs": [],
   "source": [
    "folder_name = \"Exp_059_roberta_base_stage_3_pie_1bw_gold\"\n",
    "experiment_name=\"Experiment stage 3 GOLD Pie+1BW Base \"\n",
    "model_name = \"roberta\"\n",
    "start = 0\n",
    "end = 6\n",
    "cuda = 0\n",
    "#generate_script_text(folder_name, start_epoch=start, end_epoch=end, use_cpu=0,cuda_device_index=cuda, model_name=model_name, experiment_name=experiment_name)"
   ]
  },
  {
   "cell_type": "code",
   "execution_count": 33,
   "metadata": {},
   "outputs": [],
   "source": [
    "folder_name = \"Exp_059_2_roberta_base_stage_3_pie_1bw_gold\"\n",
    "experiment_name=\"Experiment stage 3 GOLD Pie+1BW Base \"\n",
    "model_name = \"roberta\"\n",
    "start = 0\n",
    "end = 7\n",
    "cuda = 0\n",
    "#generate_script_text(folder_name, start_epoch=start, end_epoch=end, use_cpu=0,cuda_device_index=cuda, model_name=model_name, experiment_name=experiment_name)"
   ]
  },
  {
   "cell_type": "code",
   "execution_count": 47,
   "metadata": {},
   "outputs": [],
   "source": [
    "folder_name = \"Exp_060_roberta_base_stage_2_pie_1bw_gold\"\n",
    "experiment_name=\"Experiment stage 3 GOLD Pie+1BW Large \"\n",
    "model_name = \"roberta-large\"\n",
    "start = 7\n",
    "end = 9\n",
    "cuda = 0\n",
    "#generate_script_text(folder_name, start_epoch=start, end_epoch=end, use_cpu=0,cuda_device_index=cuda, model_name=model_name, experiment_name=experiment_name)"
   ]
  },
  {
   "cell_type": "code",
   "execution_count": 2,
   "metadata": {},
   "outputs": [],
   "source": [
    "folder_name = \"Exp_061_roberta_large_stage_3_pie_1bw_gold\"\n",
    "experiment_name=\"Experiment stage 3 GOLD Pie+1BW Large \"\n",
    "model_name = \"roberta-large\"\n",
    "start = 0\n",
    "end = 5\n",
    "cuda = 0\n",
    "#generate_script_text(folder_name, start_epoch=start, end_epoch=end, use_cpu=0,cuda_device_index=cuda, model_name=model_name, experiment_name=experiment_name)"
   ]
  },
  {
   "cell_type": "code",
   "execution_count": 4,
   "metadata": {},
   "outputs": [],
   "source": [
    "folder_name = \"Exp_053_roberta_large_stage_3_v4\"\n",
    "experiment_name=\"Experiment stage 3 GOLD 1BW Large \"\n",
    "model_name = \"roberta-large\"\n",
    "start = 0\n",
    "end = 5\n",
    "cuda = 0\n",
    "#generate_script_text(folder_name, start_epoch=start, end_epoch=end, use_cpu=0,cuda_device_index=cuda, model_name=model_name, experiment_name=experiment_name)"
   ]
  },
  {
   "cell_type": "code",
   "execution_count": 7,
   "metadata": {},
   "outputs": [],
   "source": [
    "folder_name = \"Exp_054_roberta_large_stage_3_v2\"\n",
    "experiment_name=\"Experiment stage 3 GOLD PIE Large \"\n",
    "model_name = \"roberta-large\"\n",
    "start = 0\n",
    "end = 5\n",
    "cuda = 0\n",
    "#generate_script_text(folder_name, start_epoch=start, end_epoch=end, use_cpu=0,cuda_device_index=cuda, model_name=model_name, experiment_name=experiment_name)"
   ]
  },
  {
   "cell_type": "code",
   "execution_count": 11,
   "metadata": {},
   "outputs": [],
   "source": [
    "folder_name = \"Exp_053_roberta_large_stage_3_v5\"\n",
    "experiment_name=\"Experiment stage 3 GOLD 1BW Large \"\n",
    "model_name = \"roberta-large\"\n",
    "start = 0\n",
    "end = 5\n",
    "cuda = 1\n",
    "#generate_script_text(folder_name, start_epoch=start, end_epoch=end, use_cpu=0,cuda_device_index=cuda, model_name=model_name, experiment_name=experiment_name)"
   ]
  },
  {
   "cell_type": "code",
   "execution_count": 27,
   "metadata": {},
   "outputs": [],
   "source": [
    "folder_name = \"Exp_062_roberta_base_stage_3_gold_clust_5k\"\n",
    "experiment_name=\"Experiment Base Clustering 5k\"\n",
    "model_name = \"roberta\"\n",
    "start = 0\n",
    "end = 7\n",
    "cuda = 0\n",
    "#generate_script_text(folder_name, start_epoch=start, end_epoch=end, use_cpu=0,cuda_device_index=cuda, model_name=model_name, experiment_name=experiment_name)"
   ]
  },
  {
   "cell_type": "code",
   "execution_count": 16,
   "metadata": {},
   "outputs": [],
   "source": [
    "folder_name = \"Exp_062_roberta_base_stage_3_gold_clust_10k\"\n",
    "experiment_name=\"Experiment Base Clustering 10k\"\n",
    "model_name = \"roberta\"\n",
    "start = 0\n",
    "end = 6\n",
    "cuda = 1\n",
    "#generate_script_text(folder_name, start_epoch=start, end_epoch=end, use_cpu=0,cuda_device_index=cuda, model_name=model_name, experiment_name=experiment_name)"
   ]
  },
  {
   "cell_type": "code",
   "execution_count": 19,
   "metadata": {},
   "outputs": [],
   "source": [
    "folder_name = \"Exp_062_roberta_base_stage_3_gold_clust_15k\"\n",
    "experiment_name=\"Experiment Base Clustering 15k\"\n",
    "model_name = \"roberta\"\n",
    "start = 3\n",
    "end = 5\n",
    "cuda = 0\n",
    "#generate_script_text(folder_name, start_epoch=start, end_epoch=end, use_cpu=0,cuda_device_index=cuda, model_name=model_name, experiment_name=experiment_name)"
   ]
  },
  {
   "cell_type": "code",
   "execution_count": 29,
   "metadata": {},
   "outputs": [],
   "source": [
    "folder_name = \"Exp_063_roberta_large_stage_3_gold_clust_5k\"\n",
    "experiment_name=\"Experiment Large Clustering 5k\"\n",
    "model_name = \"roberta-large\"\n",
    "start = 4\n",
    "end = 5\n",
    "cuda = 1\n",
    "#generate_script_text(folder_name, start_epoch=start, end_epoch=end, use_cpu=0,cuda_device_index=cuda, model_name=model_name, experiment_name=experiment_name)"
   ]
  },
  {
   "cell_type": "code",
   "execution_count": 32,
   "metadata": {},
   "outputs": [],
   "source": [
    "folder_name = \"Exp_063_roberta_large_stage_3_gold_clust_10k\"\n",
    "experiment_name=\"Experiment Large Clustering 10k\"\n",
    "model_name = \"roberta-large\"\n",
    "start = 2\n",
    "end = 5\n",
    "cuda = 1\n",
    "#generate_script_text(folder_name, start_epoch=start, end_epoch=end, use_cpu=0,cuda_device_index=cuda, model_name=model_name, experiment_name=experiment_name)"
   ]
  },
  {
   "cell_type": "code",
   "execution_count": 35,
   "metadata": {},
   "outputs": [],
   "source": [
    "folder_name = \"Exp_063_roberta_large_stage_3_gold_clust_15k\"\n",
    "experiment_name=\"Experiment Large Clustering 15k\"\n",
    "model_name = \"roberta-large\"\n",
    "start = 0\n",
    "end = 4\n",
    "cuda = 1\n",
    "#generate_script_text(folder_name, start_epoch=start, end_epoch=end, use_cpu=0,cuda_device_index=cuda, model_name=model_name, experiment_name=experiment_name)"
   ]
  },
  {
   "cell_type": "code",
   "execution_count": 38,
   "metadata": {},
   "outputs": [],
   "source": [
    "# folder_name = \"Exp_064_roberta_base_stage_3_gold_check_5k\"\n",
    "# experiment_name=\"Experiment Base Checkpoints 5k\"\n",
    "# model_name = \"roberta\"\n",
    "# start = 2\n",
    "# end = 4\n",
    "# cuda = 1\n",
    "# generate_script_text(folder_name, start_epoch=start, end_epoch=end, use_cpu=0,cuda_device_index=cuda, model_name=model_name, experiment_name=experiment_name)"
   ]
  },
  {
   "cell_type": "code",
   "execution_count": 43,
   "metadata": {},
   "outputs": [],
   "source": [
    "# folder_name = \"Exp_064_roberta_base_stage_3_gold_check_10k\"\n",
    "# experiment_name=\"Experiment Base Checkpoints 10k\"\n",
    "# model_name = \"roberta\"\n",
    "# start = 3\n",
    "# end = 5\n",
    "# cuda = 1\n",
    "# generate_script_text(folder_name, start_epoch=start, end_epoch=end, use_cpu=0,cuda_device_index=cuda, model_name=model_name, experiment_name=experiment_name)"
   ]
  },
  {
   "cell_type": "code",
   "execution_count": 47,
   "metadata": {},
   "outputs": [],
   "source": [
    "folder_name = \"Exp_065_roberta_large_stage_3_gold_check_5k\"\n",
    "experiment_name=\"Experiment Base Checkpoints 5k\"\n",
    "model_name = \"roberta-large\"\n",
    "start = 3\n",
    "end = 5\n",
    "cuda = 1\n",
    "#generate_script_text(folder_name, start_epoch=start, end_epoch=end, use_cpu=0,cuda_device_index=cuda, model_name=model_name, experiment_name=experiment_name)"
   ]
  },
  {
   "cell_type": "code",
   "execution_count": 50,
   "metadata": {
    "scrolled": false
   },
   "outputs": [],
   "source": [
    "folder_name = \"Exp_065_roberta_large_stage_3_gold_check_10k\"\n",
    "experiment_name=\"Experiment Large Checkpoints 10k\"\n",
    "model_name = \"roberta-large\"\n",
    "start = 0\n",
    "end = 6\n",
    "cuda = 1\n",
    "#generate_script_text(folder_name, start_epoch=start, end_epoch=end, use_cpu=0,cuda_device_index=cuda, model_name=model_name, experiment_name=experiment_name)"
   ]
  },
  {
   "cell_type": "code",
   "execution_count": 54,
   "metadata": {},
   "outputs": [],
   "source": [
    "folder_name = \"Exp_050_2_roberta_large_stage_1_new\"\n",
    "experiment_name=\"Experiment continue training 1BW\"\n",
    "model_name = \"roberta-large\"\n",
    "start = 2\n",
    "end = 3\n",
    "cuda = 1\n",
    "#generate_script_text(folder_name, start_epoch=start, end_epoch=end, use_cpu=0,cuda_device_index=cuda, model_name=model_name, experiment_name=experiment_name)"
   ]
  },
  {
   "cell_type": "code",
   "execution_count": 62,
   "metadata": {
    "scrolled": false
   },
   "outputs": [],
   "source": [
    "folder_name = \"Exp_037_roberta_large_st3\"\n",
    "experiment_name=\"Experiment large 1BW - min len\"\n",
    "model_name = \"roberta-large\"\n",
    "start = 1\n",
    "end = 2\n",
    "cuda = 1\n",
    "#generate_script_text(folder_name, start_epoch=start, end_epoch=end, use_cpu=0,cuda_device_index=cuda, model_name=model_name, experiment_name=experiment_name)"
   ]
  },
  {
   "cell_type": "code",
   "execution_count": 65,
   "metadata": {},
   "outputs": [],
   "source": [
    "folder_name = \"Exp_041_bert_large_st3\"\n",
    "experiment_name=\"Experiment BERT continue training\"\n",
    "model_name = \"bert-large\"\n",
    "start = 3\n",
    "end = 5\n",
    "cuda = 1\n",
    "#generate_script_text(folder_name, start_epoch=start, end_epoch=end, use_cpu=0,cuda_device_index=cuda, model_name=model_name, experiment_name=experiment_name)"
   ]
  },
  {
   "cell_type": "code",
   "execution_count": 215,
   "metadata": {},
   "outputs": [
    {
     "name": "stdout",
     "output_type": "stream",
     "text": [
      "echo -e \"Experiment ROBERTA 1k\"\n",
      "source activate maks_env\n",
      "echo -e \"Predict epoch : 0\"\n",
      "python predict.py --model_path models/Exp_040_roberta_large_1k_st3/model_state_epoch_0.th --vocab_path models/Exp_013_roberta_large/vocabulary --input_file data_parallel/wi+locness/dev_src --output_file predicts/Exp_040_roberta_large_1k_st3_epoch_0.txt --transformer_model roberta-large --special_tokens_fix 1 --cuda_device_index 0\n",
      "\n",
      "conda deactivate\n",
      "\n",
      "source activate errant_env\n",
      "echo -e \"Calculate metric for epoch : 0\"\n",
      "errant_parallel -orig data_parallel/wi+locness/dev_src -cor predicts/Exp_040_roberta_large_1k_st3_epoch_0.txt -out evaluation/Exp_040_roberta_large_1k_st3_epoch_0.m2\n",
      "\n",
      "echo -e \"Metrics for epoch : 0\"\n",
      "errant_compare -hyp evaluation/Exp_040_roberta_large_1k_st3_epoch_0.m2 -ref data_m2/wi+locness/ABCN.dev.gold.bea19.m2\n",
      "\n",
      "conda deactivate\n",
      "\n",
      "\n"
     ]
    }
   ],
   "source": [
    "folder_name = \"Exp_040_roberta_large_1k_st3\"\n",
    "experiment_name=\"Experiment ROBERTA 1k\"\n",
    "model_name = \"roberta-large\"\n",
    "vocabulary=\"models/Exp_013_roberta_large/vocabulary\"\n",
    "\n",
    "start = 0\n",
    "end = 1\n",
    "cuda = 0\n",
    "generate_script_text(folder_name, start_epoch=start, end_epoch=end, use_cpu=0,cuda_device_index=cuda, model_name=model_name, experiment_name=experiment_name, vocabulary=vocabulary)"
   ]
  },
  {
   "cell_type": "code",
   "execution_count": 78,
   "metadata": {},
   "outputs": [],
   "source": [
    "folder_name = \"Exp_053_2_roberta_large_stage_3_v1\"\n",
    "experiment_name=\"Experiment ROBERTA continue training stage 3\"\n",
    "model_name = \"roberta-large\"\n",
    "start = 3\n",
    "end = 4\n",
    "cuda = 1\n",
    "#generate_script_text(folder_name, start_epoch=start, end_epoch=end, use_cpu=0,cuda_device_index=cuda, model_name=model_name, experiment_name=experiment_name)"
   ]
  },
  {
   "cell_type": "code",
   "execution_count": 81,
   "metadata": {},
   "outputs": [],
   "source": [
    "folder_name = \"Exp_053_2_roberta_large_stage_3_v2\"\n",
    "experiment_name=\"Experiment ROBERTA continue training stage 2\"\n",
    "model_name = \"roberta-large\"\n",
    "start = 3\n",
    "end = 4\n",
    "cuda = 1\n",
    "#generate_script_text(folder_name, start_epoch=start, end_epoch=end, use_cpu=0,cuda_device_index=cuda, model_name=model_name, experiment_name=experiment_name)"
   ]
  },
  {
   "cell_type": "code",
   "execution_count": 92,
   "metadata": {},
   "outputs": [],
   "source": [
    "# folder_name = \"Exp_064_roberta_base_stage_3_gold_check_5k_v3\"\n",
    "# experiment_name=\"Experiment Checkpoints\"\n",
    "# model_name = \"roberta\"\n",
    "# start = 5\n",
    "# end = 6\n",
    "# cuda = 0\n",
    "# generate_script_text(folder_name, start_epoch=start, end_epoch=end, use_cpu=0,cuda_device_index=cuda, model_name=model_name, experiment_name=experiment_name)"
   ]
  },
  {
   "cell_type": "code",
   "execution_count": 198,
   "metadata": {},
   "outputs": [],
   "source": [
    "# folder_name = \"Exp_066_roberta_base_stage_1_blogs\"\n",
    "# experiment_name=\"Experiment Blogs\"\n",
    "# model_name = \"roberta\"\n",
    "# start = 4\n",
    "# end = 5\n",
    "# cuda = 1\n",
    "# generate_script_text(folder_name, start_epoch=start, end_epoch=end, use_cpu=0,cuda_device_index=cuda, model_name=model_name, experiment_name=experiment_name)\n",
    "\n"
   ]
  },
  {
   "cell_type": "code",
   "execution_count": 197,
   "metadata": {},
   "outputs": [],
   "source": [
    "# folder_name = \"Exp_067_roberta_base_stage_1_amazon\"\n",
    "# experiment_name=\"Experiment Amazon\"\n",
    "# model_name = \"roberta\"\n",
    "# start = 5\n",
    "# end = 6\n",
    "# cuda = 0\n",
    "# generate_script_text(folder_name, start_epoch=start, end_epoch=end, use_cpu=0,cuda_device_index=cuda, model_name=model_name, experiment_name=experiment_name)\n",
    "\n"
   ]
  },
  {
   "cell_type": "code",
   "execution_count": 2,
   "metadata": {},
   "outputs": [],
   "source": [
    "# folder_name = \"Exp_005_2_roberta_base_gold\"\n",
    "# experiment_name=\"Experiment roberta gold 5k\"\n",
    "# model_name = \"roberta\"\n",
    "# start = 9\n",
    "# end = 16\n",
    "# cuda = 0\n",
    "# generate_script_text(folder_name, start_epoch=start, end_epoch=end, use_cpu=0,cuda_device_index=cuda, model_name=model_name, experiment_name=experiment_name)\n"
   ]
  },
  {
   "cell_type": "code",
   "execution_count": 136,
   "metadata": {},
   "outputs": [],
   "source": [
    "# folder_name = \"Exp_005_roberta_base_gold_10k\"\n",
    "# experiment_name=\"Experiment roberta gold 10k\"\n",
    "# model_name = \"roberta\"\n",
    "# vocabulary = \"models/Exp_005_roberta_base_gold_10k/vocabulary\"\n",
    "# start = 4\n",
    "# end = 5\n",
    "# cuda = 1\n",
    "# #generate_script_text(folder_name, start_epoch=start, end_epoch=end, use_cpu=0,cuda_device_index=cuda, model_name=model_name, experiment_name=experiment_name, vocabulary=vocabulary)\n"
   ]
  },
  {
   "cell_type": "code",
   "execution_count": 137,
   "metadata": {},
   "outputs": [],
   "source": [
    "# folder_name = \"Exp_005_4_roberta_base_gold_10k\"\n",
    "# experiment_name=\"Experiment roberta gold 10k\"\n",
    "# model_name = \"roberta\"\n",
    "# vocabulary = \"models/Exp_005_roberta_base_gold_10k/vocabulary\"\n",
    "# start = 1\n",
    "# end = 3\n",
    "# cuda = 1\n",
    "# generate_script_text(folder_name, start_epoch=start, end_epoch=end, use_cpu=0,cuda_device_index=cuda, model_name=model_name, experiment_name=experiment_name, vocabulary=vocabulary)\n"
   ]
  },
  {
   "cell_type": "code",
   "execution_count": null,
   "metadata": {},
   "outputs": [],
   "source": [
    "47.21+"
   ]
  },
  {
   "cell_type": "code",
   "execution_count": null,
   "metadata": {},
   "outputs": [],
   "source": []
  },
  {
   "cell_type": "code",
   "execution_count": 216,
   "metadata": {},
   "outputs": [
    {
     "name": "stdout",
     "output_type": "stream",
     "text": [
      "echo -e \"Experiment roberta gold 10k\"\n",
      "source activate maks_env\n",
      "echo -e \"Predict epoch : 6\"\n",
      "python predict.py --model_path models/Exp_005_5_roberta_base_gold_10k/model_state_epoch_6.th --vocab_path models/Exp_005_roberta_base_gold_10k/vocabulary --input_file data_parallel/wi+locness/dev_src --output_file predicts/Exp_005_5_roberta_base_gold_10k_epoch_6.txt --transformer_model roberta --special_tokens_fix 1 --cuda_device_index 0\n",
      "\n",
      "conda deactivate\n",
      "\n",
      "source activate errant_env\n",
      "echo -e \"Calculate metric for epoch : 6\"\n",
      "errant_parallel -orig data_parallel/wi+locness/dev_src -cor predicts/Exp_005_5_roberta_base_gold_10k_epoch_6.txt -out evaluation/Exp_005_5_roberta_base_gold_10k_epoch_6.m2\n",
      "\n",
      "echo -e \"Metrics for epoch : 6\"\n",
      "errant_compare -hyp evaluation/Exp_005_5_roberta_base_gold_10k_epoch_6.m2 -ref data_m2/wi+locness/ABCN.dev.gold.bea19.m2\n",
      "\n",
      "conda deactivate\n",
      "\n",
      "\n"
     ]
    }
   ],
   "source": [
    "folder_name = \"Exp_005_5_roberta_base_gold_10k\"\n",
    "experiment_name=\"Experiment roberta gold 10k\"\n",
    "model_name = \"roberta\"\n",
    "vocabulary = \"models/Exp_005_roberta_base_gold_10k/vocabulary\"\n",
    "start = 6\n",
    "end = 7\n",
    "cuda = 0\n",
    "generate_script_text(folder_name, start_epoch=start, end_epoch=end, use_cpu=0,cuda_device_index=cuda, model_name=model_name, experiment_name=experiment_name, vocabulary=vocabulary)\n"
   ]
  },
  {
   "cell_type": "code",
   "execution_count": 140,
   "metadata": {},
   "outputs": [],
   "source": [
    "folder_name = \"Exp_068_roberta_base_stage_2_blogs\"\n",
    "experiment_name=\"Experiment roberta blogs stage 2\"\n",
    "model_name = \"roberta\"\n",
    "start = 5\n",
    "end = 10\n",
    "cuda = 1\n",
    "#generate_script_text(folder_name, start_epoch=start, end_epoch=end, use_cpu=0,cuda_device_index=cuda, model_name=model_name, experiment_name=experiment_name)\n"
   ]
  },
  {
   "cell_type": "code",
   "execution_count": 141,
   "metadata": {},
   "outputs": [],
   "source": [
    "folder_name = \"Exp_066_2_roberta_base_stage_1_blogs\"\n",
    "experiment_name=\"Experiment roberta blogs stage 1 continue\"\n",
    "model_name = \"roberta\"\n",
    "start = 0\n",
    "end = 1\n",
    "cuda = 0\n",
    "#generate_script_text(folder_name, start_epoch=start, end_epoch=end, use_cpu=0,cuda_device_index=cuda, model_name=model_name, experiment_name=experiment_name)\n"
   ]
  },
  {
   "cell_type": "code",
   "execution_count": 4,
   "metadata": {},
   "outputs": [],
   "source": [
    "# folder_name = \"Exp_066_3_roberta_base_stage_1_blogs\"\n",
    "# experiment_name=\"Experiment roberta blogs stage 1 continue\"\n",
    "# model_name = \"roberta\"\n",
    "# start = 2\n",
    "# end = 3\n",
    "# cuda = 1\n",
    "# generate_script_text(folder_name, start_epoch=start, end_epoch=end, use_cpu=0,cuda_device_index=cuda, model_name=model_name, experiment_name=experiment_name)\n"
   ]
  },
  {
   "cell_type": "code",
   "execution_count": 145,
   "metadata": {},
   "outputs": [],
   "source": [
    "# folder_name = \"Exp_069_2_roberta_base_stage_3_blogs\"\n",
    "# experiment_name=\"Experiment roberta blogs stage 3 based on stage 2\"\n",
    "# model_name = \"roberta\"\n",
    "# start = 5\n",
    "# end = 6\n",
    "# cuda = 0\n",
    "# generate_script_text(folder_name, start_epoch=start, end_epoch=end, use_cpu=0,cuda_device_index=cuda, model_name=model_name, experiment_name=experiment_name)\n"
   ]
  },
  {
   "cell_type": "code",
   "execution_count": 5,
   "metadata": {},
   "outputs": [],
   "source": [
    "# folder_name = \"Exp_069_3_roberta_base_stage_3_blogs\"\n",
    "# experiment_name=\"Experiment roberta blogs stage 3 based on stage 2\"\n",
    "# model_name = \"roberta\"\n",
    "# start = 3\n",
    "# end = 5\n",
    "# cuda = 0\n",
    "# generate_script_text(folder_name, start_epoch=start, end_epoch=end, use_cpu=0,cuda_device_index=cuda, model_name=model_name, experiment_name=experiment_name)\n"
   ]
  },
  {
   "cell_type": "code",
   "execution_count": 125,
   "metadata": {},
   "outputs": [],
   "source": [
    "folder_name = \"Exp_069_roberta_base_stage_3_blogs\"\n",
    "experiment_name=\"Experiment roberta blogs stage 3\"\n",
    "model_name = \"roberta\"\n",
    "start = 2\n",
    "end = 4\n",
    "cuda = 1\n",
    "#generate_script_text(folder_name, start_epoch=start, end_epoch=end, use_cpu=0,cuda_device_index=cuda, model_name=model_name, experiment_name=experiment_name)"
   ]
  },
  {
   "cell_type": "code",
   "execution_count": 199,
   "metadata": {},
   "outputs": [],
   "source": [
    "# folder_name = \"Exp_070_roberta_large_stage_1_blogs\"\n",
    "# experiment_name=\"Experiment roberta Large blogs stage 1\"\n",
    "# model_name = \"roberta-large\"\n",
    "# start = 5\n",
    "# end = 6\n",
    "# cuda = 0\n",
    "# generate_script_text(folder_name, start_epoch=start, end_epoch=end, use_cpu=0,cuda_device_index=cuda, model_name=model_name, experiment_name=experiment_name)"
   ]
  },
  {
   "cell_type": "code",
   "execution_count": 200,
   "metadata": {},
   "outputs": [],
   "source": [
    "# folder_name = \"Exp_071_roberta_large_stage_1_pie_blogs\"\n",
    "# experiment_name=\"Experiment roberta Large pie+blogs stage 1\"\n",
    "# model_name = \"roberta-large\"\n",
    "# start = 4\n",
    "# end = 5\n",
    "# cuda = 1\n",
    "# generate_script_text(folder_name, start_epoch=start, end_epoch=end, use_cpu=0,cuda_device_index=cuda, model_name=model_name, experiment_name=experiment_name)"
   ]
  },
  {
   "cell_type": "code",
   "execution_count": 15,
   "metadata": {},
   "outputs": [],
   "source": [
    "# folder_name = \"Exp_072_roberta_base_stage_3_gold_clean_wl\"\n",
    "# experiment_name=\"Experiment roberta gold clean wl\"\n",
    "# model_name = \"roberta\"\n",
    "# start = 5\n",
    "# end = 6\n",
    "# cuda = 1\n",
    "# #generate_script_text(folder_name, start_epoch=start, end_epoch=end, use_cpu=0,cuda_device_index=cuda, model_name=model_name, experiment_name=experiment_name)"
   ]
  },
  {
   "cell_type": "code",
   "execution_count": 201,
   "metadata": {},
   "outputs": [],
   "source": [
    "# folder_name = \"Exp_073_roberta_large_stage_2_pie_blogs_gold\"\n",
    "# experiment_name=\"Experiment roberta-large pie+blogs stage2\"\n",
    "# model_name = \"roberta-large\"\n",
    "# start = 4\n",
    "# end = 5\n",
    "# cuda = 1\n",
    "# generate_script_text(folder_name, start_epoch=start, end_epoch=end, use_cpu=0,cuda_device_index=cuda, model_name=model_name, experiment_name=experiment_name)"
   ]
  },
  {
   "cell_type": "code",
   "execution_count": 202,
   "metadata": {},
   "outputs": [],
   "source": [
    "# folder_name = \"Exp_074_roberta_large_stage_3_pie+blogs_clean_wl\"\n",
    "# experiment_name=\"Experiment roberta-large pie+blogs stage3 clean wl\"\n",
    "# model_name = \"roberta-large\"\n",
    "# start = 2\n",
    "# end = 3\n",
    "# cuda = 1\n",
    "# generate_script_text(folder_name, start_epoch=start, end_epoch=end, use_cpu=0,cuda_device_index=cuda, model_name=model_name, experiment_name=experiment_name)"
   ]
  },
  {
   "cell_type": "code",
   "execution_count": 203,
   "metadata": {},
   "outputs": [],
   "source": [
    "# folder_name = \"Exp_075_roberta_large_stage_3_pie+blogs_wl\"\n",
    "# experiment_name=\"Experiment roberta-large pie+blogs stage3 wl\"\n",
    "# model_name = \"roberta-large\"\n",
    "# start = 4\n",
    "# end = 5\n",
    "# cuda = 1\n",
    "# generate_script_text(folder_name, start_epoch=start, end_epoch=end, use_cpu=0,cuda_device_index=cuda, model_name=model_name, experiment_name=experiment_name)"
   ]
  },
  {
   "cell_type": "code",
   "execution_count": 204,
   "metadata": {},
   "outputs": [],
   "source": [
    "# folder_name = \"Exp_076_roberta_base_clean_gold_base\"\n",
    "# experiment_name=\"Experiment roberta base base clean gold\"\n",
    "# model_name = \"roberta\"\n",
    "# start = 12\n",
    "# end = 13\n",
    "# cuda = 1\n",
    "# generate_script_text(folder_name, start_epoch=start, end_epoch=end, use_cpu=0,cuda_device_index=cuda, model_name=model_name, experiment_name=experiment_name)\n"
   ]
  },
  {
   "cell_type": "code",
   "execution_count": 205,
   "metadata": {},
   "outputs": [],
   "source": [
    "# folder_name = \"Exp_077_roberta_check_clean_gold_base\"\n",
    "# experiment_name=\"Experiment roberta base base clean gold\"\n",
    "# model_name = \"roberta\"\n",
    "# start = 14\n",
    "# end = 15\n",
    "# cuda = 0\n",
    "# generate_script_text(folder_name, start_epoch=start, end_epoch=end, use_cpu=0,cuda_device_index=cuda, model_name=model_name, experiment_name=experiment_name)\n"
   ]
  },
  {
   "cell_type": "code",
   "execution_count": null,
   "metadata": {},
   "outputs": [],
   "source": []
  },
  {
   "cell_type": "code",
   "execution_count": 206,
   "metadata": {},
   "outputs": [],
   "source": [
    "# folder_name = \"Exp_078_roberta_base_stage_3_check_clean_clean_wl\"\n",
    "# experiment_name=\"Experiment roberta base check clean gold\"\n",
    "# model_name = \"roberta\"\n",
    "# start = 4\n",
    "# end = 6\n",
    "# cuda = 1\n",
    "# generate_script_text(folder_name, start_epoch=start, end_epoch=end, use_cpu=0,cuda_device_index=cuda, model_name=model_name, experiment_name=experiment_name)\n"
   ]
  },
  {
   "cell_type": "code",
   "execution_count": 207,
   "metadata": {},
   "outputs": [],
   "source": [
    "# folder_name = \"Exp_079_roberta_large_stage_2_blogs_gold\"\n",
    "# experiment_name=\"Experiment roberta large stage 2 blogs\"\n",
    "# model_name = \"roberta-large\"\n",
    "# start = 9\n",
    "# end = 10\n",
    "# cuda = 0\n",
    "# generate_script_text(folder_name, start_epoch=start, end_epoch=end, use_cpu=0,cuda_device_index=cuda, model_name=model_name, experiment_name=experiment_name)\n"
   ]
  },
  {
   "cell_type": "code",
   "execution_count": 208,
   "metadata": {},
   "outputs": [],
   "source": [
    "# folder_name = \"Exp_080_roberta_light_clean_gold_base\"\n",
    "# experiment_name=\"Experiment roberta base only gold light clean\"\n",
    "# model_name = \"roberta\"\n",
    "# start = 17\n",
    "# end = 18\n",
    "# cuda = 0\n",
    "# generate_script_text(folder_name, start_epoch=start, end_epoch=end, use_cpu=0,cuda_device_index=cuda, model_name=model_name, experiment_name=experiment_name)\n"
   ]
  },
  {
   "cell_type": "code",
   "execution_count": 77,
   "metadata": {},
   "outputs": [],
   "source": [
    "# folder_name = \"Exp_081_roberta_check_light_clean_gold_base\"\n",
    "# experiment_name=\"Experiment roberta base only gold CHECK light clean\"\n",
    "# model_name = \"roberta\"\n",
    "# start = 12\n",
    "# end = 13\n",
    "# cuda = 0\n",
    "# generate_script_text(folder_name, start_epoch=start, end_epoch=end, use_cpu=0,cuda_device_index=cuda, model_name=model_name, experiment_name=experiment_name)\n"
   ]
  },
  {
   "cell_type": "code",
   "execution_count": 86,
   "metadata": {
    "scrolled": false
   },
   "outputs": [],
   "source": [
    "# folder_name = \"Exp_082_roberta_base_check_gold_0965\"\n",
    "# experiment_name=\"Experiment roberta base only gold check 0965 clean\"\n",
    "# model_name = \"roberta\"\n",
    "# start = 12\n",
    "# end = 14\n",
    "# cuda = 0\n",
    "# generate_script_text(folder_name, start_epoch=start, end_epoch=end, use_cpu=0,cuda_device_index=cuda, model_name=model_name, experiment_name=experiment_name)\n"
   ]
  },
  {
   "cell_type": "code",
   "execution_count": 98,
   "metadata": {},
   "outputs": [],
   "source": [
    "# folder_name = \"Exp_083_2_roberta_large_stage_3_blogs_wl\"\n",
    "# experiment_name=\"Experiment roberta large stage 3 blogs\"\n",
    "# model_name = \"roberta-large\"\n",
    "# start = 0\n",
    "# end = 4\n",
    "# cuda = 0\n",
    "# generate_script_text(folder_name, start_epoch=start, end_epoch=end, use_cpu=0,cuda_device_index=cuda, model_name=model_name, experiment_name=experiment_name)\n"
   ]
  },
  {
   "cell_type": "code",
   "execution_count": 209,
   "metadata": {},
   "outputs": [],
   "source": [
    "# folder_name = \"Exp_085_2_roberta_large_stage_3_blogs_wl_without_st_2\"\n",
    "# experiment_name=\"Experiment roberta large stage 3 blogs\"\n",
    "# model_name = \"roberta-large\"\n",
    "# start = 7\n",
    "# end = 8\n",
    "# cuda = 0\n",
    "# generate_script_text(folder_name, start_epoch=start, end_epoch=end, use_cpu=0,cuda_device_index=cuda, model_name=model_name, experiment_name=experiment_name)\n"
   ]
  },
  {
   "cell_type": "code",
   "execution_count": 210,
   "metadata": {},
   "outputs": [],
   "source": [
    "# folder_name = \"Exp_082_roberta_base_light_clean_gold_sorted\"\n",
    "# experiment_name=\"Experiment roberta base only gold light clean sorted\"\n",
    "# model_name = \"roberta\"\n",
    "# start = 14\n",
    "# end = 15\n",
    "# cuda = 1\n",
    "# generate_script_text(folder_name, start_epoch=start, end_epoch=end, use_cpu=0,cuda_device_index=cuda, model_name=model_name, experiment_name=experiment_name)\n"
   ]
  },
  {
   "cell_type": "code",
   "execution_count": 211,
   "metadata": {},
   "outputs": [],
   "source": [
    "\n",
    "# folder_name = \"Exp_080_1_roberta_light_clean_gold_base\"\n",
    "# experiment_name=\"Experiment roberta base only gold only WL\"\n",
    "# model_name = \"roberta\"\n",
    "# start = 0\n",
    "# end = 1\n",
    "# cuda = 1\n",
    "# generate_script_text(folder_name, start_epoch=start, end_epoch=end, use_cpu=0,cuda_device_index=cuda, model_name=model_name, experiment_name=experiment_name)\n"
   ]
  },
  {
   "cell_type": "code",
   "execution_count": null,
   "metadata": {},
   "outputs": [],
   "source": []
  },
  {
   "cell_type": "code",
   "execution_count": 125,
   "metadata": {
    "scrolled": false
   },
   "outputs": [],
   "source": [
    "folder_name = \"Exp_086_roberta_base_stage_3_only\"\n",
    "experiment_name=\"Experiment roberta base only gold only WL\"\n",
    "model_name = \"roberta\"\n",
    "start = 4\n",
    "end = 10\n",
    "cuda = 0\n",
    "#generate_script_text(folder_name, start_epoch=start, end_epoch=end, use_cpu=0,cuda_device_index=cuda, model_name=model_name, experiment_name=experiment_name)\n"
   ]
  },
  {
   "cell_type": "code",
   "execution_count": 212,
   "metadata": {},
   "outputs": [],
   "source": [
    "# folder_name = \"Exp_086_3_roberta_base_stage_3_light_clean_clean_wl\"\n",
    "# experiment_name=\"Experiment roberta base only light clean gold clean WL\"\n",
    "# model_name = \"roberta\"\n",
    "# start = 5\n",
    "# end = 6\n",
    "# cuda = 0\n",
    "# generate_script_text(folder_name, start_epoch=start, end_epoch=end, use_cpu=0,cuda_device_index=cuda, model_name=model_name, experiment_name=experiment_name)\n"
   ]
  },
  {
   "cell_type": "code",
   "execution_count": 213,
   "metadata": {},
   "outputs": [],
   "source": [
    "# folder_name = \"Exp_084_2_roberta_base_stage_3_light_clean_sorted_wl\"\n",
    "# experiment_name=\"Exp_084_2_roberta_base_stage_3_light_clean_sorted_wl\"\n",
    "# model_name = \"roberta\"\n",
    "# start = 4\n",
    "# end = 5\n",
    "# cuda = 0\n",
    "# generate_script_text(folder_name, start_epoch=start, end_epoch=end, use_cpu=0,cuda_device_index=cuda, model_name=model_name, experiment_name=experiment_name)\n"
   ]
  },
  {
   "cell_type": "code",
   "execution_count": null,
   "metadata": {},
   "outputs": [],
   "source": []
  },
  {
   "cell_type": "code",
   "execution_count": 214,
   "metadata": {},
   "outputs": [],
   "source": [
    "# folder_name = \"Exp_089_roberta_base_stage_1_blogs_wl\"\n",
    "# experiment_name=\"Experiment roberta base blogs+wl stage 1\"\n",
    "# model_name = \"roberta\"\n",
    "# start = 7\n",
    "# end = 8\n",
    "# cuda = 0\n",
    "# generate_script_text(folder_name, start_epoch=start, end_epoch=end, use_cpu=0,cuda_device_index=cuda, model_name=model_name, experiment_name=experiment_name)\n"
   ]
  },
  {
   "cell_type": "code",
   "execution_count": 218,
   "metadata": {},
   "outputs": [],
   "source": [
    "# folder_name = \"Exp_093_2_roberta_base_stage_2_blogs_wl_gold\"\n",
    "# experiment_name=\"Experiment roberta base blogs+wl stage 2 gold\"\n",
    "# model_name = \"roberta\"\n",
    "# start = 4\n",
    "# end = 5\n",
    "# cuda = 1\n",
    "# generate_script_text(folder_name, start_epoch=start, end_epoch=end, use_cpu=0,cuda_device_index=cuda, model_name=model_name, experiment_name=experiment_name)"
   ]
  },
  {
   "cell_type": "code",
   "execution_count": 220,
   "metadata": {},
   "outputs": [],
   "source": [
    "# folder_name = \"Exp_094_2_roberta_base_stage_2_blogs_wl_light_clean_gold\"\n",
    "# experiment_name=\"Exp_094_2_roberta_base_stage_2_blogs_wl_light_clean_gold\"\n",
    "# model_name = \"roberta\"\n",
    "# start = 2\n",
    "# end = 3\n",
    "# cuda = 1\n",
    "# generate_script_text(folder_name, start_epoch=start, end_epoch=end, use_cpu=0,cuda_device_index=cuda, model_name=model_name, experiment_name=experiment_name)"
   ]
  },
  {
   "cell_type": "code",
   "execution_count": 234,
   "metadata": {},
   "outputs": [],
   "source": [
    "# folder_name = \"Exp_095_1_roberta_base_stage_2_blogs_wl_check_5k\"\n",
    "# experiment_name=\"Exp_095_1_roberta_base_stage_2_blogs_wl_check_5k\"\n",
    "# model_name = \"roberta\"\n",
    "# start = 1\n",
    "# end = 5\n",
    "# cuda = 0\n",
    "# generate_script_text(folder_name, start_epoch=start, end_epoch=end, use_cpu=0,cuda_device_index=cuda, model_name=model_name, experiment_name=experiment_name)"
   ]
  },
  {
   "cell_type": "code",
   "execution_count": 232,
   "metadata": {},
   "outputs": [],
   "source": [
    "# folder_name = \"Exp_096_roberta_base_stage_2_blogs_wl_clust_5k\"\n",
    "# experiment_name=\"Exp_096_roberta_base_stage_2_blogs_wl_clust_5k\"\n",
    "# model_name = \"roberta\"\n",
    "# start = 3\n",
    "# end = 4\n",
    "# cuda = 0\n",
    "# generate_script_text(folder_name, start_epoch=start, end_epoch=end, use_cpu=0,cuda_device_index=cuda, model_name=model_name, experiment_name=experiment_name)"
   ]
  },
  {
   "cell_type": "code",
   "execution_count": 127,
   "metadata": {},
   "outputs": [],
   "source": [
    "folder_name = \"Exp_095_10_roberta_base_stage_2_blogs_wl_check_10k\"\n",
    "model_name = \"roberta\"\n",
    "start = 4\n",
    "end = 6\n",
    "cuda = 0\n",
    "#generate_script_text(folder_name, start_epoch=start, end_epoch=end, use_cpu=0,cuda_device_index=cuda, model_name=model_name, experiment_name=folder_name)"
   ]
  },
  {
   "cell_type": "code",
   "execution_count": 128,
   "metadata": {},
   "outputs": [],
   "source": [
    "folder_name = \"Exp_096_10_roberta_base_stage_2_blogs_wl_clust_10k\"\n",
    "model_name = \"roberta\"\n",
    "start = 4\n",
    "end = 5\n",
    "cuda = 0\n",
    "#generate_script_text(folder_name, start_epoch=start, end_epoch=end, use_cpu=0,cuda_device_index=cuda, model_name=model_name, experiment_name=folder_name)"
   ]
  },
  {
   "cell_type": "code",
   "execution_count": 237,
   "metadata": {},
   "outputs": [],
   "source": [
    "# folder_name = \"Exp_093_2_roberta_base_stage_2_blogs_wl_gold\"\n",
    "# experiment_name=\"Experiment roberta base blogs+wl stage 2 gold\"\n",
    "# model_name = \"roberta\"\n",
    "# start = 0\n",
    "# end = 1\n",
    "# cuda = 1\n",
    "# generate_script_text(folder_name, start_epoch=start, end_epoch=end, use_cpu=0,cuda_device_index=cuda, model_name=model_name, experiment_name=experiment_name)\n"
   ]
  },
  {
   "cell_type": "code",
   "execution_count": 238,
   "metadata": {},
   "outputs": [],
   "source": [
    "# folder_name = \"Exp_094_roberta_base_stage_2_blogs_wl_light_clean_gold\"\n",
    "\n",
    "# experiment_name=\"Experiment roberta base blogs+wl stage 2 light clean gold\"\n",
    "# model_name = \"roberta\"\n",
    "# start = 2\n",
    "# end = 3\n",
    "# cuda = 0\n",
    "# generate_script_text(folder_name, start_epoch=start, end_epoch=end, use_cpu=0,cuda_device_index=cuda, model_name=model_name, experiment_name=experiment_name)\n",
    "\n"
   ]
  },
  {
   "cell_type": "code",
   "execution_count": 180,
   "metadata": {
    "scrolled": false
   },
   "outputs": [],
   "source": [
    "# folder_name = \"Exp_091_4_roberta_base_stage_3_blogs_wl\"\n",
    "# experiment_name=\"Experiment roberta base blogs+wl stage 3\"\n",
    "# model_name = \"roberta\"\n",
    "# start = 0\n",
    "# end = 4\n",
    "# cuda = 0\n",
    "# generate_script_text(folder_name, start_epoch=start, end_epoch=end, use_cpu=0,cuda_device_index=cuda, model_name=model_name, experiment_name=experiment_name)\n"
   ]
  },
  {
   "cell_type": "code",
   "execution_count": null,
   "metadata": {},
   "outputs": [],
   "source": []
  },
  {
   "cell_type": "code",
   "execution_count": 239,
   "metadata": {},
   "outputs": [],
   "source": [
    "# folder_name = \"Exp_092_3_roberta_large_stage_3_blogs_wl\"\n",
    "# experiment_name=\"Experiment roberta large blogs+wl stage 1\"\n",
    "# model_name = \"roberta-large\"\n",
    "# start = 4\n",
    "# end = 5\n",
    "# cuda = 0\n",
    "# generate_script_text(folder_name, start_epoch=start, end_epoch=end, use_cpu=0,cuda_device_index=cuda, model_name=model_name, experiment_name=experiment_name)\n"
   ]
  },
  {
   "cell_type": "code",
   "execution_count": 81,
   "metadata": {},
   "outputs": [],
   "source": [
    "folder_name = \"Exp_090_roberta_large_stage_1_blogs_wl\"\n",
    "experiment_name=\"Experiment roberta large blogs+wl stage 1\"\n",
    "model_name = \"roberta-large\"\n",
    "start = 5\n",
    "end = 6\n",
    "cuda = 0\n",
    "#generate_script_text(folder_name, start_epoch=start, end_epoch=end, use_cpu=0,cuda_device_index=cuda, model_name=model_name, experiment_name=experiment_name)\n"
   ]
  },
  {
   "cell_type": "code",
   "execution_count": 82,
   "metadata": {},
   "outputs": [],
   "source": [
    "folder_name = \"Exp_092_5_roberta_large_stage_3_blogs_wl\"\n",
    "\n",
    "model_name = \"roberta-large\"\n",
    "start = 3\n",
    "end = 5\n",
    "cuda = 0\n",
    "#generate_script_text(folder_name, start_epoch=start, end_epoch=end, use_cpu=0,cuda_device_index=cuda, model_name=model_name, experiment_name=folder_name)\n"
   ]
  },
  {
   "cell_type": "code",
   "execution_count": 83,
   "metadata": {},
   "outputs": [],
   "source": [
    "folder_name = \"Exp_097_roberta_base_stage_1_1bw_blogs_wl\"\n",
    "model_name = \"roberta\"\n",
    "start = 8\n",
    "end = 10\n",
    "cuda = 1\n",
    "#generate_script_text(folder_name, start_epoch=start, end_epoch=end, use_cpu=0,cuda_device_index=cuda, model_name=model_name, experiment_name=folder_name)\n"
   ]
  },
  {
   "cell_type": "code",
   "execution_count": 102,
   "metadata": {},
   "outputs": [],
   "source": [
    "folder_name = \"Exp_098_3_roberta_large_v10k_stage_1_blogs_wl\"\n",
    "model_name = \"roberta-large\"\n",
    "vocabulary = \"models/Exp_012_roberta_large/vocabulary\"\n",
    "start = 2\n",
    "end = 3\n",
    "cuda = 0\n",
    "#generate_script_text(folder_name, start_epoch=start, end_epoch=end, use_cpu=0,cuda_device_index=cuda, model_name=model_name, experiment_name=folder_name, vocabulary=vocabulary)"
   ]
  },
  {
   "cell_type": "code",
   "execution_count": 285,
   "metadata": {},
   "outputs": [],
   "source": [
    "\n",
    "folder_name = \"Exp_099_roberta_large_stage_1_1bw_blogs_wl\"\n",
    "model_name = \"roberta-large\"\n",
    "start = 3\n",
    "end = 4\n",
    "cuda = 0\n",
    "#generate_script_text(folder_name, start_epoch=start, end_epoch=end, use_cpu=0,cuda_device_index=cuda, model_name=model_name, experiment_name=folder_name)\n"
   ]
  },
  {
   "cell_type": "code",
   "execution_count": 284,
   "metadata": {},
   "outputs": [],
   "source": [
    "\n",
    "folder_name = \"Exp_100_roberta_base_stage_1_1bw_wl\"\n",
    "model_name = \"roberta\"\n",
    "start = 6\n",
    "end = 8\n",
    "cuda = 1\n",
    "#generate_script_text(folder_name, start_epoch=start, end_epoch=end, use_cpu=0,cuda_device_index=cuda, model_name=model_name, experiment_name=folder_name)\n"
   ]
  },
  {
   "cell_type": "code",
   "execution_count": 100,
   "metadata": {},
   "outputs": [],
   "source": [
    "folder_name = \"Exp_101_deberta_large_stage_1_blogs_wl\"\n",
    "model_name = \"deberta-large\"\n",
    "start = 5\n",
    "end = 6\n",
    "cuda = 1\n",
    "#generate_script_text(folder_name, start_epoch=start, end_epoch=end, use_cpu=0,cuda_device_index=cuda, model_name=model_name, experiment_name=folder_name)\n"
   ]
  },
  {
   "cell_type": "code",
   "execution_count": 99,
   "metadata": {},
   "outputs": [],
   "source": [
    "folder_name = \"Exp_102_xlnet_large_stage_1_blogs_wl\"\n",
    "model_name = \"xlnet-large\"\n",
    "start = 5\n",
    "end = 6\n",
    "cuda = 1\n",
    "#generate_script_text(folder_name, start_epoch=start, end_epoch=end, use_cpu=0,cuda_device_index=cuda, model_name=model_name, experiment_name=folder_name)\n"
   ]
  },
  {
   "cell_type": "code",
   "execution_count": 98,
   "metadata": {},
   "outputs": [],
   "source": [
    "folder_name = \"Exp_106_roberta_large_stage_3_blogs_wl_clust_5k\"\n",
    "model_name = \"roberta-large\"\n",
    "start = 3\n",
    "end = 4\n",
    "cuda = 1\n",
    "#generate_script_text(folder_name, start_epoch=start, end_epoch=end, use_cpu=0,cuda_device_index=cuda, model_name=model_name, experiment_name=folder_name)\n"
   ]
  },
  {
   "cell_type": "code",
   "execution_count": 71,
   "metadata": {},
   "outputs": [],
   "source": [
    "folder_name = \"Exp_107_deberta_base_stage_3_gold\"\n",
    "model_name = \"deberta\"\n",
    "start = 0\n",
    "end = 5\n",
    "cuda = 1\n",
    "#generate_script_text(folder_name, start_epoch=start, end_epoch=end, use_cpu=0,cuda_device_index=cuda, model_name=model_name, experiment_name=folder_name)\n"
   ]
  },
  {
   "cell_type": "code",
   "execution_count": 73,
   "metadata": {},
   "outputs": [],
   "source": [
    "folder_name = \"Exp_108_xlnet_base_stage_3_gold\"\n",
    "model_name = \"xlnet\"\n",
    "start = 0\n",
    "end = 5\n",
    "cuda = 1\n",
    "#generate_script_text(folder_name, start_epoch=start, end_epoch=end, use_cpu=0,cuda_device_index=cuda, model_name=model_name, experiment_name=folder_name)\n"
   ]
  },
  {
   "cell_type": "code",
   "execution_count": 76,
   "metadata": {
    "scrolled": false
   },
   "outputs": [],
   "source": [
    "folder_name = \"Exp_109_bert_base_stage_3_gold\"\n",
    "model_name = \"bert\"\n",
    "start = 0\n",
    "end = 7\n",
    "cuda = 1\n",
    "#generate_script_text(folder_name, start_epoch=start, end_epoch=end, use_cpu=0,cuda_device_index=cuda, model_name=model_name, experiment_name=folder_name)\n"
   ]
  },
  {
   "cell_type": "code",
   "execution_count": 97,
   "metadata": {},
   "outputs": [],
   "source": [
    "folder_name = \"Exp_110_roberta_base_stage_1_blogs_gold\"\n",
    "model_name = \"roberta\"\n",
    "start = 8\n",
    "end = 13\n",
    "cuda = 0\n",
    "#generate_script_text(folder_name, start_epoch=start, end_epoch=end, use_cpu=0,cuda_device_index=cuda, model_name=model_name, experiment_name=folder_name)"
   ]
  },
  {
   "cell_type": "code",
   "execution_count": 96,
   "metadata": {},
   "outputs": [],
   "source": [
    "folder_name = \"Exp_111_roberta_large_stage_1_blogs_wl\"\n",
    "model_name = \"roberta-large\"\n",
    "start = 3\n",
    "end = 7\n",
    "cuda = 0\n",
    "#generate_script_text(folder_name, start_epoch=start, end_epoch=end, use_cpu=0,cuda_device_index=cuda, model_name=model_name, experiment_name=folder_name)"
   ]
  },
  {
   "cell_type": "code",
   "execution_count": 116,
   "metadata": {},
   "outputs": [],
   "source": [
    "folder_name = \"Exp_112_roberta_large_stage_3_blogs_gold_without_st_2\"\n",
    "model_name = \"roberta-large\"\n",
    "start = 2\n",
    "end = 4\n",
    "cuda = 0\n",
    "#generate_script_text(folder_name, start_epoch=start, end_epoch=end, use_cpu=0,cuda_device_index=cuda, model_name=model_name, experiment_name=folder_name)"
   ]
  },
  {
   "cell_type": "code",
   "execution_count": 110,
   "metadata": {},
   "outputs": [],
   "source": [
    "folder_name = \"Exp_113_roberta_base_stage_3_blogs_gold_without_st_2_ep_12\"\n",
    "model_name = \"roberta\"\n",
    "start = 5\n",
    "end = 7\n",
    "cuda = 0\n",
    "#generate_script_text(folder_name, start_epoch=start, end_epoch=end, use_cpu=0,cuda_device_index=cuda, model_name=model_name, experiment_name=folder_name)"
   ]
  },
  {
   "cell_type": "code",
   "execution_count": 113,
   "metadata": {},
   "outputs": [],
   "source": [
    "folder_name = \"Exp_114_roberta_large_stage_3_blogs_wl_without_st_2_ep_12\"\n",
    "model_name = \"roberta-large\"\n",
    "vocabulary = \"models/Exp_012_roberta_large/vocabulary\"\n",
    "start = 1\n",
    "end = 3\n",
    "cuda = 0\n",
    "#generate_script_text(folder_name, start_epoch=start, end_epoch=end, use_cpu=0,cuda_device_index=cuda, model_name=model_name, experiment_name=folder_name, vocabulary=vocabulary)"
   ]
  },
  {
   "cell_type": "code",
   "execution_count": 115,
   "metadata": {},
   "outputs": [],
   "source": [
    "folder_name = \"Exp_113_8_roberta_base_stage_3_blogs_gold_without_st_2_ep_8\"\n",
    "model_name = \"roberta\"\n",
    "start = 0\n",
    "end = 7\n",
    "cuda = 1\n",
    "#generate_script_text(folder_name, start_epoch=start, end_epoch=end, use_cpu=0,cuda_device_index=cuda, model_name=model_name, experiment_name=folder_name)"
   ]
  },
  {
   "cell_type": "code",
   "execution_count": 120,
   "metadata": {},
   "outputs": [],
   "source": [
    "folder_name = \"Exp_112_3_roberta_large_stage_3_blogs_gold_without_st_2\"\n",
    "model_name = \"roberta-large\"\n",
    "start = 4\n",
    "end = 5\n",
    "cuda = 1\n",
    "#generate_script_text(folder_name, start_epoch=start, end_epoch=end, use_cpu=0,cuda_device_index=cuda, model_name=model_name, experiment_name=folder_name)"
   ]
  },
  {
   "cell_type": "code",
   "execution_count": 122,
   "metadata": {},
   "outputs": [],
   "source": [
    "folder_name = \"Exp_113_10_roberta_base_stage_3_blogs_gold_without_st_2_ep_10\"\n",
    "model_name = \"roberta\"\n",
    "start = 0\n",
    "end = 5\n",
    "cuda = 1\n",
    "#generate_script_text(folder_name, start_epoch=start, end_epoch=end, use_cpu=0,cuda_device_index=cuda, model_name=model_name, experiment_name=folder_name)"
   ]
  },
  {
   "cell_type": "code",
   "execution_count": 180,
   "metadata": {},
   "outputs": [],
   "source": [
    "folder_name = \"Exp_115_roberta_large_stage_1_blogs_wl\"\n",
    "model_name = \"roberta-large\"\n",
    "start = 6\n",
    "end = 7\n",
    "cuda = 0\n",
    "#generate_script_text(folder_name, start_epoch=start, end_epoch=end, use_cpu=0,cuda_device_index=cuda, model_name=model_name, experiment_name=folder_name)"
   ]
  },
  {
   "cell_type": "code",
   "execution_count": 134,
   "metadata": {},
   "outputs": [],
   "source": [
    "folder_name = \"Exp_117_roberta_base_stage_2_blogs_gold\"\n",
    "model_name = \"roberta\"\n",
    "start = 0\n",
    "end = 1\n",
    "cuda = 1\n",
    "#generate_script_text(folder_name, start_epoch=start, end_epoch=end, use_cpu=0,cuda_device_index=cuda, model_name=model_name, experiment_name=folder_name)"
   ]
  },
  {
   "cell_type": "code",
   "execution_count": 172,
   "metadata": {},
   "outputs": [],
   "source": [
    "folder_name = \"Exp_118_roberta_base_stage_1_blogs_wl\"\n",
    "model_name = \"roberta\"\n",
    "start = 11\n",
    "end = 12\n",
    "cuda = 1\n",
    "#generate_script_text(folder_name, start_epoch=start, end_epoch=end, use_cpu=0,cuda_device_index=cuda, model_name=model_name, experiment_name=folder_name)"
   ]
  },
  {
   "cell_type": "code",
   "execution_count": 133,
   "metadata": {},
   "outputs": [],
   "source": [
    "folder_name = \"Exp_119_roberta_base_stage_2_blogs_gold_wl\"\n",
    "model_name = \"roberta\"\n",
    "start = 0\n",
    "end = 4\n",
    "cuda = 0\n",
    "#generate_script_text(folder_name, start_epoch=start, end_epoch=end, use_cpu=0,cuda_device_index=cuda, model_name=model_name, experiment_name=folder_name)"
   ]
  },
  {
   "cell_type": "code",
   "execution_count": 141,
   "metadata": {},
   "outputs": [],
   "source": [
    "folder_name = \"Exp_120_roberta_large_stage_2_blogs_gold_wl\"\n",
    "model_name = \"roberta-large\"\n",
    "start = 2\n",
    "end = 3\n",
    "cuda = 1\n",
    "#generate_script_text(folder_name, start_epoch=start, end_epoch=end, use_cpu=0,cuda_device_index=cuda, model_name=model_name, experiment_name=folder_name)"
   ]
  },
  {
   "cell_type": "code",
   "execution_count": 150,
   "metadata": {},
   "outputs": [],
   "source": [
    "folder_name = \"Exp_121_roberta_large_stage_3_blogs_gold_wl\"\n",
    "model_name = \"roberta-large\"\n",
    "start = 2\n",
    "end = 4\n",
    "cuda = 0\n",
    "#generate_script_text(folder_name, start_epoch=start, end_epoch=end, use_cpu=0,cuda_device_index=cuda, model_name=model_name, experiment_name=folder_name)"
   ]
  },
  {
   "cell_type": "code",
   "execution_count": 147,
   "metadata": {},
   "outputs": [],
   "source": [
    "folder_name = \"Exp_122_roberta_base_stage_3_blogs_gold_wl\"\n",
    "model_name = \"roberta\"\n",
    "start = 2\n",
    "end = 4\n",
    "cuda = 0\n",
    "#generate_script_text(folder_name, start_epoch=start, end_epoch=end, use_cpu=0,cuda_device_index=cuda, model_name=model_name, experiment_name=folder_name)"
   ]
  },
  {
   "cell_type": "code",
   "execution_count": 154,
   "metadata": {},
   "outputs": [],
   "source": [
    "folder_name = \"Exp_123_roberta_base_stage_2_blogs_gold_wl\"\n",
    "model_name = \"roberta\"\n",
    "start = 0\n",
    "end = 3\n",
    "cuda = 0\n",
    "#generate_script_text(folder_name, start_epoch=start, end_epoch=end, use_cpu=0,cuda_device_index=cuda, model_name=model_name, experiment_name=folder_name)"
   ]
  },
  {
   "cell_type": "code",
   "execution_count": 173,
   "metadata": {},
   "outputs": [],
   "source": [
    "folder_name = \"Exp_124_roberta_large_stage_2_blogs_gold_wl\"\n",
    "model_name = \"roberta-large\"\n",
    "start = 3\n",
    "end = 4\n",
    "cuda = 0\n",
    "#generate_script_text(folder_name, start_epoch=start, end_epoch=end, use_cpu=0,cuda_device_index=cuda, model_name=model_name, experiment_name=folder_name)"
   ]
  },
  {
   "cell_type": "code",
   "execution_count": 195,
   "metadata": {},
   "outputs": [],
   "source": [
    "folder_name = \"Exp_125_roberta_light_clean_gold_base\"\n",
    "model_name = \"roberta\"\n",
    "start = 8\n",
    "end = 17\n",
    "cuda = 0\n",
    "#generate_script_text(folder_name, start_epoch=start, end_epoch=end, use_cpu=0,cuda_device_index=cuda, model_name=model_name, experiment_name=folder_name)"
   ]
  },
  {
   "cell_type": "code",
   "execution_count": 184,
   "metadata": {},
   "outputs": [],
   "source": [
    "folder_name = \"Exp_126_roberta_base_stage_1_pie_blogs_wl\"\n",
    "model_name = \"roberta\"\n",
    "start = 2\n",
    "end = 3\n",
    "cuda = 0\n",
    "#generate_script_text(folder_name, start_epoch=start, end_epoch=end, use_cpu=0,cuda_device_index=cuda, model_name=model_name, experiment_name=folder_name)"
   ]
  },
  {
   "cell_type": "code",
   "execution_count": 193,
   "metadata": {},
   "outputs": [],
   "source": [
    "folder_name = \"Exp_126_3_roberta_base_stage_1_pie_blogs_wl\"\n",
    "model_name = \"roberta\"\n",
    "start = 0\n",
    "end = 5\n",
    "cuda = 0\n",
    "#generate_script_text(folder_name, start_epoch=start, end_epoch=end, use_cpu=0,cuda_device_index=cuda, model_name=model_name, experiment_name=folder_name)"
   ]
  },
  {
   "cell_type": "code",
   "execution_count": 189,
   "metadata": {},
   "outputs": [],
   "source": [
    "folder_name = \"Exp_127_roberta_large_stage_1_pie_blogs_wl\"\n",
    "model_name = \"roberta-large\"\n",
    "start = 0\n",
    "end = 1\n",
    "cuda = 0\n",
    "#generate_script_text(folder_name, start_epoch=start, end_epoch=end, use_cpu=0,cuda_device_index=cuda, model_name=model_name, experiment_name=folder_name)"
   ]
  },
  {
   "cell_type": "code",
   "execution_count": 194,
   "metadata": {},
   "outputs": [],
   "source": [
    "# folder_name = \"Exp_128_roberta_base_stage_1_pie_blogs_wl\"\n",
    "# model_name = \"roberta\"\n",
    "# start = 0\n",
    "# end = 7\n",
    "# cuda = 0\n",
    "# #generate_script_text(folder_name, start_epoch=start, end_epoch=end, use_cpu=0,cuda_device_index=cuda, model_name=model_name, experiment_name=folder_name)"
   ]
  },
  {
   "cell_type": "code",
   "execution_count": 240,
   "metadata": {},
   "outputs": [],
   "source": [
    "folder_name = \"Exp_129_deberta_large_stage_1_blogs_wl\"\n",
    "model_name = \"deberta-large\"\n",
    "start = 7\n",
    "end = 8\n",
    "cuda = 1\n",
    "#generate_script_text(folder_name, start_epoch=start, end_epoch=end, use_cpu=0,cuda_device_index=cuda, model_name=model_name, experiment_name=folder_name)"
   ]
  },
  {
   "cell_type": "code",
   "execution_count": 221,
   "metadata": {},
   "outputs": [],
   "source": [
    "folder_name = \"Exp_130_xlnet_large_stage_1_blogs_wl\"\n",
    "model_name = \"xlnet-large\"\n",
    "start = 8\n",
    "end = 9\n",
    "cuda = 1\n",
    "#generate_script_text(folder_name, start_epoch=start, end_epoch=end, use_cpu=0,cuda_device_index=cuda, model_name=model_name, experiment_name=folder_name)"
   ]
  },
  {
   "cell_type": "code",
   "execution_count": 237,
   "metadata": {},
   "outputs": [],
   "source": [
    "folder_name = \"Exp_131_xlnet_large_10k\"\n",
    "model_name = \"xlnet-large\"\n",
    "vocabulary = \"models/Exp_131_xlnet_large_10k/vocabulary\"\n",
    "start = 8\n",
    "end = 10\n",
    "cuda = 1\n",
    "#generate_script_text(folder_name, start_epoch=start, end_epoch=end, use_cpu=0,cuda_device_index=cuda, model_name=model_name, experiment_name=folder_name, vocabulary=vocabulary)"
   ]
  },
  {
   "cell_type": "code",
   "execution_count": 239,
   "metadata": {},
   "outputs": [],
   "source": [
    "folder_name = \"Exp_131_deberta_large_10k\"\n",
    "model_name = \"deberta-large\"\n",
    "vocabulary = \"models/Exp_131_deberta_large_10k/vocabulary\"\n",
    "start = 6\n",
    "end = 8\n",
    "cuda = 1\n",
    "#generate_script_text(folder_name, start_epoch=start, end_epoch=end, use_cpu=0,cuda_device_index=cuda, model_name=model_name, experiment_name=folder_name, vocabulary=vocabulary)"
   ]
  },
  {
   "cell_type": "code",
   "execution_count": null,
   "metadata": {},
   "outputs": [],
   "source": []
  },
  {
   "cell_type": "code",
   "execution_count": 255,
   "metadata": {},
   "outputs": [],
   "source": [
    "folder_name = \"Exp_133_deberta_large_10k_st3\"\n",
    "model_name = \"deberta-large\"\n",
    "vocabulary = \"models/Exp_133_deberta_large_10k_st3/vocabulary\"\n",
    "start = 4\n",
    "end = 5\n",
    "cuda = 1\n",
    "#generate_script_text(folder_name, start_epoch=start, end_epoch=end, use_cpu=0,cuda_device_index=cuda, model_name=model_name, experiment_name=folder_name, vocabulary=vocabulary)"
   ]
  },
  {
   "cell_type": "code",
   "execution_count": 248,
   "metadata": {},
   "outputs": [],
   "source": [
    "folder_name = \"Exp_134_xlnet_large_10k_st3\"\n",
    "model_name = \"xlnet-large\"\n",
    "vocabulary = \"models/Exp_134_xlnet_large_10k_st3/vocabulary\"\n",
    "start = 1\n",
    "end = 2\n",
    "cuda = 1\n",
    "#generate_script_text(folder_name, start_epoch=start, end_epoch=end, use_cpu=0,cuda_device_index=cuda, model_name=model_name, experiment_name=folder_name, vocabulary=vocabulary)"
   ]
  },
  {
   "cell_type": "code",
   "execution_count": 254,
   "metadata": {},
   "outputs": [],
   "source": [
    "folder_name = \"Exp_134_2_xlnet_large_10k_st3\"\n",
    "model_name = \"xlnet-large\"\n",
    "vocabulary = \"models/Exp_134_xlnet_large_10k_st3/vocabulary\"\n",
    "start = 2\n",
    "end = 3\n",
    "cuda = 0\n",
    "#generate_script_text(folder_name, start_epoch=start, end_epoch=end, use_cpu=0,cuda_device_index=cuda, model_name=model_name, experiment_name=folder_name, vocabulary=vocabulary)"
   ]
  },
  {
   "cell_type": "code",
   "execution_count": null,
   "metadata": {},
   "outputs": [],
   "source": []
  },
  {
   "cell_type": "code",
   "execution_count": null,
   "metadata": {},
   "outputs": [],
   "source": []
  },
  {
   "cell_type": "code",
   "execution_count": 241,
   "metadata": {},
   "outputs": [],
   "source": [
    "# start = 18\n",
    "# end = 24\n",
    "# for epoch in range(start, end):\n",
    "#     s = f\"python predict.py --model_path models/Exp_104_ukr_roberta/model_state_epoch_{str(epoch)}.th --vocab_path models/Exp_104_ukr_roberta/vocabulary --input_file data_parallel/ukr_gec/ukr_test_src.txt --output_file predicts/Exp_104_ukr_roberta_base_epoch_{str(epoch)}.txt --transformer_model ukr-roberta-base --special_tokens_fix 1 --cuda_device_index 0\"\n",
    "#     print(s)"
   ]
  },
  {
   "cell_type": "code",
   "execution_count": 21,
   "metadata": {},
   "outputs": [],
   "source": [
    "import os\n",
    "#os.listdir(\"../../\")"
   ]
  },
  {
   "cell_type": "code",
   "execution_count": 57,
   "metadata": {},
   "outputs": [],
   "source": [
    "with open(\"../../predicts/Exp_104_ukr_roberta_base_epoch_11.txt\", 'r') as f:\n",
    "    pred = f.read()"
   ]
  },
  {
   "cell_type": "code",
   "execution_count": 59,
   "metadata": {},
   "outputs": [],
   "source": [
    "#print(pred)"
   ]
  },
  {
   "cell_type": "code",
   "execution_count": 242,
   "metadata": {},
   "outputs": [],
   "source": [
    "# start = 17\n",
    "# end = 24\n",
    "# for epoch in range(start, end):\n",
    "#     s = f\"errant_parallel -orig data_parallel/ukr_gec/ukr_test_src.txt -cor predicts/Exp_104_ukr_roberta_base_epoch_{str(epoch)}.txt -out evaluation/Exp_104_ukr_roberta_base_epoch_{str(epoch)}.m2\"\n",
    "#     print(s)"
   ]
  },
  {
   "cell_type": "code",
   "execution_count": 56,
   "metadata": {},
   "outputs": [
    {
     "name": "stdout",
     "output_type": "stream",
     "text": [
      "errant_compare -hyp evaluation/Exp_104_ukr_roberta_base_epoch_17.m2 -ref evaluation/gold_ukr.m2\n",
      "errant_compare -hyp evaluation/Exp_104_ukr_roberta_base_epoch_18.m2 -ref evaluation/gold_ukr.m2\n",
      "errant_compare -hyp evaluation/Exp_104_ukr_roberta_base_epoch_19.m2 -ref evaluation/gold_ukr.m2\n",
      "errant_compare -hyp evaluation/Exp_104_ukr_roberta_base_epoch_20.m2 -ref evaluation/gold_ukr.m2\n",
      "errant_compare -hyp evaluation/Exp_104_ukr_roberta_base_epoch_21.m2 -ref evaluation/gold_ukr.m2\n",
      "errant_compare -hyp evaluation/Exp_104_ukr_roberta_base_epoch_22.m2 -ref evaluation/gold_ukr.m2\n",
      "errant_compare -hyp evaluation/Exp_104_ukr_roberta_base_epoch_23.m2 -ref evaluation/gold_ukr.m2\n"
     ]
    }
   ],
   "source": [
    "start = 17\n",
    "end = 24\n",
    "for epoch in range(start, end):\n",
    "    s = f\"errant_compare -hyp evaluation/Exp_104_ukr_roberta_base_epoch_{str(epoch)}.m2 -ref evaluation/gold_ukr.m2\"\n",
    "    print(s)"
   ]
  },
  {
   "cell_type": "code",
   "execution_count": null,
   "metadata": {},
   "outputs": [],
   "source": []
  },
  {
   "cell_type": "code",
   "execution_count": 60,
   "metadata": {},
   "outputs": [],
   "source": [
    "# def generate_script_text(folder_name, start_epoch=0, end_epoch=20, use_cpu=1, cuda_device_index=-1,experiment_name=\"\", model_name=\"roberta\", vocabulary=\"data/output_vocabulary\", generate_predict=True, generate_metrics=True):\n",
    "#     text = ''\n",
    "#     if len(experiment_name)>0:\n",
    "#         text += 'echo -e \"'+experiment_name+'\"'+\"\\n\" \n",
    "#     for num in range(start_epoch, end_epoch):\n",
    "#         for min_len in range(1, 7):\n",
    "#             if generate_predict:\n",
    "#                 text += \"source activate maks_env\"+\"\\n\"\n",
    "#                 text += 'echo -e \"Predict epoch : '+str(num)+'\"'+\"\\n\"\n",
    "#                 #--use_cpu 1 #--cuda_device_index 0\n",
    "#                 text += \"python predict.py --model_path models/\"+folder_name+\"/model_state_epoch_\"+str(num)+\".th --vocab_path \"+vocabulary+\" --input_file data_parallel/wi+locness/dev_src --output_file predicts/\"+folder_name+\"_epoch_\"+str(num)+\"_min_len_\"+str(min_len)+\".txt --transformer_model \"+model_name+\" --special_tokens_fix 1 --min_len \"+str(min_len)\n",
    "#                 if use_cpu:\n",
    "#                     text += ' --use_cpu 1'\n",
    "#                 if cuda_device_index>=0:\n",
    "#                     text += ' --cuda_device_index '+str(cuda_device_index)\n",
    "#                 text +=\"\\n\\n\"\n",
    "\n",
    "#                 text += \"conda deactivate\"+\"\\n\\n\"\n",
    "\n",
    "#             if generate_metrics:\n",
    "#                 text += \"source activate errant_env\"+\"\\n\"\n",
    "\n",
    "#                 text += 'echo -e \"Calculate metric for epoch : '+str(num)+' min_len = '+str(min_len)+'\"'+\"\\n\"\n",
    "\n",
    "#                 text += \"errant_parallel -orig data_parallel/wi+locness/dev_src -cor predicts/\"+folder_name+\"_epoch_\"+str(num)+\"_min_len_\"+str(min_len)+\".txt -out evaluation/\"+folder_name+\"_epoch_\"+str(num)+\"_min_len_\"+str(min_len)+\".m2\"+\"\\n\\n\"\n",
    "\n",
    "#                 text += 'echo -e \"Metrics for epoch : '+str(num)+'\"'+\"\\n\"\n",
    "#                 text += \"errant_compare -hyp evaluation/\"+folder_name+\"_epoch_\"+str(num)+\"_min_len_\"+str(min_len)+\".m2 -ref data_m2/wi+locness/ABCN.dev.gold.bea19.m2\"\"\\n\\n\"\n",
    "\n",
    "#                 text += \"conda deactivate\"+\"\\n\\n\"\n",
    "#     print(text)"
   ]
  },
  {
   "cell_type": "code",
   "execution_count": null,
   "metadata": {},
   "outputs": [],
   "source": []
  },
  {
   "cell_type": "code",
   "execution_count": null,
   "metadata": {},
   "outputs": [],
   "source": []
  }
 ],
 "metadata": {
  "kernelspec": {
   "display_name": "Python 3",
   "language": "python",
   "name": "python3"
  },
  "language_info": {
   "codemirror_mode": {
    "name": "ipython",
    "version": 3
   },
   "file_extension": ".py",
   "mimetype": "text/x-python",
   "name": "python",
   "nbconvert_exporter": "python",
   "pygments_lexer": "ipython3",
   "version": "3.8.5"
  }
 },
 "nbformat": 4,
 "nbformat_minor": 4
}
