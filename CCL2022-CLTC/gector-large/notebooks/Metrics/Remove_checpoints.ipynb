{
 "cells": [
  {
   "cell_type": "code",
   "execution_count": 810,
   "metadata": {},
   "outputs": [],
   "source": [
    "import os\n",
    "import glob\n",
    "import schedule\n",
    "import time"
   ]
  },
  {
   "cell_type": "code",
   "execution_count": 811,
   "metadata": {},
   "outputs": [],
   "source": [
    "def remove_checkpoints(path):\n",
    "    if path[-1] != '/':\n",
    "        path += '/'\n",
    "    all_checkpoints = glob.glob(path+\"*.th\")\n",
    "    count_delated = 0\n",
    "    for checkpoint in all_checkpoints:\n",
    "        if \"training_state_epoch\" in checkpoint:\n",
    "#         if checkpoint != path+'best.th':\n",
    "            os.remove(checkpoint)\n",
    "            count_delated += 1\n",
    "    if count_delated:\n",
    "        print(path)\n",
    "        print(\"Deleted files:\", count_delated)\n",
    "        \n",
    "def job():\n",
    "    for path in glob.glob(\"../../models/*\"):\n",
    "        remove_checkpoints(path)"
   ]
  },
  {
   "cell_type": "code",
   "execution_count": 812,
   "metadata": {},
   "outputs": [],
   "source": [
    "# while True:\n",
    "#     schedule.run_pending()\n",
    "#     time.sleep(1)"
   ]
  },
  {
   "cell_type": "code",
   "execution_count": 813,
   "metadata": {},
   "outputs": [
    {
     "name": "stdout",
     "output_type": "stream",
     "text": [
      "../../models/Exp_134_2_xlnet_large_10k_st3/\n",
      "Deleted files: 1\n"
     ]
    }
   ],
   "source": [
    "for path in glob.glob(\"../../models/*\"):\n",
    "    remove_checkpoints(path)"
   ]
  },
  {
   "cell_type": "code",
   "execution_count": null,
   "metadata": {},
   "outputs": [],
   "source": []
  },
  {
   "cell_type": "code",
   "execution_count": null,
   "metadata": {},
   "outputs": [],
   "source": []
  }
 ],
 "metadata": {
  "kernelspec": {
   "display_name": "Python 3",
   "language": "python",
   "name": "python3"
  },
  "language_info": {
   "codemirror_mode": {
    "name": "ipython",
    "version": 3
   },
   "file_extension": ".py",
   "mimetype": "text/x-python",
   "name": "python",
   "nbconvert_exporter": "python",
   "pygments_lexer": "ipython3",
   "version": "3.8.5"
  }
 },
 "nbformat": 4,
 "nbformat_minor": 4
}
