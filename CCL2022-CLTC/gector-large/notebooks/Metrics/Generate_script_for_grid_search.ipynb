{
 "cells": [
  {
   "cell_type": "markdown",
   "metadata": {},
   "source": [
    "### Grid search"
   ]
  },
  {
   "cell_type": "code",
   "execution_count": 81,
   "metadata": {},
   "outputs": [
    {
     "data": {
      "text/plain": [
       "[0.55, 0.56, 0.57, 0.58, 0.59, 0.6, 0.61, 0.62, 0.63, 0.64, 0.65]"
      ]
     },
     "execution_count": 81,
     "metadata": {},
     "output_type": "execute_result"
    }
   ],
   "source": [
    "min_error_probabilities = [round(0.55 + 0.01*i,2) for i in range(0,11)]\n",
    "min_error_probabilities"
   ]
  },
  {
   "cell_type": "code",
   "execution_count": 82,
   "metadata": {},
   "outputs": [],
   "source": [
    "additional_confidences = [0.1]"
   ]
  },
  {
   "cell_type": "code",
   "execution_count": 83,
   "metadata": {},
   "outputs": [],
   "source": [
    "#additional_confidences = [round(0.05*i,3) for i in range(11)]\n",
    "#additional_confidences"
   ]
  },
  {
   "cell_type": "code",
   "execution_count": 84,
   "metadata": {},
   "outputs": [],
   "source": [
    "#min_error_probabilities = [round(0.05*i,3) for i in range(18)]\n",
    "#min_error_probabilities"
   ]
  },
  {
   "cell_type": "code",
   "execution_count": null,
   "metadata": {},
   "outputs": [],
   "source": [
    "ens = \"python predict.py --model_path models/Exp_042_ens_large_st3/roberta-large_1_best.th models/Exp_042_ens_large_st3/xlnet-large_1_best.th models/Exp_042_ens_large_st3/deberta-large_1_best.th --vocab_path data/output_vocabulary --input_file data_parallel/wi+locness/dev_src --output_file predicts/Exp_042_roberta_xlnet_deberta_large.txt --is_ensemble 1 --cuda_device_index 1\""
   ]
  },
  {
   "cell_type": "code",
   "execution_count": 126,
   "metadata": {},
   "outputs": [
    {
     "data": {
      "text/plain": [
       "[0.45, 0.5]"
      ]
     },
     "execution_count": 126,
     "metadata": {},
     "output_type": "execute_result"
    }
   ],
   "source": [
    "additional_confidences[-2:]"
   ]
  },
  {
   "cell_type": "code",
   "execution_count": 63,
   "metadata": {},
   "outputs": [],
   "source": [
    "additional_confidences = [round(0.1*i,3) for i in range(0,5)]\n",
    "min_error_probabilities = [0.]+[round(0.05*i,3) for i in range(4,16)]"
   ]
  },
  {
   "cell_type": "code",
   "execution_count": 64,
   "metadata": {},
   "outputs": [
    {
     "data": {
      "text/plain": [
       "[0.0, 0.1, 0.2, 0.3, 0.4]"
      ]
     },
     "execution_count": 64,
     "metadata": {},
     "output_type": "execute_result"
    }
   ],
   "source": [
    "additional_confidences"
   ]
  },
  {
   "cell_type": "code",
   "execution_count": 65,
   "metadata": {},
   "outputs": [
    {
     "data": {
      "text/plain": [
       "[0.0, 0.2, 0.25, 0.3, 0.35, 0.4, 0.45, 0.5, 0.55, 0.6, 0.65, 0.7, 0.75]"
      ]
     },
     "execution_count": 65,
     "metadata": {},
     "output_type": "execute_result"
    }
   ],
   "source": [
    "min_error_probabilities"
   ]
  },
  {
   "cell_type": "markdown",
   "metadata": {},
   "source": [
    "## Voc 10k"
   ]
  },
  {
   "cell_type": "code",
   "execution_count": 122,
   "metadata": {},
   "outputs": [
    {
     "name": "stdout",
     "output_type": "stream",
     "text": [
      "echo -e \"Predict k=0 ac=0.1 mep=0.58\"\n",
      "python predict.py --model_path models/Exp_133_deberta_large_10k_st3/model_state_epoch_2.th --vocab_path models/Exp_133_deberta_large_10k_st3/vocabulary --input_file data_parallel/wi+locness/dev_src --output_file predicts/Exp_133_deberta_large_10k_st3_epoch_2_ac_0.1_mep_0.58.txt --additional_confidence 0.1 --min_error_probability 0.58 --transformer_model deberta-large --special_tokens_fix 1  --cuda_device_index 1\n",
      "\n"
     ]
    }
   ],
   "source": [
    "model_path = \"models/Exp_133_deberta_large_10k_st3/model_state_epoch_2.th\"\n",
    "cuda_index = 1\n",
    "output_start = \"Exp_133_deberta_large_10k_st3_epoch_2\"\n",
    "model_name = 'deberta-large'\n",
    "vocabulary = 'models/Exp_133_deberta_large_10k_st3/vocabulary'\n",
    "k = 0\n",
    "for ac in [0.1]:\n",
    "    for mep in [0.58]: \n",
    "        print('echo -e \"Predict k='+str(k)+' ac='+str(ac)+' mep='+str(mep)+'\"')\n",
    "        text = \"python predict.py --model_path \"+model_path+\" --vocab_path \"+vocabulary+\" --input_file data_parallel/wi+locness/dev_src --output_file predicts/\"+output_start+\"_ac_\"+str(ac)+\"_mep_\"+str(mep)+\".txt --additional_confidence \"+str(ac)+\" --min_error_probability \"+str(mep)+\" --transformer_model \"+model_name+\" --special_tokens_fix 1  --cuda_device_index \"+str(cuda_index)+\"\\n\"\n",
    "        print(text)\n",
    "        k+=1"
   ]
  },
  {
   "cell_type": "code",
   "execution_count": 123,
   "metadata": {},
   "outputs": [
    {
     "name": "stdout",
     "output_type": "stream",
     "text": [
      "echo -e \"Predict k=0 ac=0.1 mep=0.55\"\n",
      "python predict.py --model_path models/Exp_040_roberta_large_10k_st3/model_state_epoch_1.th --vocab_path models/Exp_040_roberta_large_10k_st3/vocabulary --input_file data_parallel/wi+locness/dev_src --output_file predicts/Exp_040_roberta_large_10k_epoch_1_ac_0.1_mep_0.55.txt --additional_confidence 0.1 --min_error_probability 0.55 --transformer_model roberta-large --special_tokens_fix 1  --cuda_device_index 0\n",
      "\n"
     ]
    }
   ],
   "source": [
    "model_path = \"models/Exp_040_roberta_large_10k_st3/model_state_epoch_1.th\"\n",
    "cuda_index = 0\n",
    "output_start = \"Exp_040_roberta_large_10k_epoch_1\"\n",
    "model_name = 'roberta-large'\n",
    "vocabulary = 'models/Exp_040_roberta_large_10k_st3/vocabulary'\n",
    "k = 0\n",
    "for ac in additional_confidences:\n",
    "    for mep in [0.55]: \n",
    "        print('echo -e \"Predict k='+str(k)+' ac='+str(ac)+' mep='+str(mep)+'\"')\n",
    "        text = \"python predict.py --model_path \"+model_path+\" --vocab_path \"+vocabulary+\" --input_file data_parallel/wi+locness/dev_src --output_file predicts/\"+output_start+\"_ac_\"+str(ac)+\"_mep_\"+str(mep)+\".txt --additional_confidence \"+str(ac)+\" --min_error_probability \"+str(mep)+\" --transformer_model \"+model_name+\" --special_tokens_fix 1  --cuda_device_index \"+str(cuda_index)+\"\\n\"\n",
    "        print(text)\n",
    "        k+=1"
   ]
  },
  {
   "cell_type": "code",
   "execution_count": 97,
   "metadata": {},
   "outputs": [],
   "source": [
    "# model_path = \"models/Exp_042_ens_large_st3/xlnet-large_1_best.th\"\n",
    "# cuda_index = 1\n",
    "# output_start = \"Exp_045_xlnet_large\"\n",
    "# model_name = 'xlnet-large'\n",
    "# k = 0\n",
    "# for ac in [0.3]:\n",
    "#     for mep in min_error_probabilities: \n",
    "#         print('echo -e \"Predict xlnet k='+str(k)+' ac='+str(ac)+' mep='+str(mep)+'\"')\n",
    "#         text = \"python predict.py --model_path \"+model_path+\" --vocab_path data/output_vocabulary --input_file data_parallel/wi+locness/dev_src --output_file predicts/\"+output_start+\"_ac_\"+str(ac)+\"_mep_\"+str(mep)+\".txt --additional_confidence \"+str(ac)+\" --min_error_probability \"+str(mep)+\" --transformer_model \"+model_name+\" --special_tokens_fix 1  --cuda_device_index \"+str(cuda_index)+\"\\n\"\n",
    "#         print(text)\n",
    "#         k+=1"
   ]
  },
  {
   "cell_type": "code",
   "execution_count": 112,
   "metadata": {},
   "outputs": [],
   "source": [
    "output_start = \"Exp_133_deberta_large_10k_st3_epoch_2\"\n",
    "#generate_nohup_metric(output_start, additional_confidences, [0.58])"
   ]
  },
  {
   "cell_type": "code",
   "execution_count": 114,
   "metadata": {},
   "outputs": [],
   "source": [
    "output_start = \"Exp_040_roberta_large_10k_epoch_1\"\n",
    "#generate_nohup_metric(output_start, additional_confidences, [0.5, 0.51,0.52, 0.53, 0.54])"
   ]
  },
  {
   "cell_type": "code",
   "execution_count": 106,
   "metadata": {},
   "outputs": [],
   "source": [
    "output_start = \"Exp_045_xlnet_large\"\n",
    "#generate_nohup_metric(output_start, [0.3], min_error_probabilities)"
   ]
  },
  {
   "cell_type": "code",
   "execution_count": null,
   "metadata": {},
   "outputs": [],
   "source": [
    "output_start = \"Exp_134_xlnet_large_10k_st3_epoch_1\"\n",
    "generate_compare_metric(output_start, additional_confidences, min_error_probabilities)"
   ]
  },
  {
   "cell_type": "code",
   "execution_count": 120,
   "metadata": {},
   "outputs": [],
   "source": [
    "output_start = \"Exp_040_roberta_large_10k_epoch_1\"\n",
    "#generate_compare_metric(output_start, additional_confidences, [0.5, 0.51,0.52, 0.53, 0.54]+min_error_probabilities)"
   ]
  },
  {
   "cell_type": "code",
   "execution_count": 121,
   "metadata": {},
   "outputs": [
    {
     "name": "stdout",
     "output_type": "stream",
     "text": [
      "echo -e \"Exp_045_xlnet_large\"\n",
      "echo -e \"Metric k=0 ac=0.3 mep=0.55\"\n",
      "errant_compare -hyp evaluation/Exp_045_xlnet_large_ac_0.3_mep_0.55.m2 -ref data_m2/wi+locness/ABCN.dev.gold.bea19.m2\n",
      "\n",
      "\n",
      "echo -e \"Metric k=1 ac=0.3 mep=0.56\"\n",
      "errant_compare -hyp evaluation/Exp_045_xlnet_large_ac_0.3_mep_0.56.m2 -ref data_m2/wi+locness/ABCN.dev.gold.bea19.m2\n",
      "\n",
      "\n",
      "echo -e \"Metric k=2 ac=0.3 mep=0.57\"\n",
      "errant_compare -hyp evaluation/Exp_045_xlnet_large_ac_0.3_mep_0.57.m2 -ref data_m2/wi+locness/ABCN.dev.gold.bea19.m2\n",
      "\n",
      "\n",
      "echo -e \"Metric k=3 ac=0.3 mep=0.58\"\n",
      "errant_compare -hyp evaluation/Exp_045_xlnet_large_ac_0.3_mep_0.58.m2 -ref data_m2/wi+locness/ABCN.dev.gold.bea19.m2\n",
      "\n",
      "\n",
      "echo -e \"Metric k=4 ac=0.3 mep=0.59\"\n",
      "errant_compare -hyp evaluation/Exp_045_xlnet_large_ac_0.3_mep_0.59.m2 -ref data_m2/wi+locness/ABCN.dev.gold.bea19.m2\n",
      "\n",
      "\n",
      "echo -e \"Metric k=5 ac=0.3 mep=0.6\"\n",
      "errant_compare -hyp evaluation/Exp_045_xlnet_large_ac_0.3_mep_0.6.m2 -ref data_m2/wi+locness/ABCN.dev.gold.bea19.m2\n",
      "\n",
      "\n",
      "echo -e \"Metric k=6 ac=0.3 mep=0.61\"\n",
      "errant_compare -hyp evaluation/Exp_045_xlnet_large_ac_0.3_mep_0.61.m2 -ref data_m2/wi+locness/ABCN.dev.gold.bea19.m2\n",
      "\n",
      "\n",
      "echo -e \"Metric k=7 ac=0.3 mep=0.62\"\n",
      "errant_compare -hyp evaluation/Exp_045_xlnet_large_ac_0.3_mep_0.62.m2 -ref data_m2/wi+locness/ABCN.dev.gold.bea19.m2\n",
      "\n",
      "\n",
      "echo -e \"Metric k=8 ac=0.3 mep=0.63\"\n",
      "errant_compare -hyp evaluation/Exp_045_xlnet_large_ac_0.3_mep_0.63.m2 -ref data_m2/wi+locness/ABCN.dev.gold.bea19.m2\n",
      "\n",
      "\n",
      "echo -e \"Metric k=9 ac=0.3 mep=0.64\"\n",
      "errant_compare -hyp evaluation/Exp_045_xlnet_large_ac_0.3_mep_0.64.m2 -ref data_m2/wi+locness/ABCN.dev.gold.bea19.m2\n",
      "\n",
      "\n",
      "echo -e \"Metric k=10 ac=0.3 mep=0.65\"\n",
      "errant_compare -hyp evaluation/Exp_045_xlnet_large_ac_0.3_mep_0.65.m2 -ref data_m2/wi+locness/ABCN.dev.gold.bea19.m2\n",
      "\n",
      "\n"
     ]
    }
   ],
   "source": [
    "output_start = \"Exp_045_xlnet_large\"\n",
    "generate_compare_metric(output_start, [0.3], min_error_probabilities)"
   ]
  },
  {
   "cell_type": "code",
   "execution_count": null,
   "metadata": {},
   "outputs": [],
   "source": []
  },
  {
   "cell_type": "code",
   "execution_count": 52,
   "metadata": {},
   "outputs": [],
   "source": [
    "# model_path = \"models/Exp_134_xlnet_large_10k_st3/model_state_epoch_1.th\"\n",
    "# cuda_index = 0\n",
    "# output_start = \"Exp_134_xlnet_large_10k_st3_epoch_1\"\n",
    "# model_name = 'xlnet-large'\n",
    "# vocabulary = 'models/Exp_134_xlnet_large_10k_st3/vocabulary'\n",
    "# k = 0\n",
    "# for ac in additional_confidences:\n",
    "#     for mep in min_error_probabilities: \n",
    "#         print('echo -e \"Predict k='+str(k)+' ac='+str(ac)+' mep='+str(mep)+'\"')\n",
    "#         text = \"python predict.py --model_path \"+model_path+\" --vocab_path \"+vocabulary+\" --input_file data_parallel/wi+locness/dev_src --output_file predicts/\"+output_start+\"_ac_\"+str(ac)+\"_mep_\"+str(mep)+\".txt --additional_confidence \"+str(ac)+\" --min_error_probability \"+str(mep)+\" --transformer_model \"+model_name+\" --special_tokens_fix 1  --cuda_device_index \"+str(cuda_index)+\"\\n\"\n",
    "#         print(text)\n",
    "#         k+=1"
   ]
  },
  {
   "cell_type": "code",
   "execution_count": null,
   "metadata": {},
   "outputs": [],
   "source": [
    "# k = 0\n",
    "# cuda_index = 1\n",
    "# output_start = \"Exp_135_large_ens_voc_10k\"\n",
    "# for ac in additional_confidences:\n",
    "#     for mep in min_error_probabilities: \n",
    "#         print('echo -e \"Predict ensemble k='+str(k)+' ac='+str(ac)+' mep='+str(mep)+'\"')\n",
    "#         text = \"python predict.py --model_path models/Exp_135/roberta-large_1_best_10k.th models/Exp_135/xlnet-large_1_best_10k.th models/Exp_135/deberta-large_1_best_10k.th --vocab_path models/Exp_133_deberta_large_10k_st3/vocabulary --is_ensemble 1 --input_file data_parallel/wi+locness/dev_src --output_file predicts/\"+output_start+\"_ac_\"+str(ac)+\"_mep_\"+str(mep)+\".txt --additional_confidence \"+str(ac)+\" --min_error_probability \"+str(mep)+\" --cuda_device_index \"+str(cuda_index)+\"\\n\"\n",
    "#         print(text)\n",
    "#         k+=1"
   ]
  },
  {
   "cell_type": "code",
   "execution_count": 69,
   "metadata": {},
   "outputs": [],
   "source": [
    "output_start = \"Exp_133_deberta_large_10k_st3_epoch_2\"\n",
    "#generate_nohup_metric(output_start, additional_confidences, min_error_probabilities)"
   ]
  },
  {
   "cell_type": "code",
   "execution_count": 71,
   "metadata": {},
   "outputs": [],
   "source": [
    "output_start = \"Exp_134_xlnet_large_10k_st3_epoch_1\"\n",
    "#generate_nohup_metric(output_start, additional_confidences, min_error_probabilities)"
   ]
  },
  {
   "cell_type": "code",
   "execution_count": 73,
   "metadata": {},
   "outputs": [],
   "source": [
    "output_start = \"Exp_135_large_ens_voc_10k\"\n",
    "#generate_nohup_metric(output_start, additional_confidences, min_error_probabilities)"
   ]
  },
  {
   "cell_type": "code",
   "execution_count": 116,
   "metadata": {},
   "outputs": [],
   "source": [
    "output_start = \"Exp_133_deberta_large_10k_st3_epoch_2\"\n",
    "#generate_compare_metric(output_start, additional_confidences, min_error_probabilities)"
   ]
  },
  {
   "cell_type": "code",
   "execution_count": 118,
   "metadata": {},
   "outputs": [],
   "source": [
    "output_start = \"Exp_134_xlnet_large_10k_st3_epoch_1\"\n",
    "#generate_compare_metric(output_start, additional_confidences, min_error_probabilities)"
   ]
  },
  {
   "cell_type": "code",
   "execution_count": null,
   "metadata": {},
   "outputs": [],
   "source": []
  },
  {
   "cell_type": "code",
   "execution_count": null,
   "metadata": {},
   "outputs": [],
   "source": []
  },
  {
   "cell_type": "code",
   "execution_count": 79,
   "metadata": {},
   "outputs": [],
   "source": [
    "output_start = \"Exp_135_large_ens_voc_10k\"\n",
    "#generate_compare_metric(output_start, additional_confidences, min_error_probabilities)"
   ]
  },
  {
   "cell_type": "markdown",
   "metadata": {},
   "source": [
    "### Calculate hyper Base"
   ]
  },
  {
   "cell_type": "markdown",
   "metadata": {},
   "source": [
    "### Predict"
   ]
  },
  {
   "cell_type": "code",
   "execution_count": null,
   "metadata": {},
   "outputs": [],
   "source": [
    "# model_path = \"models/Exp_049_roberta_base_stage_3_gold/model_state_epoch_3.th\"\n",
    "# cuda_index = 0\n",
    "# output_start = \"Exp_049_roberta_base_stage_3_gold\"\n",
    "# model_name = 'roberta'\n",
    "# vocabulary = 'data/output_vocabulary'\n",
    "# k = 0\n",
    "# for ac in additional_confidences:\n",
    "#     for mep in min_error_probabilities: \n",
    "#         print('echo -e \"Predict k='+str(k)+' ac='+str(ac)+' mep='+str(mep)+'\"')\n",
    "#         text = \"python predict.py --model_path \"+model_path+\" --vocab_path \"+vocabulary+\" --input_file data_parallel/wi+locness/dev_src --output_file predicts/\"+output_start+\"_ac_\"+str(ac)+\"_mep_\"+str(mep)+\".txt --additional_confidence \"+str(ac)+\" --min_error_probability \"+str(mep)+\" --transformer_model \"+model_name+\" --special_tokens_fix 1  --cuda_device_index \"+str(cuda_index)+\"\\n\"\n",
    "#         print(text)\n",
    "#         k+=1"
   ]
  },
  {
   "cell_type": "code",
   "execution_count": 15,
   "metadata": {},
   "outputs": [],
   "source": [
    "# model_path = \"models/Exp_108_xlnet_base_stage_3_gold/model_state_epoch_2.th\"\n",
    "# cuda_index = 0\n",
    "# output_start = \"Exp_108_xlnet_base_stage_3_gold\"\n",
    "# model_name = 'xlnet'\n",
    "# vocabulary = 'data/output_vocabulary'\n",
    "# k = 0\n",
    "# for ac in additional_confidences:\n",
    "#     for mep in min_error_probabilities: \n",
    "#         print('echo -e \"Predict k='+str(k)+' ac='+str(ac)+' mep='+str(mep)+'\"')\n",
    "#         text = \"python predict.py --model_path \"+model_path+\" --vocab_path \"+vocabulary+\" --input_file data_parallel/wi+locness/dev_src --output_file predicts/\"+output_start+\"_ac_\"+str(ac)+\"_mep_\"+str(mep)+\".txt --additional_confidence \"+str(ac)+\" --min_error_probability \"+str(mep)+\" --transformer_model \"+model_name+\" --special_tokens_fix 1  --cuda_device_index \"+str(cuda_index)+\"\\n\"\n",
    "#         print(text)\n",
    "#         k+=1"
   ]
  },
  {
   "cell_type": "code",
   "execution_count": 17,
   "metadata": {},
   "outputs": [],
   "source": [
    "# model_path = \"models/Exp_107_deberta_base_stage_3_gold/model_state_epoch_2.th\"\n",
    "# cuda_index = 0\n",
    "# output_start = \"Exp_107_deberta_base_stage_3_gold\"\n",
    "# model_name = 'deberta'\n",
    "# vocabulary = 'data/output_vocabulary'\n",
    "# k = 0\n",
    "# for ac in additional_confidences:\n",
    "#     for mep in min_error_probabilities: \n",
    "#         print('echo -e \"Predict k='+str(k)+' ac='+str(ac)+' mep='+str(mep)+'\"')\n",
    "#         text = \"python predict.py --model_path \"+model_path+\" --vocab_path \"+vocabulary+\" --input_file data_parallel/wi+locness/dev_src --output_file predicts/\"+output_start+\"_ac_\"+str(ac)+\"_mep_\"+str(mep)+\".txt --additional_confidence \"+str(ac)+\" --min_error_probability \"+str(mep)+\" --transformer_model \"+model_name+\" --special_tokens_fix 1  --cuda_device_index \"+str(cuda_index)+\"\\n\"\n",
    "#         print(text)\n",
    "#         k+=1"
   ]
  },
  {
   "cell_type": "code",
   "execution_count": 20,
   "metadata": {},
   "outputs": [],
   "source": [
    "# model_path = \"models/Exp_109_bert_base_stage_3_gold/model_state_epoch_1.th\"\n",
    "# cuda_index = 0\n",
    "# output_start = \"Exp_109_bert_base_stage_3_gold\"\n",
    "# model_name = 'bert'\n",
    "# vocabulary = 'data/output_vocabulary'\n",
    "# k = 0\n",
    "# for ac in additional_confidences:\n",
    "#     for mep in min_error_probabilities: \n",
    "#         print('echo -e \"Predict k='+str(k)+' ac='+str(ac)+' mep='+str(mep)+'\"')\n",
    "#         text = \"python predict.py --model_path \"+model_path+\" --vocab_path \"+vocabulary+\" --input_file data_parallel/wi+locness/dev_src --output_file predicts/\"+output_start+\"_ac_\"+str(ac)+\"_mep_\"+str(mep)+\".txt --additional_confidence \"+str(ac)+\" --min_error_probability \"+str(mep)+\" --transformer_model \"+model_name+\" --special_tokens_fix 1  --cuda_device_index \"+str(cuda_index)+\"\\n\"\n",
    "#         print(text)\n",
    "#         k+=1"
   ]
  },
  {
   "cell_type": "markdown",
   "metadata": {},
   "source": [
    "### Nohup metric"
   ]
  },
  {
   "cell_type": "code",
   "execution_count": 22,
   "metadata": {},
   "outputs": [],
   "source": [
    "def generate_nohup_metric(output_start, additional_confidences, min_error_probabilities, model='roberta'):\n",
    "    k = 0\n",
    "    for ac in additional_confidences:\n",
    "        for mep in min_error_probabilities: \n",
    "            print('echo -e \"Metric k='+str(k)+' ac='+str(ac)+' mep='+str(mep)+'\"')\n",
    "            text = \"nohup errant_parallel -orig data_parallel/wi+locness/dev_src -cor predicts/\"+output_start+\"_ac_\"+str(ac)+\"_mep_\"+str(mep)+\".txt -out evaluation/\"+output_start+\"_ac_\"+str(ac)+\"_mep_\"+str(mep)+\".m2  &> nohups/metrics.out &\"+\"\\n\\n\"\n",
    "            print(text)\n",
    "            k+=1"
   ]
  },
  {
   "cell_type": "code",
   "execution_count": 24,
   "metadata": {},
   "outputs": [],
   "source": [
    "output_start = \"Exp_049_roberta_base_stage_3_gold\"\n",
    "#generate_nohup_metric(output_start, additional_confidences, min_error_probabilities)"
   ]
  },
  {
   "cell_type": "code",
   "execution_count": 26,
   "metadata": {},
   "outputs": [],
   "source": [
    "output_start = \"Exp_108_xlnet_base_stage_3_gold\"\n",
    "#generate_nohup_metric(output_start, additional_confidences, min_error_probabilities)"
   ]
  },
  {
   "cell_type": "code",
   "execution_count": 28,
   "metadata": {},
   "outputs": [],
   "source": [
    "output_start = \"Exp_107_deberta_base_stage_3_gold\"\n",
    "#generate_nohup_metric(output_start, additional_confidences, min_error_probabilities)"
   ]
  },
  {
   "cell_type": "code",
   "execution_count": 30,
   "metadata": {},
   "outputs": [],
   "source": [
    "output_start = \"Exp_109_bert_base_stage_3_gold\"\n",
    "#generate_nohup_metric(output_start, additional_confidences, min_error_probabilities)"
   ]
  },
  {
   "cell_type": "markdown",
   "metadata": {},
   "source": [
    "### Metric compare"
   ]
  },
  {
   "cell_type": "code",
   "execution_count": 34,
   "metadata": {},
   "outputs": [],
   "source": [
    "def generate_compare_metric(output_start, additional_confidences, min_error_probabilities, model='roberta'):\n",
    "    print(f'echo -e \"{output_start}\"')\n",
    "    k = 0\n",
    "    for ac in additional_confidences:\n",
    "        for mep in min_error_probabilities: \n",
    "            print('echo -e \"Metric k='+str(k)+' ac='+str(ac)+' mep='+str(mep)+'\"')\n",
    "            text = \"errant_compare -hyp evaluation/\"+output_start+\"_ac_\"+str(ac)+\"_mep_\"+str(mep)+\".m2 -ref data_m2/wi+locness/ABCN.dev.gold.bea19.m2\"+\"\\n\\n\"\n",
    "            print(text)\n",
    "            k+=1"
   ]
  },
  {
   "cell_type": "code",
   "execution_count": 36,
   "metadata": {},
   "outputs": [],
   "source": [
    "output_start = \"Exp_049_roberta_base_stage_3_gold\"\n",
    "#generate_compare_metric(output_start, additional_confidences, min_error_probabilities)"
   ]
  },
  {
   "cell_type": "code",
   "execution_count": 38,
   "metadata": {},
   "outputs": [],
   "source": [
    "output_start = \"Exp_108_xlnet_base_stage_3_gold\"\n",
    "#generate_compare_metric(output_start, additional_confidences, min_error_probabilities)"
   ]
  },
  {
   "cell_type": "code",
   "execution_count": 40,
   "metadata": {},
   "outputs": [],
   "source": [
    "output_start = \"Exp_107_deberta_base_stage_3_gold\"\n",
    "#generate_compare_metric(output_start, additional_confidences, min_error_probabilities)"
   ]
  },
  {
   "cell_type": "code",
   "execution_count": 42,
   "metadata": {},
   "outputs": [],
   "source": [
    "output_start = \"Exp_109_bert_base_stage_3_gold\"\n",
    "#generate_compare_metric(output_start, additional_confidences, min_error_probabilities)"
   ]
  },
  {
   "cell_type": "code",
   "execution_count": null,
   "metadata": {},
   "outputs": [],
   "source": []
  },
  {
   "cell_type": "code",
   "execution_count": null,
   "metadata": {},
   "outputs": [],
   "source": []
  },
  {
   "cell_type": "code",
   "execution_count": 11,
   "metadata": {},
   "outputs": [],
   "source": [
    "# min_error_probabilities"
   ]
  },
  {
   "cell_type": "code",
   "execution_count": 252,
   "metadata": {},
   "outputs": [],
   "source": [
    "# output_start = \"Exp_054_roberta_large_st3_1BW\"\n",
    "# model_name = 'roberta-large'\n",
    "# k = 0\n",
    "# for ac in additional_confidences:\n",
    "#     for mep in min_error_probabilities: \n",
    "#         print('echo -e \"Metric roberta k='+str(k)+' ac='+str(ac)+' mep='+str(mep)+'\"')\n",
    "#         text = \"nohup errant_parallel -orig data_parallel/wi+locness/dev_src -cor predicts/\"+output_start+\"_ac_\"+str(ac)+\"_mep_\"+str(mep)+\".txt -out evaluation/\"+output_start+\"_ac_\"+str(ac)+\"_mep_\"+str(mep)+\".m2  &> nohups/metrics.out &\"+\"\\n\\n\"\n",
    "#         print(text)\n",
    "#         k+=1"
   ]
  },
  {
   "cell_type": "code",
   "execution_count": null,
   "metadata": {},
   "outputs": [],
   "source": []
  },
  {
   "cell_type": "code",
   "execution_count": 229,
   "metadata": {
    "scrolled": false
   },
   "outputs": [],
   "source": [
    "# model_path = \"models/Exp_054_roberta_large_stage_3_v1/model_state_epoch_3.th\"\n",
    "# cuda_index = 0\n",
    "# output_start = \"Exp_054_roberta_large_st3_PIE\"\n",
    "# model_name = 'roberta-large'\n",
    "# k = 0\n",
    "# for ac in additional_confidences:\n",
    "#     for mep in min_error_probabilities: \n",
    "#         print('echo -e \"Predict k='+str(k)+' ac='+str(ac)+' mep='+str(mep)+'\"')\n",
    "#         text = \"python predict.py --model_path \"+model_path+\" --vocab_path data/output_vocabulary --input_file data_parallel/wi+locness/dev_src --output_file predicts/\"+output_start+\"_ac_\"+str(ac)+\"_mep_\"+str(mep)+\".txt --additional_confidence \"+str(ac)+\" --min_error_probability \"+str(mep)+\" --transformer_model \"+model_name+\" --special_tokens_fix 1  --cuda_device_index \"+str(cuda_index)+\"\\n\"\n",
    "#         print(text)\n",
    "#         k+=1"
   ]
  },
  {
   "cell_type": "code",
   "execution_count": 237,
   "metadata": {
    "scrolled": false
   },
   "outputs": [],
   "source": [
    "# model_path = \"models/Exp_053_roberta_large_stage_3_v1/model_state_epoch_2.th\"\n",
    "# cuda_index = 1\n",
    "# output_start = \"Exp_054_roberta_large_st3_1BW\"\n",
    "# model_name = 'roberta-large'\n",
    "# k = 0\n",
    "# for ac in additional_confidences:\n",
    "#     for mep in min_error_probabilities: \n",
    "#         print('echo -e \"Predict k='+str(k)+' ac='+str(ac)+' mep='+str(mep)+'\"')\n",
    "#         text = \"python predict.py --model_path \"+model_path+\" --vocab_path data/output_vocabulary --input_file data_parallel/wi+locness/dev_src --output_file predicts/\"+output_start+\"_ac_\"+str(ac)+\"_mep_\"+str(mep)+\".txt --additional_confidence \"+str(ac)+\" --min_error_probability \"+str(mep)+\" --transformer_model \"+model_name+\" --special_tokens_fix 1  --cuda_device_index \"+str(cuda_index)+\"\\n\"\n",
    "#         print(text)\n",
    "#         k+=1"
   ]
  },
  {
   "cell_type": "code",
   "execution_count": null,
   "metadata": {},
   "outputs": [],
   "source": []
  },
  {
   "cell_type": "code",
   "execution_count": 254,
   "metadata": {},
   "outputs": [],
   "source": [
    "# output_start = \"Exp_054_roberta_large_st3_1BW\"\n",
    "# model_name = 'roberta-large'\n",
    "# k = 0\n",
    "# for ac in additional_confidences:\n",
    "#     for mep in min_error_probabilities: \n",
    "#         print('echo -e \"Metric roberta k='+str(k)+' ac='+str(ac)+' mep='+str(mep)+'\"')\n",
    "#         text = \"errant_compare -hyp evaluation/\"+output_start+\"_ac_\"+str(ac)+\"_mep_\"+str(mep)+\".m2 -ref data_m2/wi+locness/ABCN.dev.gold.bea19.m2\"+\"\\n\\n\"\n",
    "#         print(text)\n",
    "#         k+=1"
   ]
  },
  {
   "cell_type": "code",
   "execution_count": 1,
   "metadata": {},
   "outputs": [],
   "source": [
    "# output_start = \"Exp_054_roberta_large_st3_PIE\"\n",
    "# model_name = 'roberta-large'\n",
    "# k = 0\n",
    "# for ac in additional_confidences:\n",
    "#     for mep in min_error_probabilities: \n",
    "#         print('echo -e \"Metric roberta k='+str(k)+' ac='+str(ac)+' mep='+str(mep)+'\"')\n",
    "#         text = \"errant_compare -hyp evaluation/\"+output_start+\"_ac_\"+str(ac)+\"_mep_\"+str(mep)+\".m2 -ref data_m2/wi+locness/ABCN.dev.gold.bea19.m2\"+\"\\n\\n\"\n",
    "#         print(text)\n",
    "#         k+=1"
   ]
  },
  {
   "cell_type": "code",
   "execution_count": null,
   "metadata": {},
   "outputs": [],
   "source": []
  },
  {
   "cell_type": "code",
   "execution_count": null,
   "metadata": {},
   "outputs": [],
   "source": []
  },
  {
   "cell_type": "code",
   "execution_count": 141,
   "metadata": {},
   "outputs": [],
   "source": [
    "# output_start = 'Exp_merge_large'\n",
    "# for ac in additional_confidences:\n",
    "#     for mep in min_error_probabilities:\n",
    "#         s_ac = str(ac)\n",
    "#         s_mep = str(mep)\n",
    "        \n",
    "#         print('echo -e \"Metric ac='+str(ac)+' mep='+str(mep)+'\"')\n",
    "#         text = \"nohup errant_parallel -orig data_parallel/wi+locness/dev_src -cor predicts/\"+output_start+\"_ac_\"+str(ac)+\"_mep_\"+str(mep)+\".txt -out evaluation/\"+output_start+\"_ac_\"+str(ac)+\"_mep_\"+str(mep)+\".m2  &> nohups/metrics.out &\"+\"\\n\\n\"\n",
    "#         print(text)"
   ]
  },
  {
   "cell_type": "code",
   "execution_count": 140,
   "metadata": {},
   "outputs": [],
   "source": [
    "# output_start = 'Exp_merge_large'\n",
    "# k = 0\n",
    "\n",
    "# for ac in additional_confidences:\n",
    "#     for mep in min_error_probabilities: \n",
    "#         print('echo -e \"Metric custom_ens k='+str(k)+' ac='+str(ac)+' mep='+str(mep)+'\"')\n",
    "#         text = \"errant_compare -hyp evaluation/\"+output_start+\"_ac_\"+str(ac)+\"_mep_\"+str(mep)+\".m2 -ref data_m2/wi+locness/ABCN.dev.gold.bea19.m2\"+\"\\n\\n\"\n",
    "#         print(text)\n",
    "#         k+=1"
   ]
  },
  {
   "cell_type": "code",
   "execution_count": 128,
   "metadata": {},
   "outputs": [],
   "source": [
    "# output_start = \"Exp_046_ens_large\"\n",
    "# k = 0\n",
    "\n",
    "# for ac in additional_confidences[-2:]:\n",
    "#     for mep in min_error_probabilities: \n",
    "#         print('echo -e \"Metric roberta k='+str(k)+' ac='+str(ac)+' mep='+str(mep)+'\"')\n",
    "#         text = \"nohup errant_parallel -orig data_parallel/wi+locness/dev_src -cor predicts/\"+output_start+\"_ac_\"+str(ac)+\"_mep_\"+str(mep)+\".txt -out evaluation/\"+output_start+\"_ac_\"+str(ac)+\"_mep_\"+str(mep)+\".m2  &> nohups/metrics.out &\"+\"\\n\\n\"\n",
    "#         print(text)\n",
    "#         k+=1"
   ]
  },
  {
   "cell_type": "code",
   "execution_count": 138,
   "metadata": {},
   "outputs": [],
   "source": [
    "# output_start = \"Exp_046_ens_large\"\n",
    "# k = 0\n",
    "\n",
    "# for ac in additional_confidences:\n",
    "#     for mep in min_error_probabilities: \n",
    "#         print('echo -e \"Metric roberta k='+str(k)+' ac='+str(ac)+' mep='+str(mep)+'\"')\n",
    "#         text = \"errant_compare -hyp evaluation/\"+output_start+\"_ac_\"+str(ac)+\"_mep_\"+str(mep)+\".m2 -ref data_m2/wi+locness/ABCN.dev.gold.bea19.m2\"+\"\\n\\n\"\n",
    "#         print(text)\n",
    "#         k+=1"
   ]
  },
  {
   "cell_type": "code",
   "execution_count": null,
   "metadata": {},
   "outputs": [],
   "source": []
  },
  {
   "cell_type": "code",
   "execution_count": null,
   "metadata": {},
   "outputs": [],
   "source": [
    "# model_path = \"models/Exp_042_ens_large_st3/deberta-large_1_best.th\"\n",
    "# cuda_index = 0\n",
    "# output_start = \"Exp_044_deberta_large\"\n",
    "# model_name = 'deberta-large'\n",
    "# k = 0\n",
    "# for ac in additional_confidences:\n",
    "#     for mep in min_error_probabilities: \n",
    "#         print('echo -e \"Metric roberta k='+str(k)+' ac='+str(ac)+' mep='+str(mep)+'\"')\n",
    "#         text = \"errant_compare -hyp evaluation/\"+output_start+\"_ac_\"+str(ac)+\"_mep_\"+str(mep)+\".m2 -ref data_m2/wi+locness/ABCN.dev.gold.bea19.m2\"+\"\\n\\n\"\n",
    "#         print(text)\n",
    "#         k+=1"
   ]
  },
  {
   "cell_type": "code",
   "execution_count": 112,
   "metadata": {},
   "outputs": [],
   "source": [
    "# model_path = \"models/Exp_042_ens_large_st3/roberta-large_1_best.th\"\n",
    "# cuda_index = 0\n",
    "# output_start = \"Exp_043_roberta_large\"\n",
    "# model_name = 'roberta-large'\n",
    "# k = 0\n",
    "# for ac in additional_confidences:\n",
    "#     for mep in min_error_probabilities: \n",
    "#         print('echo -e \"Metric roberta k='+str(k)+' ac='+str(ac)+' mep='+str(mep)+'\"')\n",
    "#         text = \"errant_compare -hyp evaluation/\"+output_start+\"_ac_\"+str(ac)+\"_mep_\"+str(mep)+\".m2 -ref data_m2/wi+locness/ABCN.dev.gold.bea19.m2\"+\"\\n\\n\"\n",
    "#         print(text)\n",
    "#         k+=1"
   ]
  },
  {
   "cell_type": "code",
   "execution_count": 142,
   "metadata": {},
   "outputs": [],
   "source": [
    "# output_start = \"Exp_045_xlnet_large\"\n",
    "# k = 0\n",
    "# for ac in additional_confidences:\n",
    "#     for mep in min_error_probabilities: \n",
    "#         print('echo -e \"Metric roberta k='+str(k)+' ac='+str(ac)+' mep='+str(mep)+'\"')\n",
    "#         text = \"errant_compare -hyp evaluation/\"+output_start+\"_ac_\"+str(ac)+\"_mep_\"+str(mep)+\".m2 -ref data_m2/wi+locness/ABCN.dev.gold.bea19.m2\"+\"\\n\\n\"\n",
    "#         print(text)\n",
    "#         k+=1"
   ]
  },
  {
   "cell_type": "code",
   "execution_count": 143,
   "metadata": {},
   "outputs": [],
   "source": [
    "# model_path = \"models/Exp_042_ens_large_st3/xlnet-large_1_best.th\"\n",
    "# cuda_index = 0\n",
    "# output_start = \"Exp_045_xlnet_large\"\n",
    "# model_name = 'xlnet-large'\n",
    "# k = 0\n",
    "# for ac in additional_confidences:\n",
    "#     for mep in min_error_probabilities: \n",
    "#         print('echo -e \"Metric roberta k='+str(k)+' ac='+str(ac)+' mep='+str(mep)+'\"')\n",
    "#         text = \"nohup errant_parallel -orig data_parallel/wi+locness/dev_src -cor predicts/\"+output_start+\"_ac_\"+str(ac)+\"_mep_\"+str(mep)+\".txt -out evaluation/\"+output_start+\"_ac_\"+str(ac)+\"_mep_\"+str(mep)+\".m2  &> nohups/metrics.out &\"+\"\\n\\n\"\n",
    "#         print(text)\n",
    "#         k+=1"
   ]
  },
  {
   "cell_type": "code",
   "execution_count": 107,
   "metadata": {},
   "outputs": [],
   "source": [
    "# model_path = \"models/Exp_042_ens_large_st3/deberta-large_1_best.th\"\n",
    "# cuda_index = 0\n",
    "# output_start = \"Exp_044_deberta_large\"\n",
    "# model_name = 'deberta-large'\n",
    "# k = 0\n",
    "# for ac in additional_confidences:\n",
    "#     for mep in min_error_probabilities: \n",
    "#         print('echo -e \"Metric roberta k='+str(k)+' ac='+str(ac)+' mep='+str(mep)+'\"')\n",
    "#         text = \"nohup errant_parallel -orig data_parallel/wi+locness/dev_src -cor predicts/\"+output_start+\"_ac_\"+str(ac)+\"_mep_\"+str(mep)+\".txt -out evaluation/\"+output_start+\"_ac_\"+str(ac)+\"_mep_\"+str(mep)+\".m2  &> nohups/metrics.out &\"+\"\\n\\n\"\n",
    "#         print(text)\n",
    "#         k+=1"
   ]
  },
  {
   "cell_type": "code",
   "execution_count": 115,
   "metadata": {
    "scrolled": false
   },
   "outputs": [],
   "source": [
    "# model_path = \"models/Exp_042_ens_large_st3/roberta-large_1_best.th\"\n",
    "# cuda_index = 0\n",
    "# output_start = \"Exp_043_roberta_large\"\n",
    "# model_name = 'roberta-large'\n",
    "# k = 54\n",
    "# for ac in additional_confidences[3:]:\n",
    "#     for mep in min_error_probabilities: \n",
    "#         print('echo -e \"Metric roberta k='+str(k)+' ac='+str(ac)+' mep='+str(mep)+'\"')\n",
    "#         text = \"nohup errant_parallel -orig data_parallel/wi+locness/dev_src -cor predicts/\"+output_start+\"_ac_\"+str(ac)+\"_mep_\"+str(mep)+\".txt -out evaluation/\"+output_start+\"_ac_\"+str(ac)+\"_mep_\"+str(mep)+\".m2  &> nohups/metrics.out &\"+\"\\n\\n\"\n",
    "#         print(text)\n",
    "#         k+=1"
   ]
  },
  {
   "cell_type": "code",
   "execution_count": null,
   "metadata": {},
   "outputs": [],
   "source": []
  },
  {
   "cell_type": "code",
   "execution_count": null,
   "metadata": {},
   "outputs": [],
   "source": []
  },
  {
   "cell_type": "code",
   "execution_count": 1,
   "metadata": {},
   "outputs": [
    {
     "name": "stdout",
     "output_type": "stream",
     "text": [
      "echo -e \"Predict ensemble k=0 ac=0 mep=0\"\n",
      "python predict.py --model_path models/Exp_042_ens_large_st3/roberta-large_1_best.th models/Exp_042_ens_large_st3/xlnet-large_1_best.th models/Exp_042_ens_large_st3/deberta-large_1_best.th --vocab_path data/output_vocabulary --input_file data_parallel/wi+locness/dev_src --output_file predicts/Exp_042_roberta_xlnet_deberta_large.txt --is_ensemble 1 --vocab_path data/output_vocabulary --input_file data_parallel/wi+locness/dev_src --output_file predicts/Exp_046_ens_large_ac_0_mep_0.txt --additional_confidence 0 --min_error_probability 0 --cuda_device_index 1\n",
      "\n"
     ]
    }
   ],
   "source": [
    "cuda_index = 1\n",
    "output_start = \"Exp_046_ens_large\"\n",
    "model_name = 'xlnet-large'\n",
    "k = 0\n",
    "for ac in [0]:\n",
    "    for mep in [0]: \n",
    "        print('echo -e \"Predict ensemble k='+str(k)+' ac='+str(ac)+' mep='+str(mep)+'\"')\n",
    "        text = \"python predict.py --model_path models/Exp_042_ens_large_st3/roberta-large_1_best.th models/Exp_042_ens_large_st3/xlnet-large_1_best.th models/Exp_042_ens_large_st3/deberta-large_1_best.th --vocab_path data/output_vocabulary --input_file data_parallel/wi+locness/dev_src --output_file predicts/Exp_042_roberta_xlnet_deberta_large.txt --is_ensemble 1 --vocab_path data/output_vocabulary --input_file data_parallel/wi+locness/dev_src --output_file predicts/\"+output_start+\"_ac_\"+str(ac)+\"_mep_\"+str(mep)+\".txt --additional_confidence \"+str(ac)+\" --min_error_probability \"+str(mep)+\" --cuda_device_index \"+str(cuda_index)+\"\\n\"\n",
    "        print(text)\n",
    "        k+=1"
   ]
  },
  {
   "cell_type": "code",
   "execution_count": null,
   "metadata": {},
   "outputs": [],
   "source": []
  },
  {
   "cell_type": "code",
   "execution_count": null,
   "metadata": {},
   "outputs": [],
   "source": []
  },
  {
   "cell_type": "code",
   "execution_count": null,
   "metadata": {},
   "outputs": [],
   "source": [
    "# k = 0\n",
    "# for ac in additional_confidences:\n",
    "#     for mep in min_error_probabilities: \n",
    "#         print('echo -e \"Predict ensemble k='+str(k)+' ac='+str(ac)+' mep='+str(mep)+'\"')\n",
    "#         text = \"python predict.py --model_path models/Exp_042_ens_large_st3/roberta-large_1_best.th models/Exp_042_ens_large_st3/xlnet-large_1_best.th models/Exp_042_ens_large_st3/deberta-large_1_best.th --vocab_path data/output_vocabulary --input_file data_parallel/wi+locness/dev_src --output_file predicts/Exp_042_roberta_xlnet_deberta_large.txt --is_ensemble 1 --vocab_path data/output_vocabulary --input_file data_parallel/wi+locness/dev_src --output_file predicts/\"+output_start+\"_ac_\"+str(ac)+\"_mep_\"+str(mep)+\".txt --additional_confidence \"+str(ac)+\" --min_error_probability \"+str(mep)+\" --cuda_device_index \"+str(cuda_index)+\"\\n\"\n",
    "#         print(text)\n",
    "#         k+=1"
   ]
  },
  {
   "cell_type": "code",
   "execution_count": 96,
   "metadata": {
    "scrolled": false
   },
   "outputs": [],
   "source": [
    "# cuda_index = 1\n",
    "# output_start = \"Exp_046_ens_large\"\n",
    "# model_name = 'xlnet-large'\n",
    "# k = 0\n",
    "# for ac in additional_confidences:\n",
    "#     for mep in min_error_probabilities: \n",
    "#         print('echo -e \"Predict ensemble k='+str(k)+' ac='+str(ac)+' mep='+str(mep)+'\"')\n",
    "#         text = \"python predict.py --model_path models/Exp_042_ens_large_st3/roberta-large_1_best.th models/Exp_042_ens_large_st3/xlnet-large_1_best.th models/Exp_042_ens_large_st3/deberta-large_1_best.th --vocab_path data/output_vocabulary --input_file data_parallel/wi+locness/dev_src --output_file predicts/Exp_042_roberta_xlnet_deberta_large.txt --is_ensemble 1 --vocab_path data/output_vocabulary --input_file data_parallel/wi+locness/dev_src --output_file predicts/\"+output_start+\"_ac_\"+str(ac)+\"_mep_\"+str(mep)+\".txt --additional_confidence \"+str(ac)+\" --min_error_probability \"+str(mep)+\" --cuda_device_index \"+str(cuda_index)+\"\\n\"\n",
    "#         print(text)\n",
    "#         k+=1"
   ]
  },
  {
   "cell_type": "code",
   "execution_count": 87,
   "metadata": {
    "scrolled": false
   },
   "outputs": [],
   "source": [
    "# model_path = \"models/Exp_042_ens_large_st3/xlnet-large_1_best.th\"\n",
    "# cuda_index = 0\n",
    "# output_start = \"Exp_045_xlnet_large\"\n",
    "# model_name = 'xlnet-large'\n",
    "# k = 0\n",
    "# for ac in additional_confidences:\n",
    "#     for mep in min_error_probabilities: \n",
    "#         print('echo -e \"Predict xlnet k='+str(k)+' ac='+str(ac)+' mep='+str(mep)+'\"')\n",
    "#         text = \"python predict.py --model_path \"+model_path+\" --vocab_path data/output_vocabulary --input_file data_parallel/wi+locness/dev_src --output_file predicts/\"+output_start+\"_ac_\"+str(ac)+\"_mep_\"+str(mep)+\".txt --additional_confidence \"+str(ac)+\" --min_error_probability \"+str(mep)+\" --transformer_model \"+model_name+\" --special_tokens_fix 1  --cuda_device_index \"+str(cuda_index)+\"\\n\"\n",
    "#         print(text)\n",
    "#         k+=1"
   ]
  },
  {
   "cell_type": "code",
   "execution_count": 83,
   "metadata": {
    "scrolled": false
   },
   "outputs": [],
   "source": [
    "# model_path = \"models/Exp_042_ens_large_st3/roberta-large_1_best.th\"\n",
    "# cuda_index = 0\n",
    "# output_start = \"Exp_043_roberta_large\"\n",
    "# model_name = 'roberta-large'\n",
    "# k = 0\n",
    "# for ac in additional_confidences:\n",
    "#     for mep in min_error_probabilities: \n",
    "#         print('echo -e \"Predict k='+str(k)+' ac='+str(ac)+' mep='+str(mep)+'\"')\n",
    "#         text = \"python predict.py --model_path \"+model_path+\" --vocab_path data/output_vocabulary --input_file data_parallel/wi+locness/dev_src --output_file predicts/\"+output_start+\"_ac_\"+str(ac)+\"_mep_\"+str(mep)+\".txt --additional_confidence \"+str(ac)+\" --min_error_probability \"+str(mep)+\" --transformer_model \"+model_name+\" --special_tokens_fix 1  --cuda_device_index \"+str(cuda_index)+\"\\n\"\n",
    "#         print(text)\n",
    "#         k+=1\n",
    "\n"
   ]
  },
  {
   "cell_type": "code",
   "execution_count": null,
   "metadata": {},
   "outputs": [],
   "source": [
    "\"Exp_043_roberta_large_ac_0.5_mep_0.7.txt\""
   ]
  },
  {
   "cell_type": "markdown",
   "metadata": {},
   "source": [
    "EXP 75"
   ]
  },
  {
   "cell_type": "code",
   "execution_count": 12,
   "metadata": {},
   "outputs": [],
   "source": [
    "# model_path = \"models/Exp_075_roberta_large_stage_3_pie+blogs_wl/model_state_epoch_3.th\"\n",
    "# cuda_index = 0\n",
    "# output_start = \"Exp_075_roberta_large_stage_3_pie+blogs_wl_epoch_3\"\n",
    "# model_name = 'roberta-large'\n",
    "# vocabulary = 'data/output_vocabulary'\n",
    "# k = 0\n",
    "# for ac in additional_confidences:\n",
    "#     for mep in min_error_probabilities: \n",
    "#         print('echo -e \"Predict k='+str(k)+' ac='+str(ac)+' mep='+str(mep)+'\"')\n",
    "#         text = \"python predict.py --model_path \"+model_path+\" --vocab_path \"+vocabulary+\" --input_file data_parallel/wi+locness/dev_src --output_file predicts/\"+output_start+\"_ac_\"+str(ac)+\"_mep_\"+str(mep)+\".txt --additional_confidence \"+str(ac)+\" --min_error_probability \"+str(mep)+\" --transformer_model \"+model_name+\" --special_tokens_fix 1  --cuda_device_index \"+str(cuda_index)+\"\\n\"\n",
    "#         print(text)\n",
    "#         k+=1"
   ]
  },
  {
   "cell_type": "code",
   "execution_count": 14,
   "metadata": {},
   "outputs": [],
   "source": [
    "# model_path = \"models/Exp_075_roberta_large_stage_3_pie+blogs_wl/model_state_epoch_1.th\"\n",
    "# cuda_index = 0\n",
    "# output_start = \"Exp_075_roberta_large_stage_3_pie+blogs_wl_epoch_1\"\n",
    "# model_name = 'roberta-large'\n",
    "# vocabulary = 'data/output_vocabulary'\n",
    "# k = 0\n",
    "# for ac in additional_confidences:\n",
    "#     for mep in min_error_probabilities: \n",
    "#         print('echo -e \"Predict k='+str(k)+' ac='+str(ac)+' mep='+str(mep)+'\"')\n",
    "#         text = \"python predict.py --model_path \"+model_path+\" --vocab_path \"+vocabulary+\" --input_file data_parallel/wi+locness/dev_src --output_file predicts/\"+output_start+\"_ac_\"+str(ac)+\"_mep_\"+str(mep)+\".txt --additional_confidence \"+str(ac)+\" --min_error_probability \"+str(mep)+\" --transformer_model \"+model_name+\" --special_tokens_fix 1  --cuda_device_index \"+str(cuda_index)+\"\\n\"\n",
    "#         print(text)\n",
    "#         k+=1"
   ]
  },
  {
   "cell_type": "markdown",
   "metadata": {},
   "source": [
    "EXP 74"
   ]
  },
  {
   "cell_type": "code",
   "execution_count": 23,
   "metadata": {},
   "outputs": [],
   "source": [
    "# model_path = \"models/Exp_074_roberta_large_stage_3_pie+blogs_clean_wl/model_state_epoch_1.th\"\n",
    "# cuda_index = 1\n",
    "# output_start = \"Exp_074_roberta_large_stage_3_pie+blogs_clean_wl_epoch_1\"\n",
    "# model_name = 'roberta-large'\n",
    "# vocabulary = 'data/output_vocabulary'\n",
    "# k = 0\n",
    "# for ac in additional_confidences:\n",
    "#     for mep in min_error_probabilities: \n",
    "#         print('echo -e \"Predict k='+str(k)+' ac='+str(ac)+' mep='+str(mep)+'\"')\n",
    "#         text = \"python predict.py --model_path \"+model_path+\" --vocab_path \"+vocabulary+\" --input_file data_parallel/wi+locness/dev_src --output_file predicts/\"+output_start+\"_ac_\"+str(ac)+\"_mep_\"+str(mep)+\".txt --additional_confidence \"+str(ac)+\" --min_error_probability \"+str(mep)+\" --transformer_model \"+model_name+\" --special_tokens_fix 1  --cuda_device_index \"+str(cuda_index)+\"\\n\"\n",
    "#         print(text)\n",
    "#         k+=1"
   ]
  },
  {
   "cell_type": "code",
   "execution_count": 25,
   "metadata": {},
   "outputs": [],
   "source": [
    "# model_path = \"models/Exp_074_roberta_large_stage_3_pie+blogs_clean_wl/model_state_epoch_3.th\"\n",
    "# cuda_index = 1\n",
    "# output_start = \"Exp_074_roberta_large_stage_3_pie+blogs_clean_wl_epoch_3\"\n",
    "# model_name = 'roberta-large'\n",
    "# vocabulary = 'data/output_vocabulary'\n",
    "# k = 0\n",
    "# for ac in additional_confidences:\n",
    "#     for mep in min_error_probabilities: \n",
    "#         print('echo -e \"Predict k='+str(k)+' ac='+str(ac)+' mep='+str(mep)+'\"')\n",
    "#         text = \"python predict.py --model_path \"+model_path+\" --vocab_path \"+vocabulary+\" --input_file data_parallel/wi+locness/dev_src --output_file predicts/\"+output_start+\"_ac_\"+str(ac)+\"_mep_\"+str(mep)+\".txt --additional_confidence \"+str(ac)+\" --min_error_probability \"+str(mep)+\" --transformer_model \"+model_name+\" --special_tokens_fix 1  --cuda_device_index \"+str(cuda_index)+\"\\n\"\n",
    "#         print(text)\n",
    "#         k+=1"
   ]
  },
  {
   "cell_type": "markdown",
   "metadata": {},
   "source": [
    "##### Metrics"
   ]
  },
  {
   "cell_type": "code",
   "execution_count": 21,
   "metadata": {},
   "outputs": [],
   "source": [
    "# output_start = \"Exp_075_roberta_large_stage_3_pie+blogs_wl_epoch_3\"\n",
    "# k = 0\n",
    "# for ac in additional_confidences:\n",
    "#     for mep in min_error_probabilities: \n",
    "#         print('echo -e \"Metric roberta k='+str(k)+' ac='+str(ac)+' mep='+str(mep)+'\"')\n",
    "#         text = \"nohup errant_parallel -orig data_parallel/wi+locness/dev_src -cor predicts/\"+output_start+\"_ac_\"+str(ac)+\"_mep_\"+str(mep)+\".txt -out evaluation/\"+output_start+\"_ac_\"+str(ac)+\"_mep_\"+str(mep)+\".m2  &> nohups/metrics.out &\"+\"\\n\\n\"\n",
    "#         print(text)\n",
    "#         k+=1"
   ]
  },
  {
   "cell_type": "code",
   "execution_count": 27,
   "metadata": {},
   "outputs": [],
   "source": [
    "# output_start = \"Exp_075_roberta_large_stage_3_pie+blogs_wl_epoch_1\"\n",
    "# k = 0\n",
    "# for ac in additional_confidences:\n",
    "#     for mep in min_error_probabilities: \n",
    "#         print('echo -e \"Metric roberta k='+str(k)+' ac='+str(ac)+' mep='+str(mep)+'\"')\n",
    "#         text = \"nohup errant_parallel -orig data_parallel/wi+locness/dev_src -cor predicts/\"+output_start+\"_ac_\"+str(ac)+\"_mep_\"+str(mep)+\".txt -out evaluation/\"+output_start+\"_ac_\"+str(ac)+\"_mep_\"+str(mep)+\".m2  &> nohups/metrics.out &\"+\"\\n\\n\"\n",
    "#         print(text)\n",
    "#         k+=1"
   ]
  },
  {
   "cell_type": "code",
   "execution_count": 29,
   "metadata": {},
   "outputs": [],
   "source": [
    "# output_start = \"Exp_074_roberta_large_stage_3_pie+blogs_clean_wl_epoch_1\"\n",
    "# k = 0\n",
    "# for ac in additional_confidences:\n",
    "#     for mep in min_error_probabilities: \n",
    "#         print('echo -e \"Metric roberta k='+str(k)+' ac='+str(ac)+' mep='+str(mep)+'\"')\n",
    "#         text = \"nohup errant_parallel -orig data_parallel/wi+locness/dev_src -cor predicts/\"+output_start+\"_ac_\"+str(ac)+\"_mep_\"+str(mep)+\".txt -out evaluation/\"+output_start+\"_ac_\"+str(ac)+\"_mep_\"+str(mep)+\".m2  &> nohups/metrics.out &\"+\"\\n\\n\"\n",
    "#         print(text)\n",
    "#         k+=1"
   ]
  },
  {
   "cell_type": "code",
   "execution_count": 31,
   "metadata": {},
   "outputs": [],
   "source": [
    "# output_start = \"Exp_074_roberta_large_stage_3_pie+blogs_clean_wl_epoch_3\"\n",
    "# k = 0\n",
    "# for ac in additional_confidences:\n",
    "#     for mep in min_error_probabilities: \n",
    "#         print('echo -e \"Metric roberta k='+str(k)+' ac='+str(ac)+' mep='+str(mep)+'\"')\n",
    "#         text = \"nohup errant_parallel -orig data_parallel/wi+locness/dev_src -cor predicts/\"+output_start+\"_ac_\"+str(ac)+\"_mep_\"+str(mep)+\".txt -out evaluation/\"+output_start+\"_ac_\"+str(ac)+\"_mep_\"+str(mep)+\".m2  &> nohups/metrics.out &\"+\"\\n\\n\"\n",
    "#         print(text)\n",
    "#         k+=1"
   ]
  },
  {
   "cell_type": "code",
   "execution_count": null,
   "metadata": {},
   "outputs": [],
   "source": []
  },
  {
   "cell_type": "code",
   "execution_count": 31,
   "metadata": {},
   "outputs": [],
   "source": [
    "# model_path = \"models/Exp_090_roberta_large_stage_1_blogs_wl/model_state_epoch_3.th\"\n",
    "# cuda_index = 0\n",
    "# output_start = \"Exp_090_roberta_large_stage_1_blogs_wl_epoch_3\"\n",
    "# model_name = 'roberta-large'\n",
    "# vocabulary = 'data/output_vocabulary'\n",
    "# k = 0\n",
    "# for ac in additional_confidences:\n",
    "#     for mep in min_error_probabilities: \n",
    "#         print('echo -e \"Predict k='+str(k)+' ac='+str(ac)+' mep='+str(mep)+'\"')\n",
    "#         text = \"python predict.py --model_path \"+model_path+\" --vocab_path \"+vocabulary+\" --input_file data_parallel/wi+locness/dev_src --output_file predicts/\"+output_start+\"_ac_\"+str(ac)+\"_mep_\"+str(mep)+\".txt --additional_confidence \"+str(ac)+\" --min_error_probability \"+str(mep)+\" --transformer_model \"+model_name+\" --special_tokens_fix 1  --cuda_device_index \"+str(cuda_index)+\"\\n\"\n",
    "#         print(text)\n",
    "#         k+=1"
   ]
  },
  {
   "cell_type": "code",
   "execution_count": 32,
   "metadata": {},
   "outputs": [],
   "source": [
    "# output_start = \"Exp_090_roberta_large_stage_1_blogs_wl_epoch_3\"\n",
    "# k = 0\n",
    "# for ac in additional_confidences:\n",
    "#     for mep in min_error_probabilities: \n",
    "#         print('echo -e \"Metric roberta k='+str(k)+' ac='+str(ac)+' mep='+str(mep)+'\"')\n",
    "#         text = \"nohup errant_parallel -orig data_parallel/wi+locness/dev_src -cor predicts/\"+output_start+\"_ac_\"+str(ac)+\"_mep_\"+str(mep)+\".txt -out evaluation/\"+output_start+\"_ac_\"+str(ac)+\"_mep_\"+str(mep)+\".m2  &> nohups/metrics.out &\"+\"\\n\\n\"\n",
    "#         print(text)\n",
    "#         k+=1"
   ]
  },
  {
   "cell_type": "markdown",
   "metadata": {},
   "source": [
    "## What you need is here!"
   ]
  },
  {
   "cell_type": "code",
   "execution_count": 59,
   "metadata": {},
   "outputs": [
    {
     "name": "stdout",
     "output_type": "stream",
     "text": [
      "echo -e \"Metric roberta k=0 ac=0.1 mep=0.66\"\n",
      "errant_compare -hyp evaluation/Exp_090_roberta_large_stage_1_blogs_wl_epoch_3_ac_0.1_mep_0.66.m2 -ref data_m2/wi+locness/ABCN.dev.gold.bea19.m2\n",
      "\n",
      "\n",
      "echo -e \"Metric roberta k=1 ac=0.1 mep=0.67\"\n",
      "errant_compare -hyp evaluation/Exp_090_roberta_large_stage_1_blogs_wl_epoch_3_ac_0.1_mep_0.67.m2 -ref data_m2/wi+locness/ABCN.dev.gold.bea19.m2\n",
      "\n",
      "\n",
      "echo -e \"Metric roberta k=2 ac=0.1 mep=0.68\"\n",
      "errant_compare -hyp evaluation/Exp_090_roberta_large_stage_1_blogs_wl_epoch_3_ac_0.1_mep_0.68.m2 -ref data_m2/wi+locness/ABCN.dev.gold.bea19.m2\n",
      "\n",
      "\n",
      "echo -e \"Metric roberta k=3 ac=0.1 mep=0.69\"\n",
      "errant_compare -hyp evaluation/Exp_090_roberta_large_stage_1_blogs_wl_epoch_3_ac_0.1_mep_0.69.m2 -ref data_m2/wi+locness/ABCN.dev.gold.bea19.m2\n",
      "\n",
      "\n",
      "echo -e \"Metric roberta k=4 ac=0.1 mep=0.7\"\n",
      "errant_compare -hyp evaluation/Exp_090_roberta_large_stage_1_blogs_wl_epoch_3_ac_0.1_mep_0.7.m2 -ref data_m2/wi+locness/ABCN.dev.gold.bea19.m2\n",
      "\n",
      "\n",
      "echo -e \"Metric roberta k=5 ac=0.1 mep=0.71\"\n",
      "errant_compare -hyp evaluation/Exp_090_roberta_large_stage_1_blogs_wl_epoch_3_ac_0.1_mep_0.71.m2 -ref data_m2/wi+locness/ABCN.dev.gold.bea19.m2\n",
      "\n",
      "\n",
      "echo -e \"Metric roberta k=6 ac=0.1 mep=0.72\"\n",
      "errant_compare -hyp evaluation/Exp_090_roberta_large_stage_1_blogs_wl_epoch_3_ac_0.1_mep_0.72.m2 -ref data_m2/wi+locness/ABCN.dev.gold.bea19.m2\n",
      "\n",
      "\n",
      "echo -e \"Metric roberta k=7 ac=0.1 mep=0.73\"\n",
      "errant_compare -hyp evaluation/Exp_090_roberta_large_stage_1_blogs_wl_epoch_3_ac_0.1_mep_0.73.m2 -ref data_m2/wi+locness/ABCN.dev.gold.bea19.m2\n",
      "\n",
      "\n",
      "echo -e \"Metric roberta k=8 ac=0.1 mep=0.74\"\n",
      "errant_compare -hyp evaluation/Exp_090_roberta_large_stage_1_blogs_wl_epoch_3_ac_0.1_mep_0.74.m2 -ref data_m2/wi+locness/ABCN.dev.gold.bea19.m2\n",
      "\n",
      "\n"
     ]
    }
   ],
   "source": [
    "output_start = \"Exp_090_roberta_large_stage_1_blogs_wl_epoch_3\"\n",
    "k = 0\n",
    "\n",
    "for ac in additional_confidences:\n",
    "    for mep in min_error_probabilities: \n",
    "        print('echo -e \"Metric roberta k='+str(k)+' ac='+str(ac)+' mep='+str(mep)+'\"')\n",
    "        text = \"errant_compare -hyp evaluation/\"+output_start+\"_ac_\"+str(ac)+\"_mep_\"+str(mep)+\".m2 -ref data_m2/wi+locness/ABCN.dev.gold.bea19.m2\"+\"\\n\\n\"\n",
    "        print(text)\n",
    "        k+=1"
   ]
  },
  {
   "cell_type": "code",
   "execution_count": null,
   "metadata": {},
   "outputs": [],
   "source": []
  },
  {
   "cell_type": "code",
   "execution_count": null,
   "metadata": {},
   "outputs": [],
   "source": []
  },
  {
   "cell_type": "code",
   "execution_count": 33,
   "metadata": {},
   "outputs": [],
   "source": [
    "# output_start = \"Exp_075_roberta_large_stage_3_pie+blogs_wl_epoch_3\"\n",
    "# k = 0\n",
    "\n",
    "# for ac in additional_confidences:\n",
    "#     for mep in min_error_probabilities: \n",
    "#         print('echo -e \"Metric roberta k='+str(k)+' ac='+str(ac)+' mep='+str(mep)+'\"')\n",
    "#         text = \"errant_compare -hyp evaluation/\"+output_start+\"_ac_\"+str(ac)+\"_mep_\"+str(mep)+\".m2 -ref data_m2/wi+locness/ABCN.dev.gold.bea19.m2\"+\"\\n\\n\"\n",
    "#         print(text)\n",
    "#         k+=1"
   ]
  },
  {
   "cell_type": "code",
   "execution_count": 35,
   "metadata": {},
   "outputs": [],
   "source": [
    "# output_start = \"Exp_075_roberta_large_stage_3_pie+blogs_wl_epoch_1\"\n",
    "# k = 0\n",
    "\n",
    "# for ac in additional_confidences:\n",
    "#     for mep in min_error_probabilities: \n",
    "#         print('echo -e \"Metric roberta k='+str(k)+' ac='+str(ac)+' mep='+str(mep)+'\"')\n",
    "#         text = \"errant_compare -hyp evaluation/\"+output_start+\"_ac_\"+str(ac)+\"_mep_\"+str(mep)+\".m2 -ref data_m2/wi+locness/ABCN.dev.gold.bea19.m2\"+\"\\n\\n\"\n",
    "#         print(text)\n",
    "#         k+=1"
   ]
  },
  {
   "cell_type": "code",
   "execution_count": 37,
   "metadata": {},
   "outputs": [],
   "source": [
    "# output_start = \"Exp_074_roberta_large_stage_3_pie+blogs_clean_wl_epoch_1\"\n",
    "# k = 0\n",
    "\n",
    "# for ac in additional_confidences:\n",
    "#     for mep in min_error_probabilities: \n",
    "#         print('echo -e \"Metric roberta k='+str(k)+' ac='+str(ac)+' mep='+str(mep)+'\"')\n",
    "#         text = \"errant_compare -hyp evaluation/\"+output_start+\"_ac_\"+str(ac)+\"_mep_\"+str(mep)+\".m2 -ref data_m2/wi+locness/ABCN.dev.gold.bea19.m2\"+\"\\n\\n\"\n",
    "#         print(text)\n",
    "#         k+=1"
   ]
  },
  {
   "cell_type": "code",
   "execution_count": 38,
   "metadata": {},
   "outputs": [
    {
     "name": "stdout",
     "output_type": "stream",
     "text": [
      "echo -e \"Metric roberta k=0 ac=0.1 mep=0.35\"\n",
      "errant_compare -hyp evaluation/Exp_074_roberta_large_stage_3_pie+blogs_clean_wl_epoch_3_ac_0.1_mep_0.35.m2 -ref data_m2/wi+locness/ABCN.dev.gold.bea19.m2\n",
      "\n",
      "\n",
      "echo -e \"Metric roberta k=1 ac=0.1 mep=0.4\"\n",
      "errant_compare -hyp evaluation/Exp_074_roberta_large_stage_3_pie+blogs_clean_wl_epoch_3_ac_0.1_mep_0.4.m2 -ref data_m2/wi+locness/ABCN.dev.gold.bea19.m2\n",
      "\n",
      "\n",
      "echo -e \"Metric roberta k=2 ac=0.1 mep=0.45\"\n",
      "errant_compare -hyp evaluation/Exp_074_roberta_large_stage_3_pie+blogs_clean_wl_epoch_3_ac_0.1_mep_0.45.m2 -ref data_m2/wi+locness/ABCN.dev.gold.bea19.m2\n",
      "\n",
      "\n",
      "echo -e \"Metric roberta k=3 ac=0.1 mep=0.5\"\n",
      "errant_compare -hyp evaluation/Exp_074_roberta_large_stage_3_pie+blogs_clean_wl_epoch_3_ac_0.1_mep_0.5.m2 -ref data_m2/wi+locness/ABCN.dev.gold.bea19.m2\n",
      "\n",
      "\n",
      "echo -e \"Metric roberta k=4 ac=0.1 mep=0.55\"\n",
      "errant_compare -hyp evaluation/Exp_074_roberta_large_stage_3_pie+blogs_clean_wl_epoch_3_ac_0.1_mep_0.55.m2 -ref data_m2/wi+locness/ABCN.dev.gold.bea19.m2\n",
      "\n",
      "\n",
      "echo -e \"Metric roberta k=5 ac=0.1 mep=0.6\"\n",
      "errant_compare -hyp evaluation/Exp_074_roberta_large_stage_3_pie+blogs_clean_wl_epoch_3_ac_0.1_mep_0.6.m2 -ref data_m2/wi+locness/ABCN.dev.gold.bea19.m2\n",
      "\n",
      "\n",
      "echo -e \"Metric roberta k=6 ac=0.1 mep=0.65\"\n",
      "errant_compare -hyp evaluation/Exp_074_roberta_large_stage_3_pie+blogs_clean_wl_epoch_3_ac_0.1_mep_0.65.m2 -ref data_m2/wi+locness/ABCN.dev.gold.bea19.m2\n",
      "\n",
      "\n",
      "echo -e \"Metric roberta k=7 ac=0.15 mep=0.35\"\n",
      "errant_compare -hyp evaluation/Exp_074_roberta_large_stage_3_pie+blogs_clean_wl_epoch_3_ac_0.15_mep_0.35.m2 -ref data_m2/wi+locness/ABCN.dev.gold.bea19.m2\n",
      "\n",
      "\n",
      "echo -e \"Metric roberta k=8 ac=0.15 mep=0.4\"\n",
      "errant_compare -hyp evaluation/Exp_074_roberta_large_stage_3_pie+blogs_clean_wl_epoch_3_ac_0.15_mep_0.4.m2 -ref data_m2/wi+locness/ABCN.dev.gold.bea19.m2\n",
      "\n",
      "\n",
      "echo -e \"Metric roberta k=9 ac=0.15 mep=0.45\"\n",
      "errant_compare -hyp evaluation/Exp_074_roberta_large_stage_3_pie+blogs_clean_wl_epoch_3_ac_0.15_mep_0.45.m2 -ref data_m2/wi+locness/ABCN.dev.gold.bea19.m2\n",
      "\n",
      "\n",
      "echo -e \"Metric roberta k=10 ac=0.15 mep=0.5\"\n",
      "errant_compare -hyp evaluation/Exp_074_roberta_large_stage_3_pie+blogs_clean_wl_epoch_3_ac_0.15_mep_0.5.m2 -ref data_m2/wi+locness/ABCN.dev.gold.bea19.m2\n",
      "\n",
      "\n",
      "echo -e \"Metric roberta k=11 ac=0.15 mep=0.55\"\n",
      "errant_compare -hyp evaluation/Exp_074_roberta_large_stage_3_pie+blogs_clean_wl_epoch_3_ac_0.15_mep_0.55.m2 -ref data_m2/wi+locness/ABCN.dev.gold.bea19.m2\n",
      "\n",
      "\n",
      "echo -e \"Metric roberta k=12 ac=0.15 mep=0.6\"\n",
      "errant_compare -hyp evaluation/Exp_074_roberta_large_stage_3_pie+blogs_clean_wl_epoch_3_ac_0.15_mep_0.6.m2 -ref data_m2/wi+locness/ABCN.dev.gold.bea19.m2\n",
      "\n",
      "\n",
      "echo -e \"Metric roberta k=13 ac=0.15 mep=0.65\"\n",
      "errant_compare -hyp evaluation/Exp_074_roberta_large_stage_3_pie+blogs_clean_wl_epoch_3_ac_0.15_mep_0.65.m2 -ref data_m2/wi+locness/ABCN.dev.gold.bea19.m2\n",
      "\n",
      "\n",
      "echo -e \"Metric roberta k=14 ac=0.2 mep=0.35\"\n",
      "errant_compare -hyp evaluation/Exp_074_roberta_large_stage_3_pie+blogs_clean_wl_epoch_3_ac_0.2_mep_0.35.m2 -ref data_m2/wi+locness/ABCN.dev.gold.bea19.m2\n",
      "\n",
      "\n",
      "echo -e \"Metric roberta k=15 ac=0.2 mep=0.4\"\n",
      "errant_compare -hyp evaluation/Exp_074_roberta_large_stage_3_pie+blogs_clean_wl_epoch_3_ac_0.2_mep_0.4.m2 -ref data_m2/wi+locness/ABCN.dev.gold.bea19.m2\n",
      "\n",
      "\n",
      "echo -e \"Metric roberta k=16 ac=0.2 mep=0.45\"\n",
      "errant_compare -hyp evaluation/Exp_074_roberta_large_stage_3_pie+blogs_clean_wl_epoch_3_ac_0.2_mep_0.45.m2 -ref data_m2/wi+locness/ABCN.dev.gold.bea19.m2\n",
      "\n",
      "\n",
      "echo -e \"Metric roberta k=17 ac=0.2 mep=0.5\"\n",
      "errant_compare -hyp evaluation/Exp_074_roberta_large_stage_3_pie+blogs_clean_wl_epoch_3_ac_0.2_mep_0.5.m2 -ref data_m2/wi+locness/ABCN.dev.gold.bea19.m2\n",
      "\n",
      "\n",
      "echo -e \"Metric roberta k=18 ac=0.2 mep=0.55\"\n",
      "errant_compare -hyp evaluation/Exp_074_roberta_large_stage_3_pie+blogs_clean_wl_epoch_3_ac_0.2_mep_0.55.m2 -ref data_m2/wi+locness/ABCN.dev.gold.bea19.m2\n",
      "\n",
      "\n",
      "echo -e \"Metric roberta k=19 ac=0.2 mep=0.6\"\n",
      "errant_compare -hyp evaluation/Exp_074_roberta_large_stage_3_pie+blogs_clean_wl_epoch_3_ac_0.2_mep_0.6.m2 -ref data_m2/wi+locness/ABCN.dev.gold.bea19.m2\n",
      "\n",
      "\n",
      "echo -e \"Metric roberta k=20 ac=0.2 mep=0.65\"\n",
      "errant_compare -hyp evaluation/Exp_074_roberta_large_stage_3_pie+blogs_clean_wl_epoch_3_ac_0.2_mep_0.65.m2 -ref data_m2/wi+locness/ABCN.dev.gold.bea19.m2\n",
      "\n",
      "\n",
      "echo -e \"Metric roberta k=21 ac=0.25 mep=0.35\"\n",
      "errant_compare -hyp evaluation/Exp_074_roberta_large_stage_3_pie+blogs_clean_wl_epoch_3_ac_0.25_mep_0.35.m2 -ref data_m2/wi+locness/ABCN.dev.gold.bea19.m2\n",
      "\n",
      "\n",
      "echo -e \"Metric roberta k=22 ac=0.25 mep=0.4\"\n",
      "errant_compare -hyp evaluation/Exp_074_roberta_large_stage_3_pie+blogs_clean_wl_epoch_3_ac_0.25_mep_0.4.m2 -ref data_m2/wi+locness/ABCN.dev.gold.bea19.m2\n",
      "\n",
      "\n",
      "echo -e \"Metric roberta k=23 ac=0.25 mep=0.45\"\n",
      "errant_compare -hyp evaluation/Exp_074_roberta_large_stage_3_pie+blogs_clean_wl_epoch_3_ac_0.25_mep_0.45.m2 -ref data_m2/wi+locness/ABCN.dev.gold.bea19.m2\n",
      "\n",
      "\n",
      "echo -e \"Metric roberta k=24 ac=0.25 mep=0.5\"\n",
      "errant_compare -hyp evaluation/Exp_074_roberta_large_stage_3_pie+blogs_clean_wl_epoch_3_ac_0.25_mep_0.5.m2 -ref data_m2/wi+locness/ABCN.dev.gold.bea19.m2\n",
      "\n",
      "\n",
      "echo -e \"Metric roberta k=25 ac=0.25 mep=0.55\"\n",
      "errant_compare -hyp evaluation/Exp_074_roberta_large_stage_3_pie+blogs_clean_wl_epoch_3_ac_0.25_mep_0.55.m2 -ref data_m2/wi+locness/ABCN.dev.gold.bea19.m2\n",
      "\n",
      "\n",
      "echo -e \"Metric roberta k=26 ac=0.25 mep=0.6\"\n",
      "errant_compare -hyp evaluation/Exp_074_roberta_large_stage_3_pie+blogs_clean_wl_epoch_3_ac_0.25_mep_0.6.m2 -ref data_m2/wi+locness/ABCN.dev.gold.bea19.m2\n",
      "\n",
      "\n",
      "echo -e \"Metric roberta k=27 ac=0.25 mep=0.65\"\n",
      "errant_compare -hyp evaluation/Exp_074_roberta_large_stage_3_pie+blogs_clean_wl_epoch_3_ac_0.25_mep_0.65.m2 -ref data_m2/wi+locness/ABCN.dev.gold.bea19.m2\n",
      "\n",
      "\n",
      "echo -e \"Metric roberta k=28 ac=0.3 mep=0.35\"\n",
      "errant_compare -hyp evaluation/Exp_074_roberta_large_stage_3_pie+blogs_clean_wl_epoch_3_ac_0.3_mep_0.35.m2 -ref data_m2/wi+locness/ABCN.dev.gold.bea19.m2\n",
      "\n",
      "\n",
      "echo -e \"Metric roberta k=29 ac=0.3 mep=0.4\"\n",
      "errant_compare -hyp evaluation/Exp_074_roberta_large_stage_3_pie+blogs_clean_wl_epoch_3_ac_0.3_mep_0.4.m2 -ref data_m2/wi+locness/ABCN.dev.gold.bea19.m2\n",
      "\n",
      "\n",
      "echo -e \"Metric roberta k=30 ac=0.3 mep=0.45\"\n",
      "errant_compare -hyp evaluation/Exp_074_roberta_large_stage_3_pie+blogs_clean_wl_epoch_3_ac_0.3_mep_0.45.m2 -ref data_m2/wi+locness/ABCN.dev.gold.bea19.m2\n",
      "\n",
      "\n",
      "echo -e \"Metric roberta k=31 ac=0.3 mep=0.5\"\n",
      "errant_compare -hyp evaluation/Exp_074_roberta_large_stage_3_pie+blogs_clean_wl_epoch_3_ac_0.3_mep_0.5.m2 -ref data_m2/wi+locness/ABCN.dev.gold.bea19.m2\n",
      "\n",
      "\n",
      "echo -e \"Metric roberta k=32 ac=0.3 mep=0.55\"\n",
      "errant_compare -hyp evaluation/Exp_074_roberta_large_stage_3_pie+blogs_clean_wl_epoch_3_ac_0.3_mep_0.55.m2 -ref data_m2/wi+locness/ABCN.dev.gold.bea19.m2\n",
      "\n",
      "\n",
      "echo -e \"Metric roberta k=33 ac=0.3 mep=0.6\"\n",
      "errant_compare -hyp evaluation/Exp_074_roberta_large_stage_3_pie+blogs_clean_wl_epoch_3_ac_0.3_mep_0.6.m2 -ref data_m2/wi+locness/ABCN.dev.gold.bea19.m2\n",
      "\n",
      "\n",
      "echo -e \"Metric roberta k=34 ac=0.3 mep=0.65\"\n",
      "errant_compare -hyp evaluation/Exp_074_roberta_large_stage_3_pie+blogs_clean_wl_epoch_3_ac_0.3_mep_0.65.m2 -ref data_m2/wi+locness/ABCN.dev.gold.bea19.m2\n",
      "\n",
      "\n",
      "echo -e \"Metric roberta k=35 ac=0.35 mep=0.35\"\n",
      "errant_compare -hyp evaluation/Exp_074_roberta_large_stage_3_pie+blogs_clean_wl_epoch_3_ac_0.35_mep_0.35.m2 -ref data_m2/wi+locness/ABCN.dev.gold.bea19.m2\n",
      "\n",
      "\n",
      "echo -e \"Metric roberta k=36 ac=0.35 mep=0.4\"\n",
      "errant_compare -hyp evaluation/Exp_074_roberta_large_stage_3_pie+blogs_clean_wl_epoch_3_ac_0.35_mep_0.4.m2 -ref data_m2/wi+locness/ABCN.dev.gold.bea19.m2\n",
      "\n",
      "\n",
      "echo -e \"Metric roberta k=37 ac=0.35 mep=0.45\"\n",
      "errant_compare -hyp evaluation/Exp_074_roberta_large_stage_3_pie+blogs_clean_wl_epoch_3_ac_0.35_mep_0.45.m2 -ref data_m2/wi+locness/ABCN.dev.gold.bea19.m2\n",
      "\n",
      "\n",
      "echo -e \"Metric roberta k=38 ac=0.35 mep=0.5\"\n",
      "errant_compare -hyp evaluation/Exp_074_roberta_large_stage_3_pie+blogs_clean_wl_epoch_3_ac_0.35_mep_0.5.m2 -ref data_m2/wi+locness/ABCN.dev.gold.bea19.m2\n",
      "\n",
      "\n",
      "echo -e \"Metric roberta k=39 ac=0.35 mep=0.55\"\n",
      "errant_compare -hyp evaluation/Exp_074_roberta_large_stage_3_pie+blogs_clean_wl_epoch_3_ac_0.35_mep_0.55.m2 -ref data_m2/wi+locness/ABCN.dev.gold.bea19.m2\n",
      "\n",
      "\n",
      "echo -e \"Metric roberta k=40 ac=0.35 mep=0.6\"\n",
      "errant_compare -hyp evaluation/Exp_074_roberta_large_stage_3_pie+blogs_clean_wl_epoch_3_ac_0.35_mep_0.6.m2 -ref data_m2/wi+locness/ABCN.dev.gold.bea19.m2\n",
      "\n",
      "\n",
      "echo -e \"Metric roberta k=41 ac=0.35 mep=0.65\"\n",
      "errant_compare -hyp evaluation/Exp_074_roberta_large_stage_3_pie+blogs_clean_wl_epoch_3_ac_0.35_mep_0.65.m2 -ref data_m2/wi+locness/ABCN.dev.gold.bea19.m2\n",
      "\n",
      "\n",
      "echo -e \"Metric roberta k=42 ac=0.4 mep=0.35\"\n",
      "errant_compare -hyp evaluation/Exp_074_roberta_large_stage_3_pie+blogs_clean_wl_epoch_3_ac_0.4_mep_0.35.m2 -ref data_m2/wi+locness/ABCN.dev.gold.bea19.m2\n",
      "\n",
      "\n",
      "echo -e \"Metric roberta k=43 ac=0.4 mep=0.4\"\n",
      "errant_compare -hyp evaluation/Exp_074_roberta_large_stage_3_pie+blogs_clean_wl_epoch_3_ac_0.4_mep_0.4.m2 -ref data_m2/wi+locness/ABCN.dev.gold.bea19.m2\n",
      "\n",
      "\n",
      "echo -e \"Metric roberta k=44 ac=0.4 mep=0.45\"\n",
      "errant_compare -hyp evaluation/Exp_074_roberta_large_stage_3_pie+blogs_clean_wl_epoch_3_ac_0.4_mep_0.45.m2 -ref data_m2/wi+locness/ABCN.dev.gold.bea19.m2\n",
      "\n",
      "\n",
      "echo -e \"Metric roberta k=45 ac=0.4 mep=0.5\"\n",
      "errant_compare -hyp evaluation/Exp_074_roberta_large_stage_3_pie+blogs_clean_wl_epoch_3_ac_0.4_mep_0.5.m2 -ref data_m2/wi+locness/ABCN.dev.gold.bea19.m2\n",
      "\n",
      "\n",
      "echo -e \"Metric roberta k=46 ac=0.4 mep=0.55\"\n",
      "errant_compare -hyp evaluation/Exp_074_roberta_large_stage_3_pie+blogs_clean_wl_epoch_3_ac_0.4_mep_0.55.m2 -ref data_m2/wi+locness/ABCN.dev.gold.bea19.m2\n",
      "\n",
      "\n",
      "echo -e \"Metric roberta k=47 ac=0.4 mep=0.6\"\n",
      "errant_compare -hyp evaluation/Exp_074_roberta_large_stage_3_pie+blogs_clean_wl_epoch_3_ac_0.4_mep_0.6.m2 -ref data_m2/wi+locness/ABCN.dev.gold.bea19.m2\n",
      "\n",
      "\n",
      "echo -e \"Metric roberta k=48 ac=0.4 mep=0.65\"\n",
      "errant_compare -hyp evaluation/Exp_074_roberta_large_stage_3_pie+blogs_clean_wl_epoch_3_ac_0.4_mep_0.65.m2 -ref data_m2/wi+locness/ABCN.dev.gold.bea19.m2\n",
      "\n",
      "\n"
     ]
    }
   ],
   "source": [
    "output_start = \"Exp_074_roberta_large_stage_3_pie+blogs_clean_wl_epoch_3\"\n",
    "k = 0\n",
    "\n",
    "for ac in additional_confidences:\n",
    "    for mep in min_error_probabilities: \n",
    "        print('echo -e \"Metric roberta k='+str(k)+' ac='+str(ac)+' mep='+str(mep)+'\"')\n",
    "        text = \"errant_compare -hyp evaluation/\"+output_start+\"_ac_\"+str(ac)+\"_mep_\"+str(mep)+\".m2 -ref data_m2/wi+locness/ABCN.dev.gold.bea19.m2\"+\"\\n\\n\"\n",
    "        print(text)\n",
    "        k+=1"
   ]
  },
  {
   "cell_type": "code",
   "execution_count": null,
   "metadata": {},
   "outputs": [],
   "source": []
  },
  {
   "cell_type": "code",
   "execution_count": 10,
   "metadata": {},
   "outputs": [],
   "source": [
    "# model_path = \"models/Exp_040_roberta_large_10k_st3/model_state_epoch_1.th\"\n",
    "# cuda_index = 0\n",
    "# output_start = \"Exp_040_roberta_large_10k_epoch_1\"\n",
    "# model_name = 'roberta-large'\n",
    "# vocabulary = 'models/Exp_012_roberta_large/vocabulary'\n",
    "# k = 0\n",
    "# for ac in additional_confidences:\n",
    "#     for mep in min_error_probabilities: \n",
    "#         print('echo -e \"Predict k='+str(k)+' ac='+str(ac)+' mep='+str(mep)+'\"')\n",
    "#         text = \"python predict.py --model_path \"+model_path+\" --vocab_path \"+vocabulary+\" --input_file data_parallel/wi+locness/dev_src --output_file predicts/\"+output_start+\"_ac_\"+str(ac)+\"_mep_\"+str(mep)+\".txt --additional_confidence \"+str(ac)+\" --min_error_probability \"+str(mep)+\" --transformer_model \"+model_name+\" --special_tokens_fix 1  --cuda_device_index \"+str(cuda_index)+\"\\n\"\n",
    "#         print(text)\n",
    "#         k+=1"
   ]
  },
  {
   "cell_type": "code",
   "execution_count": 15,
   "metadata": {},
   "outputs": [],
   "source": [
    "# output_start = \"Exp_040_roberta_large_10k_epoch_1\"\n",
    "# k = 0\n",
    "# for ac in additional_confidences:\n",
    "#     for mep in min_error_probabilities: \n",
    "#         print('echo -e \"Metric roberta k='+str(k)+' ac='+str(ac)+' mep='+str(mep)+'\"')\n",
    "#         text = \"nohup errant_parallel -orig data_parallel/wi+locness/dev_src -cor predicts/\"+output_start+\"_ac_\"+str(ac)+\"_mep_\"+str(mep)+\".txt -out evaluation/\"+output_start+\"_ac_\"+str(ac)+\"_mep_\"+str(mep)+\".m2  &> nohups/metrics.out &\"+\"\\n\\n\"\n",
    "#         print(text)\n",
    "#         k+=1"
   ]
  },
  {
   "cell_type": "markdown",
   "metadata": {},
   "source": [
    "### Maks - there!"
   ]
  },
  {
   "cell_type": "code",
   "execution_count": 16,
   "metadata": {},
   "outputs": [],
   "source": [
    "# output_start = \"Exp_040_roberta_large_10k_epoch_1\"\n",
    "# k = 0\n",
    "\n",
    "# for ac in additional_confidences:\n",
    "#     for mep in min_error_probabilities: \n",
    "#         print('echo -e \"Metric roberta k='+str(k)+' ac='+str(ac)+' mep='+str(mep)+'\"')\n",
    "#         text = \"errant_compare -hyp evaluation/\"+output_start+\"_ac_\"+str(ac)+\"_mep_\"+str(mep)+\".m2 -ref data_m2/wi+locness/ABCN.dev.gold.bea19.m2\"+\"\\n\\n\"\n",
    "#         print(text)\n",
    "#         k+=1"
   ]
  },
  {
   "cell_type": "code",
   "execution_count": null,
   "metadata": {},
   "outputs": [],
   "source": []
  },
  {
   "cell_type": "code",
   "execution_count": 12,
   "metadata": {},
   "outputs": [],
   "source": [
    "# model_path = \"models/Exp_063_roberta_large_stage_3_gold_clust_5k/model_state_epoch_3.th\"\n",
    "# cuda_index = 1\n",
    "# output_start = \"Exp_063_roberta_large_epoch_3_cluster_5k\"\n",
    "# model_name = 'roberta-large'\n",
    "# k = 0\n",
    "# for ac in additional_confidences:\n",
    "#     for mep in min_error_probabilities: \n",
    "#         print('echo -e \"Predict k='+str(k)+' ac='+str(ac)+' mep='+str(mep)+'\"')\n",
    "#         text = \"python predict.py --model_path \"+model_path+\" --vocab_path data/output_vocabulary --input_file data_parallel/wi+locness/dev_src --output_file predicts/\"+output_start+\"_ac_\"+str(ac)+\"_mep_\"+str(mep)+\".txt --additional_confidence \"+str(ac)+\" --min_error_probability \"+str(mep)+\" --transformer_model \"+model_name+\" --special_tokens_fix 1  --cuda_device_index \"+str(cuda_index)+\"\\n\"\n",
    "#         print(text)\n",
    "#         k+=1"
   ]
  },
  {
   "cell_type": "code",
   "execution_count": 17,
   "metadata": {},
   "outputs": [],
   "source": [
    "# output_start = \"Exp_063_roberta_large_epoch_3_cluster_5k\"\n",
    "# k = 0\n",
    "# for ac in additional_confidences:\n",
    "#     for mep in min_error_probabilities: \n",
    "#         print('echo -e \"Metric roberta k='+str(k)+' ac='+str(ac)+' mep='+str(mep)+'\"')\n",
    "#         text = \"nohup errant_parallel -orig data_parallel/wi+locness/dev_src -cor predicts/\"+output_start+\"_ac_\"+str(ac)+\"_mep_\"+str(mep)+\".txt -out evaluation/\"+output_start+\"_ac_\"+str(ac)+\"_mep_\"+str(mep)+\".m2  &> nohups/metrics.out &\"+\"\\n\\n\"\n",
    "#         print(text)\n",
    "#         k+=1"
   ]
  },
  {
   "cell_type": "code",
   "execution_count": 18,
   "metadata": {},
   "outputs": [
    {
     "name": "stdout",
     "output_type": "stream",
     "text": [
      "echo -e \"Metric roberta k=0 ac=0.1 mep=0.3\"\n",
      "errant_compare -hyp evaluation/Exp_063_roberta_large_epoch_3_cluster_5k_ac_0.1_mep_0.3.m2 -ref data_m2/wi+locness/ABCN.dev.gold.bea19.m2\n",
      "\n",
      "\n",
      "echo -e \"Metric roberta k=1 ac=0.1 mep=0.35\"\n",
      "errant_compare -hyp evaluation/Exp_063_roberta_large_epoch_3_cluster_5k_ac_0.1_mep_0.35.m2 -ref data_m2/wi+locness/ABCN.dev.gold.bea19.m2\n",
      "\n",
      "\n",
      "echo -e \"Metric roberta k=2 ac=0.1 mep=0.4\"\n",
      "errant_compare -hyp evaluation/Exp_063_roberta_large_epoch_3_cluster_5k_ac_0.1_mep_0.4.m2 -ref data_m2/wi+locness/ABCN.dev.gold.bea19.m2\n",
      "\n",
      "\n",
      "echo -e \"Metric roberta k=3 ac=0.1 mep=0.45\"\n",
      "errant_compare -hyp evaluation/Exp_063_roberta_large_epoch_3_cluster_5k_ac_0.1_mep_0.45.m2 -ref data_m2/wi+locness/ABCN.dev.gold.bea19.m2\n",
      "\n",
      "\n",
      "echo -e \"Metric roberta k=4 ac=0.1 mep=0.5\"\n",
      "errant_compare -hyp evaluation/Exp_063_roberta_large_epoch_3_cluster_5k_ac_0.1_mep_0.5.m2 -ref data_m2/wi+locness/ABCN.dev.gold.bea19.m2\n",
      "\n",
      "\n",
      "echo -e \"Metric roberta k=5 ac=0.1 mep=0.55\"\n",
      "errant_compare -hyp evaluation/Exp_063_roberta_large_epoch_3_cluster_5k_ac_0.1_mep_0.55.m2 -ref data_m2/wi+locness/ABCN.dev.gold.bea19.m2\n",
      "\n",
      "\n",
      "echo -e \"Metric roberta k=6 ac=0.1 mep=0.6\"\n",
      "errant_compare -hyp evaluation/Exp_063_roberta_large_epoch_3_cluster_5k_ac_0.1_mep_0.6.m2 -ref data_m2/wi+locness/ABCN.dev.gold.bea19.m2\n",
      "\n",
      "\n",
      "echo -e \"Metric roberta k=7 ac=0.1 mep=0.65\"\n",
      "errant_compare -hyp evaluation/Exp_063_roberta_large_epoch_3_cluster_5k_ac_0.1_mep_0.65.m2 -ref data_m2/wi+locness/ABCN.dev.gold.bea19.m2\n",
      "\n",
      "\n",
      "echo -e \"Metric roberta k=8 ac=0.1 mep=0.7\"\n",
      "errant_compare -hyp evaluation/Exp_063_roberta_large_epoch_3_cluster_5k_ac_0.1_mep_0.7.m2 -ref data_m2/wi+locness/ABCN.dev.gold.bea19.m2\n",
      "\n",
      "\n",
      "echo -e \"Metric roberta k=9 ac=0.1 mep=0.75\"\n",
      "errant_compare -hyp evaluation/Exp_063_roberta_large_epoch_3_cluster_5k_ac_0.1_mep_0.75.m2 -ref data_m2/wi+locness/ABCN.dev.gold.bea19.m2\n",
      "\n",
      "\n",
      "echo -e \"Metric roberta k=10 ac=0.15 mep=0.3\"\n",
      "errant_compare -hyp evaluation/Exp_063_roberta_large_epoch_3_cluster_5k_ac_0.15_mep_0.3.m2 -ref data_m2/wi+locness/ABCN.dev.gold.bea19.m2\n",
      "\n",
      "\n",
      "echo -e \"Metric roberta k=11 ac=0.15 mep=0.35\"\n",
      "errant_compare -hyp evaluation/Exp_063_roberta_large_epoch_3_cluster_5k_ac_0.15_mep_0.35.m2 -ref data_m2/wi+locness/ABCN.dev.gold.bea19.m2\n",
      "\n",
      "\n",
      "echo -e \"Metric roberta k=12 ac=0.15 mep=0.4\"\n",
      "errant_compare -hyp evaluation/Exp_063_roberta_large_epoch_3_cluster_5k_ac_0.15_mep_0.4.m2 -ref data_m2/wi+locness/ABCN.dev.gold.bea19.m2\n",
      "\n",
      "\n",
      "echo -e \"Metric roberta k=13 ac=0.15 mep=0.45\"\n",
      "errant_compare -hyp evaluation/Exp_063_roberta_large_epoch_3_cluster_5k_ac_0.15_mep_0.45.m2 -ref data_m2/wi+locness/ABCN.dev.gold.bea19.m2\n",
      "\n",
      "\n",
      "echo -e \"Metric roberta k=14 ac=0.15 mep=0.5\"\n",
      "errant_compare -hyp evaluation/Exp_063_roberta_large_epoch_3_cluster_5k_ac_0.15_mep_0.5.m2 -ref data_m2/wi+locness/ABCN.dev.gold.bea19.m2\n",
      "\n",
      "\n",
      "echo -e \"Metric roberta k=15 ac=0.15 mep=0.55\"\n",
      "errant_compare -hyp evaluation/Exp_063_roberta_large_epoch_3_cluster_5k_ac_0.15_mep_0.55.m2 -ref data_m2/wi+locness/ABCN.dev.gold.bea19.m2\n",
      "\n",
      "\n",
      "echo -e \"Metric roberta k=16 ac=0.15 mep=0.6\"\n",
      "errant_compare -hyp evaluation/Exp_063_roberta_large_epoch_3_cluster_5k_ac_0.15_mep_0.6.m2 -ref data_m2/wi+locness/ABCN.dev.gold.bea19.m2\n",
      "\n",
      "\n",
      "echo -e \"Metric roberta k=17 ac=0.15 mep=0.65\"\n",
      "errant_compare -hyp evaluation/Exp_063_roberta_large_epoch_3_cluster_5k_ac_0.15_mep_0.65.m2 -ref data_m2/wi+locness/ABCN.dev.gold.bea19.m2\n",
      "\n",
      "\n",
      "echo -e \"Metric roberta k=18 ac=0.15 mep=0.7\"\n",
      "errant_compare -hyp evaluation/Exp_063_roberta_large_epoch_3_cluster_5k_ac_0.15_mep_0.7.m2 -ref data_m2/wi+locness/ABCN.dev.gold.bea19.m2\n",
      "\n",
      "\n",
      "echo -e \"Metric roberta k=19 ac=0.15 mep=0.75\"\n",
      "errant_compare -hyp evaluation/Exp_063_roberta_large_epoch_3_cluster_5k_ac_0.15_mep_0.75.m2 -ref data_m2/wi+locness/ABCN.dev.gold.bea19.m2\n",
      "\n",
      "\n",
      "echo -e \"Metric roberta k=20 ac=0.2 mep=0.3\"\n",
      "errant_compare -hyp evaluation/Exp_063_roberta_large_epoch_3_cluster_5k_ac_0.2_mep_0.3.m2 -ref data_m2/wi+locness/ABCN.dev.gold.bea19.m2\n",
      "\n",
      "\n",
      "echo -e \"Metric roberta k=21 ac=0.2 mep=0.35\"\n",
      "errant_compare -hyp evaluation/Exp_063_roberta_large_epoch_3_cluster_5k_ac_0.2_mep_0.35.m2 -ref data_m2/wi+locness/ABCN.dev.gold.bea19.m2\n",
      "\n",
      "\n",
      "echo -e \"Metric roberta k=22 ac=0.2 mep=0.4\"\n",
      "errant_compare -hyp evaluation/Exp_063_roberta_large_epoch_3_cluster_5k_ac_0.2_mep_0.4.m2 -ref data_m2/wi+locness/ABCN.dev.gold.bea19.m2\n",
      "\n",
      "\n",
      "echo -e \"Metric roberta k=23 ac=0.2 mep=0.45\"\n",
      "errant_compare -hyp evaluation/Exp_063_roberta_large_epoch_3_cluster_5k_ac_0.2_mep_0.45.m2 -ref data_m2/wi+locness/ABCN.dev.gold.bea19.m2\n",
      "\n",
      "\n",
      "echo -e \"Metric roberta k=24 ac=0.2 mep=0.5\"\n",
      "errant_compare -hyp evaluation/Exp_063_roberta_large_epoch_3_cluster_5k_ac_0.2_mep_0.5.m2 -ref data_m2/wi+locness/ABCN.dev.gold.bea19.m2\n",
      "\n",
      "\n",
      "echo -e \"Metric roberta k=25 ac=0.2 mep=0.55\"\n",
      "errant_compare -hyp evaluation/Exp_063_roberta_large_epoch_3_cluster_5k_ac_0.2_mep_0.55.m2 -ref data_m2/wi+locness/ABCN.dev.gold.bea19.m2\n",
      "\n",
      "\n",
      "echo -e \"Metric roberta k=26 ac=0.2 mep=0.6\"\n",
      "errant_compare -hyp evaluation/Exp_063_roberta_large_epoch_3_cluster_5k_ac_0.2_mep_0.6.m2 -ref data_m2/wi+locness/ABCN.dev.gold.bea19.m2\n",
      "\n",
      "\n",
      "echo -e \"Metric roberta k=27 ac=0.2 mep=0.65\"\n",
      "errant_compare -hyp evaluation/Exp_063_roberta_large_epoch_3_cluster_5k_ac_0.2_mep_0.65.m2 -ref data_m2/wi+locness/ABCN.dev.gold.bea19.m2\n",
      "\n",
      "\n",
      "echo -e \"Metric roberta k=28 ac=0.2 mep=0.7\"\n",
      "errant_compare -hyp evaluation/Exp_063_roberta_large_epoch_3_cluster_5k_ac_0.2_mep_0.7.m2 -ref data_m2/wi+locness/ABCN.dev.gold.bea19.m2\n",
      "\n",
      "\n",
      "echo -e \"Metric roberta k=29 ac=0.2 mep=0.75\"\n",
      "errant_compare -hyp evaluation/Exp_063_roberta_large_epoch_3_cluster_5k_ac_0.2_mep_0.75.m2 -ref data_m2/wi+locness/ABCN.dev.gold.bea19.m2\n",
      "\n",
      "\n",
      "echo -e \"Metric roberta k=30 ac=0.25 mep=0.3\"\n",
      "errant_compare -hyp evaluation/Exp_063_roberta_large_epoch_3_cluster_5k_ac_0.25_mep_0.3.m2 -ref data_m2/wi+locness/ABCN.dev.gold.bea19.m2\n",
      "\n",
      "\n",
      "echo -e \"Metric roberta k=31 ac=0.25 mep=0.35\"\n",
      "errant_compare -hyp evaluation/Exp_063_roberta_large_epoch_3_cluster_5k_ac_0.25_mep_0.35.m2 -ref data_m2/wi+locness/ABCN.dev.gold.bea19.m2\n",
      "\n",
      "\n",
      "echo -e \"Metric roberta k=32 ac=0.25 mep=0.4\"\n",
      "errant_compare -hyp evaluation/Exp_063_roberta_large_epoch_3_cluster_5k_ac_0.25_mep_0.4.m2 -ref data_m2/wi+locness/ABCN.dev.gold.bea19.m2\n",
      "\n",
      "\n",
      "echo -e \"Metric roberta k=33 ac=0.25 mep=0.45\"\n",
      "errant_compare -hyp evaluation/Exp_063_roberta_large_epoch_3_cluster_5k_ac_0.25_mep_0.45.m2 -ref data_m2/wi+locness/ABCN.dev.gold.bea19.m2\n",
      "\n",
      "\n",
      "echo -e \"Metric roberta k=34 ac=0.25 mep=0.5\"\n",
      "errant_compare -hyp evaluation/Exp_063_roberta_large_epoch_3_cluster_5k_ac_0.25_mep_0.5.m2 -ref data_m2/wi+locness/ABCN.dev.gold.bea19.m2\n",
      "\n",
      "\n",
      "echo -e \"Metric roberta k=35 ac=0.25 mep=0.55\"\n",
      "errant_compare -hyp evaluation/Exp_063_roberta_large_epoch_3_cluster_5k_ac_0.25_mep_0.55.m2 -ref data_m2/wi+locness/ABCN.dev.gold.bea19.m2\n",
      "\n",
      "\n",
      "echo -e \"Metric roberta k=36 ac=0.25 mep=0.6\"\n",
      "errant_compare -hyp evaluation/Exp_063_roberta_large_epoch_3_cluster_5k_ac_0.25_mep_0.6.m2 -ref data_m2/wi+locness/ABCN.dev.gold.bea19.m2\n",
      "\n",
      "\n",
      "echo -e \"Metric roberta k=37 ac=0.25 mep=0.65\"\n",
      "errant_compare -hyp evaluation/Exp_063_roberta_large_epoch_3_cluster_5k_ac_0.25_mep_0.65.m2 -ref data_m2/wi+locness/ABCN.dev.gold.bea19.m2\n",
      "\n",
      "\n",
      "echo -e \"Metric roberta k=38 ac=0.25 mep=0.7\"\n",
      "errant_compare -hyp evaluation/Exp_063_roberta_large_epoch_3_cluster_5k_ac_0.25_mep_0.7.m2 -ref data_m2/wi+locness/ABCN.dev.gold.bea19.m2\n",
      "\n",
      "\n",
      "echo -e \"Metric roberta k=39 ac=0.25 mep=0.75\"\n",
      "errant_compare -hyp evaluation/Exp_063_roberta_large_epoch_3_cluster_5k_ac_0.25_mep_0.75.m2 -ref data_m2/wi+locness/ABCN.dev.gold.bea19.m2\n",
      "\n",
      "\n",
      "echo -e \"Metric roberta k=40 ac=0.3 mep=0.3\"\n",
      "errant_compare -hyp evaluation/Exp_063_roberta_large_epoch_3_cluster_5k_ac_0.3_mep_0.3.m2 -ref data_m2/wi+locness/ABCN.dev.gold.bea19.m2\n",
      "\n",
      "\n",
      "echo -e \"Metric roberta k=41 ac=0.3 mep=0.35\"\n",
      "errant_compare -hyp evaluation/Exp_063_roberta_large_epoch_3_cluster_5k_ac_0.3_mep_0.35.m2 -ref data_m2/wi+locness/ABCN.dev.gold.bea19.m2\n",
      "\n",
      "\n",
      "echo -e \"Metric roberta k=42 ac=0.3 mep=0.4\"\n",
      "errant_compare -hyp evaluation/Exp_063_roberta_large_epoch_3_cluster_5k_ac_0.3_mep_0.4.m2 -ref data_m2/wi+locness/ABCN.dev.gold.bea19.m2\n",
      "\n",
      "\n",
      "echo -e \"Metric roberta k=43 ac=0.3 mep=0.45\"\n",
      "errant_compare -hyp evaluation/Exp_063_roberta_large_epoch_3_cluster_5k_ac_0.3_mep_0.45.m2 -ref data_m2/wi+locness/ABCN.dev.gold.bea19.m2\n",
      "\n",
      "\n",
      "echo -e \"Metric roberta k=44 ac=0.3 mep=0.5\"\n",
      "errant_compare -hyp evaluation/Exp_063_roberta_large_epoch_3_cluster_5k_ac_0.3_mep_0.5.m2 -ref data_m2/wi+locness/ABCN.dev.gold.bea19.m2\n",
      "\n",
      "\n",
      "echo -e \"Metric roberta k=45 ac=0.3 mep=0.55\"\n",
      "errant_compare -hyp evaluation/Exp_063_roberta_large_epoch_3_cluster_5k_ac_0.3_mep_0.55.m2 -ref data_m2/wi+locness/ABCN.dev.gold.bea19.m2\n",
      "\n",
      "\n",
      "echo -e \"Metric roberta k=46 ac=0.3 mep=0.6\"\n",
      "errant_compare -hyp evaluation/Exp_063_roberta_large_epoch_3_cluster_5k_ac_0.3_mep_0.6.m2 -ref data_m2/wi+locness/ABCN.dev.gold.bea19.m2\n",
      "\n",
      "\n",
      "echo -e \"Metric roberta k=47 ac=0.3 mep=0.65\"\n",
      "errant_compare -hyp evaluation/Exp_063_roberta_large_epoch_3_cluster_5k_ac_0.3_mep_0.65.m2 -ref data_m2/wi+locness/ABCN.dev.gold.bea19.m2\n",
      "\n",
      "\n",
      "echo -e \"Metric roberta k=48 ac=0.3 mep=0.7\"\n",
      "errant_compare -hyp evaluation/Exp_063_roberta_large_epoch_3_cluster_5k_ac_0.3_mep_0.7.m2 -ref data_m2/wi+locness/ABCN.dev.gold.bea19.m2\n",
      "\n",
      "\n",
      "echo -e \"Metric roberta k=49 ac=0.3 mep=0.75\"\n",
      "errant_compare -hyp evaluation/Exp_063_roberta_large_epoch_3_cluster_5k_ac_0.3_mep_0.75.m2 -ref data_m2/wi+locness/ABCN.dev.gold.bea19.m2\n",
      "\n",
      "\n",
      "echo -e \"Metric roberta k=50 ac=0.35 mep=0.3\"\n",
      "errant_compare -hyp evaluation/Exp_063_roberta_large_epoch_3_cluster_5k_ac_0.35_mep_0.3.m2 -ref data_m2/wi+locness/ABCN.dev.gold.bea19.m2\n",
      "\n",
      "\n",
      "echo -e \"Metric roberta k=51 ac=0.35 mep=0.35\"\n",
      "errant_compare -hyp evaluation/Exp_063_roberta_large_epoch_3_cluster_5k_ac_0.35_mep_0.35.m2 -ref data_m2/wi+locness/ABCN.dev.gold.bea19.m2\n",
      "\n",
      "\n",
      "echo -e \"Metric roberta k=52 ac=0.35 mep=0.4\"\n",
      "errant_compare -hyp evaluation/Exp_063_roberta_large_epoch_3_cluster_5k_ac_0.35_mep_0.4.m2 -ref data_m2/wi+locness/ABCN.dev.gold.bea19.m2\n",
      "\n",
      "\n",
      "echo -e \"Metric roberta k=53 ac=0.35 mep=0.45\"\n",
      "errant_compare -hyp evaluation/Exp_063_roberta_large_epoch_3_cluster_5k_ac_0.35_mep_0.45.m2 -ref data_m2/wi+locness/ABCN.dev.gold.bea19.m2\n",
      "\n",
      "\n",
      "echo -e \"Metric roberta k=54 ac=0.35 mep=0.5\"\n",
      "errant_compare -hyp evaluation/Exp_063_roberta_large_epoch_3_cluster_5k_ac_0.35_mep_0.5.m2 -ref data_m2/wi+locness/ABCN.dev.gold.bea19.m2\n",
      "\n",
      "\n",
      "echo -e \"Metric roberta k=55 ac=0.35 mep=0.55\"\n",
      "errant_compare -hyp evaluation/Exp_063_roberta_large_epoch_3_cluster_5k_ac_0.35_mep_0.55.m2 -ref data_m2/wi+locness/ABCN.dev.gold.bea19.m2\n",
      "\n",
      "\n",
      "echo -e \"Metric roberta k=56 ac=0.35 mep=0.6\"\n",
      "errant_compare -hyp evaluation/Exp_063_roberta_large_epoch_3_cluster_5k_ac_0.35_mep_0.6.m2 -ref data_m2/wi+locness/ABCN.dev.gold.bea19.m2\n",
      "\n",
      "\n",
      "echo -e \"Metric roberta k=57 ac=0.35 mep=0.65\"\n",
      "errant_compare -hyp evaluation/Exp_063_roberta_large_epoch_3_cluster_5k_ac_0.35_mep_0.65.m2 -ref data_m2/wi+locness/ABCN.dev.gold.bea19.m2\n",
      "\n",
      "\n",
      "echo -e \"Metric roberta k=58 ac=0.35 mep=0.7\"\n",
      "errant_compare -hyp evaluation/Exp_063_roberta_large_epoch_3_cluster_5k_ac_0.35_mep_0.7.m2 -ref data_m2/wi+locness/ABCN.dev.gold.bea19.m2\n",
      "\n",
      "\n",
      "echo -e \"Metric roberta k=59 ac=0.35 mep=0.75\"\n",
      "errant_compare -hyp evaluation/Exp_063_roberta_large_epoch_3_cluster_5k_ac_0.35_mep_0.75.m2 -ref data_m2/wi+locness/ABCN.dev.gold.bea19.m2\n",
      "\n",
      "\n",
      "echo -e \"Metric roberta k=60 ac=0.4 mep=0.3\"\n",
      "errant_compare -hyp evaluation/Exp_063_roberta_large_epoch_3_cluster_5k_ac_0.4_mep_0.3.m2 -ref data_m2/wi+locness/ABCN.dev.gold.bea19.m2\n",
      "\n",
      "\n",
      "echo -e \"Metric roberta k=61 ac=0.4 mep=0.35\"\n",
      "errant_compare -hyp evaluation/Exp_063_roberta_large_epoch_3_cluster_5k_ac_0.4_mep_0.35.m2 -ref data_m2/wi+locness/ABCN.dev.gold.bea19.m2\n",
      "\n",
      "\n",
      "echo -e \"Metric roberta k=62 ac=0.4 mep=0.4\"\n",
      "errant_compare -hyp evaluation/Exp_063_roberta_large_epoch_3_cluster_5k_ac_0.4_mep_0.4.m2 -ref data_m2/wi+locness/ABCN.dev.gold.bea19.m2\n",
      "\n",
      "\n",
      "echo -e \"Metric roberta k=63 ac=0.4 mep=0.45\"\n",
      "errant_compare -hyp evaluation/Exp_063_roberta_large_epoch_3_cluster_5k_ac_0.4_mep_0.45.m2 -ref data_m2/wi+locness/ABCN.dev.gold.bea19.m2\n",
      "\n",
      "\n",
      "echo -e \"Metric roberta k=64 ac=0.4 mep=0.5\"\n",
      "errant_compare -hyp evaluation/Exp_063_roberta_large_epoch_3_cluster_5k_ac_0.4_mep_0.5.m2 -ref data_m2/wi+locness/ABCN.dev.gold.bea19.m2\n",
      "\n",
      "\n",
      "echo -e \"Metric roberta k=65 ac=0.4 mep=0.55\"\n",
      "errant_compare -hyp evaluation/Exp_063_roberta_large_epoch_3_cluster_5k_ac_0.4_mep_0.55.m2 -ref data_m2/wi+locness/ABCN.dev.gold.bea19.m2\n",
      "\n",
      "\n",
      "echo -e \"Metric roberta k=66 ac=0.4 mep=0.6\"\n",
      "errant_compare -hyp evaluation/Exp_063_roberta_large_epoch_3_cluster_5k_ac_0.4_mep_0.6.m2 -ref data_m2/wi+locness/ABCN.dev.gold.bea19.m2\n",
      "\n",
      "\n",
      "echo -e \"Metric roberta k=67 ac=0.4 mep=0.65\"\n",
      "errant_compare -hyp evaluation/Exp_063_roberta_large_epoch_3_cluster_5k_ac_0.4_mep_0.65.m2 -ref data_m2/wi+locness/ABCN.dev.gold.bea19.m2\n",
      "\n",
      "\n",
      "echo -e \"Metric roberta k=68 ac=0.4 mep=0.7\"\n",
      "errant_compare -hyp evaluation/Exp_063_roberta_large_epoch_3_cluster_5k_ac_0.4_mep_0.7.m2 -ref data_m2/wi+locness/ABCN.dev.gold.bea19.m2\n",
      "\n",
      "\n",
      "echo -e \"Metric roberta k=69 ac=0.4 mep=0.75\"\n",
      "errant_compare -hyp evaluation/Exp_063_roberta_large_epoch_3_cluster_5k_ac_0.4_mep_0.75.m2 -ref data_m2/wi+locness/ABCN.dev.gold.bea19.m2\n",
      "\n",
      "\n",
      "echo -e \"Metric roberta k=70 ac=0.45 mep=0.3\"\n",
      "errant_compare -hyp evaluation/Exp_063_roberta_large_epoch_3_cluster_5k_ac_0.45_mep_0.3.m2 -ref data_m2/wi+locness/ABCN.dev.gold.bea19.m2\n",
      "\n",
      "\n",
      "echo -e \"Metric roberta k=71 ac=0.45 mep=0.35\"\n",
      "errant_compare -hyp evaluation/Exp_063_roberta_large_epoch_3_cluster_5k_ac_0.45_mep_0.35.m2 -ref data_m2/wi+locness/ABCN.dev.gold.bea19.m2\n",
      "\n",
      "\n",
      "echo -e \"Metric roberta k=72 ac=0.45 mep=0.4\"\n",
      "errant_compare -hyp evaluation/Exp_063_roberta_large_epoch_3_cluster_5k_ac_0.45_mep_0.4.m2 -ref data_m2/wi+locness/ABCN.dev.gold.bea19.m2\n",
      "\n",
      "\n",
      "echo -e \"Metric roberta k=73 ac=0.45 mep=0.45\"\n",
      "errant_compare -hyp evaluation/Exp_063_roberta_large_epoch_3_cluster_5k_ac_0.45_mep_0.45.m2 -ref data_m2/wi+locness/ABCN.dev.gold.bea19.m2\n",
      "\n",
      "\n",
      "echo -e \"Metric roberta k=74 ac=0.45 mep=0.5\"\n",
      "errant_compare -hyp evaluation/Exp_063_roberta_large_epoch_3_cluster_5k_ac_0.45_mep_0.5.m2 -ref data_m2/wi+locness/ABCN.dev.gold.bea19.m2\n",
      "\n",
      "\n",
      "echo -e \"Metric roberta k=75 ac=0.45 mep=0.55\"\n",
      "errant_compare -hyp evaluation/Exp_063_roberta_large_epoch_3_cluster_5k_ac_0.45_mep_0.55.m2 -ref data_m2/wi+locness/ABCN.dev.gold.bea19.m2\n",
      "\n",
      "\n",
      "echo -e \"Metric roberta k=76 ac=0.45 mep=0.6\"\n",
      "errant_compare -hyp evaluation/Exp_063_roberta_large_epoch_3_cluster_5k_ac_0.45_mep_0.6.m2 -ref data_m2/wi+locness/ABCN.dev.gold.bea19.m2\n",
      "\n",
      "\n",
      "echo -e \"Metric roberta k=77 ac=0.45 mep=0.65\"\n",
      "errant_compare -hyp evaluation/Exp_063_roberta_large_epoch_3_cluster_5k_ac_0.45_mep_0.65.m2 -ref data_m2/wi+locness/ABCN.dev.gold.bea19.m2\n",
      "\n",
      "\n",
      "echo -e \"Metric roberta k=78 ac=0.45 mep=0.7\"\n",
      "errant_compare -hyp evaluation/Exp_063_roberta_large_epoch_3_cluster_5k_ac_0.45_mep_0.7.m2 -ref data_m2/wi+locness/ABCN.dev.gold.bea19.m2\n",
      "\n",
      "\n",
      "echo -e \"Metric roberta k=79 ac=0.45 mep=0.75\"\n",
      "errant_compare -hyp evaluation/Exp_063_roberta_large_epoch_3_cluster_5k_ac_0.45_mep_0.75.m2 -ref data_m2/wi+locness/ABCN.dev.gold.bea19.m2\n",
      "\n",
      "\n",
      "echo -e \"Metric roberta k=80 ac=0.5 mep=0.3\"\n",
      "errant_compare -hyp evaluation/Exp_063_roberta_large_epoch_3_cluster_5k_ac_0.5_mep_0.3.m2 -ref data_m2/wi+locness/ABCN.dev.gold.bea19.m2\n",
      "\n",
      "\n",
      "echo -e \"Metric roberta k=81 ac=0.5 mep=0.35\"\n",
      "errant_compare -hyp evaluation/Exp_063_roberta_large_epoch_3_cluster_5k_ac_0.5_mep_0.35.m2 -ref data_m2/wi+locness/ABCN.dev.gold.bea19.m2\n",
      "\n",
      "\n",
      "echo -e \"Metric roberta k=82 ac=0.5 mep=0.4\"\n",
      "errant_compare -hyp evaluation/Exp_063_roberta_large_epoch_3_cluster_5k_ac_0.5_mep_0.4.m2 -ref data_m2/wi+locness/ABCN.dev.gold.bea19.m2\n",
      "\n",
      "\n",
      "echo -e \"Metric roberta k=83 ac=0.5 mep=0.45\"\n",
      "errant_compare -hyp evaluation/Exp_063_roberta_large_epoch_3_cluster_5k_ac_0.5_mep_0.45.m2 -ref data_m2/wi+locness/ABCN.dev.gold.bea19.m2\n",
      "\n",
      "\n",
      "echo -e \"Metric roberta k=84 ac=0.5 mep=0.5\"\n",
      "errant_compare -hyp evaluation/Exp_063_roberta_large_epoch_3_cluster_5k_ac_0.5_mep_0.5.m2 -ref data_m2/wi+locness/ABCN.dev.gold.bea19.m2\n",
      "\n",
      "\n",
      "echo -e \"Metric roberta k=85 ac=0.5 mep=0.55\"\n",
      "errant_compare -hyp evaluation/Exp_063_roberta_large_epoch_3_cluster_5k_ac_0.5_mep_0.55.m2 -ref data_m2/wi+locness/ABCN.dev.gold.bea19.m2\n",
      "\n",
      "\n",
      "echo -e \"Metric roberta k=86 ac=0.5 mep=0.6\"\n",
      "errant_compare -hyp evaluation/Exp_063_roberta_large_epoch_3_cluster_5k_ac_0.5_mep_0.6.m2 -ref data_m2/wi+locness/ABCN.dev.gold.bea19.m2\n",
      "\n",
      "\n",
      "echo -e \"Metric roberta k=87 ac=0.5 mep=0.65\"\n",
      "errant_compare -hyp evaluation/Exp_063_roberta_large_epoch_3_cluster_5k_ac_0.5_mep_0.65.m2 -ref data_m2/wi+locness/ABCN.dev.gold.bea19.m2\n",
      "\n",
      "\n",
      "echo -e \"Metric roberta k=88 ac=0.5 mep=0.7\"\n",
      "errant_compare -hyp evaluation/Exp_063_roberta_large_epoch_3_cluster_5k_ac_0.5_mep_0.7.m2 -ref data_m2/wi+locness/ABCN.dev.gold.bea19.m2\n",
      "\n",
      "\n",
      "echo -e \"Metric roberta k=89 ac=0.5 mep=0.75\"\n",
      "errant_compare -hyp evaluation/Exp_063_roberta_large_epoch_3_cluster_5k_ac_0.5_mep_0.75.m2 -ref data_m2/wi+locness/ABCN.dev.gold.bea19.m2\n",
      "\n",
      "\n"
     ]
    }
   ],
   "source": [
    "output_start = \"Exp_063_roberta_large_epoch_3_cluster_5k\"\n",
    "k = 0\n",
    "\n",
    "for ac in additional_confidences:\n",
    "    for mep in min_error_probabilities: \n",
    "        print('echo -e \"Metric roberta k='+str(k)+' ac='+str(ac)+' mep='+str(mep)+'\"')\n",
    "        text = \"errant_compare -hyp evaluation/\"+output_start+\"_ac_\"+str(ac)+\"_mep_\"+str(mep)+\".m2 -ref data_m2/wi+locness/ABCN.dev.gold.bea19.m2\"+\"\\n\\n\"\n",
    "        print(text)\n",
    "        k+=1"
   ]
  },
  {
   "cell_type": "code",
   "execution_count": null,
   "metadata": {},
   "outputs": [],
   "source": []
  },
  {
   "cell_type": "code",
   "execution_count": null,
   "metadata": {},
   "outputs": [],
   "source": []
  },
  {
   "cell_type": "code",
   "execution_count": 19,
   "metadata": {},
   "outputs": [],
   "source": [
    "# model_path = \"models/Exp_061_roberta_large_stage_3_pie_1bw_gold/model_state_epoch_1.th\"\n",
    "# cuda_index = 0\n",
    "# output_start = \"Exp_061_roberta_large_epoch_1\"\n",
    "# model_name = 'roberta-large'\n",
    "# k = 0\n",
    "# for ac in additional_confidences:\n",
    "#     for mep in min_error_probabilities: \n",
    "#         print('echo -e \"Predict k='+str(k)+' ac='+str(ac)+' mep='+str(mep)+'\"')\n",
    "#         text = \"python predict.py --model_path \"+model_path+\" --vocab_path data/output_vocabulary --input_file data_parallel/wi+locness/dev_src --output_file predicts/\"+output_start+\"_ac_\"+str(ac)+\"_mep_\"+str(mep)+\".txt --additional_confidence \"+str(ac)+\" --min_error_probability \"+str(mep)+\" --transformer_model \"+model_name+\" --special_tokens_fix 1  --cuda_device_index \"+str(cuda_index)+\"\\n\"\n",
    "#         print(text)\n",
    "#         k+=1"
   ]
  },
  {
   "cell_type": "code",
   "execution_count": 23,
   "metadata": {},
   "outputs": [],
   "source": [
    "# output_start = \"Exp_061_roberta_large_epoch_3\"\n",
    "# model_name = 'roberta-large'\n",
    "# k = 54\n",
    "# for ac in additional_confidences:\n",
    "#     for mep in min_error_probabilities: \n",
    "#         print('echo -e \"Metric roberta k='+str(k)+' ac='+str(ac)+' mep='+str(mep)+'\"')\n",
    "#         text = \"nohup errant_parallel -orig data_parallel/wi+locness/dev_src -cor predicts/\"+output_start+\"_ac_\"+str(ac)+\"_mep_\"+str(mep)+\".txt -out evaluation/\"+output_start+\"_ac_\"+str(ac)+\"_mep_\"+str(mep)+\".m2  &> nohups/metrics.out &\"+\"\\n\\n\"\n",
    "#         print(text)\n",
    "#         k+=1"
   ]
  },
  {
   "cell_type": "code",
   "execution_count": null,
   "metadata": {},
   "outputs": [],
   "source": []
  },
  {
   "cell_type": "code",
   "execution_count": 25,
   "metadata": {},
   "outputs": [],
   "source": [
    "# model_path = \"models/Exp_049_2_roberta_base_stage_3_gold/model_state_epoch_2.th\"\n",
    "# cuda_index = 1\n",
    "# output_start = \"Exp_049_2_roberta_base_stage_3_PIE\"\n",
    "# model_name = 'roberta'\n",
    "# k = 0\n",
    "# for ac in additional_confidences:\n",
    "#     for mep in min_error_probabilities: \n",
    "#         print('echo -e \"Predict k='+str(k)+' ac='+str(ac)+' mep='+str(mep)+'\"')\n",
    "#         text = \"python predict.py --model_path \"+model_path+\" --vocab_path data/output_vocabulary --input_file data_parallel/wi+locness/dev_src --output_file predicts/\"+output_start+\"_ac_\"+str(ac)+\"_mep_\"+str(mep)+\".txt --additional_confidence \"+str(ac)+\" --min_error_probability \"+str(mep)+\" --transformer_model \"+model_name+\" --special_tokens_fix 1  --cuda_device_index \"+str(cuda_index)+\"\\n\"\n",
    "#         print(text)\n",
    "#         k+=1"
   ]
  },
  {
   "cell_type": "code",
   "execution_count": 27,
   "metadata": {},
   "outputs": [],
   "source": [
    "# output_start = \"Exp_049_2_roberta_base_stage_3_PIE\"\n",
    "# model_name = 'roberta'\n",
    "# k=1\n",
    "# for ac in additional_confidences:\n",
    "#     for mep in min_error_probabilities: \n",
    "#         print('echo -e \"Metric roberta k='+str(k)+' ac='+str(ac)+' mep='+str(mep)+'\"')\n",
    "#         text = \"nohup errant_parallel -orig data_parallel/wi+locness/dev_src -cor predicts/\"+output_start+\"_ac_\"+str(ac)+\"_mep_\"+str(mep)+\".txt -out evaluation/\"+output_start+\"_ac_\"+str(ac)+\"_mep_\"+str(mep)+\".m2  &> nohups/metrics.out &\"+\"\\n\\n\"\n",
    "#         print(text)\n",
    "#         k+=1"
   ]
  },
  {
   "cell_type": "code",
   "execution_count": 29,
   "metadata": {},
   "outputs": [],
   "source": [
    "# output_start = \"Exp_049_2_roberta_base_stage_3_PIE\"\n",
    "# k = 0\n",
    "\n",
    "# for ac in additional_confidences:\n",
    "#     for mep in min_error_probabilities: \n",
    "#         print('echo -e \"Metric roberta k='+str(k)+' ac='+str(ac)+' mep='+str(mep)+'\"')\n",
    "#         text = \"errant_compare -hyp evaluation/\"+output_start+\"_ac_\"+str(ac)+\"_mep_\"+str(mep)+\".m2 -ref data_m2/wi+locness/ABCN.dev.gold.bea19.m2\"+\"\\n\\n\"\n",
    "#         print(text)\n",
    "#         k+=1"
   ]
  },
  {
   "cell_type": "code",
   "execution_count": 7,
   "metadata": {},
   "outputs": [],
   "source": [
    "# output_start = \"Exp_061_roberta_large_epoch_3\"\n",
    "# k = 0\n",
    "\n",
    "# for ac in additional_confidences:\n",
    "#     for mep in min_error_probabilities: \n",
    "#         print('echo -e \"Metric roberta k='+str(k)+' ac='+str(ac)+' mep='+str(mep)+'\"')\n",
    "#         text = \"errant_compare -hyp evaluation/\"+output_start+\"_ac_\"+str(ac)+\"_mep_\"+str(mep)+\".m2 -ref data_m2/wi+locness/ABCN.dev.gold.bea19.m2\"+\"\\n\\n\"\n",
    "#         print(text)\n",
    "#         k+=1"
   ]
  },
  {
   "cell_type": "code",
   "execution_count": null,
   "metadata": {},
   "outputs": [],
   "source": []
  },
  {
   "cell_type": "code",
   "execution_count": null,
   "metadata": {},
   "outputs": [],
   "source": []
  },
  {
   "cell_type": "code",
   "execution_count": 44,
   "metadata": {},
   "outputs": [],
   "source": [
    "def generate_script_text(folder_name, start_epoch=0, end_epoch=20, use_cpu=1, cuda_device_index=-1,experiment_name=\"\", model_name=\"roberta\", vocabulary=\"data/output_vocabulary\", generate_predict=True, generate_metrics=True):\n",
    "    text = ''\n",
    "    if len(experiment_name)>0:\n",
    "        text += 'echo -e \"'+experiment_name+'\"'+\"\\n\" \n",
    "    for num in range(start_epoch, end_epoch):\n",
    "        if generate_predict:\n",
    "            text += \"source activate maks_env\"+\"\\n\"\n",
    "            text += 'echo -e \"Predict epoch : '+str(num)+'\"'+\"\\n\"\n",
    "            #--use_cpu 1 #--cuda_device_index 0\n",
    "            text += \"python predict.py --model_path models/\"+folder_name+\"/model_state_epoch_\"+str(num)+\".th --vocab_path \"+vocabulary+\" --input_file data_parallel/wi+locness/dev_src --output_file predicts/\"+folder_name+\"_epoch_\"+str(num)+\".txt --transformer_model \"+model_name+\" --special_tokens_fix 1\"\n",
    "            if use_cpu:\n",
    "                text += ' --use_cpu 1'\n",
    "            if cuda_device_index>=0:\n",
    "                text += ' --cuda_device_index '+str(cuda_device_index)\n",
    "            text +=\"\\n\\n\"\n",
    "\n",
    "            text += \"conda deactivate\"+\"\\n\\n\"\n",
    "        \n",
    "        if generate_metrics:\n",
    "            text += \"source activate errant_env\"+\"\\n\"\n",
    "\n",
    "            text += 'echo -e \"Calculate metric for epoch : '+str(num)+'\"'+\"\\n\"\n",
    "\n",
    "            text += \"errant_parallel -orig data_parallel/wi+locness/dev_src -cor predicts/\"+folder_name+\"_epoch_\"+str(num)+\".txt -out evaluation/\"+folder_name+\"_epoch_\"+str(num)+\".m2\"+\"\\n\\n\"\n",
    "\n",
    "            text += 'echo -e \"Metrics for epoch : '+str(num)+'\"'+\"\\n\"\n",
    "            text += \"errant_compare -hyp evaluation/\"+folder_name+\"_epoch_\"+str(num)+\".m2 -ref data_m2/wi+locness/ABCN.dev.gold.bea19.m2\"\"\\n\\n\"\n",
    "\n",
    "            text += \"conda deactivate\"+\"\\n\\n\"\n",
    "    print(text)"
   ]
  },
  {
   "cell_type": "code",
   "execution_count": null,
   "metadata": {},
   "outputs": [],
   "source": []
  },
  {
   "cell_type": "code",
   "execution_count": 150,
   "metadata": {
    "scrolled": false
   },
   "outputs": [],
   "source": [
    "folder_name =\"Exp_031_2_roberta_base_stage_2_label\"\n",
    "experiment_name=\"Experiment gold\"\n",
    "#generate_script_text(folder_name, start_epoch=1, end_epoch=8, use_cpu=0,cuda_device_index=1, model_name=\"roberta\", experiment_name=experiment_name)"
   ]
  },
  {
   "cell_type": "code",
   "execution_count": 151,
   "metadata": {},
   "outputs": [],
   "source": [
    "folder_name =\"Exp_045_deberta_xlarge\"\n",
    "experiment_name=\"Experiment gold\"\n",
    "#generate_script_text(folder_name, start_epoch=0, end_epoch=2, use_cpu=0,cuda_device_index=1, model_name=\"deberta-xlarge\", experiment_name=experiment_name)"
   ]
  },
  {
   "cell_type": "code",
   "execution_count": 196,
   "metadata": {},
   "outputs": [
    {
     "data": {
      "text/plain": [
       "5901"
      ]
     },
     "execution_count": 196,
     "metadata": {},
     "output_type": "execute_result"
    }
   ],
   "source": [
    "2831+3070"
   ]
  },
  {
   "cell_type": "code",
   "execution_count": 215,
   "metadata": {},
   "outputs": [],
   "source": [
    "folder_name = \"Exp_052_roberta_large_stage_2_new\"\n",
    "experiment_name=\"Experiment stage 2\"\n",
    "#generate_script_text(folder_name, start_epoch=4, end_epoch=7, use_cpu=0,cuda_device_index=0, model_name=\"roberta-large\", experiment_name=experiment_name)"
   ]
  },
  {
   "cell_type": "code",
   "execution_count": 235,
   "metadata": {},
   "outputs": [
    {
     "name": "stdout",
     "output_type": "stream",
     "text": [
      "echo -e \"Experiment stage 3 1BW\"\n",
      "source activate maks_env\n",
      "echo -e \"Predict epoch : 4\"\n",
      "python predict.py --model_path models/Exp_053_roberta_large_stage_3_v3/model_state_epoch_4.th --vocab_path data/output_vocabulary --input_file data_parallel/wi+locness/dev_src --output_file predicts/Exp_053_roberta_large_stage_3_v3_epoch_4.txt --transformer_model roberta-large --special_tokens_fix 1 --cuda_device_index 0\n",
      "\n",
      "conda deactivate\n",
      "\n",
      "source activate errant_env\n",
      "echo -e \"Calculate metric for epoch : 4\"\n",
      "errant_parallel -orig data_parallel/wi+locness/dev_src -cor predicts/Exp_053_roberta_large_stage_3_v3_epoch_4.txt -out evaluation/Exp_053_roberta_large_stage_3_v3_epoch_4.m2\n",
      "\n",
      "echo -e \"Metrics for epoch : 4\"\n",
      "errant_compare -hyp evaluation/Exp_053_roberta_large_stage_3_v3_epoch_4.m2 -ref data_m2/wi+locness/ABCN.dev.gold.bea19.m2\n",
      "\n",
      "conda deactivate\n",
      "\n",
      "source activate maks_env\n",
      "echo -e \"Predict epoch : 5\"\n",
      "python predict.py --model_path models/Exp_053_roberta_large_stage_3_v3/model_state_epoch_5.th --vocab_path data/output_vocabulary --input_file data_parallel/wi+locness/dev_src --output_file predicts/Exp_053_roberta_large_stage_3_v3_epoch_5.txt --transformer_model roberta-large --special_tokens_fix 1 --cuda_device_index 0\n",
      "\n",
      "conda deactivate\n",
      "\n",
      "source activate errant_env\n",
      "echo -e \"Calculate metric for epoch : 5\"\n",
      "errant_parallel -orig data_parallel/wi+locness/dev_src -cor predicts/Exp_053_roberta_large_stage_3_v3_epoch_5.txt -out evaluation/Exp_053_roberta_large_stage_3_v3_epoch_5.m2\n",
      "\n",
      "echo -e \"Metrics for epoch : 5\"\n",
      "errant_compare -hyp evaluation/Exp_053_roberta_large_stage_3_v3_epoch_5.m2 -ref data_m2/wi+locness/ABCN.dev.gold.bea19.m2\n",
      "\n",
      "conda deactivate\n",
      "\n",
      "\n"
     ]
    }
   ],
   "source": [
    "folder_name = \"Exp_053_roberta_large_stage_3_v3\"\n",
    "experiment_name=\"Experiment stage 3 1BW\"\n",
    "generate_script_text(folder_name, start_epoch=4, end_epoch=6, use_cpu=0,cuda_device_index=0, model_name=\"roberta-large\", experiment_name=experiment_name)"
   ]
  },
  {
   "cell_type": "code",
   "execution_count": 202,
   "metadata": {},
   "outputs": [],
   "source": [
    "folder_name = \"Exp_051_roberta_base_stage_2_new\"\n",
    "experiment_name=\"Experiment stage 2\"\n",
    "#generate_script_text(folder_name, start_epoch=0, end_epoch=10, use_cpu=0,cuda_device_index=0, model_name=\"roberta\", experiment_name=experiment_name)"
   ]
  },
  {
   "cell_type": "code",
   "execution_count": 200,
   "metadata": {},
   "outputs": [],
   "source": [
    "folder_name = \"Exp_044_roberta_base_stage_1_new\"\n",
    "experiment_name=\"Experiment stage 1\"\n",
    "#generate_script_text(folder_name, start_epoch=8, end_epoch=9, use_cpu=0,cuda_device_index=0, model_name=\"roberta\", experiment_name=experiment_name)"
   ]
  },
  {
   "cell_type": "code",
   "execution_count": 210,
   "metadata": {},
   "outputs": [
    {
     "name": "stdout",
     "output_type": "stream",
     "text": [
      "echo -e \"Experiment stage 1\"\n",
      "source activate maks_env\n",
      "echo -e \"Predict epoch : 3\"\n",
      "python predict.py --model_path models/Exp_050_roberta_large_stage_1_new/model_state_epoch_3.th --vocab_path data/output_vocabulary --input_file data_parallel/wi+locness/dev_src --output_file predicts/Exp_050_roberta_large_stage_1_new_epoch_3.txt --transformer_model roberta-large --special_tokens_fix 1 --cuda_device_index 1\n",
      "\n",
      "conda deactivate\n",
      "\n",
      "source activate errant_env\n",
      "echo -e \"Calculate metric for epoch : 3\"\n",
      "errant_parallel -orig data_parallel/wi+locness/dev_src -cor predicts/Exp_050_roberta_large_stage_1_new_epoch_3.txt -out evaluation/Exp_050_roberta_large_stage_1_new_epoch_3.m2\n",
      "\n",
      "echo -e \"Metrics for epoch : 3\"\n",
      "errant_compare -hyp evaluation/Exp_050_roberta_large_stage_1_new_epoch_3.m2 -ref data_m2/wi+locness/ABCN.dev.gold.bea19.m2\n",
      "\n",
      "conda deactivate\n",
      "\n",
      "\n"
     ]
    }
   ],
   "source": [
    "folder_name = \"Exp_050_roberta_large_stage_1_new\"\n",
    "experiment_name=\"Experiment stage 1\"\n",
    "generate_script_text(folder_name, start_epoch=3, end_epoch=4, use_cpu=0,cuda_device_index=1, model_name=\"roberta-large\", experiment_name=experiment_name)"
   ]
  },
  {
   "cell_type": "code",
   "execution_count": 170,
   "metadata": {},
   "outputs": [],
   "source": [
    "folder_name = \"Exp_046_roberta_base_stage_2_new\"\n",
    "experiment_name=\"Experiment stage 2\"\n",
    "#generate_script_text(folder_name, start_epoch=11, end_epoch=12, use_cpu=0,cuda_device_index=1, model_name=\"roberta\", experiment_name=experiment_name)"
   ]
  },
  {
   "cell_type": "code",
   "execution_count": 177,
   "metadata": {},
   "outputs": [],
   "source": [
    "folder_name = \"Exp_047_roberta_base_stage_3_new_v2\"\n",
    "experiment_name=\"Experiment stage 3\"\n",
    "#generate_script_text(folder_name, start_epoch=0, end_epoch=5, use_cpu=0,cuda_device_index=1, model_name=\"roberta\", experiment_name=experiment_name)"
   ]
  },
  {
   "cell_type": "code",
   "execution_count": 181,
   "metadata": {},
   "outputs": [],
   "source": [
    "folder_name = \"Exp_047_roberta_base_stage_3_new_v3\"\n",
    "experiment_name=\"Experiment stage 3\"\n",
    "#generate_script_text(folder_name, start_epoch=0, end_epoch=5, use_cpu=0,cuda_device_index=1, model_name=\"roberta\", experiment_name=experiment_name)"
   ]
  },
  {
   "cell_type": "code",
   "execution_count": 188,
   "metadata": {
    "scrolled": false
   },
   "outputs": [],
   "source": [
    "folder_name = \"Exp_047_roberta_base_stage_3_new_v4\"\n",
    "experiment_name=\"Experiment stage 3\"\n",
    "#generate_script_text(folder_name, start_epoch=0, end_epoch=7, use_cpu=0,cuda_device_index=1, model_name=\"roberta\", experiment_name=experiment_name)"
   ]
  },
  {
   "cell_type": "code",
   "execution_count": 224,
   "metadata": {},
   "outputs": [],
   "source": [
    "folder_name = \"Exp_047_roberta_base_stage_3_new_v5\"\n",
    "experiment_name=\"Experiment stage 3\"\n",
    "#generate_script_text(folder_name, start_epoch=0, end_epoch=7, use_cpu=0,cuda_device_index=0, model_name=\"roberta\", experiment_name=experiment_name)"
   ]
  },
  {
   "cell_type": "code",
   "execution_count": 193,
   "metadata": {},
   "outputs": [],
   "source": [
    "folder_name = \"Exp_049_2_roberta_base_stage_3_gold\"\n",
    "experiment_name=\"Experiment stage 3\"\n",
    "#generate_script_text(folder_name, start_epoch=0, end_epoch=5, use_cpu=0,cuda_device_index=1, model_name=\"roberta\", experiment_name=experiment_name)"
   ]
  },
  {
   "cell_type": "code",
   "execution_count": 186,
   "metadata": {},
   "outputs": [],
   "source": [
    "folder_name = \"Exp_048_roberta_base_stage_3_without_2\"\n",
    "experiment_name=\"Experiment stage 3\"\n",
    "#generate_script_text(folder_name, start_epoch=8, end_epoch=10, use_cpu=0,cuda_device_index=1, model_name=\"roberta\", experiment_name=experiment_name)"
   ]
  },
  {
   "cell_type": "code",
   "execution_count": 45,
   "metadata": {},
   "outputs": [
    {
     "name": "stdout",
     "output_type": "stream",
     "text": [
      "echo -e \"Experiment stage 3\"\n",
      "source activate maks_env\n",
      "echo -e \"Predict epoch : 0\"\n",
      "python predict.py --model_path models/Exp_040_2_roberta_large_10k_st3/model_state_epoch_0.th --vocab_path models/Exp_012_roberta_large/vocabulary --input_file data_parallel/wi+locness/dev_src --output_file predicts/Exp_040_2_roberta_large_10k_st3_epoch_0.txt --transformer_model roberta-large --special_tokens_fix 1 --cuda_device_index 0\n",
      "\n",
      "conda deactivate\n",
      "\n",
      "source activate errant_env\n",
      "echo -e \"Calculate metric for epoch : 0\"\n",
      "errant_parallel -orig data_parallel/wi+locness/dev_src -cor predicts/Exp_040_2_roberta_large_10k_st3_epoch_0.txt -out evaluation/Exp_040_2_roberta_large_10k_st3_epoch_0.m2\n",
      "\n",
      "echo -e \"Metrics for epoch : 0\"\n",
      "errant_compare -hyp evaluation/Exp_040_2_roberta_large_10k_st3_epoch_0.m2 -ref data_m2/wi+locness/ABCN.dev.gold.bea19.m2\n",
      "\n",
      "conda deactivate\n",
      "\n",
      "\n"
     ]
    }
   ],
   "source": [
    "folder_name = \"Exp_040_2_roberta_large_10k_st3\"\n",
    "experiment_name=\"Experiment stage 3\"\n",
    "vocabulary = \"models/Exp_012_roberta_large/vocabulary\"\n",
    "generate_script_text(folder_name, start_epoch=0, end_epoch=1, use_cpu=0,cuda_device_index=0, model_name=\"roberta-large\", experiment_name=experiment_name, vocabulary=vocabulary)"
   ]
  },
  {
   "cell_type": "code",
   "execution_count": 55,
   "metadata": {},
   "outputs": [],
   "source": [
    "folder_name = \"Exp_039_2_xlnet_large_st3\"\n",
    "experiment_name=\"Experiment stage 3\"\n",
    "\n",
    "# generate_script_text(folder_name, start_epoch=1, end_epoch=3, use_cpu=0,cuda_device_index=1, model_name=\"xlnet-large\", \n",
    "#                      experiment_name=experiment_name, generate_metrics=False)\n",
    "# generate_script_text(folder_name, start_epoch=1, end_epoch=3, use_cpu=0,cuda_device_index=1, model_name=\"xlnet-large\", \n",
    "#                      experiment_name=experiment_name, generate_predict=False)"
   ]
  },
  {
   "cell_type": "code",
   "execution_count": 81,
   "metadata": {},
   "outputs": [
    {
     "name": "stdout",
     "output_type": "stream",
     "text": [
      "echo -e \"Experiment stage 3\"\n",
      "source activate maks_env\n",
      "echo -e \"Predict epoch : 0\"\n",
      "python predict.py --model_path models/Exp_037_roberta_large_st3/model_state_epoch_0.th --vocab_path data/output_vocabulary --input_file data_parallel/wi+locness/dev_src --output_file predicts/Exp_037_roberta_large_st3_epoch_0.txt --transformer_model roberta-large --special_tokens_fix 1 --cuda_device_index 0\n",
      "\n",
      "conda deactivate\n",
      "\n",
      "source activate errant_env\n",
      "echo -e \"Calculate metric for epoch : 0\"\n",
      "errant_parallel -orig data_parallel/wi+locness/dev_src -cor predicts/Exp_037_roberta_large_st3_epoch_0.txt -out evaluation/Exp_037_roberta_large_st3_epoch_0.m2\n",
      "\n",
      "echo -e \"Metrics for epoch : 0\"\n",
      "errant_compare -hyp evaluation/Exp_037_roberta_large_st3_epoch_0.m2 -ref data_m2/wi+locness/ABCN.dev.gold.bea19.m2\n",
      "\n",
      "conda deactivate\n",
      "\n",
      "\n"
     ]
    }
   ],
   "source": [
    "folder_name = \"Exp_037_roberta_large_st3\"\n",
    "experiment_name=\"Experiment stage 3\"\n",
    "\n",
    "generate_script_text(folder_name, start_epoch=0, end_epoch=1, use_cpu=0,cuda_device_index=0, model_name=\"roberta-large\", experiment_name=experiment_name)"
   ]
  },
  {
   "cell_type": "code",
   "execution_count": 57,
   "metadata": {},
   "outputs": [],
   "source": [
    "folder_name = \"Exp_038_2_deberta_large_st3\"\n",
    "experiment_name=\"Experiment stage 3\"\n",
    "\n",
    "#generate_script_text(folder_name, start_epoch=2, end_epoch=3, use_cpu=0,cuda_device_index=0, model_name=\"deberta-large\", experiment_name=experiment_name)"
   ]
  },
  {
   "cell_type": "code",
   "execution_count": 58,
   "metadata": {},
   "outputs": [],
   "source": [
    "folder_name = \"Exp_035_roberta_base_stage_2_label\"\n",
    "experiment_name=\"Experiment stage 2 on GOLD+1BW\"\n",
    "\n",
    "#generate_script_text(folder_name, start_epoch=5, end_epoch=9, use_cpu=0,cuda_device_index=0, experiment_name=experiment_name)"
   ]
  },
  {
   "cell_type": "code",
   "execution_count": 59,
   "metadata": {},
   "outputs": [],
   "source": [
    "folder_name = \"Exp_036_roberta_base_stage_2_label\"\n",
    "experiment_name=\"Experiment stage 2 on GOLD+0.5M 1BW without coldsteps\"\n",
    "\n",
    "#generate_script_text(folder_name, start_epoch=3, end_epoch=6, use_cpu=0,cuda_device_index=1, experiment_name=experiment_name)"
   ]
  },
  {
   "cell_type": "code",
   "execution_count": 60,
   "metadata": {},
   "outputs": [],
   "source": [
    "folder_name = \"Exp_031_roberta_base_stage_2_label\"\n",
    "experiment_name=\"Experiment stage 2 on GOLD\"\n",
    "\n",
    "#generate_script_text(folder_name, start_epoch=4, end_epoch=5, use_cpu=0,cuda_device_index=1, experiment_name=experiment_name)"
   ]
  },
  {
   "cell_type": "code",
   "execution_count": 61,
   "metadata": {},
   "outputs": [],
   "source": [
    "folder_name = \"Exp_034_roberta_base_stage_3_gold_05_1bw\"\n",
    "experiment_name=\"Experiment stage 3 on GOLD + 0.5M 1BW\"\n",
    "\n",
    "#generate_script_text(folder_name, start_epoch=2, end_epoch=6, use_cpu=0,cuda_device_index=1, experiment_name=experiment_name)"
   ]
  },
  {
   "cell_type": "code",
   "execution_count": 62,
   "metadata": {},
   "outputs": [],
   "source": [
    "folder_name = \"Exp_029_roberta_base_stage_1_label\"\n",
    "#generate_script_text(folder_name, start_epoch=6, end_epoch=7, use_cpu=1,experiment_name=\"Experiment stage 1 on fixed data\")"
   ]
  },
  {
   "cell_type": "code",
   "execution_count": 63,
   "metadata": {},
   "outputs": [],
   "source": [
    "folder_name = \"Exp_030_roberta_base_gold_0.5_1bw_v1\"\n",
    "experiment_name=\"Experiment stage 1 on GOLD + 0.5M 1BW\"\n",
    "#generate_script_text(folder_name, start_epoch=14, end_epoch=15, use_cpu=1,experiment_name=experiment_name)"
   ]
  },
  {
   "cell_type": "markdown",
   "metadata": {},
   "source": [
    "### PIE + 1BW"
   ]
  },
  {
   "cell_type": "code",
   "execution_count": 13,
   "metadata": {},
   "outputs": [
    {
     "name": "stdout",
     "output_type": "stream",
     "text": [
      "echo -e \"Experiment stage LARGE\"\n",
      "source activate maks_env\n",
      "echo -e \"Predict epoch : 2\"\n",
      "python predict.py --model_path models/Exp_056_roberta_large_stage_1_pie_1bw/model_state_epoch_2.th --vocab_path data/output_vocabulary --input_file data_parallel/wi+locness/dev_src --output_file predicts/Exp_056_roberta_large_stage_1_pie_1bw_epoch_2.txt --transformer_model roberta-large --special_tokens_fix 1 --cuda_device_index 0\n",
      "\n",
      "conda deactivate\n",
      "\n",
      "source activate errant_env\n",
      "echo -e \"Calculate metric for epoch : 2\"\n",
      "errant_parallel -orig data_parallel/wi+locness/dev_src -cor predicts/Exp_056_roberta_large_stage_1_pie_1bw_epoch_2.txt -out evaluation/Exp_056_roberta_large_stage_1_pie_1bw_epoch_2.m2\n",
      "\n",
      "echo -e \"Metrics for epoch : 2\"\n",
      "errant_compare -hyp evaluation/Exp_056_roberta_large_stage_1_pie_1bw_epoch_2.m2 -ref data_m2/wi+locness/ABCN.dev.gold.bea19.m2\n",
      "\n",
      "conda deactivate\n",
      "\n",
      "\n"
     ]
    }
   ],
   "source": [
    "folder_name = \"Exp_056_roberta_large_stage_1_pie_1bw\"\n",
    "experiment_name=\"Experiment stage LARGE\"\n",
    "generate_script_text(folder_name, start_epoch=2, end_epoch=3, use_cpu=0,cuda_device_index=0, model_name=\"roberta-large\", experiment_name=experiment_name)"
   ]
  },
  {
   "cell_type": "code",
   "execution_count": 12,
   "metadata": {},
   "outputs": [],
   "source": [
    "folder_name = \"Exp_055_roberta_base_stage_1_pie_1bw\"\n",
    "experiment_name=\"Experiment stage 1\"\n",
    "#generate_script_text(folder_name, start_epoch=4, end_epoch=6, use_cpu=0,cuda_device_index=0, model_name=\"roberta\", experiment_name=experiment_name)"
   ]
  },
  {
   "cell_type": "code",
   "execution_count": null,
   "metadata": {},
   "outputs": [],
   "source": []
  },
  {
   "cell_type": "code",
   "execution_count": null,
   "metadata": {},
   "outputs": [],
   "source": []
  }
 ],
 "metadata": {
  "kernelspec": {
   "display_name": "Python 3",
   "language": "python",
   "name": "python3"
  },
  "language_info": {
   "codemirror_mode": {
    "name": "ipython",
    "version": 3
   },
   "file_extension": ".py",
   "mimetype": "text/x-python",
   "name": "python",
   "nbconvert_exporter": "python",
   "pygments_lexer": "ipython3",
   "version": "3.8.5"
  }
 },
 "nbformat": 4,
 "nbformat_minor": 4
}
