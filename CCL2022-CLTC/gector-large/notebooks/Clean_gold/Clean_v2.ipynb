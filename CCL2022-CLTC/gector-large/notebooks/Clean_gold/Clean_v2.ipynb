{
 "cells": [
  {
   "cell_type": "code",
   "execution_count": 1,
   "metadata": {},
   "outputs": [],
   "source": [
    "import pandas as pd\n",
    "import numpy as np\n",
    "import json\n",
    "\n",
    "import pickle \n",
    "from sklearn.metrics.pairwise import cosine_similarity\n",
    "from tqdm.auto import tqdm"
   ]
  },
  {
   "cell_type": "code",
   "execution_count": 36,
   "metadata": {},
   "outputs": [],
   "source": [
    "import matplotlib.pyplot as plt"
   ]
  },
  {
   "cell_type": "code",
   "execution_count": 24,
   "metadata": {},
   "outputs": [],
   "source": [
    "import seaborn as sns\n",
    "sns.set_style('darkgrid')"
   ]
  },
  {
   "cell_type": "code",
   "execution_count": 31,
   "metadata": {},
   "outputs": [],
   "source": [
    "sns.set(rc={'figure.figsize':(11.7,6.27)})"
   ]
  },
  {
   "cell_type": "code",
   "execution_count": 2,
   "metadata": {},
   "outputs": [],
   "source": [
    "import os\n",
    "import glob\n",
    "def read_lines(fn):\n",
    "    if not os.path.exists(fn):\n",
    "        return []\n",
    "    with open(fn, 'r', encoding='utf-8') as f:\n",
    "        text = f.read()\n",
    "    lines = text.split(\"\\n\")\n",
    "    if lines[-1] == '':\n",
    "        return lines[:-1]\n",
    "    else:\n",
    "        return lines\n",
    "\n",
    "def write_lines(fn, lines, mode='w'):\n",
    "    text_to_write = \"\\n\".join(list(lines)) \n",
    "    with open(fn, encoding='utf-8', mode=mode) as f:\n",
    "        f.write(text_to_write)"
   ]
  },
  {
   "cell_type": "code",
   "execution_count": 179,
   "metadata": {},
   "outputs": [],
   "source": [
    "def show_cos_src_tgt_dataset(df, min_cos_src_tgt_sim=0):\n",
    "    return df[df[\"cos_src_tgt\"] <= min_cos_src_tgt_sim].sort_values(\"cos_src_tgt\")\n",
    "\n",
    "def show_cos_check_dataset(df, min_cos_check_sim=0):\n",
    "    return df[df[\"cos_check\"] <= min_cos_check_sim].sort_values(\"cos_check\")\n",
    "\n",
    "def plot_cos_src_tgt(df, col=\"cos_src_tgt\"):\n",
    "    return df[df[\"text_src\"] != df[\"text_tgt\"]][col].plot.hist(bins=30)\n",
    "\n",
    "def show_statistic(df, len_before=0, show_rate=True):\n",
    "    diff_len = len_before - len(df)\n",
    "    print(\"Count of rows: \", len(df))\n",
    "    if diff_len > 0:\n",
    "        print(\"Diff count: \", diff_len)\n",
    "    if show_rate==True:\n",
    "        print(\"Count of rows with change: \", df['have_change'].sum())\n",
    "        print(\"Rate of rows with change: \", round(df['have_change'].mean(),2))\n",
    "    print()\n",
    "\n",
    "def basic_clean(df, show = True, min_cos_src_tgt_sim = 0):\n",
    "    len_start = len(df)\n",
    "    print(\"Initial statistics\")\n",
    "    df['have_change'] = (df['text_src']!=df['text_tgt']).astype(int)\n",
    "    show_statistic(df, len_start)\n",
    "    \n",
    "    print(\"Drop dulicates\")\n",
    "    len_before = len(df)\n",
    "    df = df.drop_duplicates(subset=['text_src', 'text_tgt'])\n",
    "    show_statistic(df, len_before, show_rate=True)\n",
    "    \n",
    "    print(\"Drop where len less 5 and less then 1 token\")\n",
    "    len_before = len(df)\n",
    "    df = df[df[\"text_tgt\"].str.len() > 5]\n",
    "    df = df[df['text_tgt'].apply(lambda x: len(x.split(\" \")) > 1)]\n",
    "    show_statistic(df, len_before, show_rate=True)\n",
    "    \n",
    "    print(\"Drop where start from non-capital\")\n",
    "    len_before = len(df)\n",
    "    df = df[df[\"text_tgt\"].apply(lambda x: x[0] == x[0].upper())]\n",
    "    show_statistic(df, len_before, show_rate=True)\n",
    "    \n",
    "    \n",
    "    print(\"Drop where all capital\")\n",
    "    len_before = len(df)\n",
    "    df = df[df[\"text_tgt\"].apply(lambda x: x != x.upper())]\n",
    "    show_statistic(df, len_before, show_rate=True)\n",
    "    \n",
    "#     print(\"Drop where for one src more than one target\")\n",
    "#     len_before = len(df)\n",
    "#     val_count = df.text_src.value_counts()\n",
    "#     index_to_delete = []\n",
    "#     for text_src in val_count[val_count > 1].index:\n",
    "#         sub_df = df[df.text_src == text_src]\n",
    "#         res_ind = sub_df[sub_df[\"cos_src_tgt\"] > 0.999].index\n",
    "#         if len(res_ind):\n",
    "#             index_to_delete.extend(res_ind)\n",
    "#     df = df[~df.index.isin(index_to_delete)]\n",
    "#     show_statistic(df, len_before, show_rate=True)\n",
    "    \n",
    "    print(\"Drop where cosine similarity between src and tgt is less than \", min_cos_src_tgt_sim)\n",
    "    len_before = len(df)\n",
    "    df = df[df[\"cos_src_tgt\"] > min_cos_src_tgt_sim]\n",
    "    show_statistic(df, len_before, show_rate=True)\n",
    "    \n",
    "    print('Final rate of cleaned data: ', round(len(df)/len_start,2))\n",
    "    return df"
   ]
  },
  {
   "cell_type": "markdown",
   "metadata": {},
   "source": [
    "### WL "
   ]
  },
  {
   "cell_type": "code",
   "execution_count": 5,
   "metadata": {},
   "outputs": [
    {
     "data": {
      "application/vnd.jupyter.widget-view+json": {
       "model_id": "06608f6989f84904b3ce762fa5468a1e",
       "version_major": 2,
       "version_minor": 0
      },
      "text/plain": [
       "HBox(children=(HTML(value=''), FloatProgress(value=0.0, max=34308.0), HTML(value='')))"
      ]
     },
     "metadata": {},
     "output_type": "display_data"
    },
    {
     "name": "stdout",
     "output_type": "stream",
     "text": [
      "\n"
     ]
    }
   ],
   "source": [
    "text_src = read_lines(\"../../data_parallel/wi+locness/train_src\")\n",
    "text_tgt = read_lines(\"../../data_parallel/wi+locness/train_tgt\")\n",
    "\n",
    "with open(\"../Clustering/data/wl_train_src_embed.pickle\", \"rb\") as f:\n",
    "    vectors_src = pickle.load(f)\n",
    "\n",
    "with open(\"../Clustering/data/wl_train_tgt_embed.pickle\", \"rb\") as f:\n",
    "    vectors_tgt = pickle.load(f)\n",
    "    \n",
    "cos_sim_wl = []\n",
    "for i in tqdm(range(len(vectors_src))):\n",
    "    cos_sim_wl.append(cosine_similarity([vectors_src[i]],[vectors_tgt[i]])[0,0])"
   ]
  },
  {
   "cell_type": "code",
   "execution_count": 233,
   "metadata": {},
   "outputs": [],
   "source": [
    "import os\n",
    "#os.listdir(\"../Clustering/data/\")"
   ]
  },
  {
   "cell_type": "code",
   "execution_count": 234,
   "metadata": {},
   "outputs": [],
   "source": [
    "with open(\"../Clustering/data/dump_wl.pickle\", \"rb\") as f:\n",
    "    dump_wl = pickle.load(f)"
   ]
  },
  {
   "cell_type": "code",
   "execution_count": 235,
   "metadata": {},
   "outputs": [
    {
     "data": {
      "text/plain": [
       "dict_keys(['vectors', 'texts', 'clusters', 'mean_vectors'])"
      ]
     },
     "execution_count": 235,
     "metadata": {},
     "output_type": "execute_result"
    }
   ],
   "source": [
    "dump_wl.keys()"
   ]
  },
  {
   "cell_type": "code",
   "execution_count": 6,
   "metadata": {},
   "outputs": [],
   "source": [
    "wl_df = pd.DataFrame({\"text_src\": text_src, \"text_tgt\": text_tgt, \"cos_src_tgt\": cos_sim_wl})"
   ]
  },
  {
   "cell_type": "code",
   "execution_count": 38,
   "metadata": {},
   "outputs": [
    {
     "data": {
      "image/png": "[encoded data removed]",
      "text/plain": [
       "<Figure size 842.4x451.44 with 1 Axes>"
      ]
     },
     "metadata": {},
     "output_type": "display_data"
    }
   ],
   "source": [
    "g = plot_cos_src_tgt(wl_df)\n",
    "plt.xticks(np.arange(0, 1, 0.1))\n",
    "plt.show()"
   ]
  },
  {
   "cell_type": "code",
   "execution_count": 149,
   "metadata": {},
   "outputs": [
    {
     "data": {
      "text/html": [
       "<div>\n",
       "<style scoped>\n",
       "    .dataframe tbody tr th:only-of-type {\n",
       "        vertical-align: middle;\n",
       "    }\n",
       "\n",
       "    .dataframe tbody tr th {\n",
       "        vertical-align: top;\n",
       "    }\n",
       "\n",
       "    .dataframe thead th {\n",
       "        text-align: right;\n",
       "    }\n",
       "</style>\n",
       "<table border=\"1\" class=\"dataframe\">\n",
       "  <thead>\n",
       "    <tr style=\"text-align: right;\">\n",
       "      <th></th>\n",
       "      <th>text_src</th>\n",
       "      <th>text_tgt</th>\n",
       "      <th>cos_src_tgt</th>\n",
       "      <th>have_change</th>\n",
       "    </tr>\n",
       "  </thead>\n",
       "  <tbody>\n",
       "    <tr>\n",
       "      <th>2380</th>\n",
       "      <td>I am stydying envaermantal saents .</td>\n",
       "      <td>I am studying environmental science .</td>\n",
       "      <td>0.057646</td>\n",
       "      <td>1</td>\n",
       "    </tr>\n",
       "    <tr>\n",
       "      <th>2557</th>\n",
       "      <td>And terolism is scare also .</td>\n",
       "      <td>And terrorism is scarce also .</td>\n",
       "      <td>0.166419</td>\n",
       "      <td>1</td>\n",
       "    </tr>\n",
       "    <tr>\n",
       "      <th>13529</th>\n",
       "      <td>Good Morning :</td>\n",
       "      <td>Dear Sir / Madam</td>\n",
       "      <td>0.186326</td>\n",
       "      <td>1</td>\n",
       "    </tr>\n",
       "    <tr>\n",
       "      <th>5518</th>\n",
       "      <td>fsdjgdofg</td>\n",
       "      <td></td>\n",
       "      <td>0.196443</td>\n",
       "      <td>1</td>\n",
       "    </tr>\n",
       "    <tr>\n",
       "      <th>23629</th>\n",
       "      <td>Rest is anything but completely different .</td>\n",
       "      <td>The rest is completely different .</td>\n",
       "      <td>0.201329</td>\n",
       "      <td>1</td>\n",
       "    </tr>\n",
       "    <tr>\n",
       "      <th>...</th>\n",
       "      <td>...</td>\n",
       "      <td>...</td>\n",
       "      <td>...</td>\n",
       "      <td>...</td>\n",
       "    </tr>\n",
       "    <tr>\n",
       "      <th>7325</th>\n",
       "      <td>we think it 's Improtant meal manners .</td>\n",
       "      <td>We think it 's important to respect meal manne...</td>\n",
       "      <td>0.491021</td>\n",
       "      <td>1</td>\n",
       "    </tr>\n",
       "    <tr>\n",
       "      <th>5124</th>\n",
       "      <td>Who brink up ?</td>\n",
       "      <td>Who brings us up ?</td>\n",
       "      <td>0.494233</td>\n",
       "      <td>1</td>\n",
       "    </tr>\n",
       "    <tr>\n",
       "      <th>5577</th>\n",
       "      <td>after two days poleas sow some boody in crime ...</td>\n",
       "      <td>After two days , the police saw somebody at th...</td>\n",
       "      <td>0.494837</td>\n",
       "      <td>1</td>\n",
       "    </tr>\n",
       "    <tr>\n",
       "      <th>6848</th>\n",
       "      <td>coming to the infrastructure of the shuttle it...</td>\n",
       "      <td>Coming to the infrastructure of badminton , it...</td>\n",
       "      <td>0.497197</td>\n",
       "      <td>1</td>\n",
       "    </tr>\n",
       "    <tr>\n",
       "      <th>827</th>\n",
       "      <td>It is a great dedcision , that bring great con...</td>\n",
       "      <td>It is a big decision , that brings great conse...</td>\n",
       "      <td>0.498492</td>\n",
       "      <td>1</td>\n",
       "    </tr>\n",
       "  </tbody>\n",
       "</table>\n",
       "<p>92 rows × 4 columns</p>\n",
       "</div>"
      ],
      "text/plain": [
       "                                                text_src  \\\n",
       "2380                 I am stydying envaermantal saents .   \n",
       "2557                        And terolism is scare also .   \n",
       "13529                                     Good Morning :   \n",
       "5518                                           fsdjgdofg   \n",
       "23629        Rest is anything but completely different .   \n",
       "...                                                  ...   \n",
       "7325             we think it 's Improtant meal manners .   \n",
       "5124                                      Who brink up ?   \n",
       "5577   after two days poleas sow some boody in crime ...   \n",
       "6848   coming to the infrastructure of the shuttle it...   \n",
       "827    It is a great dedcision , that bring great con...   \n",
       "\n",
       "                                                text_tgt  cos_src_tgt  \\\n",
       "2380               I am studying environmental science .     0.057646   \n",
       "2557                      And terrorism is scarce also .     0.166419   \n",
       "13529                                   Dear Sir / Madam     0.186326   \n",
       "5518                                                         0.196443   \n",
       "23629                 The rest is completely different .     0.201329   \n",
       "...                                                  ...          ...   \n",
       "7325   We think it 's important to respect meal manne...     0.491021   \n",
       "5124                                  Who brings us up ?     0.494233   \n",
       "5577   After two days , the police saw somebody at th...     0.494837   \n",
       "6848   Coming to the infrastructure of badminton , it...     0.497197   \n",
       "827    It is a big decision , that brings great conse...     0.498492   \n",
       "\n",
       "       have_change  \n",
       "2380             1  \n",
       "2557             1  \n",
       "13529            1  \n",
       "5518             1  \n",
       "23629            1  \n",
       "...            ...  \n",
       "7325             1  \n",
       "5124             1  \n",
       "5577             1  \n",
       "6848             1  \n",
       "827              1  \n",
       "\n",
       "[92 rows x 4 columns]"
      ]
     },
     "execution_count": 149,
     "metadata": {},
     "output_type": "execute_result"
    }
   ],
   "source": [
    "wl_df[wl_df[\"cos_src_tgt\"] <= 0.5].sort_values(\"cos_src_tgt\")"
   ]
  },
  {
   "cell_type": "code",
   "execution_count": 236,
   "metadata": {
    "scrolled": false
   },
   "outputs": [
    {
     "name": "stdout",
     "output_type": "stream",
     "text": [
      "Initial statistics\n",
      "Count of rows:  34308\n",
      "Count of rows with change:  22744\n",
      "Rate of rows with change:  0.66\n",
      "\n",
      "Drop dulicates\n",
      "Count of rows:  33493\n",
      "Diff count:  815\n",
      "Count of rows with change:  22717\n",
      "Rate of rows with change:  0.68\n",
      "\n",
      "Drop where len less 5 and less then 1 token\n",
      "Count of rows:  33202\n",
      "Diff count:  291\n",
      "Count of rows with change:  22698\n",
      "Rate of rows with change:  0.68\n",
      "\n",
      "Drop where start from non-capital\n",
      "Count of rows:  32911\n",
      "Diff count:  291\n",
      "Count of rows with change:  22504\n",
      "Rate of rows with change:  0.68\n",
      "\n",
      "Drop where all capital\n",
      "Count of rows:  32813\n",
      "Diff count:  98\n",
      "Count of rows with change:  22477\n",
      "Rate of rows with change:  0.69\n",
      "\n",
      "Drop where cosine similarity between src and tgt is less than  0.5\n",
      "Count of rows:  32731\n",
      "Diff count:  82\n",
      "Count of rows with change:  22395\n",
      "Rate of rows with change:  0.68\n",
      "\n",
      "Final rate of cleaned data:  0.95\n"
     ]
    }
   ],
   "source": [
    "clean_wl = basic_clean(wl_df, show = True, min_cos_src_tgt_sim=0.5)"
   ]
  },
  {
   "cell_type": "markdown",
   "metadata": {},
   "source": [
    "### Nucle"
   ]
  },
  {
   "cell_type": "code",
   "execution_count": 15,
   "metadata": {},
   "outputs": [
    {
     "data": {
      "application/vnd.jupyter.widget-view+json": {
       "model_id": "ba7fae12cc48465a806dab810cee7ca6",
       "version_major": 2,
       "version_minor": 0
      },
      "text/plain": [
       "HBox(children=(HTML(value=''), FloatProgress(value=0.0, max=57151.0), HTML(value='')))"
      ]
     },
     "metadata": {},
     "output_type": "display_data"
    },
    {
     "name": "stdout",
     "output_type": "stream",
     "text": [
      "\n"
     ]
    }
   ],
   "source": [
    "text_src = read_lines(\"../../data_parallel/nucle/nucle_src\")\n",
    "text_tgt = read_lines(\"../../data_parallel/nucle/nucle_tgt\")\n",
    "\n",
    "with open(\"../Clustering/data/nucle_train_src_embed.pickle\", \"rb\") as f:\n",
    "    vectors_src = pickle.load(f)\n",
    "\n",
    "with open(\"../Clustering/data/nucle_train_tgt_embed.pickle\", \"rb\") as f:\n",
    "    vectors_tgt = pickle.load(f)\n",
    "    \n",
    "cos_sim = []\n",
    "for i in tqdm(range(len(vectors_src))):\n",
    "    cos_sim.append(cosine_similarity([vectors_src[i]],[vectors_tgt[i]])[0,0])"
   ]
  },
  {
   "cell_type": "code",
   "execution_count": 16,
   "metadata": {},
   "outputs": [],
   "source": [
    "with open(\"../Checkpoint_exp/nucle_cos.pickle\", \"rb\") as f:\n",
    "    cos_check = pickle.load(f)"
   ]
  },
  {
   "cell_type": "code",
   "execution_count": 17,
   "metadata": {},
   "outputs": [],
   "source": [
    "nucle_df = pd.DataFrame({\"text_src\": text_src, \"text_tgt\": text_tgt, \"cos_src_tgt\": cos_sim, \"cos_check\": cos_check})"
   ]
  },
  {
   "cell_type": "code",
   "execution_count": 35,
   "metadata": {},
   "outputs": [
    {
     "data": {
      "image/png": "[encoded data removed]",
      "text/plain": [
       "<Figure size 842.4x451.44 with 1 Axes>"
      ]
     },
     "metadata": {},
     "output_type": "display_data"
    }
   ],
   "source": [
    "g = plot_cos_src_tgt(nucle_df)\n",
    "plt.xticks(np.arange(0, 1, 0.1))\n",
    "plt.show()"
   ]
  },
  {
   "cell_type": "code",
   "execution_count": 159,
   "metadata": {},
   "outputs": [
    {
     "data": {
      "text/html": [
       "<div>\n",
       "<style scoped>\n",
       "    .dataframe tbody tr th:only-of-type {\n",
       "        vertical-align: middle;\n",
       "    }\n",
       "\n",
       "    .dataframe tbody tr th {\n",
       "        vertical-align: top;\n",
       "    }\n",
       "\n",
       "    .dataframe thead th {\n",
       "        text-align: right;\n",
       "    }\n",
       "</style>\n",
       "<table border=\"1\" class=\"dataframe\">\n",
       "  <thead>\n",
       "    <tr style=\"text-align: right;\">\n",
       "      <th></th>\n",
       "      <th>text_src</th>\n",
       "      <th>text_tgt</th>\n",
       "      <th>cos_src_tgt</th>\n",
       "      <th>cos_check</th>\n",
       "      <th>have_change</th>\n",
       "    </tr>\n",
       "  </thead>\n",
       "  <tbody>\n",
       "    <tr>\n",
       "      <th>14963</th>\n",
       "      <td>Even if a minority will have no intention to t...</td>\n",
       "      <td>.</td>\n",
       "      <td>-0.246615</td>\n",
       "      <td>0.974864</td>\n",
       "      <td>1</td>\n",
       "    </tr>\n",
       "    <tr>\n",
       "      <th>19124</th>\n",
       "      <td>It may be objected that despite great accommod...</td>\n",
       "      <td></td>\n",
       "      <td>-0.228636</td>\n",
       "      <td>0.972713</td>\n",
       "      <td>1</td>\n",
       "    </tr>\n",
       "    <tr>\n",
       "      <th>27646</th>\n",
       "      <td>Furthermore , the federal government ignored a...</td>\n",
       "      <td></td>\n",
       "      <td>-0.216451</td>\n",
       "      <td>0.977595</td>\n",
       "      <td>1</td>\n",
       "    </tr>\n",
       "    <tr>\n",
       "      <th>30054</th>\n",
       "      <td>Normal employees are not inspirited also limit...</td>\n",
       "      <td></td>\n",
       "      <td>-0.198910</td>\n",
       "      <td>0.973263</td>\n",
       "      <td>1</td>\n",
       "    </tr>\n",
       "    <tr>\n",
       "      <th>15812</th>\n",
       "      <td>This harsh behavior brings fear to adult who i...</td>\n",
       "      <td></td>\n",
       "      <td>-0.188985</td>\n",
       "      <td>0.969514</td>\n",
       "      <td>1</td>\n",
       "    </tr>\n",
       "    <tr>\n",
       "      <th>...</th>\n",
       "      <td>...</td>\n",
       "      <td>...</td>\n",
       "      <td>...</td>\n",
       "      <td>...</td>\n",
       "      <td>...</td>\n",
       "    </tr>\n",
       "    <tr>\n",
       "      <th>28917</th>\n",
       "      <td>( Option 1 ) .</td>\n",
       "      <td></td>\n",
       "      <td>0.480066</td>\n",
       "      <td>0.962951</td>\n",
       "      <td>1</td>\n",
       "    </tr>\n",
       "    <tr>\n",
       "      <th>4287</th>\n",
       "      <td>Thus , due to the implications of many other p...</td>\n",
       "      <td>Thus , due to the implications of a positive g...</td>\n",
       "      <td>0.483054</td>\n",
       "      <td>0.977810</td>\n",
       "      <td>1</td>\n",
       "    </tr>\n",
       "    <tr>\n",
       "      <th>15281</th>\n",
       "      <td>The ability of the government is limited , and...</td>\n",
       "      <td>The ability of the government is limited .</td>\n",
       "      <td>0.489685</td>\n",
       "      <td>0.975838</td>\n",
       "      <td>1</td>\n",
       "    </tr>\n",
       "    <tr>\n",
       "      <th>21473</th>\n",
       "      <td>However for someone , this benefit is just the...</td>\n",
       "      <td>However for some people , this benefit is just</td>\n",
       "      <td>0.493156</td>\n",
       "      <td>0.976178</td>\n",
       "      <td>1</td>\n",
       "    </tr>\n",
       "    <tr>\n",
       "      <th>56645</th>\n",
       "      <td>Thus , it is persuasive that surveillance tech...</td>\n",
       "      <td>Thus , surveillance technology such as RFID sh...</td>\n",
       "      <td>0.497732</td>\n",
       "      <td>0.970883</td>\n",
       "      <td>1</td>\n",
       "    </tr>\n",
       "  </tbody>\n",
       "</table>\n",
       "<p>325 rows × 5 columns</p>\n",
       "</div>"
      ],
      "text/plain": [
       "                                                text_src  \\\n",
       "14963  Even if a minority will have no intention to t...   \n",
       "19124  It may be objected that despite great accommod...   \n",
       "27646  Furthermore , the federal government ignored a...   \n",
       "30054  Normal employees are not inspirited also limit...   \n",
       "15812  This harsh behavior brings fear to adult who i...   \n",
       "...                                                  ...   \n",
       "28917                                     ( Option 1 ) .   \n",
       "4287   Thus , due to the implications of many other p...   \n",
       "15281  The ability of the government is limited , and...   \n",
       "21473  However for someone , this benefit is just the...   \n",
       "56645  Thus , it is persuasive that surveillance tech...   \n",
       "\n",
       "                                                text_tgt  cos_src_tgt  \\\n",
       "14963                                                  .    -0.246615   \n",
       "19124                                                       -0.228636   \n",
       "27646                                                       -0.216451   \n",
       "30054                                                       -0.198910   \n",
       "15812                                                       -0.188985   \n",
       "...                                                  ...          ...   \n",
       "28917                                                        0.480066   \n",
       "4287   Thus , due to the implications of a positive g...     0.483054   \n",
       "15281         The ability of the government is limited .     0.489685   \n",
       "21473     However for some people , this benefit is just     0.493156   \n",
       "56645  Thus , surveillance technology such as RFID sh...     0.497732   \n",
       "\n",
       "       cos_check  have_change  \n",
       "14963   0.974864            1  \n",
       "19124   0.972713            1  \n",
       "27646   0.977595            1  \n",
       "30054   0.973263            1  \n",
       "15812   0.969514            1  \n",
       "...          ...          ...  \n",
       "28917   0.962951            1  \n",
       "4287    0.977810            1  \n",
       "15281   0.975838            1  \n",
       "21473   0.976178            1  \n",
       "56645   0.970883            1  \n",
       "\n",
       "[325 rows x 5 columns]"
      ]
     },
     "execution_count": 159,
     "metadata": {},
     "output_type": "execute_result"
    }
   ],
   "source": [
    "show_cos_src_tgt_dataset(nucle_df, min_cos_src_tgt_sim=0.5)"
   ]
  },
  {
   "cell_type": "code",
   "execution_count": 181,
   "metadata": {},
   "outputs": [
    {
     "name": "stdout",
     "output_type": "stream",
     "text": [
      "Initial statistics\n",
      "Count of rows:  57151\n",
      "Count of rows with change:  21834\n",
      "Rate of rows with change:  0.38\n",
      "\n",
      "Drop dulicates\n",
      "Count of rows:  53681\n",
      "Diff count:  3470\n",
      "Count of rows with change:  21830\n",
      "Rate of rows with change:  0.41\n",
      "\n",
      "Drop where len less 5 and less then 1 token\n",
      "Count of rows:  53275\n",
      "Diff count:  406\n",
      "Count of rows with change:  21575\n",
      "Rate of rows with change:  0.4\n",
      "\n",
      "Drop where start from non-capital\n",
      "Count of rows:  52813\n",
      "Diff count:  462\n",
      "Count of rows with change:  21340\n",
      "Rate of rows with change:  0.4\n",
      "\n",
      "Drop where all capital\n",
      "Count of rows:  52550\n",
      "Diff count:  263\n",
      "Count of rows with change:  21321\n",
      "Rate of rows with change:  0.41\n",
      "\n",
      "Drop where cosine similarity between src and tgt is less than  0.5\n",
      "Count of rows:  52488\n",
      "Diff count:  62\n",
      "Count of rows with change:  21259\n",
      "Rate of rows with change:  0.41\n",
      "\n",
      "Final rate of cleaned data:  0.92\n"
     ]
    }
   ],
   "source": [
    "clean_nucle = basic_clean(nucle_df, show = True, min_cos_src_tgt_sim=0.5)"
   ]
  },
  {
   "cell_type": "markdown",
   "metadata": {},
   "source": [
    "### FCE"
   ]
  },
  {
   "cell_type": "code",
   "execution_count": 40,
   "metadata": {},
   "outputs": [
    {
     "data": {
      "application/vnd.jupyter.widget-view+json": {
       "model_id": "ef6081b931ee418481835947d7d52b13",
       "version_major": 2,
       "version_minor": 0
      },
      "text/plain": [
       "HBox(children=(HTML(value=''), FloatProgress(value=0.0, max=28350.0), HTML(value='')))"
      ]
     },
     "metadata": {},
     "output_type": "display_data"
    },
    {
     "name": "stdout",
     "output_type": "stream",
     "text": [
      "\n"
     ]
    }
   ],
   "source": [
    "text_src = read_lines(\"../../data_parallel/fce/fce_train_src\")\n",
    "text_tgt = read_lines(\"../../data_parallel/fce/fce_train_tgt\")\n",
    "\n",
    "with open(\"../Clustering/data/fce_train_src_embed.pickle\", \"rb\") as f:\n",
    "    vectors_src = pickle.load(f)\n",
    "\n",
    "with open(\"../Clustering/data/fce_train_tgt_embed.pickle\", \"rb\") as f:\n",
    "    vectors_tgt = pickle.load(f)\n",
    "    \n",
    "cos_sim = []\n",
    "for i in tqdm(range(len(vectors_src))):\n",
    "    cos_sim.append(cosine_similarity([vectors_src[i]],[vectors_tgt[i]])[0,0])"
   ]
  },
  {
   "cell_type": "code",
   "execution_count": 41,
   "metadata": {},
   "outputs": [],
   "source": [
    "with open(\"../Checkpoint_exp/fce_cos.pickle\", \"rb\") as f:\n",
    "    cos_check = pickle.load(f)"
   ]
  },
  {
   "cell_type": "code",
   "execution_count": 42,
   "metadata": {},
   "outputs": [],
   "source": [
    "fce_df = pd.DataFrame({\"text_src\": text_src, \"text_tgt\": text_tgt, \"cos_src_tgt\": cos_sim, \"cos_check\": cos_check})"
   ]
  },
  {
   "cell_type": "code",
   "execution_count": 43,
   "metadata": {},
   "outputs": [
    {
     "data": {
      "image/png": "[encoded data removed]",
      "text/plain": [
       "<Figure size 842.4x451.44 with 1 Axes>"
      ]
     },
     "metadata": {},
     "output_type": "display_data"
    }
   ],
   "source": [
    "g = plot_cos_src_tgt(fce_df)\n",
    "plt.xticks(np.arange(0, 1, 0.1))\n",
    "plt.show()"
   ]
  },
  {
   "cell_type": "code",
   "execution_count": 155,
   "metadata": {},
   "outputs": [
    {
     "data": {
      "text/html": [
       "<div>\n",
       "<style scoped>\n",
       "    .dataframe tbody tr th:only-of-type {\n",
       "        vertical-align: middle;\n",
       "    }\n",
       "\n",
       "    .dataframe tbody tr th {\n",
       "        vertical-align: top;\n",
       "    }\n",
       "\n",
       "    .dataframe thead th {\n",
       "        text-align: right;\n",
       "    }\n",
       "</style>\n",
       "<table border=\"1\" class=\"dataframe\">\n",
       "  <thead>\n",
       "    <tr style=\"text-align: right;\">\n",
       "      <th></th>\n",
       "      <th>text_src</th>\n",
       "      <th>text_tgt</th>\n",
       "      <th>cos_src_tgt</th>\n",
       "      <th>cos_check</th>\n",
       "      <th>have_change</th>\n",
       "    </tr>\n",
       "  </thead>\n",
       "  <tbody>\n",
       "    <tr>\n",
       "      <th>18933</th>\n",
       "      <td>befor the beggining ?</td>\n",
       "      <td>before the beginning ?</td>\n",
       "      <td>0.061627</td>\n",
       "      <td>0.963681</td>\n",
       "      <td>1</td>\n",
       "    </tr>\n",
       "    <tr>\n",
       "      <th>25815</th>\n",
       "      <td>i was abset of it .</td>\n",
       "      <td>I was upset about it .</td>\n",
       "      <td>0.083509</td>\n",
       "      <td>0.977990</td>\n",
       "      <td>1</td>\n",
       "    </tr>\n",
       "    <tr>\n",
       "      <th>15235</th>\n",
       "      <td>It was alwais the saim .</td>\n",
       "      <td>It was always the same .</td>\n",
       "      <td>0.095632</td>\n",
       "      <td>0.974045</td>\n",
       "      <td>1</td>\n",
       "    </tr>\n",
       "    <tr>\n",
       "      <th>14886</th>\n",
       "      <td>Becaue</td>\n",
       "      <td>Because</td>\n",
       "      <td>0.147442</td>\n",
       "      <td>0.946754</td>\n",
       "      <td>1</td>\n",
       "    </tr>\n",
       "    <tr>\n",
       "      <th>17632</th>\n",
       "      <td>Staying in a que or croude is also unplesent .</td>\n",
       "      <td>Staying in a queue or crowd is also unpleasant .</td>\n",
       "      <td>0.157074</td>\n",
       "      <td>0.975612</td>\n",
       "      <td>1</td>\n",
       "    </tr>\n",
       "    <tr>\n",
       "      <th>...</th>\n",
       "      <td>...</td>\n",
       "      <td>...</td>\n",
       "      <td>...</td>\n",
       "      <td>...</td>\n",
       "      <td>...</td>\n",
       "    </tr>\n",
       "    <tr>\n",
       "      <th>7126</th>\n",
       "      <td>Yours sincerly</td>\n",
       "      <td>Yours sincerely</td>\n",
       "      <td>0.498015</td>\n",
       "      <td>0.895851</td>\n",
       "      <td>1</td>\n",
       "    </tr>\n",
       "    <tr>\n",
       "      <th>20112</th>\n",
       "      <td>Yours sincerly</td>\n",
       "      <td>Yours sincerely</td>\n",
       "      <td>0.498015</td>\n",
       "      <td>0.895851</td>\n",
       "      <td>1</td>\n",
       "    </tr>\n",
       "    <tr>\n",
       "      <th>25967</th>\n",
       "      <td>Firstly , you did not tell the truth about sta...</td>\n",
       "      <td>Firstly , you did not tell the truth about the...</td>\n",
       "      <td>0.498453</td>\n",
       "      <td>0.979082</td>\n",
       "      <td>1</td>\n",
       "    </tr>\n",
       "    <tr>\n",
       "      <th>15874</th>\n",
       "      <td>Why not go to sock exchange ? '</td>\n",
       "      <td>Why not go to the stock exchange ? '</td>\n",
       "      <td>0.499613</td>\n",
       "      <td>0.978991</td>\n",
       "      <td>1</td>\n",
       "    </tr>\n",
       "    <tr>\n",
       "      <th>19001</th>\n",
       "      <td>Her husband was being fried last year .</td>\n",
       "      <td>Her husband had been fired the previous year .</td>\n",
       "      <td>0.499787</td>\n",
       "      <td>0.978184</td>\n",
       "      <td>1</td>\n",
       "    </tr>\n",
       "  </tbody>\n",
       "</table>\n",
       "<p>184 rows × 5 columns</p>\n",
       "</div>"
      ],
      "text/plain": [
       "                                                text_src  \\\n",
       "18933                              befor the beggining ?   \n",
       "25815                                i was abset of it .   \n",
       "15235                           It was alwais the saim .   \n",
       "14886                                             Becaue   \n",
       "17632     Staying in a que or croude is also unplesent .   \n",
       "...                                                  ...   \n",
       "7126                                      Yours sincerly   \n",
       "20112                                     Yours sincerly   \n",
       "25967  Firstly , you did not tell the truth about sta...   \n",
       "15874                    Why not go to sock exchange ? '   \n",
       "19001            Her husband was being fried last year .   \n",
       "\n",
       "                                                text_tgt  cos_src_tgt  \\\n",
       "18933                             before the beginning ?     0.061627   \n",
       "25815                             I was upset about it .     0.083509   \n",
       "15235                           It was always the same .     0.095632   \n",
       "14886                                            Because     0.147442   \n",
       "17632   Staying in a queue or crowd is also unpleasant .     0.157074   \n",
       "...                                                  ...          ...   \n",
       "7126                                     Yours sincerely     0.498015   \n",
       "20112                                    Yours sincerely     0.498015   \n",
       "25967  Firstly , you did not tell the truth about the...     0.498453   \n",
       "15874               Why not go to the stock exchange ? '     0.499613   \n",
       "19001     Her husband had been fired the previous year .     0.499787   \n",
       "\n",
       "       cos_check  have_change  \n",
       "18933   0.963681            1  \n",
       "25815   0.977990            1  \n",
       "15235   0.974045            1  \n",
       "14886   0.946754            1  \n",
       "17632   0.975612            1  \n",
       "...          ...          ...  \n",
       "7126    0.895851            1  \n",
       "20112   0.895851            1  \n",
       "25967   0.979082            1  \n",
       "15874   0.978991            1  \n",
       "19001   0.978184            1  \n",
       "\n",
       "[184 rows x 5 columns]"
      ]
     },
     "execution_count": 155,
     "metadata": {},
     "output_type": "execute_result"
    }
   ],
   "source": [
    "show_cos_src_tgt_dataset(fce_df, min_cos_src_tgt_sim=0.5)"
   ]
  },
  {
   "cell_type": "code",
   "execution_count": 55,
   "metadata": {},
   "outputs": [
    {
     "data": {
      "text/plain": [
       "array(['I would like to travel only in July because I will take some hollydays at this time .',\n",
       "       'I would like to travel only in July because I will have some holiday at that time .',\n",
       "       0.7999153137207031, 0.97819734, 1], dtype=object)"
      ]
     },
     "execution_count": 55,
     "metadata": {},
     "output_type": "execute_result"
    }
   ],
   "source": [
    "fce_df.loc[7278].values"
   ]
  },
  {
   "cell_type": "code",
   "execution_count": 237,
   "metadata": {},
   "outputs": [
    {
     "name": "stdout",
     "output_type": "stream",
     "text": [
      "Initial statistics\n",
      "Count of rows:  28350\n",
      "Count of rows with change:  17742\n",
      "Rate of rows with change:  0.63\n",
      "\n",
      "Drop dulicates\n",
      "Count of rows:  25707\n",
      "Diff count:  2643\n",
      "Count of rows with change:  17540\n",
      "Rate of rows with change:  0.68\n",
      "\n",
      "Drop where len less 5 and less then 1 token\n",
      "Count of rows:  25550\n",
      "Diff count:  157\n",
      "Count of rows with change:  17523\n",
      "Rate of rows with change:  0.69\n",
      "\n",
      "Drop where start from non-capital\n",
      "Count of rows:  25426\n",
      "Diff count:  124\n",
      "Count of rows with change:  17455\n",
      "Rate of rows with change:  0.69\n",
      "\n",
      "Drop where all capital\n",
      "Count of rows:  25033\n",
      "Diff count:  393\n",
      "Count of rows with change:  17220\n",
      "Rate of rows with change:  0.69\n",
      "\n",
      "Drop where cosine similarity between src and tgt is less than  0.5\n",
      "Count of rows:  24877\n",
      "Diff count:  156\n",
      "Count of rows with change:  17064\n",
      "Rate of rows with change:  0.69\n",
      "\n",
      "Final rate of cleaned data:  0.88\n"
     ]
    }
   ],
   "source": [
    "clean_fce = basic_clean(fce_df, show = True, min_cos_src_tgt_sim=0.5)"
   ]
  },
  {
   "cell_type": "markdown",
   "metadata": {},
   "source": [
    "## Lang8"
   ]
  },
  {
   "cell_type": "code",
   "execution_count": 61,
   "metadata": {},
   "outputs": [
    {
     "data": {
      "application/vnd.jupyter.widget-view+json": {
       "model_id": "2ff8a4002e9a40e390967cf0e9ee6dab",
       "version_major": 2,
       "version_minor": 0
      },
      "text/plain": [
       "HBox(children=(HTML(value=''), FloatProgress(value=0.0, max=1037561.0), HTML(value='')))"
      ]
     },
     "metadata": {},
     "output_type": "display_data"
    },
    {
     "name": "stdout",
     "output_type": "stream",
     "text": [
      "\n"
     ]
    }
   ],
   "source": [
    "text_src = read_lines(\"../../data_parallel/lang8/lang8_src\")\n",
    "text_tgt = read_lines(\"../../data_parallel/lang8/lang8_tgt\")\n",
    "\n",
    "with open(\"../Clustering/data/lang8_train_src_embed.pickle\", \"rb\") as f:\n",
    "    vectors_src = pickle.load(f)\n",
    "\n",
    "with open(\"../Clustering/data/lang8_train_tgt_embed.pickle\", \"rb\") as f:\n",
    "    vectors_tgt = pickle.load(f)\n",
    "    \n",
    "cos_sim = []\n",
    "for i in tqdm(range(len(vectors_src))):\n",
    "    cos_sim.append(cosine_similarity([vectors_src[i]],[vectors_tgt[i]])[0,0])"
   ]
  },
  {
   "cell_type": "code",
   "execution_count": 63,
   "metadata": {},
   "outputs": [],
   "source": [
    "with open(\"../Checkpoint_exp/lang8_cos.pickle\", \"rb\") as f:\n",
    "    cos_check = pickle.load(f)"
   ]
  },
  {
   "cell_type": "code",
   "execution_count": 64,
   "metadata": {},
   "outputs": [],
   "source": [
    "lang8_df = pd.DataFrame({\"text_src\": text_src, \"text_tgt\": text_tgt, \"cos_src_tgt\": cos_sim, \"cos_check\": cos_check})"
   ]
  },
  {
   "cell_type": "code",
   "execution_count": 65,
   "metadata": {},
   "outputs": [
    {
     "data": {
      "image/png": "[encoded data removed]",
      "text/plain": [
       "<Figure size 842.4x451.44 with 1 Axes>"
      ]
     },
     "metadata": {},
     "output_type": "display_data"
    }
   ],
   "source": [
    "g = plot_cos_src_tgt(lang8_df)\n",
    "plt.xticks(np.arange(0, 1, 0.1))\n",
    "plt.show()"
   ]
  },
  {
   "cell_type": "code",
   "execution_count": 157,
   "metadata": {},
   "outputs": [
    {
     "data": {
      "text/html": [
       "<div>\n",
       "<style scoped>\n",
       "    .dataframe tbody tr th:only-of-type {\n",
       "        vertical-align: middle;\n",
       "    }\n",
       "\n",
       "    .dataframe tbody tr th {\n",
       "        vertical-align: top;\n",
       "    }\n",
       "\n",
       "    .dataframe thead th {\n",
       "        text-align: right;\n",
       "    }\n",
       "</style>\n",
       "<table border=\"1\" class=\"dataframe\">\n",
       "  <thead>\n",
       "    <tr style=\"text-align: right;\">\n",
       "      <th></th>\n",
       "      <th>text_src</th>\n",
       "      <th>text_tgt</th>\n",
       "      <th>cos_src_tgt</th>\n",
       "      <th>cos_check</th>\n",
       "      <th>have_change</th>\n",
       "    </tr>\n",
       "  </thead>\n",
       "  <tbody>\n",
       "    <tr>\n",
       "      <th>300445</th>\n",
       "      <td>So I do easy to the society 's exchange .</td>\n",
       "      <td>I do n't understand this phrase .</td>\n",
       "      <td>-0.129838</td>\n",
       "      <td>0.976939</td>\n",
       "      <td>1</td>\n",
       "    </tr>\n",
       "    <tr>\n",
       "      <th>504480</th>\n",
       "      <td>is japanese holiday .</td>\n",
       "      <td>.</td>\n",
       "      <td>-0.107871</td>\n",
       "      <td>0.976343</td>\n",
       "      <td>1</td>\n",
       "    </tr>\n",
       "    <tr>\n",
       "      <th>620960</th>\n",
       "      <td>Because I like fish .</td>\n",
       "      <td>See above .</td>\n",
       "      <td>-0.077993</td>\n",
       "      <td>0.978164</td>\n",
       "      <td>1</td>\n",
       "    </tr>\n",
       "    <tr>\n",
       "      <th>746006</th>\n",
       "      <td>I can t explain how it ached . . .</td>\n",
       "      <td>kotoba ni naranai kurai itai . . .</td>\n",
       "      <td>-0.077581</td>\n",
       "      <td>0.976457</td>\n",
       "      <td>1</td>\n",
       "    </tr>\n",
       "    <tr>\n",
       "      <th>542854</th>\n",
       "      <td>The show started .</td>\n",
       "      <td>Incomplete sentence .</td>\n",
       "      <td>-0.069533</td>\n",
       "      <td>0.975724</td>\n",
       "      <td>1</td>\n",
       "    </tr>\n",
       "    <tr>\n",
       "      <th>...</th>\n",
       "      <td>...</td>\n",
       "      <td>...</td>\n",
       "      <td>...</td>\n",
       "      <td>...</td>\n",
       "      <td>...</td>\n",
       "    </tr>\n",
       "    <tr>\n",
       "      <th>38016</th>\n",
       "      <td>It was so fan : )</td>\n",
       "      <td>It was so fun : )</td>\n",
       "      <td>0.499790</td>\n",
       "      <td>0.978070</td>\n",
       "      <td>1</td>\n",
       "    </tr>\n",
       "    <tr>\n",
       "      <th>837511</th>\n",
       "      <td>So , I would manage to write just on time .</td>\n",
       "      <td>So , I manage to write just one essay .</td>\n",
       "      <td>0.499823</td>\n",
       "      <td>0.981104</td>\n",
       "      <td>1</td>\n",
       "    </tr>\n",
       "    <tr>\n",
       "      <th>80969</th>\n",
       "      <td>How are yor ?</td>\n",
       "      <td>How are you ?</td>\n",
       "      <td>0.499925</td>\n",
       "      <td>0.969870</td>\n",
       "      <td>1</td>\n",
       "    </tr>\n",
       "    <tr>\n",
       "      <th>878999</th>\n",
       "      <td>I ca n't have a holiday in every weekend recen...</td>\n",
       "      <td>I 've had to work ( during ) every weekend rec...</td>\n",
       "      <td>0.499926</td>\n",
       "      <td>0.972759</td>\n",
       "      <td>1</td>\n",
       "    </tr>\n",
       "    <tr>\n",
       "      <th>536725</th>\n",
       "      <td>I must to known Englisn language is very good .</td>\n",
       "      <td>I need to learn good English .</td>\n",
       "      <td>0.499959</td>\n",
       "      <td>0.978990</td>\n",
       "      <td>1</td>\n",
       "    </tr>\n",
       "  </tbody>\n",
       "</table>\n",
       "<p>7234 rows × 5 columns</p>\n",
       "</div>"
      ],
      "text/plain": [
       "                                                 text_src  \\\n",
       "300445          So I do easy to the society 's exchange .   \n",
       "504480                              is japanese holiday .   \n",
       "620960                              Because I like fish .   \n",
       "746006                 I can t explain how it ached . . .   \n",
       "542854                                 The show started .   \n",
       "...                                                   ...   \n",
       "38016                                   It was so fan : )   \n",
       "837511        So , I would manage to write just on time .   \n",
       "80969                                       How are yor ?   \n",
       "878999  I ca n't have a holiday in every weekend recen...   \n",
       "536725    I must to known Englisn language is very good .   \n",
       "\n",
       "                                                 text_tgt  cos_src_tgt  \\\n",
       "300445                  I do n't understand this phrase .    -0.129838   \n",
       "504480                                                  .    -0.107871   \n",
       "620960                                        See above .    -0.077993   \n",
       "746006                 kotoba ni naranai kurai itai . . .    -0.077581   \n",
       "542854                              Incomplete sentence .    -0.069533   \n",
       "...                                                   ...          ...   \n",
       "38016                                   It was so fun : )     0.499790   \n",
       "837511            So , I manage to write just one essay .     0.499823   \n",
       "80969                                       How are you ?     0.499925   \n",
       "878999  I 've had to work ( during ) every weekend rec...     0.499926   \n",
       "536725                     I need to learn good English .     0.499959   \n",
       "\n",
       "        cos_check  have_change  \n",
       "300445   0.976939            1  \n",
       "504480   0.976343            1  \n",
       "620960   0.978164            1  \n",
       "746006   0.976457            1  \n",
       "542854   0.975724            1  \n",
       "...           ...          ...  \n",
       "38016    0.978070            1  \n",
       "837511   0.981104            1  \n",
       "80969    0.969870            1  \n",
       "878999   0.972759            1  \n",
       "536725   0.978990            1  \n",
       "\n",
       "[7234 rows x 5 columns]"
      ]
     },
     "execution_count": 157,
     "metadata": {},
     "output_type": "execute_result"
    }
   ],
   "source": [
    "show_cos_src_tgt_dataset(lang8_df, min_cos_src_tgt_sim=0.5)"
   ]
  },
  {
   "cell_type": "code",
   "execution_count": 67,
   "metadata": {},
   "outputs": [
    {
     "data": {
      "text/plain": [
       "array(['Actually , many companies lately try to establish new management systems by juggling teamwork and outstanding characters .',\n",
       "       'Actually , lately many companies have recently been trying to establish new management systems by finding a balance between teamwork and individual success .',\n",
       "       0.7999920845031738, 0.9709615], dtype=object)"
      ]
     },
     "execution_count": 67,
     "metadata": {},
     "output_type": "execute_result"
    }
   ],
   "source": [
    "lang8_df.loc[991930].values"
   ]
  },
  {
   "cell_type": "code",
   "execution_count": 238,
   "metadata": {},
   "outputs": [
    {
     "name": "stdout",
     "output_type": "stream",
     "text": [
      "Initial statistics\n",
      "Count of rows:  1037561\n",
      "Count of rows with change:  499205\n",
      "Rate of rows with change:  0.48\n",
      "\n",
      "Drop dulicates\n",
      "Count of rows:  950886\n",
      "Diff count:  86675\n",
      "Count of rows with change:  497292\n",
      "Rate of rows with change:  0.52\n",
      "\n",
      "Drop where len less 5 and less then 1 token\n",
      "Count of rows:  941384\n",
      "Diff count:  9502\n",
      "Count of rows with change:  497039\n",
      "Rate of rows with change:  0.53\n",
      "\n",
      "Drop where start from non-capital\n",
      "Count of rows:  886222\n",
      "Diff count:  55162\n",
      "Count of rows with change:  474060\n",
      "Rate of rows with change:  0.53\n",
      "\n",
      "Drop where all capital\n",
      "Count of rows:  882613\n",
      "Diff count:  3609\n",
      "Count of rows with change:  473811\n",
      "Rate of rows with change:  0.54\n",
      "\n",
      "Drop where cosine similarity between src and tgt is less than  0.5\n",
      "Count of rows:  876206\n",
      "Diff count:  6407\n",
      "Count of rows with change:  467404\n",
      "Rate of rows with change:  0.53\n",
      "\n",
      "Final rate of cleaned data:  0.84\n"
     ]
    }
   ],
   "source": [
    "clean_lang8 = basic_clean(lang8_df, show = True, min_cos_src_tgt_sim=0.5)"
   ]
  },
  {
   "cell_type": "code",
   "execution_count": 71,
   "metadata": {},
   "outputs": [],
   "source": [
    "import copy"
   ]
  },
  {
   "cell_type": "code",
   "execution_count": 164,
   "metadata": {},
   "outputs": [],
   "source": [
    "orig_merge = copy.deepcopy(lang8_df)\n",
    "orig_merge = orig_merge.append(nucle_df)\n",
    "orig_merge = orig_merge.append(fce_df)\n",
    "orig_merge = orig_merge.append(wl_df)"
   ]
  },
  {
   "cell_type": "code",
   "execution_count": 165,
   "metadata": {},
   "outputs": [
    {
     "data": {
      "text/plain": [
       "1157370"
      ]
     },
     "execution_count": 165,
     "metadata": {},
     "output_type": "execute_result"
    }
   ],
   "source": [
    "len(orig_merge)"
   ]
  },
  {
   "cell_type": "code",
   "execution_count": 167,
   "metadata": {},
   "outputs": [
    {
     "data": {
      "text/plain": [
       "561525"
      ]
     },
     "execution_count": 167,
     "metadata": {},
     "output_type": "execute_result"
    }
   ],
   "source": [
    "orig_merge.have_change.sum()"
   ]
  },
  {
   "cell_type": "code",
   "execution_count": 188,
   "metadata": {},
   "outputs": [],
   "source": [
    "merge = copy.deepcopy(clean_lang8)\n",
    "merge = merge.append(clean_nucle)\n",
    "merge = merge.append(clean_fce)\n",
    "merge = merge.append(clean_wl)"
   ]
  },
  {
   "cell_type": "code",
   "execution_count": 121,
   "metadata": {},
   "outputs": [
    {
     "data": {
      "text/plain": [
       "900143"
      ]
     },
     "execution_count": 121,
     "metadata": {},
     "output_type": "execute_result"
    }
   ],
   "source": [
    "len(merge)"
   ]
  },
  {
   "cell_type": "code",
   "execution_count": 123,
   "metadata": {},
   "outputs": [
    {
     "data": {
      "text/plain": [
       "466971"
      ]
     },
     "execution_count": 123,
     "metadata": {},
     "output_type": "execute_result"
    }
   ],
   "source": [
    "merge.have_change.sum()"
   ]
  },
  {
   "cell_type": "code",
   "execution_count": 162,
   "metadata": {},
   "outputs": [
    {
     "data": {
      "text/plain": [
       "990650"
      ]
     },
     "execution_count": 162,
     "metadata": {},
     "output_type": "execute_result"
    }
   ],
   "source": [
    "len(merge)"
   ]
  },
  {
   "cell_type": "code",
   "execution_count": 163,
   "metadata": {
    "scrolled": true
   },
   "outputs": [
    {
     "data": {
      "text/plain": [
       "528637"
      ]
     },
     "execution_count": 163,
     "metadata": {},
     "output_type": "execute_result"
    }
   ],
   "source": [
    "merge.have_change.sum()"
   ]
  },
  {
   "cell_type": "code",
   "execution_count": 189,
   "metadata": {},
   "outputs": [
    {
     "data": {
      "text/plain": [
       "986302"
      ]
     },
     "execution_count": 189,
     "metadata": {},
     "output_type": "execute_result"
    }
   ],
   "source": [
    "len(merge)"
   ]
  },
  {
   "cell_type": "code",
   "execution_count": 190,
   "metadata": {},
   "outputs": [
    {
     "data": {
      "text/plain": [
       "528122"
      ]
     },
     "execution_count": 190,
     "metadata": {},
     "output_type": "execute_result"
    }
   ],
   "source": [
    "merge.have_change.sum()"
   ]
  },
  {
   "cell_type": "markdown",
   "metadata": {},
   "source": [
    "### Split each dataset one by one"
   ]
  },
  {
   "cell_type": "code",
   "execution_count": 273,
   "metadata": {},
   "outputs": [],
   "source": [
    "lang8_train, lang8_dev = train_test_split(clean_lang8, test_size=0.02, random_state=4, stratify=clean_lang8.have_change)\n",
    "nucle_train, nucle_dev = train_test_split(clean_nucle, test_size=0.02, random_state=4, stratify=clean_nucle.have_change)\n",
    "fce_train, fce_dev = train_test_split(clean_fce, test_size=0.02, random_state=4, stratify=clean_fce.have_change)\n",
    "wl_train, wl_dev = train_test_split(clean_wl, test_size=0.02, random_state=4, stratify=clean_wl.have_change)"
   ]
  },
  {
   "cell_type": "code",
   "execution_count": 274,
   "metadata": {},
   "outputs": [],
   "source": [
    "clean_merge_train = copy.deepcopy(lang8_train)\n",
    "clean_merge_train = clean_merge_train.append(nucle_train)\n",
    "clean_merge_train = clean_merge_train.append(fce_train)\n",
    "clean_merge_train = clean_merge_train.append(wl_train)"
   ]
  },
  {
   "cell_type": "code",
   "execution_count": 275,
   "metadata": {},
   "outputs": [],
   "source": [
    "clean_merge_dev = copy.deepcopy(lang8_dev)\n",
    "clean_merge_dev = clean_merge_dev.append(nucle_dev)\n",
    "clean_merge_dev = clean_merge_dev.append(fce_dev)\n",
    "clean_merge_dev = clean_merge_dev.append(wl_dev)"
   ]
  },
  {
   "cell_type": "code",
   "execution_count": 276,
   "metadata": {},
   "outputs": [
    {
     "data": {
      "text/html": [
       "<div>\n",
       "<style scoped>\n",
       "    .dataframe tbody tr th:only-of-type {\n",
       "        vertical-align: middle;\n",
       "    }\n",
       "\n",
       "    .dataframe tbody tr th {\n",
       "        vertical-align: top;\n",
       "    }\n",
       "\n",
       "    .dataframe thead th {\n",
       "        text-align: right;\n",
       "    }\n",
       "</style>\n",
       "<table border=\"1\" class=\"dataframe\">\n",
       "  <thead>\n",
       "    <tr style=\"text-align: right;\">\n",
       "      <th></th>\n",
       "      <th>text_src</th>\n",
       "      <th>text_tgt</th>\n",
       "      <th>cos_src_tgt</th>\n",
       "      <th>cos_check</th>\n",
       "      <th>have_change</th>\n",
       "    </tr>\n",
       "  </thead>\n",
       "  <tbody>\n",
       "    <tr>\n",
       "      <th>345945</th>\n",
       "      <td>When it snows , it often follows rain .</td>\n",
       "      <td>When it snows , it often follows rain .</td>\n",
       "      <td>1.000000</td>\n",
       "      <td>0.975039</td>\n",
       "      <td>0</td>\n",
       "    </tr>\n",
       "    <tr>\n",
       "      <th>941148</th>\n",
       "      <td>He got rid of it , but took some photos for me...</td>\n",
       "      <td>He got rid of it , but took some photos for me...</td>\n",
       "      <td>1.000000</td>\n",
       "      <td>0.977283</td>\n",
       "      <td>0</td>\n",
       "    </tr>\n",
       "    <tr>\n",
       "      <th>679806</th>\n",
       "      <td>Anyway , I have been really refreshed during m...</td>\n",
       "      <td>Anyway , I have been really refreshed during m...</td>\n",
       "      <td>1.000000</td>\n",
       "      <td>0.981497</td>\n",
       "      <td>0</td>\n",
       "    </tr>\n",
       "    <tr>\n",
       "      <th>768651</th>\n",
       "      <td>Yesterday , After the tennis school finished ,...</td>\n",
       "      <td>Yesterday , after the tennis class finished , ...</td>\n",
       "      <td>0.975151</td>\n",
       "      <td>0.978811</td>\n",
       "      <td>1</td>\n",
       "    </tr>\n",
       "    <tr>\n",
       "      <th>707268</th>\n",
       "      <td>It 's first diary . . . : )</td>\n",
       "      <td>This is my first diary entry . . . : )</td>\n",
       "      <td>0.942790</td>\n",
       "      <td>0.978728</td>\n",
       "      <td>1</td>\n",
       "    </tr>\n",
       "  </tbody>\n",
       "</table>\n",
       "</div>"
      ],
      "text/plain": [
       "                                                 text_src  \\\n",
       "345945            When it snows , it often follows rain .   \n",
       "941148  He got rid of it , but took some photos for me...   \n",
       "679806  Anyway , I have been really refreshed during m...   \n",
       "768651  Yesterday , After the tennis school finished ,...   \n",
       "707268                        It 's first diary . . . : )   \n",
       "\n",
       "                                                 text_tgt  cos_src_tgt  \\\n",
       "345945            When it snows , it often follows rain .     1.000000   \n",
       "941148  He got rid of it , but took some photos for me...     1.000000   \n",
       "679806  Anyway , I have been really refreshed during m...     1.000000   \n",
       "768651  Yesterday , after the tennis class finished , ...     0.975151   \n",
       "707268             This is my first diary entry . . . : )     0.942790   \n",
       "\n",
       "        cos_check  have_change  \n",
       "345945   0.975039            0  \n",
       "941148   0.977283            0  \n",
       "679806   0.981497            0  \n",
       "768651   0.978811            1  \n",
       "707268   0.978728            1  "
      ]
     },
     "execution_count": 276,
     "metadata": {},
     "output_type": "execute_result"
    }
   ],
   "source": [
    "clean_merge_train.head()"
   ]
  },
  {
   "cell_type": "code",
   "execution_count": 279,
   "metadata": {},
   "outputs": [],
   "source": [
    "clean_merge_train[\"cos_check\"] = clean_merge_train[\"cos_check\"].fillna(1)"
   ]
  },
  {
   "cell_type": "code",
   "execution_count": 285,
   "metadata": {},
   "outputs": [
    {
     "data": {
      "text/html": [
       "<div>\n",
       "<style scoped>\n",
       "    .dataframe tbody tr th:only-of-type {\n",
       "        vertical-align: middle;\n",
       "    }\n",
       "\n",
       "    .dataframe tbody tr th {\n",
       "        vertical-align: top;\n",
       "    }\n",
       "\n",
       "    .dataframe thead th {\n",
       "        text-align: right;\n",
       "    }\n",
       "</style>\n",
       "<table border=\"1\" class=\"dataframe\">\n",
       "  <thead>\n",
       "    <tr style=\"text-align: right;\">\n",
       "      <th></th>\n",
       "      <th>text_src</th>\n",
       "      <th>text_tgt</th>\n",
       "      <th>cos_src_tgt</th>\n",
       "      <th>cos_check</th>\n",
       "      <th>have_change</th>\n",
       "    </tr>\n",
       "  </thead>\n",
       "  <tbody>\n",
       "    <tr>\n",
       "      <th>615345</th>\n",
       "      <td>- - - - - - - - - - - - - - - - - - - - - - - ...</td>\n",
       "      <td>- - - - - - - - - - - - - - - - - - - - - - - ...</td>\n",
       "      <td>1.000000</td>\n",
       "      <td>0.781497</td>\n",
       "      <td>0</td>\n",
       "    </tr>\n",
       "    <tr>\n",
       "      <th>480615</th>\n",
       "      <td>- - - - - - - - - - - - - - - - - - - - - - - ...</td>\n",
       "      <td>- - - - - - - - - - - - - - - - - - - - - - - ...</td>\n",
       "      <td>1.000000</td>\n",
       "      <td>0.781497</td>\n",
       "      <td>0</td>\n",
       "    </tr>\n",
       "    <tr>\n",
       "      <th>339061</th>\n",
       "      <td>- - - - - - - - - - - - - - - - - - - - - - - ...</td>\n",
       "      <td>- - - - - - - - - - - - - - - - - - - - - - - ...</td>\n",
       "      <td>1.000000</td>\n",
       "      <td>0.781497</td>\n",
       "      <td>0</td>\n",
       "    </tr>\n",
       "    <tr>\n",
       "      <th>212427</th>\n",
       "      <td>Diary - - - - - - - - - - - - - - - - - - - - ...</td>\n",
       "      <td>Diary - - - - - - - - - - - - - - - - - - - - ...</td>\n",
       "      <td>1.000000</td>\n",
       "      <td>0.806920</td>\n",
       "      <td>0</td>\n",
       "    </tr>\n",
       "    <tr>\n",
       "      <th>147403</th>\n",
       "      <td>* * * * * * * * * @ yahoo . co . jp</td>\n",
       "      <td>* * * * * * * * * @ yahoo . co . jp</td>\n",
       "      <td>1.000000</td>\n",
       "      <td>0.820208</td>\n",
       "      <td>0</td>\n",
       "    </tr>\n",
       "    <tr>\n",
       "      <th>...</th>\n",
       "      <td>...</td>\n",
       "      <td>...</td>\n",
       "      <td>...</td>\n",
       "      <td>...</td>\n",
       "      <td>...</td>\n",
       "    </tr>\n",
       "    <tr>\n",
       "      <th>7208</th>\n",
       "      <td>Moreover , if you have a good ability you can ...</td>\n",
       "      <td>Moreover , if you have good ability , you can ...</td>\n",
       "      <td>0.986160</td>\n",
       "      <td>1.000000</td>\n",
       "      <td>1</td>\n",
       "    </tr>\n",
       "    <tr>\n",
       "      <th>18330</th>\n",
       "      <td>Most doctors recommend doing this .</td>\n",
       "      <td>Most doctors recommend doing this .</td>\n",
       "      <td>1.000000</td>\n",
       "      <td>1.000000</td>\n",
       "      <td>0</td>\n",
       "    </tr>\n",
       "    <tr>\n",
       "      <th>6204</th>\n",
       "      <td>Relatively some people unwilling join military...</td>\n",
       "      <td>Some people are unwilling to do military servi...</td>\n",
       "      <td>0.934567</td>\n",
       "      <td>1.000000</td>\n",
       "      <td>1</td>\n",
       "    </tr>\n",
       "    <tr>\n",
       "      <th>311</th>\n",
       "      <td>( On those times there were diverse monster , ...</td>\n",
       "      <td>( In those times , there were diverse monsters...</td>\n",
       "      <td>0.963007</td>\n",
       "      <td>1.000000</td>\n",
       "      <td>1</td>\n",
       "    </tr>\n",
       "    <tr>\n",
       "      <th>21425</th>\n",
       "      <td>I strongly advice to see that , there is an En...</td>\n",
       "      <td>I strongly advise you to see that , and there ...</td>\n",
       "      <td>0.961399</td>\n",
       "      <td>1.000000</td>\n",
       "      <td>1</td>\n",
       "    </tr>\n",
       "  </tbody>\n",
       "</table>\n",
       "<p>966574 rows × 5 columns</p>\n",
       "</div>"
      ],
      "text/plain": [
       "                                                 text_src  \\\n",
       "615345  - - - - - - - - - - - - - - - - - - - - - - - ...   \n",
       "480615  - - - - - - - - - - - - - - - - - - - - - - - ...   \n",
       "339061  - - - - - - - - - - - - - - - - - - - - - - - ...   \n",
       "212427  Diary - - - - - - - - - - - - - - - - - - - - ...   \n",
       "147403                * * * * * * * * * @ yahoo . co . jp   \n",
       "...                                                   ...   \n",
       "7208    Moreover , if you have a good ability you can ...   \n",
       "18330                 Most doctors recommend doing this .   \n",
       "6204    Relatively some people unwilling join military...   \n",
       "311     ( On those times there were diverse monster , ...   \n",
       "21425   I strongly advice to see that , there is an En...   \n",
       "\n",
       "                                                 text_tgt  cos_src_tgt  \\\n",
       "615345  - - - - - - - - - - - - - - - - - - - - - - - ...     1.000000   \n",
       "480615  - - - - - - - - - - - - - - - - - - - - - - - ...     1.000000   \n",
       "339061  - - - - - - - - - - - - - - - - - - - - - - - ...     1.000000   \n",
       "212427  Diary - - - - - - - - - - - - - - - - - - - - ...     1.000000   \n",
       "147403                * * * * * * * * * @ yahoo . co . jp     1.000000   \n",
       "...                                                   ...          ...   \n",
       "7208    Moreover , if you have good ability , you can ...     0.986160   \n",
       "18330                 Most doctors recommend doing this .     1.000000   \n",
       "6204    Some people are unwilling to do military servi...     0.934567   \n",
       "311     ( In those times , there were diverse monsters...     0.963007   \n",
       "21425   I strongly advise you to see that , and there ...     0.961399   \n",
       "\n",
       "        cos_check  have_change  \n",
       "615345   0.781497            0  \n",
       "480615   0.781497            0  \n",
       "339061   0.781497            0  \n",
       "212427   0.806920            0  \n",
       "147403   0.820208            0  \n",
       "...           ...          ...  \n",
       "7208     1.000000            1  \n",
       "18330    1.000000            0  \n",
       "6204     1.000000            1  \n",
       "311      1.000000            1  \n",
       "21425    1.000000            1  \n",
       "\n",
       "[966574 rows x 5 columns]"
      ]
     },
     "execution_count": 285,
     "metadata": {},
     "output_type": "execute_result"
    }
   ],
   "source": [
    "clean_merge_train = clean_merge_train.sort_values(\"cos_check\")\n",
    "clean_merge_train"
   ]
  },
  {
   "cell_type": "code",
   "execution_count": 286,
   "metadata": {},
   "outputs": [],
   "source": [
    "train_src = clean_merge_train.text_src.values \n",
    "train_tgt = clean_merge_train.text_tgt.values \n",
    "dev_src = clean_merge_dev.text_src.values \n",
    "dev_tgt = clean_merge_dev.text_tgt.values "
   ]
  },
  {
   "cell_type": "code",
   "execution_count": 287,
   "metadata": {},
   "outputs": [],
   "source": [
    "path_save = \"../../data_parallel/light_clean_gold_sorted/\""
   ]
  },
  {
   "cell_type": "code",
   "execution_count": 288,
   "metadata": {},
   "outputs": [],
   "source": [
    "write_lines(path_save+\"train_src\", train_src, mode='w')\n",
    "write_lines(path_save+\"train_tgt\", train_tgt, mode='w')\n",
    "write_lines(path_save+\"dev_src\", dev_src, mode='w')\n",
    "write_lines(path_save+\"dev_tgt\", dev_tgt, mode='w')"
   ]
  },
  {
   "cell_type": "code",
   "execution_count": null,
   "metadata": {},
   "outputs": [],
   "source": []
  },
  {
   "cell_type": "code",
   "execution_count": null,
   "metadata": {},
   "outputs": [],
   "source": []
  },
  {
   "cell_type": "code",
   "execution_count": null,
   "metadata": {},
   "outputs": [],
   "source": []
  },
  {
   "cell_type": "code",
   "execution_count": 74,
   "metadata": {},
   "outputs": [],
   "source": [
    "from sklearn.model_selection import train_test_split"
   ]
  },
  {
   "cell_type": "code",
   "execution_count": 75,
   "metadata": {},
   "outputs": [],
   "source": [
    "train, dev = train_test_split(merge, test_size=0.02, random_state=4)"
   ]
  },
  {
   "cell_type": "code",
   "execution_count": 76,
   "metadata": {},
   "outputs": [],
   "source": [
    "train_src = train.text_src.values \n",
    "train_tgt = train.text_tgt.values \n",
    "dev_src = dev.text_src.values \n",
    "dev_tgt = dev.text_tgt.values "
   ]
  },
  {
   "cell_type": "code",
   "execution_count": 77,
   "metadata": {},
   "outputs": [],
   "source": [
    "path_save = \"../../data_parallel/base_clean_gold/\""
   ]
  },
  {
   "cell_type": "code",
   "execution_count": 78,
   "metadata": {},
   "outputs": [],
   "source": [
    "write_lines(path_save+\"train_src\", train_src, mode='w')\n",
    "write_lines(path_save+\"train_tgt\", train_tgt, mode='w')\n",
    "write_lines(path_save+\"dev_src\", dev_src, mode='w')\n",
    "write_lines(path_save+\"dev_tgt\", dev_tgt, mode='w')"
   ]
  },
  {
   "cell_type": "markdown",
   "metadata": {},
   "source": [
    "### Clean with checkpoints"
   ]
  },
  {
   "cell_type": "markdown",
   "metadata": {},
   "source": [
    "### FCE"
   ]
  },
  {
   "cell_type": "code",
   "execution_count": 193,
   "metadata": {},
   "outputs": [
    {
     "data": {
      "image/png": "[encoded data removed]",
      "text/plain": [
       "<Figure size 842.4x451.44 with 1 Axes>"
      ]
     },
     "metadata": {},
     "output_type": "display_data"
    }
   ],
   "source": [
    "g = plot_cos_src_tgt(clean_fce, col=\"cos_check\")"
   ]
  },
  {
   "cell_type": "code",
   "execution_count": 251,
   "metadata": {},
   "outputs": [
    {
     "data": {
      "text/html": [
       "<div>\n",
       "<style scoped>\n",
       "    .dataframe tbody tr th:only-of-type {\n",
       "        vertical-align: middle;\n",
       "    }\n",
       "\n",
       "    .dataframe tbody tr th {\n",
       "        vertical-align: top;\n",
       "    }\n",
       "\n",
       "    .dataframe thead th {\n",
       "        text-align: right;\n",
       "    }\n",
       "</style>\n",
       "<table border=\"1\" class=\"dataframe\">\n",
       "  <thead>\n",
       "    <tr style=\"text-align: right;\">\n",
       "      <th></th>\n",
       "      <th>text_src</th>\n",
       "      <th>text_tgt</th>\n",
       "      <th>cos_src_tgt</th>\n",
       "      <th>cos_check</th>\n",
       "      <th>have_change</th>\n",
       "    </tr>\n",
       "  </thead>\n",
       "  <tbody>\n",
       "    <tr>\n",
       "      <th>26590</th>\n",
       "      <td>Yours fainthfully</td>\n",
       "      <td>Yours faithfully</td>\n",
       "      <td>0.572759</td>\n",
       "      <td>0.868768</td>\n",
       "      <td>1</td>\n",
       "    </tr>\n",
       "    <tr>\n",
       "      <th>2843</th>\n",
       "      <td>Yours faightfully</td>\n",
       "      <td>Yours faithfully</td>\n",
       "      <td>0.544605</td>\n",
       "      <td>0.886463</td>\n",
       "      <td>1</td>\n",
       "    </tr>\n",
       "    <tr>\n",
       "      <th>4287</th>\n",
       "      <td>Yours sinecerely</td>\n",
       "      <td>Yours sincerely</td>\n",
       "      <td>0.688564</td>\n",
       "      <td>0.895373</td>\n",
       "      <td>1</td>\n",
       "    </tr>\n",
       "    <tr>\n",
       "      <th>12721</th>\n",
       "      <td>Your Sincerely</td>\n",
       "      <td>Yours sincerely</td>\n",
       "      <td>0.730466</td>\n",
       "      <td>0.906074</td>\n",
       "      <td>1</td>\n",
       "    </tr>\n",
       "    <tr>\n",
       "      <th>22863</th>\n",
       "      <td>Your Sincerely</td>\n",
       "      <td>Yours Faithfully</td>\n",
       "      <td>0.586604</td>\n",
       "      <td>0.906074</td>\n",
       "      <td>1</td>\n",
       "    </tr>\n",
       "    <tr>\n",
       "      <th>...</th>\n",
       "      <td>...</td>\n",
       "      <td>...</td>\n",
       "      <td>...</td>\n",
       "      <td>...</td>\n",
       "      <td>...</td>\n",
       "    </tr>\n",
       "    <tr>\n",
       "      <th>9049</th>\n",
       "      <td>We are look forward to hearing from you Yours ...</td>\n",
       "      <td>We are looking forward to hearing from you You...</td>\n",
       "      <td>0.996795</td>\n",
       "      <td>0.964354</td>\n",
       "      <td>1</td>\n",
       "    </tr>\n",
       "    <tr>\n",
       "      <th>3734</th>\n",
       "      <td>Certainly !</td>\n",
       "      <td>Really !</td>\n",
       "      <td>0.626817</td>\n",
       "      <td>0.964573</td>\n",
       "      <td>1</td>\n",
       "    </tr>\n",
       "    <tr>\n",
       "      <th>17422</th>\n",
       "      <td>Mrs Lemmings .</td>\n",
       "      <td>Mrs Lemmings</td>\n",
       "      <td>0.992129</td>\n",
       "      <td>0.964795</td>\n",
       "      <td>1</td>\n",
       "    </tr>\n",
       "    <tr>\n",
       "      <th>11604</th>\n",
       "      <td>\" What , you 're crazy . \" Charles responds .</td>\n",
       "      <td>\" What , you 're crazy ! \" Charles responds .</td>\n",
       "      <td>0.986575</td>\n",
       "      <td>0.964864</td>\n",
       "      <td>1</td>\n",
       "    </tr>\n",
       "    <tr>\n",
       "      <th>1655</th>\n",
       "      <td>Let 's have a surprise ?</td>\n",
       "      <td>Let 's have a surprise .</td>\n",
       "      <td>0.955378</td>\n",
       "      <td>0.964954</td>\n",
       "      <td>1</td>\n",
       "    </tr>\n",
       "  </tbody>\n",
       "</table>\n",
       "<p>206 rows × 5 columns</p>\n",
       "</div>"
      ],
      "text/plain": [
       "                                                text_src  \\\n",
       "26590                                  Yours fainthfully   \n",
       "2843                                   Yours faightfully   \n",
       "4287                                    Yours sinecerely   \n",
       "12721                                     Your Sincerely   \n",
       "22863                                     Your Sincerely   \n",
       "...                                                  ...   \n",
       "9049   We are look forward to hearing from you Yours ...   \n",
       "3734                                         Certainly !   \n",
       "17422                                     Mrs Lemmings .   \n",
       "11604      \" What , you 're crazy . \" Charles responds .   \n",
       "1655                            Let 's have a surprise ?   \n",
       "\n",
       "                                                text_tgt  cos_src_tgt  \\\n",
       "26590                                   Yours faithfully     0.572759   \n",
       "2843                                    Yours faithfully     0.544605   \n",
       "4287                                     Yours sincerely     0.688564   \n",
       "12721                                    Yours sincerely     0.730466   \n",
       "22863                                   Yours Faithfully     0.586604   \n",
       "...                                                  ...          ...   \n",
       "9049   We are looking forward to hearing from you You...     0.996795   \n",
       "3734                                            Really !     0.626817   \n",
       "17422                                       Mrs Lemmings     0.992129   \n",
       "11604      \" What , you 're crazy ! \" Charles responds .     0.986575   \n",
       "1655                            Let 's have a surprise .     0.955378   \n",
       "\n",
       "       cos_check  have_change  \n",
       "26590   0.868768            1  \n",
       "2843    0.886463            1  \n",
       "4287    0.895373            1  \n",
       "12721   0.906074            1  \n",
       "22863   0.906074            1  \n",
       "...          ...          ...  \n",
       "9049    0.964354            1  \n",
       "3734    0.964573            1  \n",
       "17422   0.964795            1  \n",
       "11604   0.964864            1  \n",
       "1655    0.964954            1  \n",
       "\n",
       "[206 rows x 5 columns]"
      ]
     },
     "execution_count": 251,
     "metadata": {},
     "output_type": "execute_result"
    }
   ],
   "source": [
    "sh = show_cos_check_dataset(clean_fce, min_cos_check_sim=0.965)\n",
    "sh[sh['have_change'] == 1]"
   ]
  },
  {
   "cell_type": "code",
   "execution_count": 255,
   "metadata": {},
   "outputs": [
    {
     "data": {
      "text/plain": [
       "24877"
      ]
     },
     "execution_count": 255,
     "metadata": {},
     "output_type": "execute_result"
    }
   ],
   "source": [
    "len(clean_fce)"
   ]
  },
  {
   "cell_type": "code",
   "execution_count": 253,
   "metadata": {},
   "outputs": [],
   "source": [
    "clean_fce_check = clean_fce[clean_fce[\"cos_check\"] >= 0.965]"
   ]
  },
  {
   "cell_type": "code",
   "execution_count": 254,
   "metadata": {},
   "outputs": [
    {
     "data": {
      "text/plain": [
       "23939"
      ]
     },
     "execution_count": 254,
     "metadata": {},
     "output_type": "execute_result"
    }
   ],
   "source": [
    "len(clean_fce_check)"
   ]
  },
  {
   "cell_type": "markdown",
   "metadata": {},
   "source": [
    "### Nucle"
   ]
  },
  {
   "cell_type": "code",
   "execution_count": 195,
   "metadata": {},
   "outputs": [
    {
     "data": {
      "image/png": "[encoded data removed]",
      "text/plain": [
       "<Figure size 842.4x451.44 with 1 Axes>"
      ]
     },
     "metadata": {},
     "output_type": "display_data"
    }
   ],
   "source": [
    "g = plot_cos_src_tgt(clean_nucle, col=\"cos_check\")"
   ]
  },
  {
   "cell_type": "code",
   "execution_count": 250,
   "metadata": {},
   "outputs": [
    {
     "data": {
      "text/html": [
       "<div>\n",
       "<style scoped>\n",
       "    .dataframe tbody tr th:only-of-type {\n",
       "        vertical-align: middle;\n",
       "    }\n",
       "\n",
       "    .dataframe tbody tr th {\n",
       "        vertical-align: top;\n",
       "    }\n",
       "\n",
       "    .dataframe thead th {\n",
       "        text-align: right;\n",
       "    }\n",
       "</style>\n",
       "<table border=\"1\" class=\"dataframe\">\n",
       "  <thead>\n",
       "    <tr style=\"text-align: right;\">\n",
       "      <th></th>\n",
       "      <th>text_src</th>\n",
       "      <th>text_tgt</th>\n",
       "      <th>cos_src_tgt</th>\n",
       "      <th>cos_check</th>\n",
       "      <th>have_change</th>\n",
       "    </tr>\n",
       "  </thead>\n",
       "  <tbody>\n",
       "    <tr>\n",
       "      <th>13024</th>\n",
       "      <td>In Singapore , courses such as professional IT...</td>\n",
       "      <td>In Singapore , courses such as professional IT</td>\n",
       "      <td>0.557858</td>\n",
       "      <td>0.923826</td>\n",
       "      <td>1</td>\n",
       "    </tr>\n",
       "    <tr>\n",
       "      <th>55719</th>\n",
       "      <td>( Ball , K. , Lyon , D. , Wood , D.M. , Norris...</td>\n",
       "      <td>( Ball , K. , Lyon et al 2006 ) .</td>\n",
       "      <td>0.817853</td>\n",
       "      <td>0.927680</td>\n",
       "      <td>1</td>\n",
       "    </tr>\n",
       "    <tr>\n",
       "      <th>14255</th>\n",
       "      <td>In the USA , lawmakers led by Senator { Max Ba...</td>\n",
       "      <td>In the USA , lawmakers led by Senator { are ta...</td>\n",
       "      <td>0.720636</td>\n",
       "      <td>0.932153</td>\n",
       "      <td>1</td>\n",
       "    </tr>\n",
       "    <tr>\n",
       "      <th>7168</th>\n",
       "      <td>( Khalik , S. ( 2009 , August 17 ) .</td>\n",
       "      <td>( Khalik , 2009 ) .</td>\n",
       "      <td>0.693716</td>\n",
       "      <td>0.934654</td>\n",
       "      <td>1</td>\n",
       "    </tr>\n",
       "    <tr>\n",
       "      <th>19799</th>\n",
       "      <td>\" CITATION Tan00 \\ l 1033 ( Tanzi .</td>\n",
       "      <td>\" ( Tanzi .</td>\n",
       "      <td>0.695131</td>\n",
       "      <td>0.935369</td>\n",
       "      <td>1</td>\n",
       "    </tr>\n",
       "    <tr>\n",
       "      <th>...</th>\n",
       "      <td>...</td>\n",
       "      <td>...</td>\n",
       "      <td>...</td>\n",
       "      <td>...</td>\n",
       "      <td>...</td>\n",
       "    </tr>\n",
       "    <tr>\n",
       "      <th>39080</th>\n",
       "      <td>One possible counter measurement against human...</td>\n",
       "      <td>One possible counter measure against human err...</td>\n",
       "      <td>0.992751</td>\n",
       "      <td>0.964975</td>\n",
       "      <td>1</td>\n",
       "    </tr>\n",
       "    <tr>\n",
       "      <th>36958</th>\n",
       "      <td>Opponents of R&amp;D funding for generation IV rea...</td>\n",
       "      <td>Opponents of R&amp;D funding for generation IV rea...</td>\n",
       "      <td>0.997064</td>\n",
       "      <td>0.964977</td>\n",
       "      <td>1</td>\n",
       "    </tr>\n",
       "    <tr>\n",
       "      <th>43672</th>\n",
       "      <td>As a result of fewer fossil fuel supplies left...</td>\n",
       "      <td>As a result of fewer fossil fuel supplies left...</td>\n",
       "      <td>0.999218</td>\n",
       "      <td>0.964979</td>\n",
       "      <td>1</td>\n",
       "    </tr>\n",
       "    <tr>\n",
       "      <th>21808</th>\n",
       "      <td>Welfare programs , such as free healthcare ser...</td>\n",
       "      <td>Welfare programs , such as free healthcare ser...</td>\n",
       "      <td>0.997533</td>\n",
       "      <td>0.964981</td>\n",
       "      <td>1</td>\n",
       "    </tr>\n",
       "    <tr>\n",
       "      <th>16026</th>\n",
       "      <td>The Singapore Budget ( 2009 ) reported that th...</td>\n",
       "      <td>The Singapore Budget ( 2009 ) reported that th...</td>\n",
       "      <td>0.999175</td>\n",
       "      <td>0.964982</td>\n",
       "      <td>1</td>\n",
       "    </tr>\n",
       "  </tbody>\n",
       "</table>\n",
       "<p>663 rows × 5 columns</p>\n",
       "</div>"
      ],
      "text/plain": [
       "                                                text_src  \\\n",
       "13024  In Singapore , courses such as professional IT...   \n",
       "55719  ( Ball , K. , Lyon , D. , Wood , D.M. , Norris...   \n",
       "14255  In the USA , lawmakers led by Senator { Max Ba...   \n",
       "7168                ( Khalik , S. ( 2009 , August 17 ) .   \n",
       "19799                \" CITATION Tan00 \\ l 1033 ( Tanzi .   \n",
       "...                                                  ...   \n",
       "39080  One possible counter measurement against human...   \n",
       "36958  Opponents of R&D funding for generation IV rea...   \n",
       "43672  As a result of fewer fossil fuel supplies left...   \n",
       "21808  Welfare programs , such as free healthcare ser...   \n",
       "16026  The Singapore Budget ( 2009 ) reported that th...   \n",
       "\n",
       "                                                text_tgt  cos_src_tgt  \\\n",
       "13024     In Singapore , courses such as professional IT     0.557858   \n",
       "55719                  ( Ball , K. , Lyon et al 2006 ) .     0.817853   \n",
       "14255  In the USA , lawmakers led by Senator { are ta...     0.720636   \n",
       "7168                                 ( Khalik , 2009 ) .     0.693716   \n",
       "19799                                        \" ( Tanzi .     0.695131   \n",
       "...                                                  ...          ...   \n",
       "39080  One possible counter measure against human err...     0.992751   \n",
       "36958  Opponents of R&D funding for generation IV rea...     0.997064   \n",
       "43672  As a result of fewer fossil fuel supplies left...     0.999218   \n",
       "21808  Welfare programs , such as free healthcare ser...     0.997533   \n",
       "16026  The Singapore Budget ( 2009 ) reported that th...     0.999175   \n",
       "\n",
       "       cos_check  have_change  \n",
       "13024   0.923826            1  \n",
       "55719   0.927680            1  \n",
       "14255   0.932153            1  \n",
       "7168    0.934654            1  \n",
       "19799   0.935369            1  \n",
       "...          ...          ...  \n",
       "39080   0.964975            1  \n",
       "36958   0.964977            1  \n",
       "43672   0.964979            1  \n",
       "21808   0.964981            1  \n",
       "16026   0.964982            1  \n",
       "\n",
       "[663 rows x 5 columns]"
      ]
     },
     "execution_count": 250,
     "metadata": {},
     "output_type": "execute_result"
    }
   ],
   "source": [
    "sh = show_cos_check_dataset(clean_nucle, min_cos_check_sim=0.965)\n",
    "sh[sh['have_change'] == 1]"
   ]
  },
  {
   "cell_type": "code",
   "execution_count": 262,
   "metadata": {},
   "outputs": [
    {
     "data": {
      "text/plain": [
       "52488"
      ]
     },
     "execution_count": 262,
     "metadata": {},
     "output_type": "execute_result"
    }
   ],
   "source": [
    "len(clean_nucle)"
   ]
  },
  {
   "cell_type": "code",
   "execution_count": 260,
   "metadata": {},
   "outputs": [],
   "source": [
    "clean_nucle_check = clean_nucle[clean_nucle[\"cos_check\"] > 0.965]"
   ]
  },
  {
   "cell_type": "code",
   "execution_count": 261,
   "metadata": {},
   "outputs": [
    {
     "data": {
      "text/plain": [
       "45020"
      ]
     },
     "execution_count": 261,
     "metadata": {},
     "output_type": "execute_result"
    }
   ],
   "source": [
    "len(clean_nucle_check)"
   ]
  },
  {
   "cell_type": "markdown",
   "metadata": {},
   "source": [
    "### Lang8"
   ]
  },
  {
   "cell_type": "code",
   "execution_count": 200,
   "metadata": {},
   "outputs": [
    {
     "data": {
      "image/png": "[encoded data removed]",
      "text/plain": [
       "<Figure size 842.4x451.44 with 1 Axes>"
      ]
     },
     "metadata": {},
     "output_type": "display_data"
    }
   ],
   "source": [
    "g = plot_cos_src_tgt(clean_lang8, col=\"cos_check\")"
   ]
  },
  {
   "cell_type": "code",
   "execution_count": 263,
   "metadata": {},
   "outputs": [
    {
     "data": {
      "text/html": [
       "<div>\n",
       "<style scoped>\n",
       "    .dataframe tbody tr th:only-of-type {\n",
       "        vertical-align: middle;\n",
       "    }\n",
       "\n",
       "    .dataframe tbody tr th {\n",
       "        vertical-align: top;\n",
       "    }\n",
       "\n",
       "    .dataframe thead th {\n",
       "        text-align: right;\n",
       "    }\n",
       "</style>\n",
       "<table border=\"1\" class=\"dataframe\">\n",
       "  <thead>\n",
       "    <tr style=\"text-align: right;\">\n",
       "      <th></th>\n",
       "      <th>text_src</th>\n",
       "      <th>text_tgt</th>\n",
       "      <th>cos_src_tgt</th>\n",
       "      <th>cos_check</th>\n",
       "      <th>have_change</th>\n",
       "    </tr>\n",
       "  </thead>\n",
       "  <tbody>\n",
       "    <tr>\n",
       "      <th>205257</th>\n",
       "      <td>EXTRAVAGANCE</td>\n",
       "      <td>EXTRAVAGANCE Extravagance</td>\n",
       "      <td>0.916300</td>\n",
       "      <td>0.853863</td>\n",
       "      <td>1</td>\n",
       "    </tr>\n",
       "    <tr>\n",
       "      <th>1030441</th>\n",
       "      <td>Introduction</td>\n",
       "      <td>Introduction .</td>\n",
       "      <td>0.982334</td>\n",
       "      <td>0.866819</td>\n",
       "      <td>1</td>\n",
       "    </tr>\n",
       "    <tr>\n",
       "      <th>367736</th>\n",
       "      <td>SLUNG</td>\n",
       "      <td>SLUNG Slang</td>\n",
       "      <td>0.778149</td>\n",
       "      <td>0.881431</td>\n",
       "      <td>1</td>\n",
       "    </tr>\n",
       "    <tr>\n",
       "      <th>848187</th>\n",
       "      <td>hello ! ! ! ! ! ! ! ! ! ! ! ! ! ! ! ! ! ! ! ! ...</td>\n",
       "      <td>Hello ! ! ! ! ! ! ! ! ! ! ! ! ! ! ! ! ! ! ! ! ...</td>\n",
       "      <td>0.938659</td>\n",
       "      <td>0.884925</td>\n",
       "      <td>1</td>\n",
       "    </tr>\n",
       "    <tr>\n",
       "      <th>970168</th>\n",
       "      <td>CONCEIVE</td>\n",
       "      <td>CONCEIVE v . ENVISION</td>\n",
       "      <td>0.665463</td>\n",
       "      <td>0.887579</td>\n",
       "      <td>1</td>\n",
       "    </tr>\n",
       "    <tr>\n",
       "      <th>...</th>\n",
       "      <td>...</td>\n",
       "      <td>...</td>\n",
       "      <td>...</td>\n",
       "      <td>...</td>\n",
       "      <td>...</td>\n",
       "    </tr>\n",
       "    <tr>\n",
       "      <th>489446</th>\n",
       "      <td>hoohoo .</td>\n",
       "      <td>Hoohoo .</td>\n",
       "      <td>0.944078</td>\n",
       "      <td>0.964992</td>\n",
       "      <td>1</td>\n",
       "    </tr>\n",
       "    <tr>\n",
       "      <th>645241</th>\n",
       "      <td>Too straight</td>\n",
       "      <td>Too direct</td>\n",
       "      <td>0.738044</td>\n",
       "      <td>0.964994</td>\n",
       "      <td>1</td>\n",
       "    </tr>\n",
       "    <tr>\n",
       "      <th>218309</th>\n",
       "      <td>good night</td>\n",
       "      <td>Good night .</td>\n",
       "      <td>0.969680</td>\n",
       "      <td>0.964994</td>\n",
       "      <td>1</td>\n",
       "    </tr>\n",
       "    <tr>\n",
       "      <th>856710</th>\n",
       "      <td>good night</td>\n",
       "      <td>Good night</td>\n",
       "      <td>0.957409</td>\n",
       "      <td>0.964994</td>\n",
       "      <td>1</td>\n",
       "    </tr>\n",
       "    <tr>\n",
       "      <th>358255</th>\n",
       "      <td>Another . . .</td>\n",
       "      <td>Another thing . . .</td>\n",
       "      <td>0.896038</td>\n",
       "      <td>0.964998</td>\n",
       "      <td>1</td>\n",
       "    </tr>\n",
       "  </tbody>\n",
       "</table>\n",
       "<p>3647 rows × 5 columns</p>\n",
       "</div>"
      ],
      "text/plain": [
       "                                                  text_src  \\\n",
       "205257                                        EXTRAVAGANCE   \n",
       "1030441                                       Introduction   \n",
       "367736                                               SLUNG   \n",
       "848187   hello ! ! ! ! ! ! ! ! ! ! ! ! ! ! ! ! ! ! ! ! ...   \n",
       "970168                                            CONCEIVE   \n",
       "...                                                    ...   \n",
       "489446                                            hoohoo .   \n",
       "645241                                        Too straight   \n",
       "218309                                          good night   \n",
       "856710                                          good night   \n",
       "358255                                       Another . . .   \n",
       "\n",
       "                                                  text_tgt  cos_src_tgt  \\\n",
       "205257                           EXTRAVAGANCE Extravagance     0.916300   \n",
       "1030441                                     Introduction .     0.982334   \n",
       "367736                                         SLUNG Slang     0.778149   \n",
       "848187   Hello ! ! ! ! ! ! ! ! ! ! ! ! ! ! ! ! ! ! ! ! ...     0.938659   \n",
       "970168                               CONCEIVE v . ENVISION     0.665463   \n",
       "...                                                    ...          ...   \n",
       "489446                                            Hoohoo .     0.944078   \n",
       "645241                                          Too direct     0.738044   \n",
       "218309                                        Good night .     0.969680   \n",
       "856710                                          Good night     0.957409   \n",
       "358255                                 Another thing . . .     0.896038   \n",
       "\n",
       "         cos_check  have_change  \n",
       "205257    0.853863            1  \n",
       "1030441   0.866819            1  \n",
       "367736    0.881431            1  \n",
       "848187    0.884925            1  \n",
       "970168    0.887579            1  \n",
       "...            ...          ...  \n",
       "489446    0.964992            1  \n",
       "645241    0.964994            1  \n",
       "218309    0.964994            1  \n",
       "856710    0.964994            1  \n",
       "358255    0.964998            1  \n",
       "\n",
       "[3647 rows x 5 columns]"
      ]
     },
     "execution_count": 263,
     "metadata": {},
     "output_type": "execute_result"
    }
   ],
   "source": [
    "sh = show_cos_check_dataset(clean_lang8, min_cos_check_sim=0.965)\n",
    "sh[sh['have_change'] == 1]"
   ]
  },
  {
   "cell_type": "code",
   "execution_count": 264,
   "metadata": {},
   "outputs": [
    {
     "data": {
      "text/plain": [
       "876206"
      ]
     },
     "execution_count": 264,
     "metadata": {},
     "output_type": "execute_result"
    }
   ],
   "source": [
    "len(clean_lang8)"
   ]
  },
  {
   "cell_type": "code",
   "execution_count": 265,
   "metadata": {},
   "outputs": [],
   "source": [
    "clean_lang8_check = clean_lang8[clean_lang8[\"cos_check\"] > 0.965]"
   ]
  },
  {
   "cell_type": "code",
   "execution_count": 266,
   "metadata": {},
   "outputs": [
    {
     "data": {
      "text/plain": [
       "852775"
      ]
     },
     "execution_count": 266,
     "metadata": {},
     "output_type": "execute_result"
    }
   ],
   "source": [
    "len(clean_lang8_check)"
   ]
  },
  {
   "cell_type": "code",
   "execution_count": 267,
   "metadata": {},
   "outputs": [],
   "source": [
    "lang8_train, lang8_dev = train_test_split(clean_lang8_check, test_size=0.02, random_state=4, stratify=clean_lang8_check.have_change)\n",
    "nucle_train, nucle_dev = train_test_split(clean_nucle_check, test_size=0.02, random_state=4, stratify=clean_nucle_check.have_change)\n",
    "fce_train, fce_dev = train_test_split(clean_fce_check, test_size=0.02, random_state=4, stratify=clean_fce_check.have_change)\n",
    "wl_train, wl_dev = train_test_split(clean_wl, test_size=0.02, random_state=4, stratify=clean_wl.have_change)"
   ]
  },
  {
   "cell_type": "code",
   "execution_count": 268,
   "metadata": {},
   "outputs": [],
   "source": [
    "clean_merge_train = copy.deepcopy(lang8_train)\n",
    "clean_merge_train = clean_merge_train.append(nucle_train)\n",
    "clean_merge_train = clean_merge_train.append(fce_train)\n",
    "clean_merge_train = clean_merge_train.append(wl_train)"
   ]
  },
  {
   "cell_type": "code",
   "execution_count": 269,
   "metadata": {},
   "outputs": [],
   "source": [
    "clean_merge_dev = copy.deepcopy(lang8_dev)\n",
    "clean_merge_dev = clean_merge_dev.append(nucle_dev)\n",
    "clean_merge_dev = clean_merge_dev.append(fce_dev)\n",
    "clean_merge_dev = clean_merge_dev.append(wl_dev)"
   ]
  },
  {
   "cell_type": "code",
   "execution_count": 270,
   "metadata": {},
   "outputs": [],
   "source": [
    "train_src = clean_merge_train.text_src.values \n",
    "train_tgt = clean_merge_train.text_tgt.values \n",
    "dev_src = clean_merge_dev.text_src.values \n",
    "dev_tgt = clean_merge_dev.text_tgt.values "
   ]
  },
  {
   "cell_type": "code",
   "execution_count": 271,
   "metadata": {},
   "outputs": [],
   "source": [
    "path_save = \"../../data_parallel/check_gold_0965/\""
   ]
  },
  {
   "cell_type": "code",
   "execution_count": 272,
   "metadata": {},
   "outputs": [],
   "source": [
    "write_lines(path_save+\"train_src\", train_src, mode='w')\n",
    "write_lines(path_save+\"train_tgt\", train_tgt, mode='w')\n",
    "write_lines(path_save+\"dev_src\", dev_src, mode='w')\n",
    "write_lines(path_save+\"dev_tgt\", dev_tgt, mode='w')"
   ]
  },
  {
   "cell_type": "code",
   "execution_count": 127,
   "metadata": {},
   "outputs": [],
   "source": [
    "merge_check = copy.deepcopy(clean_lang8_check)\n",
    "merge_check = merge_check.append(clean_nucle_check)\n",
    "merge_check = merge_check.append(clean_fce_check)\n",
    "merge_check = merge_check.append(clean_wl)"
   ]
  },
  {
   "cell_type": "code",
   "execution_count": 128,
   "metadata": {},
   "outputs": [
    {
     "data": {
      "text/plain": [
       "681202"
      ]
     },
     "execution_count": 128,
     "metadata": {},
     "output_type": "execute_result"
    }
   ],
   "source": [
    "len(merge_check)"
   ]
  },
  {
   "cell_type": "code",
   "execution_count": 129,
   "metadata": {},
   "outputs": [
    {
     "data": {
      "text/plain": [
       "392061"
      ]
     },
     "execution_count": 129,
     "metadata": {},
     "output_type": "execute_result"
    }
   ],
   "source": [
    "merge_check.have_change.sum()"
   ]
  },
  {
   "cell_type": "code",
   "execution_count": 131,
   "metadata": {},
   "outputs": [],
   "source": [
    "train, dev = train_test_split(merge_check, test_size=0.02, random_state=4)"
   ]
  },
  {
   "cell_type": "code",
   "execution_count": 132,
   "metadata": {},
   "outputs": [],
   "source": [
    "train_src = train.text_src.values \n",
    "train_tgt = train.text_tgt.values \n",
    "dev_src = dev.text_src.values \n",
    "dev_tgt = dev.text_tgt.values "
   ]
  },
  {
   "cell_type": "code",
   "execution_count": 134,
   "metadata": {},
   "outputs": [],
   "source": [
    "path_save = \"../../data_parallel/check_clean_gold/\""
   ]
  },
  {
   "cell_type": "code",
   "execution_count": 135,
   "metadata": {},
   "outputs": [],
   "source": [
    "write_lines(path_save+\"train_src\", train_src, mode='w')\n",
    "write_lines(path_save+\"train_tgt\", train_tgt, mode='w')\n",
    "write_lines(path_save+\"dev_src\", dev_src, mode='w')\n",
    "write_lines(path_save+\"dev_tgt\", dev_tgt, mode='w')"
   ]
  },
  {
   "cell_type": "code",
   "execution_count": null,
   "metadata": {},
   "outputs": [],
   "source": []
  },
  {
   "cell_type": "code",
   "execution_count": null,
   "metadata": {},
   "outputs": [],
   "source": []
  }
 ],
 "metadata": {
  "kernelspec": {
   "display_name": "Python 3",
   "language": "python",
   "name": "python3"
  },
  "language_info": {
   "codemirror_mode": {
    "name": "ipython",
    "version": 3
   },
   "file_extension": ".py",
   "mimetype": "text/x-python",
   "name": "python",
   "nbconvert_exporter": "python",
   "pygments_lexer": "ipython3",
   "version": "3.8.5"
  }
 },
 "nbformat": 4,
 "nbformat_minor": 4
}
