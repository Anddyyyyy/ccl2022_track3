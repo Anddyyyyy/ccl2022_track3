{
 "cells": [
  {
   "cell_type": "code",
   "execution_count": 1,
   "metadata": {},
   "outputs": [],
   "source": [
    "import pandas as pd\n",
    "import numpy as np\n",
    "import json\n",
    "\n",
    "import pickle \n",
    "from sklearn.metrics.pairwise import cosine_similarity\n",
    "from tqdm.auto import tqdm"
   ]
  },
  {
   "cell_type": "code",
   "execution_count": 36,
   "metadata": {},
   "outputs": [],
   "source": [
    "import matplotlib.pyplot as plt"
   ]
  },
  {
   "cell_type": "code",
   "execution_count": 24,
   "metadata": {},
   "outputs": [],
   "source": [
    "import seaborn as sns\n",
    "sns.set_style('darkgrid')"
   ]
  },
  {
   "cell_type": "code",
   "execution_count": 31,
   "metadata": {},
   "outputs": [],
   "source": [
    "sns.set(rc={'figure.figsize':(11.7,6.27)})"
   ]
  },
  {
   "cell_type": "code",
   "execution_count": 2,
   "metadata": {},
   "outputs": [],
   "source": [
    "import os\n",
    "import glob\n",
    "def read_lines(fn):\n",
    "    if not os.path.exists(fn):\n",
    "        return []\n",
    "    with open(fn, 'r', encoding='utf-8') as f:\n",
    "        text = f.read()\n",
    "    lines = text.split(\"\\n\")\n",
    "    if lines[-1] == '':\n",
    "        return lines[:-1]\n",
    "    else:\n",
    "        return lines\n",
    "\n",
    "def write_lines(fn, lines, mode='w'):\n",
    "    text_to_write = \"\\n\".join(list(lines)) \n",
    "    with open(fn, encoding='utf-8', mode=mode) as f:\n",
    "        f.write(text_to_write)"
   ]
  },
  {
   "cell_type": "code",
   "execution_count": 104,
   "metadata": {},
   "outputs": [],
   "source": [
    "def show_cos_src_tgt_dataset(df, min_cos_src_tgt_sim=0):\n",
    "    return df[df[\"cos_src_tgt\"] <= min_cos_src_tgt_sim].sort_values(\"cos_src_tgt\")\n",
    "\n",
    "def show_cos_check_dataset(df, min_cos_check_sim=0):\n",
    "    return df[df[\"cos_check\"] <= min_cos_check_sim].sort_values(\"cos_check\")\n",
    "\n",
    "def plot_cos_src_tgt(df, col=\"cos_src_tgt\"):\n",
    "    return df[df[\"text_src\"] != df[\"text_tgt\"]][col].plot.hist(bins=30)\n",
    "\n",
    "def show_statistic(df, len_before=0, show_rate=True):\n",
    "    diff_len = len_before - len(df)\n",
    "    print(\"Count of rows: \", len(df))\n",
    "    if diff_len > 0:\n",
    "        print(\"Diff count: \", diff_len)\n",
    "    if show_rate==True:\n",
    "        print(\"Count of rows with change: \", df['have_change'].sum())\n",
    "        print(\"Rate of rows with change: \", round(df['have_change'].mean(),2))\n",
    "    print()\n",
    "\n",
    "def basic_clean(df, show = True, min_cos_src_tgt_sim = 0):\n",
    "    len_start = len(df)\n",
    "    print(\"Initial statistics\")\n",
    "    df['have_change'] = (df['text_src']!=df['text_tgt']).astype(int)\n",
    "    show_statistic(df, len_start)\n",
    "    \n",
    "    print(\"Drop dulicates\")\n",
    "    len_before = len(df)\n",
    "    df = df.drop_duplicates(subset=['text_src', 'text_tgt'])\n",
    "    show_statistic(df, len_before, show_rate=True)\n",
    "    \n",
    "    print(\"Drop where len less 5 and less then 3 token\")\n",
    "    len_before = len(df)\n",
    "    df = df[df[\"text_tgt\"].str.len() > 5]\n",
    "    df = df[df['text_tgt'].apply(lambda x: len(x.split(\" \")) > 3)]\n",
    "    show_statistic(df, len_before, show_rate=True)\n",
    "    \n",
    "    print(\"Drop where start from non-capital\")\n",
    "    len_before = len(df)\n",
    "    df = df[df[\"text_tgt\"].apply(lambda x: x[0] == x[0].upper())]\n",
    "    show_statistic(df, len_before, show_rate=True)\n",
    "    \n",
    "#     print(\"Drop where for one src more than one target\")\n",
    "#     len_before = len(df)\n",
    "#     val_count = df.text_src.value_counts()\n",
    "#     index_to_delete = []\n",
    "#     for text_src in val_count[val_count > 1].index:\n",
    "#         sub_df = df[df.text_src == text_src]\n",
    "#         res_ind = sub_df[sub_df[\"cos_src_tgt\"] > 0.999].index\n",
    "#         if len(res_ind):\n",
    "#             index_to_delete.extend(res_ind)\n",
    "#     df = df[~df.index.isin(index_to_delete)]\n",
    "#     show_statistic(df, len_before, show_rate=True)\n",
    "    \n",
    "    print(\"Drop where cosine similarity between src and tgt is less than \", min_cos_src_tgt_sim)\n",
    "    len_before = len(df)\n",
    "    df = df[df[\"cos_src_tgt\"] > min_cos_src_tgt_sim]\n",
    "    show_statistic(df, len_before, show_rate=True)\n",
    "    \n",
    "    print('Final rate of cleaned data: ', round(len(df)/len_start,2))\n",
    "    return df"
   ]
  },
  {
   "cell_type": "markdown",
   "metadata": {},
   "source": [
    "### WL "
   ]
  },
  {
   "cell_type": "code",
   "execution_count": 5,
   "metadata": {},
   "outputs": [
    {
     "data": {
      "application/vnd.jupyter.widget-view+json": {
       "model_id": "06608f6989f84904b3ce762fa5468a1e",
       "version_major": 2,
       "version_minor": 0
      },
      "text/plain": [
       "HBox(children=(HTML(value=''), FloatProgress(value=0.0, max=34308.0), HTML(value='')))"
      ]
     },
     "metadata": {},
     "output_type": "display_data"
    },
    {
     "name": "stdout",
     "output_type": "stream",
     "text": [
      "\n"
     ]
    }
   ],
   "source": [
    "text_src = read_lines(\"../../data_parallel/wi+locness/train_src\")\n",
    "text_tgt = read_lines(\"../../data_parallel/wi+locness/train_tgt\")\n",
    "\n",
    "with open(\"../Clustering/data/wl_train_src_embed.pickle\", \"rb\") as f:\n",
    "    vectors_src = pickle.load(f)\n",
    "\n",
    "with open(\"../Clustering/data/wl_train_tgt_embed.pickle\", \"rb\") as f:\n",
    "    vectors_tgt = pickle.load(f)\n",
    "    \n",
    "cos_sim_wl = []\n",
    "for i in tqdm(range(len(vectors_src))):\n",
    "    cos_sim_wl.append(cosine_similarity([vectors_src[i]],[vectors_tgt[i]])[0,0])"
   ]
  },
  {
   "cell_type": "code",
   "execution_count": 6,
   "metadata": {},
   "outputs": [],
   "source": [
    "wl_df = pd.DataFrame({\"text_src\": text_src, \"text_tgt\": text_tgt, \"cos_src_tgt\": cos_sim_wl})"
   ]
  },
  {
   "cell_type": "code",
   "execution_count": 38,
   "metadata": {},
   "outputs": [
    {
     "data": {
      "image/png": "[encoded data removed]",
      "text/plain": [
       "<Figure size 842.4x451.44 with 1 Axes>"
      ]
     },
     "metadata": {},
     "output_type": "display_data"
    }
   ],
   "source": [
    "g = plot_cos_src_tgt(wl_df)\n",
    "plt.xticks(np.arange(0, 1, 0.1))\n",
    "plt.show()"
   ]
  },
  {
   "cell_type": "code",
   "execution_count": 14,
   "metadata": {},
   "outputs": [
    {
     "data": {
      "text/html": [
       "<div>\n",
       "<style scoped>\n",
       "    .dataframe tbody tr th:only-of-type {\n",
       "        vertical-align: middle;\n",
       "    }\n",
       "\n",
       "    .dataframe tbody tr th {\n",
       "        vertical-align: top;\n",
       "    }\n",
       "\n",
       "    .dataframe thead th {\n",
       "        text-align: right;\n",
       "    }\n",
       "</style>\n",
       "<table border=\"1\" class=\"dataframe\">\n",
       "  <thead>\n",
       "    <tr style=\"text-align: right;\">\n",
       "      <th></th>\n",
       "      <th>text_src</th>\n",
       "      <th>text_tgt</th>\n",
       "      <th>cos_src_tgt</th>\n",
       "      <th>have_change</th>\n",
       "    </tr>\n",
       "  </thead>\n",
       "  <tbody>\n",
       "    <tr>\n",
       "      <th>2380</th>\n",
       "      <td>I am stydying envaermantal saents .</td>\n",
       "      <td>I am studying environmental science .</td>\n",
       "      <td>0.057646</td>\n",
       "      <td>1</td>\n",
       "    </tr>\n",
       "    <tr>\n",
       "      <th>2557</th>\n",
       "      <td>And terolism is scare also .</td>\n",
       "      <td>And terrorism is scarce also .</td>\n",
       "      <td>0.166419</td>\n",
       "      <td>1</td>\n",
       "    </tr>\n",
       "    <tr>\n",
       "      <th>13529</th>\n",
       "      <td>Good Morning :</td>\n",
       "      <td>Dear Sir / Madam</td>\n",
       "      <td>0.186326</td>\n",
       "      <td>1</td>\n",
       "    </tr>\n",
       "    <tr>\n",
       "      <th>5518</th>\n",
       "      <td>fsdjgdofg</td>\n",
       "      <td></td>\n",
       "      <td>0.196443</td>\n",
       "      <td>1</td>\n",
       "    </tr>\n",
       "    <tr>\n",
       "      <th>23629</th>\n",
       "      <td>Rest is anything but completely different .</td>\n",
       "      <td>The rest is completely different .</td>\n",
       "      <td>0.201329</td>\n",
       "      <td>1</td>\n",
       "    </tr>\n",
       "    <tr>\n",
       "      <th>...</th>\n",
       "      <td>...</td>\n",
       "      <td>...</td>\n",
       "      <td>...</td>\n",
       "      <td>...</td>\n",
       "    </tr>\n",
       "    <tr>\n",
       "      <th>9245</th>\n",
       "      <td>If you need any further information , please d...</td>\n",
       "      <td>If you need any further information , please d...</td>\n",
       "      <td>0.749603</td>\n",
       "      <td>1</td>\n",
       "    </tr>\n",
       "    <tr>\n",
       "      <th>10</th>\n",
       "      <td>I have my own plan too but I do n't same to th...</td>\n",
       "      <td>I have my own plan too , but I do n't want to ...</td>\n",
       "      <td>0.749714</td>\n",
       "      <td>1</td>\n",
       "    </tr>\n",
       "    <tr>\n",
       "      <th>14018</th>\n",
       "      <td>First of all , the vanue itself was very crowd...</td>\n",
       "      <td>First of all , the venue itself was very crowd...</td>\n",
       "      <td>0.749718</td>\n",
       "      <td>1</td>\n",
       "    </tr>\n",
       "    <tr>\n",
       "      <th>7997</th>\n",
       "      <td>than the practice makes the rest .</td>\n",
       "      <td>then practice does the rest .</td>\n",
       "      <td>0.749757</td>\n",
       "      <td>1</td>\n",
       "    </tr>\n",
       "    <tr>\n",
       "      <th>2943</th>\n",
       "      <td>However , I was too dizzy to go straight so th...</td>\n",
       "      <td>However , I was too dizzy to walk straight so ...</td>\n",
       "      <td>0.749999</td>\n",
       "      <td>1</td>\n",
       "    </tr>\n",
       "  </tbody>\n",
       "</table>\n",
       "<p>675 rows × 4 columns</p>\n",
       "</div>"
      ],
      "text/plain": [
       "                                                text_src  \\\n",
       "2380                 I am stydying envaermantal saents .   \n",
       "2557                        And terolism is scare also .   \n",
       "13529                                     Good Morning :   \n",
       "5518                                           fsdjgdofg   \n",
       "23629        Rest is anything but completely different .   \n",
       "...                                                  ...   \n",
       "9245   If you need any further information , please d...   \n",
       "10     I have my own plan too but I do n't same to th...   \n",
       "14018  First of all , the vanue itself was very crowd...   \n",
       "7997                  than the practice makes the rest .   \n",
       "2943   However , I was too dizzy to go straight so th...   \n",
       "\n",
       "                                                text_tgt  cos_src_tgt  \\\n",
       "2380               I am studying environmental science .     0.057646   \n",
       "2557                      And terrorism is scarce also .     0.166419   \n",
       "13529                                   Dear Sir / Madam     0.186326   \n",
       "5518                                                         0.196443   \n",
       "23629                 The rest is completely different .     0.201329   \n",
       "...                                                  ...          ...   \n",
       "9245   If you need any further information , please d...     0.749603   \n",
       "10     I have my own plan too , but I do n't want to ...     0.749714   \n",
       "14018  First of all , the venue itself was very crowd...     0.749718   \n",
       "7997                       then practice does the rest .     0.749757   \n",
       "2943   However , I was too dizzy to walk straight so ...     0.749999   \n",
       "\n",
       "       have_change  \n",
       "2380             1  \n",
       "2557             1  \n",
       "13529            1  \n",
       "5518             1  \n",
       "23629            1  \n",
       "...            ...  \n",
       "9245             1  \n",
       "10               1  \n",
       "14018            1  \n",
       "7997             1  \n",
       "2943             1  \n",
       "\n",
       "[675 rows x 4 columns]"
      ]
     },
     "execution_count": 14,
     "metadata": {},
     "output_type": "execute_result"
    }
   ],
   "source": [
    "wl_df[wl_df[\"cos_src_tgt\"] <= 0.75].sort_values(\"cos_src_tgt\")"
   ]
  },
  {
   "cell_type": "code",
   "execution_count": 13,
   "metadata": {
    "scrolled": false
   },
   "outputs": [
    {
     "name": "stdout",
     "output_type": "stream",
     "text": [
      "Initial statistics\n",
      "Count of rows:  34308\n",
      "Count of rows with change:  22744\n",
      "Rate of rows with change:  0.66\n",
      "\n",
      "Drop dulicates\n",
      "Count of rows:  33493\n",
      "Diff count:  815\n",
      "Count of rows with change:  22717\n",
      "Rate of rows with change:  0.68\n",
      "\n",
      "Drop where len less 5 and less then 3 token\n",
      "Count of rows:  32343\n",
      "Diff count:  1150\n",
      "Count of rows with change:  22566\n",
      "Rate of rows with change:  0.7\n",
      "\n",
      "Drop where start from non-capital\n",
      "Count of rows:  32083\n",
      "Diff count:  260\n",
      "Count of rows with change:  22379\n",
      "Rate of rows with change:  0.7\n",
      "\n",
      "Drop where for one src more than one target\n",
      "Count of rows:  32071\n",
      "Diff count:  12\n",
      "Count of rows with change:  22379\n",
      "Rate of rows with change:  0.7\n",
      "\n",
      "Drop where cosine similarity between src and tgt is less than  0.75\n",
      "Count of rows:  31490\n",
      "Diff count:  581\n",
      "Count of rows with change:  21798\n",
      "Rate of rows with change:  0.69\n",
      "\n",
      "Final rate of cleaned data:  0.92\n"
     ]
    }
   ],
   "source": [
    "clean_wl = basic_clean(wl_df, show = True, min_cos_src_tgt_sim=0.75)"
   ]
  },
  {
   "cell_type": "markdown",
   "metadata": {},
   "source": [
    "### Nucle"
   ]
  },
  {
   "cell_type": "code",
   "execution_count": 15,
   "metadata": {},
   "outputs": [
    {
     "data": {
      "application/vnd.jupyter.widget-view+json": {
       "model_id": "ba7fae12cc48465a806dab810cee7ca6",
       "version_major": 2,
       "version_minor": 0
      },
      "text/plain": [
       "HBox(children=(HTML(value=''), FloatProgress(value=0.0, max=57151.0), HTML(value='')))"
      ]
     },
     "metadata": {},
     "output_type": "display_data"
    },
    {
     "name": "stdout",
     "output_type": "stream",
     "text": [
      "\n"
     ]
    }
   ],
   "source": [
    "text_src = read_lines(\"../../data_parallel/nucle/nucle_src\")\n",
    "text_tgt = read_lines(\"../../data_parallel/nucle/nucle_tgt\")\n",
    "\n",
    "with open(\"../Clustering/data/nucle_train_src_embed.pickle\", \"rb\") as f:\n",
    "    vectors_src = pickle.load(f)\n",
    "\n",
    "with open(\"../Clustering/data/nucle_train_tgt_embed.pickle\", \"rb\") as f:\n",
    "    vectors_tgt = pickle.load(f)\n",
    "    \n",
    "cos_sim = []\n",
    "for i in tqdm(range(len(vectors_src))):\n",
    "    cos_sim.append(cosine_similarity([vectors_src[i]],[vectors_tgt[i]])[0,0])"
   ]
  },
  {
   "cell_type": "code",
   "execution_count": 16,
   "metadata": {},
   "outputs": [],
   "source": [
    "with open(\"../Checkpoint_exp/nucle_cos.pickle\", \"rb\") as f:\n",
    "    cos_check = pickle.load(f)"
   ]
  },
  {
   "cell_type": "code",
   "execution_count": 17,
   "metadata": {},
   "outputs": [],
   "source": [
    "nucle_df = pd.DataFrame({\"text_src\": text_src, \"text_tgt\": text_tgt, \"cos_src_tgt\": cos_sim, \"cos_check\": cos_check})"
   ]
  },
  {
   "cell_type": "code",
   "execution_count": 35,
   "metadata": {},
   "outputs": [
    {
     "data": {
      "image/png": "[encoded data removed]",
      "text/plain": [
       "<Figure size 842.4x451.44 with 1 Axes>"
      ]
     },
     "metadata": {},
     "output_type": "display_data"
    }
   ],
   "source": [
    "g = plot_cos_src_tgt(nucle_df)\n",
    "plt.xticks(np.arange(0, 1, 0.1))\n",
    "plt.show()"
   ]
  },
  {
   "cell_type": "code",
   "execution_count": 60,
   "metadata": {},
   "outputs": [
    {
     "name": "stdout",
     "output_type": "stream",
     "text": [
      "Initial statistics\n",
      "Count of rows:  57151\n",
      "Count of rows with change:  21834\n",
      "Rate of rows with change:  0.38\n",
      "\n",
      "Drop dulicates\n",
      "Count of rows:  53681\n",
      "Diff count:  3470\n",
      "Count of rows with change:  21830\n",
      "Rate of rows with change:  0.41\n",
      "\n",
      "Drop where len less 5 and less then 3 token\n",
      "Count of rows:  52343\n",
      "Diff count:  1338\n",
      "Count of rows with change:  21559\n",
      "Rate of rows with change:  0.41\n",
      "\n",
      "Drop where start from non-capital\n",
      "Count of rows:  51967\n",
      "Diff count:  376\n",
      "Count of rows with change:  21328\n",
      "Rate of rows with change:  0.41\n",
      "\n",
      "Drop where for one src more than one target\n",
      "Count of rows:  51944\n",
      "Diff count:  23\n",
      "Count of rows with change:  21328\n",
      "Rate of rows with change:  0.41\n",
      "\n",
      "Drop where cosine similarity between src and tgt is less than  0.9\n",
      "Count of rows:  50295\n",
      "Diff count:  1649\n",
      "Count of rows with change:  19679\n",
      "Rate of rows with change:  0.39\n",
      "\n",
      "Final rate of cleaned data:  0.88\n"
     ]
    }
   ],
   "source": [
    "clean_nucle = basic_clean(nucle_df, show = True, min_cos_src_tgt_sim=0.9)"
   ]
  },
  {
   "cell_type": "markdown",
   "metadata": {},
   "source": [
    "### FCE"
   ]
  },
  {
   "cell_type": "code",
   "execution_count": 40,
   "metadata": {},
   "outputs": [
    {
     "data": {
      "application/vnd.jupyter.widget-view+json": {
       "model_id": "ef6081b931ee418481835947d7d52b13",
       "version_major": 2,
       "version_minor": 0
      },
      "text/plain": [
       "HBox(children=(HTML(value=''), FloatProgress(value=0.0, max=28350.0), HTML(value='')))"
      ]
     },
     "metadata": {},
     "output_type": "display_data"
    },
    {
     "name": "stdout",
     "output_type": "stream",
     "text": [
      "\n"
     ]
    }
   ],
   "source": [
    "text_src = read_lines(\"../../data_parallel/fce/fce_train_src\")\n",
    "text_tgt = read_lines(\"../../data_parallel/fce/fce_train_tgt\")\n",
    "\n",
    "with open(\"../Clustering/data/fce_train_src_embed.pickle\", \"rb\") as f:\n",
    "    vectors_src = pickle.load(f)\n",
    "\n",
    "with open(\"../Clustering/data/fce_train_tgt_embed.pickle\", \"rb\") as f:\n",
    "    vectors_tgt = pickle.load(f)\n",
    "    \n",
    "cos_sim = []\n",
    "for i in tqdm(range(len(vectors_src))):\n",
    "    cos_sim.append(cosine_similarity([vectors_src[i]],[vectors_tgt[i]])[0,0])"
   ]
  },
  {
   "cell_type": "code",
   "execution_count": 41,
   "metadata": {},
   "outputs": [],
   "source": [
    "with open(\"../Checkpoint_exp/fce_cos.pickle\", \"rb\") as f:\n",
    "    cos_check = pickle.load(f)"
   ]
  },
  {
   "cell_type": "code",
   "execution_count": 42,
   "metadata": {},
   "outputs": [],
   "source": [
    "fce_df = pd.DataFrame({\"text_src\": text_src, \"text_tgt\": text_tgt, \"cos_src_tgt\": cos_sim, \"cos_check\": cos_check})"
   ]
  },
  {
   "cell_type": "code",
   "execution_count": 43,
   "metadata": {},
   "outputs": [
    {
     "data": {
      "image/png": "[encoded data removed]",
      "text/plain": [
       "<Figure size 842.4x451.44 with 1 Axes>"
      ]
     },
     "metadata": {},
     "output_type": "display_data"
    }
   ],
   "source": [
    "g = plot_cos_src_tgt(fce_df)\n",
    "plt.xticks(np.arange(0, 1, 0.1))\n",
    "plt.show()"
   ]
  },
  {
   "cell_type": "code",
   "execution_count": 57,
   "metadata": {},
   "outputs": [
    {
     "data": {
      "text/html": [
       "<div>\n",
       "<style scoped>\n",
       "    .dataframe tbody tr th:only-of-type {\n",
       "        vertical-align: middle;\n",
       "    }\n",
       "\n",
       "    .dataframe tbody tr th {\n",
       "        vertical-align: top;\n",
       "    }\n",
       "\n",
       "    .dataframe thead th {\n",
       "        text-align: right;\n",
       "    }\n",
       "</style>\n",
       "<table border=\"1\" class=\"dataframe\">\n",
       "  <thead>\n",
       "    <tr style=\"text-align: right;\">\n",
       "      <th></th>\n",
       "      <th>text_src</th>\n",
       "      <th>text_tgt</th>\n",
       "      <th>cos_src_tgt</th>\n",
       "      <th>cos_check</th>\n",
       "      <th>have_change</th>\n",
       "    </tr>\n",
       "  </thead>\n",
       "  <tbody>\n",
       "    <tr>\n",
       "      <th>18933</th>\n",
       "      <td>befor the beggining ?</td>\n",
       "      <td>before the beginning ?</td>\n",
       "      <td>0.061627</td>\n",
       "      <td>0.963681</td>\n",
       "      <td>1</td>\n",
       "    </tr>\n",
       "    <tr>\n",
       "      <th>25815</th>\n",
       "      <td>i was abset of it .</td>\n",
       "      <td>I was upset about it .</td>\n",
       "      <td>0.083509</td>\n",
       "      <td>0.977990</td>\n",
       "      <td>1</td>\n",
       "    </tr>\n",
       "    <tr>\n",
       "      <th>15235</th>\n",
       "      <td>It was alwais the saim .</td>\n",
       "      <td>It was always the same .</td>\n",
       "      <td>0.095632</td>\n",
       "      <td>0.974045</td>\n",
       "      <td>1</td>\n",
       "    </tr>\n",
       "    <tr>\n",
       "      <th>14886</th>\n",
       "      <td>Becaue</td>\n",
       "      <td>Because</td>\n",
       "      <td>0.147442</td>\n",
       "      <td>0.946754</td>\n",
       "      <td>1</td>\n",
       "    </tr>\n",
       "    <tr>\n",
       "      <th>17632</th>\n",
       "      <td>Staying in a que or croude is also unplesent .</td>\n",
       "      <td>Staying in a queue or crowd is also unpleasant .</td>\n",
       "      <td>0.157074</td>\n",
       "      <td>0.975612</td>\n",
       "      <td>1</td>\n",
       "    </tr>\n",
       "    <tr>\n",
       "      <th>...</th>\n",
       "      <td>...</td>\n",
       "      <td>...</td>\n",
       "      <td>...</td>\n",
       "      <td>...</td>\n",
       "      <td>...</td>\n",
       "    </tr>\n",
       "    <tr>\n",
       "      <th>18732</th>\n",
       "      <td>We will pay Curly 's doctor with these money t...</td>\n",
       "      <td>We will pay Curly 's vet with the money that w...</td>\n",
       "      <td>0.799752</td>\n",
       "      <td>0.976555</td>\n",
       "      <td>1</td>\n",
       "    </tr>\n",
       "    <tr>\n",
       "      <th>18962</th>\n",
       "      <td>As you can see , there are some ( volontary ? ...</td>\n",
       "      <td>As you can see , there are some ( deliberate ?...</td>\n",
       "      <td>0.799798</td>\n",
       "      <td>0.980210</td>\n",
       "      <td>1</td>\n",
       "    </tr>\n",
       "    <tr>\n",
       "      <th>14639</th>\n",
       "      <td>Another problem is , I realised that the disco...</td>\n",
       "      <td>Another problem is I thought that discounts we...</td>\n",
       "      <td>0.799831</td>\n",
       "      <td>0.979086</td>\n",
       "      <td>1</td>\n",
       "    </tr>\n",
       "    <tr>\n",
       "      <th>2114</th>\n",
       "      <td>I do n't really want to change that , I think ...</td>\n",
       "      <td>I do n't really want to change that , I think ...</td>\n",
       "      <td>0.799891</td>\n",
       "      <td>0.980476</td>\n",
       "      <td>1</td>\n",
       "    </tr>\n",
       "    <tr>\n",
       "      <th>7278</th>\n",
       "      <td>I would like to travel only in July because I ...</td>\n",
       "      <td>I would like to travel only in July because I ...</td>\n",
       "      <td>0.799915</td>\n",
       "      <td>0.978197</td>\n",
       "      <td>1</td>\n",
       "    </tr>\n",
       "  </tbody>\n",
       "</table>\n",
       "<p>1637 rows × 5 columns</p>\n",
       "</div>"
      ],
      "text/plain": [
       "                                                text_src  \\\n",
       "18933                              befor the beggining ?   \n",
       "25815                                i was abset of it .   \n",
       "15235                           It was alwais the saim .   \n",
       "14886                                             Becaue   \n",
       "17632     Staying in a que or croude is also unplesent .   \n",
       "...                                                  ...   \n",
       "18732  We will pay Curly 's doctor with these money t...   \n",
       "18962  As you can see , there are some ( volontary ? ...   \n",
       "14639  Another problem is , I realised that the disco...   \n",
       "2114   I do n't really want to change that , I think ...   \n",
       "7278   I would like to travel only in July because I ...   \n",
       "\n",
       "                                                text_tgt  cos_src_tgt  \\\n",
       "18933                             before the beginning ?     0.061627   \n",
       "25815                             I was upset about it .     0.083509   \n",
       "15235                           It was always the same .     0.095632   \n",
       "14886                                            Because     0.147442   \n",
       "17632   Staying in a queue or crowd is also unpleasant .     0.157074   \n",
       "...                                                  ...          ...   \n",
       "18732  We will pay Curly 's vet with the money that w...     0.799752   \n",
       "18962  As you can see , there are some ( deliberate ?...     0.799798   \n",
       "14639  Another problem is I thought that discounts we...     0.799831   \n",
       "2114   I do n't really want to change that , I think ...     0.799891   \n",
       "7278   I would like to travel only in July because I ...     0.799915   \n",
       "\n",
       "       cos_check  have_change  \n",
       "18933   0.963681            1  \n",
       "25815   0.977990            1  \n",
       "15235   0.974045            1  \n",
       "14886   0.946754            1  \n",
       "17632   0.975612            1  \n",
       "...          ...          ...  \n",
       "18732   0.976555            1  \n",
       "18962   0.980210            1  \n",
       "14639   0.979086            1  \n",
       "2114    0.980476            1  \n",
       "7278    0.978197            1  \n",
       "\n",
       "[1637 rows x 5 columns]"
      ]
     },
     "execution_count": 57,
     "metadata": {},
     "output_type": "execute_result"
    }
   ],
   "source": [
    "show_cos_src_tgt_dataset(fce_df, min_cos_src_tgt_sim=0.8)"
   ]
  },
  {
   "cell_type": "code",
   "execution_count": 55,
   "metadata": {},
   "outputs": [
    {
     "data": {
      "text/plain": [
       "array(['I would like to travel only in July because I will take some hollydays at this time .',\n",
       "       'I would like to travel only in July because I will have some holiday at that time .',\n",
       "       0.7999153137207031, 0.97819734, 1], dtype=object)"
      ]
     },
     "execution_count": 55,
     "metadata": {},
     "output_type": "execute_result"
    }
   ],
   "source": [
    "fce_df.loc[7278].values"
   ]
  },
  {
   "cell_type": "code",
   "execution_count": 58,
   "metadata": {},
   "outputs": [
    {
     "name": "stdout",
     "output_type": "stream",
     "text": [
      "Initial statistics\n",
      "Count of rows:  28350\n",
      "Count of rows with change:  17742\n",
      "Rate of rows with change:  0.63\n",
      "\n",
      "Drop dulicates\n",
      "Count of rows:  25707\n",
      "Diff count:  2643\n",
      "Count of rows with change:  17540\n",
      "Rate of rows with change:  0.68\n",
      "\n",
      "Drop where len less 5 and less then 3 token\n",
      "Count of rows:  24610\n",
      "Diff count:  1097\n",
      "Count of rows with change:  17300\n",
      "Rate of rows with change:  0.7\n",
      "\n",
      "Drop where start from non-capital\n",
      "Count of rows:  24529\n",
      "Diff count:  81\n",
      "Count of rows with change:  17246\n",
      "Rate of rows with change:  0.7\n",
      "\n",
      "Drop where for one src more than one target\n",
      "Count of rows:  24507\n",
      "Diff count:  22\n",
      "Count of rows with change:  17246\n",
      "Rate of rows with change:  0.7\n",
      "\n",
      "Drop where cosine similarity between src and tgt is less than  0.8\n",
      "Count of rows:  23098\n",
      "Diff count:  1409\n",
      "Count of rows with change:  15837\n",
      "Rate of rows with change:  0.69\n",
      "\n",
      "Final rate of cleaned data:  0.81\n"
     ]
    }
   ],
   "source": [
    "clean_fce = basic_clean(fce_df, show = True, min_cos_src_tgt_sim=0.8)"
   ]
  },
  {
   "cell_type": "markdown",
   "metadata": {},
   "source": [
    "## Lang8"
   ]
  },
  {
   "cell_type": "code",
   "execution_count": 61,
   "metadata": {},
   "outputs": [
    {
     "data": {
      "application/vnd.jupyter.widget-view+json": {
       "model_id": "2ff8a4002e9a40e390967cf0e9ee6dab",
       "version_major": 2,
       "version_minor": 0
      },
      "text/plain": [
       "HBox(children=(HTML(value=''), FloatProgress(value=0.0, max=1037561.0), HTML(value='')))"
      ]
     },
     "metadata": {},
     "output_type": "display_data"
    },
    {
     "name": "stdout",
     "output_type": "stream",
     "text": [
      "\n"
     ]
    }
   ],
   "source": [
    "text_src = read_lines(\"../../data_parallel/lang8/lang8_src\")\n",
    "text_tgt = read_lines(\"../../data_parallel/lang8/lang8_tgt\")\n",
    "\n",
    "with open(\"../Clustering/data/lang8_train_src_embed.pickle\", \"rb\") as f:\n",
    "    vectors_src = pickle.load(f)\n",
    "\n",
    "with open(\"../Clustering/data/lang8_train_tgt_embed.pickle\", \"rb\") as f:\n",
    "    vectors_tgt = pickle.load(f)\n",
    "    \n",
    "cos_sim = []\n",
    "for i in tqdm(range(len(vectors_src))):\n",
    "    cos_sim.append(cosine_similarity([vectors_src[i]],[vectors_tgt[i]])[0,0])"
   ]
  },
  {
   "cell_type": "code",
   "execution_count": 63,
   "metadata": {},
   "outputs": [],
   "source": [
    "with open(\"../Checkpoint_exp/lang8_cos.pickle\", \"rb\") as f:\n",
    "    cos_check = pickle.load(f)"
   ]
  },
  {
   "cell_type": "code",
   "execution_count": 64,
   "metadata": {},
   "outputs": [],
   "source": [
    "lang8_df = pd.DataFrame({\"text_src\": text_src, \"text_tgt\": text_tgt, \"cos_src_tgt\": cos_sim, \"cos_check\": cos_check})"
   ]
  },
  {
   "cell_type": "code",
   "execution_count": 65,
   "metadata": {},
   "outputs": [
    {
     "data": {
      "image/png": "[encoded data removed]",
      "text/plain": [
       "<Figure size 842.4x451.44 with 1 Axes>"
      ]
     },
     "metadata": {},
     "output_type": "display_data"
    }
   ],
   "source": [
    "g = plot_cos_src_tgt(lang8_df)\n",
    "plt.xticks(np.arange(0, 1, 0.1))\n",
    "plt.show()"
   ]
  },
  {
   "cell_type": "code",
   "execution_count": 66,
   "metadata": {},
   "outputs": [
    {
     "data": {
      "text/html": [
       "<div>\n",
       "<style scoped>\n",
       "    .dataframe tbody tr th:only-of-type {\n",
       "        vertical-align: middle;\n",
       "    }\n",
       "\n",
       "    .dataframe tbody tr th {\n",
       "        vertical-align: top;\n",
       "    }\n",
       "\n",
       "    .dataframe thead th {\n",
       "        text-align: right;\n",
       "    }\n",
       "</style>\n",
       "<table border=\"1\" class=\"dataframe\">\n",
       "  <thead>\n",
       "    <tr style=\"text-align: right;\">\n",
       "      <th></th>\n",
       "      <th>text_src</th>\n",
       "      <th>text_tgt</th>\n",
       "      <th>cos_src_tgt</th>\n",
       "      <th>cos_check</th>\n",
       "    </tr>\n",
       "  </thead>\n",
       "  <tbody>\n",
       "    <tr>\n",
       "      <th>300445</th>\n",
       "      <td>So I do easy to the society 's exchange .</td>\n",
       "      <td>I do n't understand this phrase .</td>\n",
       "      <td>-0.129838</td>\n",
       "      <td>0.976939</td>\n",
       "    </tr>\n",
       "    <tr>\n",
       "      <th>504480</th>\n",
       "      <td>is japanese holiday .</td>\n",
       "      <td>.</td>\n",
       "      <td>-0.107871</td>\n",
       "      <td>0.976343</td>\n",
       "    </tr>\n",
       "    <tr>\n",
       "      <th>620960</th>\n",
       "      <td>Because I like fish .</td>\n",
       "      <td>See above .</td>\n",
       "      <td>-0.077993</td>\n",
       "      <td>0.978164</td>\n",
       "    </tr>\n",
       "    <tr>\n",
       "      <th>746006</th>\n",
       "      <td>I can t explain how it ached . . .</td>\n",
       "      <td>kotoba ni naranai kurai itai . . .</td>\n",
       "      <td>-0.077581</td>\n",
       "      <td>0.976457</td>\n",
       "    </tr>\n",
       "    <tr>\n",
       "      <th>542854</th>\n",
       "      <td>The show started .</td>\n",
       "      <td>Incomplete sentence .</td>\n",
       "      <td>-0.069533</td>\n",
       "      <td>0.975724</td>\n",
       "    </tr>\n",
       "    <tr>\n",
       "      <th>...</th>\n",
       "      <td>...</td>\n",
       "      <td>...</td>\n",
       "      <td>...</td>\n",
       "      <td>...</td>\n",
       "    </tr>\n",
       "    <tr>\n",
       "      <th>20133</th>\n",
       "      <td>Consequently , we have a hard time economicaly...</td>\n",
       "      <td>Consequently , we now have a hard time living ...</td>\n",
       "      <td>0.799991</td>\n",
       "      <td>0.978727</td>\n",
       "    </tr>\n",
       "    <tr>\n",
       "      <th>991930</th>\n",
       "      <td>Actually , many companies lately try to establ...</td>\n",
       "      <td>Actually , lately many companies have recently...</td>\n",
       "      <td>0.799992</td>\n",
       "      <td>0.970962</td>\n",
       "    </tr>\n",
       "    <tr>\n",
       "      <th>18822</th>\n",
       "      <td>We take a walk a littel , then I heard dog 's ...</td>\n",
       "      <td>We t walked a bit , then I heard a dog bark .</td>\n",
       "      <td>0.799995</td>\n",
       "      <td>0.977029</td>\n",
       "    </tr>\n",
       "    <tr>\n",
       "      <th>516642</th>\n",
       "      <td>Yesterday , I send e - mail to my professor wi...</td>\n",
       "      <td>Yesterday , I sent an email to my professor wi...</td>\n",
       "      <td>0.799996</td>\n",
       "      <td>0.980873</td>\n",
       "    </tr>\n",
       "    <tr>\n",
       "      <th>831150</th>\n",
       "      <td>This movie is very interedting .</td>\n",
       "      <td>This movie is very interesting .</td>\n",
       "      <td>0.799998</td>\n",
       "      <td>0.977585</td>\n",
       "    </tr>\n",
       "  </tbody>\n",
       "</table>\n",
       "<p>66101 rows × 4 columns</p>\n",
       "</div>"
      ],
      "text/plain": [
       "                                                 text_src  \\\n",
       "300445          So I do easy to the society 's exchange .   \n",
       "504480                              is japanese holiday .   \n",
       "620960                              Because I like fish .   \n",
       "746006                 I can t explain how it ached . . .   \n",
       "542854                                 The show started .   \n",
       "...                                                   ...   \n",
       "20133   Consequently , we have a hard time economicaly...   \n",
       "991930  Actually , many companies lately try to establ...   \n",
       "18822   We take a walk a littel , then I heard dog 's ...   \n",
       "516642  Yesterday , I send e - mail to my professor wi...   \n",
       "831150                   This movie is very interedting .   \n",
       "\n",
       "                                                 text_tgt  cos_src_tgt  \\\n",
       "300445                  I do n't understand this phrase .    -0.129838   \n",
       "504480                                                  .    -0.107871   \n",
       "620960                                        See above .    -0.077993   \n",
       "746006                 kotoba ni naranai kurai itai . . .    -0.077581   \n",
       "542854                              Incomplete sentence .    -0.069533   \n",
       "...                                                   ...          ...   \n",
       "20133   Consequently , we now have a hard time living ...     0.799991   \n",
       "991930  Actually , lately many companies have recently...     0.799992   \n",
       "18822       We t walked a bit , then I heard a dog bark .     0.799995   \n",
       "516642  Yesterday , I sent an email to my professor wi...     0.799996   \n",
       "831150                   This movie is very interesting .     0.799998   \n",
       "\n",
       "        cos_check  \n",
       "300445   0.976939  \n",
       "504480   0.976343  \n",
       "620960   0.978164  \n",
       "746006   0.976457  \n",
       "542854   0.975724  \n",
       "...           ...  \n",
       "20133    0.978727  \n",
       "991930   0.970962  \n",
       "18822    0.977029  \n",
       "516642   0.980873  \n",
       "831150   0.977585  \n",
       "\n",
       "[66101 rows x 4 columns]"
      ]
     },
     "execution_count": 66,
     "metadata": {},
     "output_type": "execute_result"
    }
   ],
   "source": [
    "show_cos_src_tgt_dataset(lang8_df, min_cos_src_tgt_sim=0.8)"
   ]
  },
  {
   "cell_type": "code",
   "execution_count": 67,
   "metadata": {},
   "outputs": [
    {
     "data": {
      "text/plain": [
       "array(['Actually , many companies lately try to establish new management systems by juggling teamwork and outstanding characters .',\n",
       "       'Actually , lately many companies have recently been trying to establish new management systems by finding a balance between teamwork and individual success .',\n",
       "       0.7999920845031738, 0.9709615], dtype=object)"
      ]
     },
     "execution_count": 67,
     "metadata": {},
     "output_type": "execute_result"
    }
   ],
   "source": [
    "lang8_df.loc[991930].values"
   ]
  },
  {
   "cell_type": "code",
   "execution_count": 70,
   "metadata": {},
   "outputs": [
    {
     "name": "stdout",
     "output_type": "stream",
     "text": [
      "Initial statistics\n",
      "Count of rows:  1037561\n",
      "Count of rows with change:  499205\n",
      "Rate of rows with change:  0.48\n",
      "\n",
      "Drop dulicates\n",
      "Count of rows:  950886\n",
      "Diff count:  86675\n",
      "Count of rows with change:  497292\n",
      "Rate of rows with change:  0.52\n",
      "\n",
      "Drop where len less 5 and less then 3 token\n",
      "Count of rows:  902102\n",
      "Diff count:  48784\n",
      "Count of rows with change:  491604\n",
      "Rate of rows with change:  0.54\n",
      "\n",
      "Drop where start from non-capital\n",
      "Count of rows:  855065\n",
      "Diff count:  47037\n",
      "Count of rows with change:  469462\n",
      "Rate of rows with change:  0.55\n",
      "\n",
      "Drop where cosine similarity between src and tgt is less than  0.8\n",
      "Count of rows:  795260\n",
      "Diff count:  59805\n",
      "Count of rows with change:  409657\n",
      "Rate of rows with change:  0.52\n",
      "\n",
      "Final rate of cleaned data:  0.77\n"
     ]
    }
   ],
   "source": [
    "clean_lang8 = basic_clean(lang8_df, show = True, min_cos_src_tgt_sim=0.8)"
   ]
  },
  {
   "cell_type": "code",
   "execution_count": 71,
   "metadata": {},
   "outputs": [],
   "source": [
    "import copy"
   ]
  },
  {
   "cell_type": "code",
   "execution_count": 72,
   "metadata": {},
   "outputs": [],
   "source": [
    "merge = copy.deepcopy(clean_lang8)\n",
    "merge = merge.append(clean_nucle)\n",
    "merge = merge.append(clean_fce)\n",
    "merge = merge.append(clean_wl)"
   ]
  },
  {
   "cell_type": "code",
   "execution_count": 121,
   "metadata": {},
   "outputs": [
    {
     "data": {
      "text/plain": [
       "900143"
      ]
     },
     "execution_count": 121,
     "metadata": {},
     "output_type": "execute_result"
    }
   ],
   "source": [
    "len(merge)"
   ]
  },
  {
   "cell_type": "code",
   "execution_count": 123,
   "metadata": {},
   "outputs": [
    {
     "data": {
      "text/plain": [
       "466971"
      ]
     },
     "execution_count": 123,
     "metadata": {},
     "output_type": "execute_result"
    }
   ],
   "source": [
    "merge.have_change.sum()"
   ]
  },
  {
   "cell_type": "code",
   "execution_count": 74,
   "metadata": {},
   "outputs": [],
   "source": [
    "from sklearn.model_selection import train_test_split"
   ]
  },
  {
   "cell_type": "code",
   "execution_count": 75,
   "metadata": {},
   "outputs": [],
   "source": [
    "train, dev = train_test_split(merge, test_size=0.02, random_state=4)"
   ]
  },
  {
   "cell_type": "code",
   "execution_count": 76,
   "metadata": {},
   "outputs": [],
   "source": [
    "train_src = train.text_src.values \n",
    "train_tgt = train.text_tgt.values \n",
    "dev_src = dev.text_src.values \n",
    "dev_tgt = dev.text_tgt.values "
   ]
  },
  {
   "cell_type": "code",
   "execution_count": 77,
   "metadata": {},
   "outputs": [],
   "source": [
    "path_save = \"../../data_parallel/base_clean_gold/\""
   ]
  },
  {
   "cell_type": "code",
   "execution_count": 78,
   "metadata": {},
   "outputs": [],
   "source": [
    "write_lines(path_save+\"train_src\", train_src, mode='w')\n",
    "write_lines(path_save+\"train_tgt\", train_tgt, mode='w')\n",
    "write_lines(path_save+\"dev_src\", dev_src, mode='w')\n",
    "write_lines(path_save+\"dev_tgt\", dev_tgt, mode='w')"
   ]
  },
  {
   "cell_type": "markdown",
   "metadata": {},
   "source": [
    "### Clean with checkpoints"
   ]
  },
  {
   "cell_type": "markdown",
   "metadata": {},
   "source": [
    "### FCE"
   ]
  },
  {
   "cell_type": "code",
   "execution_count": 97,
   "metadata": {},
   "outputs": [
    {
     "data": {
      "image/png": "[encoded data removed]",
      "text/plain": [
       "<Figure size 842.4x451.44 with 1 Axes>"
      ]
     },
     "metadata": {},
     "output_type": "display_data"
    }
   ],
   "source": [
    "g = plot_cos_src_tgt(clean_fce, col=\"cos_check\")"
   ]
  },
  {
   "cell_type": "code",
   "execution_count": 106,
   "metadata": {},
   "outputs": [
    {
     "data": {
      "text/html": [
       "<div>\n",
       "<style scoped>\n",
       "    .dataframe tbody tr th:only-of-type {\n",
       "        vertical-align: middle;\n",
       "    }\n",
       "\n",
       "    .dataframe tbody tr th {\n",
       "        vertical-align: top;\n",
       "    }\n",
       "\n",
       "    .dataframe thead th {\n",
       "        text-align: right;\n",
       "    }\n",
       "</style>\n",
       "<table border=\"1\" class=\"dataframe\">\n",
       "  <thead>\n",
       "    <tr style=\"text-align: right;\">\n",
       "      <th></th>\n",
       "      <th>text_src</th>\n",
       "      <th>text_tgt</th>\n",
       "      <th>cos_src_tgt</th>\n",
       "      <th>cos_check</th>\n",
       "      <th>have_change</th>\n",
       "    </tr>\n",
       "  </thead>\n",
       "  <tbody>\n",
       "    <tr>\n",
       "      <th>5884</th>\n",
       "      <td>Dear Sir/ Madame ,</td>\n",
       "      <td>Dear Sir/ Madam ,</td>\n",
       "      <td>0.808469</td>\n",
       "      <td>0.941449</td>\n",
       "      <td>1</td>\n",
       "    </tr>\n",
       "    <tr>\n",
       "      <th>3549</th>\n",
       "      <td>Your faithfully Jose Fernandez</td>\n",
       "      <td>Yours faithfully , Jose Fernandez</td>\n",
       "      <td>0.942777</td>\n",
       "      <td>0.944115</td>\n",
       "      <td>1</td>\n",
       "    </tr>\n",
       "    <tr>\n",
       "      <th>179</th>\n",
       "      <td>Dear Helen Ryan</td>\n",
       "      <td>Dear Helen Ryan ,</td>\n",
       "      <td>0.987902</td>\n",
       "      <td>0.945434</td>\n",
       "      <td>1</td>\n",
       "    </tr>\n",
       "    <tr>\n",
       "      <th>22449</th>\n",
       "      <td>Dear Madam Ryan ,</td>\n",
       "      <td>Dear Ms Ryan ,</td>\n",
       "      <td>0.809835</td>\n",
       "      <td>0.946956</td>\n",
       "      <td>1</td>\n",
       "    </tr>\n",
       "    <tr>\n",
       "      <th>16327</th>\n",
       "      <td>Dear Madam or Sir</td>\n",
       "      <td>Dear Sir or Madam</td>\n",
       "      <td>0.982242</td>\n",
       "      <td>0.947401</td>\n",
       "      <td>1</td>\n",
       "    </tr>\n",
       "    <tr>\n",
       "      <th>...</th>\n",
       "      <td>...</td>\n",
       "      <td>...</td>\n",
       "      <td>...</td>\n",
       "      <td>...</td>\n",
       "      <td>...</td>\n",
       "    </tr>\n",
       "    <tr>\n",
       "      <th>3119</th>\n",
       "      <td>She has given away to my mother that I told he...</td>\n",
       "      <td>She has given it away to my mother that I told...</td>\n",
       "      <td>0.995717</td>\n",
       "      <td>0.974992</td>\n",
       "      <td>1</td>\n",
       "    </tr>\n",
       "    <tr>\n",
       "      <th>27108</th>\n",
       "      <td>I am sure you understand why I am so upset and...</td>\n",
       "      <td>I am sure you understand why I am so upset and...</td>\n",
       "      <td>0.998905</td>\n",
       "      <td>0.974996</td>\n",
       "      <td>1</td>\n",
       "    </tr>\n",
       "    <tr>\n",
       "      <th>19504</th>\n",
       "      <td>If I pick up the example , Kimono ( Japanese t...</td>\n",
       "      <td>If I pick up an example , the Kimono ( traditi...</td>\n",
       "      <td>0.924326</td>\n",
       "      <td>0.974998</td>\n",
       "      <td>1</td>\n",
       "    </tr>\n",
       "    <tr>\n",
       "      <th>6155</th>\n",
       "      <td>Modern technology have change my daily life in...</td>\n",
       "      <td>Modern technology has changed my daily life in...</td>\n",
       "      <td>0.990995</td>\n",
       "      <td>0.974998</td>\n",
       "      <td>1</td>\n",
       "    </tr>\n",
       "    <tr>\n",
       "      <th>17567</th>\n",
       "      <td>This number may be increased to attract more a...</td>\n",
       "      <td>This number should be increased to attract mor...</td>\n",
       "      <td>0.962959</td>\n",
       "      <td>0.974999</td>\n",
       "      <td>1</td>\n",
       "    </tr>\n",
       "  </tbody>\n",
       "</table>\n",
       "<p>1563 rows × 5 columns</p>\n",
       "</div>"
      ],
      "text/plain": [
       "                                                text_src  \\\n",
       "5884                                  Dear Sir/ Madame ,   \n",
       "3549                      Your faithfully Jose Fernandez   \n",
       "179                                      Dear Helen Ryan   \n",
       "22449                                  Dear Madam Ryan ,   \n",
       "16327                                  Dear Madam or Sir   \n",
       "...                                                  ...   \n",
       "3119   She has given away to my mother that I told he...   \n",
       "27108  I am sure you understand why I am so upset and...   \n",
       "19504  If I pick up the example , Kimono ( Japanese t...   \n",
       "6155   Modern technology have change my daily life in...   \n",
       "17567  This number may be increased to attract more a...   \n",
       "\n",
       "                                                text_tgt  cos_src_tgt  \\\n",
       "5884                                   Dear Sir/ Madam ,     0.808469   \n",
       "3549                   Yours faithfully , Jose Fernandez     0.942777   \n",
       "179                                    Dear Helen Ryan ,     0.987902   \n",
       "22449                                     Dear Ms Ryan ,     0.809835   \n",
       "16327                                  Dear Sir or Madam     0.982242   \n",
       "...                                                  ...          ...   \n",
       "3119   She has given it away to my mother that I told...     0.995717   \n",
       "27108  I am sure you understand why I am so upset and...     0.998905   \n",
       "19504  If I pick up an example , the Kimono ( traditi...     0.924326   \n",
       "6155   Modern technology has changed my daily life in...     0.990995   \n",
       "17567  This number should be increased to attract mor...     0.962959   \n",
       "\n",
       "       cos_check  have_change  \n",
       "5884    0.941449            1  \n",
       "3549    0.944115            1  \n",
       "179     0.945434            1  \n",
       "22449   0.946956            1  \n",
       "16327   0.947401            1  \n",
       "...          ...          ...  \n",
       "3119    0.974992            1  \n",
       "27108   0.974996            1  \n",
       "19504   0.974998            1  \n",
       "6155    0.974998            1  \n",
       "17567   0.974999            1  \n",
       "\n",
       "[1563 rows x 5 columns]"
      ]
     },
     "execution_count": 106,
     "metadata": {},
     "output_type": "execute_result"
    }
   ],
   "source": [
    "sh = show_cos_check_dataset(clean_fce, min_cos_check_sim=0.975)\n",
    "sh[sh['have_change'] == 1]"
   ]
  },
  {
   "cell_type": "code",
   "execution_count": 89,
   "metadata": {},
   "outputs": [
    {
     "data": {
      "text/plain": [
       "23098"
      ]
     },
     "execution_count": 89,
     "metadata": {},
     "output_type": "execute_result"
    }
   ],
   "source": [
    "len(clean_fce)"
   ]
  },
  {
   "cell_type": "code",
   "execution_count": 107,
   "metadata": {},
   "outputs": [],
   "source": [
    "clean_fce_check = clean_fce[clean_fce[\"cos_check\"] > 0.975]"
   ]
  },
  {
   "cell_type": "code",
   "execution_count": 108,
   "metadata": {},
   "outputs": [
    {
     "data": {
      "text/plain": [
       "19245"
      ]
     },
     "execution_count": 108,
     "metadata": {},
     "output_type": "execute_result"
    }
   ],
   "source": [
    "len(clean_fce_check)"
   ]
  },
  {
   "cell_type": "markdown",
   "metadata": {},
   "source": [
    "### Nucle"
   ]
  },
  {
   "cell_type": "code",
   "execution_count": 109,
   "metadata": {},
   "outputs": [
    {
     "data": {
      "image/png": "[encoded data removed]",
      "text/plain": [
       "<Figure size 842.4x451.44 with 1 Axes>"
      ]
     },
     "metadata": {},
     "output_type": "display_data"
    }
   ],
   "source": [
    "g = plot_cos_src_tgt(clean_nucle, col=\"cos_check\")"
   ]
  },
  {
   "cell_type": "code",
   "execution_count": 119,
   "metadata": {},
   "outputs": [
    {
     "data": {
      "text/html": [
       "<div>\n",
       "<style scoped>\n",
       "    .dataframe tbody tr th:only-of-type {\n",
       "        vertical-align: middle;\n",
       "    }\n",
       "\n",
       "    .dataframe tbody tr th {\n",
       "        vertical-align: top;\n",
       "    }\n",
       "\n",
       "    .dataframe thead th {\n",
       "        text-align: right;\n",
       "    }\n",
       "</style>\n",
       "<table border=\"1\" class=\"dataframe\">\n",
       "  <thead>\n",
       "    <tr style=\"text-align: right;\">\n",
       "      <th></th>\n",
       "      <th>text_src</th>\n",
       "      <th>text_tgt</th>\n",
       "      <th>cos_src_tgt</th>\n",
       "      <th>cos_check</th>\n",
       "      <th>have_change</th>\n",
       "    </tr>\n",
       "  </thead>\n",
       "  <tbody>\n",
       "    <tr>\n",
       "      <th>12926</th>\n",
       "      <td>The Wikipedia claims that intensive farming is...</td>\n",
       "      <td>Wikipedia claims that intensive farming is an ...</td>\n",
       "      <td>0.984283</td>\n",
       "      <td>0.938626</td>\n",
       "      <td>1</td>\n",
       "    </tr>\n",
       "    <tr>\n",
       "      <th>6840</th>\n",
       "      <td>There are also retraining and upgrading progra...</td>\n",
       "      <td>There are also retraining and upgrading progra...</td>\n",
       "      <td>0.971904</td>\n",
       "      <td>0.943413</td>\n",
       "      <td>1</td>\n",
       "    </tr>\n",
       "    <tr>\n",
       "      <th>30561</th>\n",
       "      <td>( { http : //bbs.chinadaily.com.cn/redirect.ph...</td>\n",
       "      <td>( { http : //bbs.chinadaily.com.cn/redirect.ph...</td>\n",
       "      <td>0.996778</td>\n",
       "      <td>0.944728</td>\n",
       "      <td>1</td>\n",
       "    </tr>\n",
       "    <tr>\n",
       "      <th>55784</th>\n",
       "      <td>( Christiana , J. , Cirella , N. , Lee , B. , ...</td>\n",
       "      <td>( ( Christiana.J . et al , 2007 ) ) Furthermor...</td>\n",
       "      <td>0.954420</td>\n",
       "      <td>0.945996</td>\n",
       "      <td>1</td>\n",
       "    </tr>\n",
       "    <tr>\n",
       "      <th>27902</th>\n",
       "      <td>The accident rate per 10,000 vehicles has incr...</td>\n",
       "      <td>The accident rate per 10,000 vehicles has incr...</td>\n",
       "      <td>0.955128</td>\n",
       "      <td>0.946621</td>\n",
       "      <td>1</td>\n",
       "    </tr>\n",
       "    <tr>\n",
       "      <th>...</th>\n",
       "      <td>...</td>\n",
       "      <td>...</td>\n",
       "      <td>...</td>\n",
       "      <td>...</td>\n",
       "      <td>...</td>\n",
       "    </tr>\n",
       "    <tr>\n",
       "      <th>6568</th>\n",
       "      <td>Human genetics has made tremendous leaps over ...</td>\n",
       "      <td>Human genetics has made tremendous leaps over ...</td>\n",
       "      <td>0.999520</td>\n",
       "      <td>0.974997</td>\n",
       "      <td>1</td>\n",
       "    </tr>\n",
       "    <tr>\n",
       "      <th>22434</th>\n",
       "      <td>This result in a process where identifying the...</td>\n",
       "      <td>This results in a process where identifying th...</td>\n",
       "      <td>0.998870</td>\n",
       "      <td>0.974997</td>\n",
       "      <td>1</td>\n",
       "    </tr>\n",
       "    <tr>\n",
       "      <th>31914</th>\n",
       "      <td>This counter argument is good but it may be no...</td>\n",
       "      <td>This counter argument is good but it may be no...</td>\n",
       "      <td>0.981090</td>\n",
       "      <td>0.974999</td>\n",
       "      <td>1</td>\n",
       "    </tr>\n",
       "    <tr>\n",
       "      <th>19631</th>\n",
       "      <td>The government has a duty in taking care of th...</td>\n",
       "      <td>The government has a duty to take care of the ...</td>\n",
       "      <td>0.985434</td>\n",
       "      <td>0.975000</td>\n",
       "      <td>1</td>\n",
       "    </tr>\n",
       "    <tr>\n",
       "      <th>13511</th>\n",
       "      <td>Although it is a controversial issue to talk a...</td>\n",
       "      <td>Although it is a controversial issue to talk a...</td>\n",
       "      <td>0.998776</td>\n",
       "      <td>0.975000</td>\n",
       "      <td>1</td>\n",
       "    </tr>\n",
       "  </tbody>\n",
       "</table>\n",
       "<p>13620 rows × 5 columns</p>\n",
       "</div>"
      ],
      "text/plain": [
       "                                                text_src  \\\n",
       "12926  The Wikipedia claims that intensive farming is...   \n",
       "6840   There are also retraining and upgrading progra...   \n",
       "30561  ( { http : //bbs.chinadaily.com.cn/redirect.ph...   \n",
       "55784  ( Christiana , J. , Cirella , N. , Lee , B. , ...   \n",
       "27902  The accident rate per 10,000 vehicles has incr...   \n",
       "...                                                  ...   \n",
       "6568   Human genetics has made tremendous leaps over ...   \n",
       "22434  This result in a process where identifying the...   \n",
       "31914  This counter argument is good but it may be no...   \n",
       "19631  The government has a duty in taking care of th...   \n",
       "13511  Although it is a controversial issue to talk a...   \n",
       "\n",
       "                                                text_tgt  cos_src_tgt  \\\n",
       "12926  Wikipedia claims that intensive farming is an ...     0.984283   \n",
       "6840   There are also retraining and upgrading progra...     0.971904   \n",
       "30561  ( { http : //bbs.chinadaily.com.cn/redirect.ph...     0.996778   \n",
       "55784  ( ( Christiana.J . et al , 2007 ) ) Furthermor...     0.954420   \n",
       "27902  The accident rate per 10,000 vehicles has incr...     0.955128   \n",
       "...                                                  ...          ...   \n",
       "6568   Human genetics has made tremendous leaps over ...     0.999520   \n",
       "22434  This results in a process where identifying th...     0.998870   \n",
       "31914  This counter argument is good but it may be no...     0.981090   \n",
       "19631  The government has a duty to take care of the ...     0.985434   \n",
       "13511  Although it is a controversial issue to talk a...     0.998776   \n",
       "\n",
       "       cos_check  have_change  \n",
       "12926   0.938626            1  \n",
       "6840    0.943413            1  \n",
       "30561   0.944728            1  \n",
       "55784   0.945996            1  \n",
       "27902   0.946621            1  \n",
       "...          ...          ...  \n",
       "6568    0.974997            1  \n",
       "22434   0.974997            1  \n",
       "31914   0.974999            1  \n",
       "19631   0.975000            1  \n",
       "13511   0.975000            1  \n",
       "\n",
       "[13620 rows x 5 columns]"
      ]
     },
     "execution_count": 119,
     "metadata": {},
     "output_type": "execute_result"
    }
   ],
   "source": [
    "sh = show_cos_check_dataset(clean_nucle, min_cos_check_sim=0.975)\n",
    "sh[sh['have_change'] == 1]"
   ]
  },
  {
   "cell_type": "code",
   "execution_count": 120,
   "metadata": {},
   "outputs": [],
   "source": [
    "clean_nucle_check = clean_nucle[clean_nucle[\"cos_check\"] > 0.975]"
   ]
  },
  {
   "cell_type": "markdown",
   "metadata": {},
   "source": [
    "### Lang8"
   ]
  },
  {
   "cell_type": "code",
   "execution_count": 116,
   "metadata": {},
   "outputs": [
    {
     "data": {
      "image/png": "[encoded data removed]",
      "text/plain": [
       "<Figure size 842.4x451.44 with 1 Axes>"
      ]
     },
     "metadata": {},
     "output_type": "display_data"
    }
   ],
   "source": [
    "g = plot_cos_src_tgt(clean_lang8, col=\"cos_check\")"
   ]
  },
  {
   "cell_type": "code",
   "execution_count": 125,
   "metadata": {},
   "outputs": [
    {
     "data": {
      "text/html": [
       "<div>\n",
       "<style scoped>\n",
       "    .dataframe tbody tr th:only-of-type {\n",
       "        vertical-align: middle;\n",
       "    }\n",
       "\n",
       "    .dataframe tbody tr th {\n",
       "        vertical-align: top;\n",
       "    }\n",
       "\n",
       "    .dataframe thead th {\n",
       "        text-align: right;\n",
       "    }\n",
       "</style>\n",
       "<table border=\"1\" class=\"dataframe\">\n",
       "  <thead>\n",
       "    <tr style=\"text-align: right;\">\n",
       "      <th></th>\n",
       "      <th>text_src</th>\n",
       "      <th>text_tgt</th>\n",
       "      <th>cos_src_tgt</th>\n",
       "      <th>cos_check</th>\n",
       "      <th>have_change</th>\n",
       "    </tr>\n",
       "  </thead>\n",
       "  <tbody>\n",
       "    <tr>\n",
       "      <th>848187</th>\n",
       "      <td>hello ! ! ! ! ! ! ! ! ! ! ! ! ! ! ! ! ! ! ! ! ...</td>\n",
       "      <td>Hello ! ! ! ! ! ! ! ! ! ! ! ! ! ! ! ! ! ! ! ! ...</td>\n",
       "      <td>0.938659</td>\n",
       "      <td>0.884925</td>\n",
       "      <td>1</td>\n",
       "    </tr>\n",
       "    <tr>\n",
       "      <th>441516</th>\n",
       "      <td>exciting</td>\n",
       "      <td>Exciting or An exciting picture</td>\n",
       "      <td>0.880587</td>\n",
       "      <td>0.893824</td>\n",
       "      <td>1</td>\n",
       "    </tr>\n",
       "    <tr>\n",
       "      <th>636988</th>\n",
       "      <td>My homework is so heavy ! ! ! ! ! ! ! ! ! ! ! ...</td>\n",
       "      <td>I have so much homework ! ! ! ! ! ! ! ! ! ! ! ...</td>\n",
       "      <td>0.815322</td>\n",
       "      <td>0.894128</td>\n",
       "      <td>1</td>\n",
       "    </tr>\n",
       "    <tr>\n",
       "      <th>907850</th>\n",
       "      <td>Willy Coyote</td>\n",
       "      <td>Wile E . Coyote</td>\n",
       "      <td>0.887032</td>\n",
       "      <td>0.898402</td>\n",
       "      <td>1</td>\n",
       "    </tr>\n",
       "    <tr>\n",
       "      <th>504669</th>\n",
       "      <td>WHY ! ! ! ! ! ! ! ! ! ! ! ! ! ! ! ! ! ! ! ! !</td>\n",
       "      <td>WHY ? ! ! ! ! ! ! ! ! ! ! ! ! ! ! ! ! ! ! ! ! !</td>\n",
       "      <td>0.853729</td>\n",
       "      <td>0.905077</td>\n",
       "      <td>1</td>\n",
       "    </tr>\n",
       "    <tr>\n",
       "      <th>...</th>\n",
       "      <td>...</td>\n",
       "      <td>...</td>\n",
       "      <td>...</td>\n",
       "      <td>...</td>\n",
       "      <td>...</td>\n",
       "    </tr>\n",
       "    <tr>\n",
       "      <th>353081</th>\n",
       "      <td>Is Kuruneko popular in children ?</td>\n",
       "      <td>Is Kuruneko popular with children ?</td>\n",
       "      <td>0.994654</td>\n",
       "      <td>0.975000</td>\n",
       "      <td>1</td>\n",
       "    </tr>\n",
       "    <tr>\n",
       "      <th>588769</th>\n",
       "      <td>It 's six million yen .</td>\n",
       "      <td>It was filled with six million yen .</td>\n",
       "      <td>0.960215</td>\n",
       "      <td>0.975000</td>\n",
       "      <td>1</td>\n",
       "    </tr>\n",
       "    <tr>\n",
       "      <th>868792</th>\n",
       "      <td>We do n't know why he has got recovered , any ...</td>\n",
       "      <td>We do n't know why he has recovered , anyway w...</td>\n",
       "      <td>0.928414</td>\n",
       "      <td>0.975000</td>\n",
       "      <td>1</td>\n",
       "    </tr>\n",
       "    <tr>\n",
       "      <th>650649</th>\n",
       "      <td>`` God help those who help themselves ! ``</td>\n",
       "      <td>`` God helps those who help themselves ! ``</td>\n",
       "      <td>0.939081</td>\n",
       "      <td>0.975000</td>\n",
       "      <td>1</td>\n",
       "    </tr>\n",
       "    <tr>\n",
       "      <th>88658</th>\n",
       "      <td>Tequila does make me less chippy than beer .</td>\n",
       "      <td>Tequila makes me less chipper ? than beer .</td>\n",
       "      <td>0.893436</td>\n",
       "      <td>0.975000</td>\n",
       "      <td>1</td>\n",
       "    </tr>\n",
       "  </tbody>\n",
       "</table>\n",
       "<p>59727 rows × 5 columns</p>\n",
       "</div>"
      ],
      "text/plain": [
       "                                                 text_src  \\\n",
       "848187  hello ! ! ! ! ! ! ! ! ! ! ! ! ! ! ! ! ! ! ! ! ...   \n",
       "441516                                           exciting   \n",
       "636988  My homework is so heavy ! ! ! ! ! ! ! ! ! ! ! ...   \n",
       "907850                                       Willy Coyote   \n",
       "504669      WHY ! ! ! ! ! ! ! ! ! ! ! ! ! ! ! ! ! ! ! ! !   \n",
       "...                                                   ...   \n",
       "353081                  Is Kuruneko popular in children ?   \n",
       "588769                            It 's six million yen .   \n",
       "868792  We do n't know why he has got recovered , any ...   \n",
       "650649         `` God help those who help themselves ! ``   \n",
       "88658        Tequila does make me less chippy than beer .   \n",
       "\n",
       "                                                 text_tgt  cos_src_tgt  \\\n",
       "848187  Hello ! ! ! ! ! ! ! ! ! ! ! ! ! ! ! ! ! ! ! ! ...     0.938659   \n",
       "441516                    Exciting or An exciting picture     0.880587   \n",
       "636988  I have so much homework ! ! ! ! ! ! ! ! ! ! ! ...     0.815322   \n",
       "907850                                    Wile E . Coyote     0.887032   \n",
       "504669    WHY ? ! ! ! ! ! ! ! ! ! ! ! ! ! ! ! ! ! ! ! ! !     0.853729   \n",
       "...                                                   ...          ...   \n",
       "353081                Is Kuruneko popular with children ?     0.994654   \n",
       "588769               It was filled with six million yen .     0.960215   \n",
       "868792  We do n't know why he has recovered , anyway w...     0.928414   \n",
       "650649        `` God helps those who help themselves ! ``     0.939081   \n",
       "88658         Tequila makes me less chipper ? than beer .     0.893436   \n",
       "\n",
       "        cos_check  have_change  \n",
       "848187   0.884925            1  \n",
       "441516   0.893824            1  \n",
       "636988   0.894128            1  \n",
       "907850   0.898402            1  \n",
       "504669   0.905077            1  \n",
       "...           ...          ...  \n",
       "353081   0.975000            1  \n",
       "588769   0.975000            1  \n",
       "868792   0.975000            1  \n",
       "650649   0.975000            1  \n",
       "88658    0.975000            1  \n",
       "\n",
       "[59727 rows x 5 columns]"
      ]
     },
     "execution_count": 125,
     "metadata": {},
     "output_type": "execute_result"
    }
   ],
   "source": [
    "sh = show_cos_check_dataset(clean_lang8, min_cos_check_sim=0.975)\n",
    "sh[sh['have_change'] == 1]"
   ]
  },
  {
   "cell_type": "code",
   "execution_count": 126,
   "metadata": {},
   "outputs": [],
   "source": [
    "clean_lang8_check = clean_lang8[clean_lang8[\"cos_check\"] > 0.975]"
   ]
  },
  {
   "cell_type": "code",
   "execution_count": 127,
   "metadata": {},
   "outputs": [],
   "source": [
    "merge_check = copy.deepcopy(clean_lang8_check)\n",
    "merge_check = merge_check.append(clean_nucle_check)\n",
    "merge_check = merge_check.append(clean_fce_check)\n",
    "merge_check = merge_check.append(clean_wl)"
   ]
  },
  {
   "cell_type": "code",
   "execution_count": 128,
   "metadata": {},
   "outputs": [
    {
     "data": {
      "text/plain": [
       "681202"
      ]
     },
     "execution_count": 128,
     "metadata": {},
     "output_type": "execute_result"
    }
   ],
   "source": [
    "len(merge_check)"
   ]
  },
  {
   "cell_type": "code",
   "execution_count": 129,
   "metadata": {},
   "outputs": [
    {
     "data": {
      "text/plain": [
       "392061"
      ]
     },
     "execution_count": 129,
     "metadata": {},
     "output_type": "execute_result"
    }
   ],
   "source": [
    "merge_check.have_change.sum()"
   ]
  },
  {
   "cell_type": "code",
   "execution_count": 131,
   "metadata": {},
   "outputs": [],
   "source": [
    "train, dev = train_test_split(merge_check, test_size=0.02, random_state=4)"
   ]
  },
  {
   "cell_type": "code",
   "execution_count": 132,
   "metadata": {},
   "outputs": [],
   "source": [
    "train_src = train.text_src.values \n",
    "train_tgt = train.text_tgt.values \n",
    "dev_src = dev.text_src.values \n",
    "dev_tgt = dev.text_tgt.values "
   ]
  },
  {
   "cell_type": "code",
   "execution_count": 134,
   "metadata": {},
   "outputs": [],
   "source": [
    "path_save = \"../../data_parallel/check_clean_gold/\""
   ]
  },
  {
   "cell_type": "code",
   "execution_count": 135,
   "metadata": {},
   "outputs": [],
   "source": [
    "write_lines(path_save+\"train_src\", train_src, mode='w')\n",
    "write_lines(path_save+\"train_tgt\", train_tgt, mode='w')\n",
    "write_lines(path_save+\"dev_src\", dev_src, mode='w')\n",
    "write_lines(path_save+\"dev_tgt\", dev_tgt, mode='w')"
   ]
  },
  {
   "cell_type": "code",
   "execution_count": null,
   "metadata": {},
   "outputs": [],
   "source": []
  },
  {
   "cell_type": "code",
   "execution_count": null,
   "metadata": {},
   "outputs": [],
   "source": []
  }
 ],
 "metadata": {
  "kernelspec": {
   "display_name": "Python 3",
   "language": "python",
   "name": "python3"
  },
  "language_info": {
   "codemirror_mode": {
    "name": "ipython",
    "version": 3
   },
   "file_extension": ".py",
   "mimetype": "text/x-python",
   "name": "python",
   "nbconvert_exporter": "python",
   "pygments_lexer": "ipython3",
   "version": "3.8.5"
  }
 },
 "nbformat": 4,
 "nbformat_minor": 4
}
