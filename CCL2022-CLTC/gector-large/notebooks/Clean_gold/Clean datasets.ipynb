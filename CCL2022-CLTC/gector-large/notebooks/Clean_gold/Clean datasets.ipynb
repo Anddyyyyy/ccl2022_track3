{
 "cells": [
  {
   "cell_type": "code",
   "execution_count": 88,
   "metadata": {},
   "outputs": [],
   "source": [
    "import pandas as pd\n",
    "import numpy as np\n",
    "import json\n",
    "\n",
    "import pickle \n",
    "from sklearn.metrics.pairwise import cosine_similarity\n",
    "from tqdm.auto import tqdm"
   ]
  },
  {
   "cell_type": "code",
   "execution_count": 89,
   "metadata": {},
   "outputs": [],
   "source": [
    "import os\n",
    "import glob\n",
    "def read_lines(fn):\n",
    "    if not os.path.exists(fn):\n",
    "        return []\n",
    "    with open(fn, 'r', encoding='utf-8') as f:\n",
    "        text = f.read()\n",
    "    lines = text.split(\"\\n\")\n",
    "    if lines[-1] == '':\n",
    "        return lines[:-1]\n",
    "    else:\n",
    "        return lines\n",
    "\n",
    "def write_lines(fn, lines, mode='w'):\n",
    "    text_to_write = \"\\n\".join(list(lines)) \n",
    "    with open(fn, encoding='utf-8', mode=mode) as f:\n",
    "        f.write(text_to_write)"
   ]
  },
  {
   "cell_type": "markdown",
   "metadata": {},
   "source": [
    "### WL"
   ]
  },
  {
   "cell_type": "code",
   "execution_count": 120,
   "metadata": {},
   "outputs": [],
   "source": [
    "text_src = read_lines(\"../../data_parallel/wi+locness/train_src\")\n",
    "text_tgt = read_lines(\"../../data_parallel/wi+locness/train_tgt\")\n",
    "\n",
    "with open(\"../Clustering/data/wl_train_src_embed.pickle\", \"rb\") as f:\n",
    "    vectors_src = pickle.load(f)\n",
    "\n",
    "with open(\"../Clustering/data/wl_train_tgt_embed.pickle\", \"rb\") as f:\n",
    "    vectors_tgt = pickle.load(f)"
   ]
  },
  {
   "cell_type": "code",
   "execution_count": 121,
   "metadata": {},
   "outputs": [
    {
     "data": {
      "application/vnd.jupyter.widget-view+json": {
       "model_id": "154d9538145543e4a8391f7598bc4472",
       "version_major": 2,
       "version_minor": 0
      },
      "text/plain": [
       "HBox(children=(HTML(value=''), FloatProgress(value=0.0, max=34308.0), HTML(value='')))"
      ]
     },
     "metadata": {},
     "output_type": "display_data"
    },
    {
     "name": "stdout",
     "output_type": "stream",
     "text": [
      "\n"
     ]
    }
   ],
   "source": [
    "cos_sim_wl = []\n",
    "for i in tqdm(range(len(vectors_src))):\n",
    "    cos_sim_wl.append(cosine_similarity([vectors_src[i]],[vectors_tgt[i]])[0,0])"
   ]
  },
  {
   "cell_type": "code",
   "execution_count": 122,
   "metadata": {},
   "outputs": [],
   "source": [
    "# class CleanDataset:\n",
    "#     def __init(self, text_src, text_tgt):\n",
    "#         pass\n",
    "    \n",
    "#     def "
   ]
  },
  {
   "cell_type": "code",
   "execution_count": 171,
   "metadata": {},
   "outputs": [],
   "source": [
    "def show_statistic(df, len_before=0, show_rate=True):\n",
    "    diff_len = len_before - len(df)\n",
    "    print(\"Count of rows: \", len(df))\n",
    "    if diff_len > 0:\n",
    "        print(\"Diff count: \", diff_len)\n",
    "    if show_rate==True:\n",
    "        print(\"Count of rows with change: \", df['have_change'].sum())\n",
    "        print(\"Rate of rows with change: \", round(df['have_change'].mean(),2))\n",
    "    print()\n",
    "\n",
    "def basic_clean(df, show = True, min_cos_src_tgt_sim = 0):\n",
    "    len_start = len(df)\n",
    "    print(\"Initial statistics\")\n",
    "    df['have_change'] = (df['text_src']!=df['text_tgt']).astype(int)\n",
    "    show_statistic(df, len_start)\n",
    "    \n",
    "    print(\"Drop dulicates\")\n",
    "    len_before = len(df)\n",
    "    df = df.drop_duplicates(subset=['text_src', 'text_tgt'])\n",
    "    show_statistic(df, len_before, show_rate=True)\n",
    "    \n",
    "    print(\"Drop where len less 5 and less then 3 token\")\n",
    "    len_before = len(df)\n",
    "    df = df[df[\"text_tgt\"].str.len() > 5]\n",
    "    df = df[df['text_tgt'].apply(lambda x: len(x.split(\" \")) > 3)]\n",
    "    show_statistic(df, len_before, show_rate=True)\n",
    "    \n",
    "    print(\"Drop where start from non-capital\")\n",
    "    len_before = len(df)\n",
    "    df = df[df[\"text_tgt\"].apply(lambda x: x[0] == x[0].upper())]\n",
    "    show_statistic(df, len_before, show_rate=True)\n",
    "    \n",
    "    print(\"Drop where for one src more than one target\")\n",
    "    len_before = len(df)\n",
    "    val_count = df.text_src.value_counts()\n",
    "    index_to_delete = []\n",
    "    for text_src in val_count[val_count > 1].index:\n",
    "        sub_df = df[df.text_src == text_src]\n",
    "        res_ind = sub_df[sub_df[\"cos_src_tgt\"] > 0.999].index\n",
    "        if len(res_ind):\n",
    "            index_to_delete.extend(res_ind)\n",
    "    df = df[~df.index.isin(index_to_delete)]\n",
    "    show_statistic(df, len_before, show_rate=True)\n",
    "    \n",
    "    print(\"Drop where cosine similarity between src and tgt is less than \", min_cos_src_tgt_sim)\n",
    "    len_before = len(df)\n",
    "    df = df[df[\"cos_src_tgt\"] > min_cos_src_tgt_sim]\n",
    "    show_statistic(df, len_before, show_rate=True)\n",
    "    \n",
    "    print('Final rate of cleaned data: ', round(len(df)/len_start,2))\n",
    "    return df"
   ]
  },
  {
   "cell_type": "code",
   "execution_count": 161,
   "metadata": {},
   "outputs": [],
   "source": [
    "df = pd.DataFrame({\"text_src\": text_src, \"text_tgt\": text_tgt, \"cos_src_tgt\": cos_sim_wl})"
   ]
  },
  {
   "cell_type": "code",
   "execution_count": 162,
   "metadata": {},
   "outputs": [],
   "source": [
    "#df[\"cos_src_tgt\"].describe()"
   ]
  },
  {
   "cell_type": "code",
   "execution_count": 173,
   "metadata": {},
   "outputs": [
    {
     "name": "stdout",
     "output_type": "stream",
     "text": [
      "Initial statistics\n",
      "Count of rows:  34308\n",
      "Count of rows with change:  22744\n",
      "Rate of rows with change:  0.66\n",
      "\n",
      "Drop dulicates\n",
      "Count of rows:  33493\n",
      "Diff count:  815\n",
      "Count of rows with change:  22717\n",
      "Rate of rows with change:  0.68\n",
      "\n",
      "Drop where len less 5 and less then 3 token\n",
      "Count of rows:  32343\n",
      "Diff count:  1150\n",
      "Count of rows with change:  22566\n",
      "Rate of rows with change:  0.7\n",
      "\n",
      "Drop where start from non-capital\n",
      "Count of rows:  32083\n",
      "Diff count:  260\n",
      "Count of rows with change:  22379\n",
      "Rate of rows with change:  0.7\n",
      "\n",
      "Drop where for one src more than one target\n",
      "Count of rows:  32071\n",
      "Diff count:  12\n",
      "Count of rows with change:  22379\n",
      "Rate of rows with change:  0.7\n",
      "\n",
      "Drop where cosine similarity between src and tgt is less than  0.75\n",
      "Count of rows:  31490\n",
      "Diff count:  581\n",
      "Count of rows with change:  21798\n",
      "Rate of rows with change:  0.69\n",
      "\n",
      "Final rate of cleaned data:  0.92\n"
     ]
    }
   ],
   "source": [
    "clean_wl = basic_clean(df, show = True, min_cos_src_tgt_sim=0.75)"
   ]
  },
  {
   "cell_type": "code",
   "execution_count": 20,
   "metadata": {},
   "outputs": [],
   "source": [
    "df = df.drop_duplicates(subset=['text_src', 'text_tgt'])"
   ]
  },
  {
   "cell_type": "code",
   "execution_count": 21,
   "metadata": {},
   "outputs": [
    {
     "data": {
      "text/plain": [
       "33493"
      ]
     },
     "execution_count": 21,
     "metadata": {},
     "output_type": "execute_result"
    }
   ],
   "source": [
    "len(df)"
   ]
  },
  {
   "cell_type": "code",
   "execution_count": 23,
   "metadata": {},
   "outputs": [
    {
     "data": {
      "text/html": [
       "<div>\n",
       "<style scoped>\n",
       "    .dataframe tbody tr th:only-of-type {\n",
       "        vertical-align: middle;\n",
       "    }\n",
       "\n",
       "    .dataframe tbody tr th {\n",
       "        vertical-align: top;\n",
       "    }\n",
       "\n",
       "    .dataframe thead th {\n",
       "        text-align: right;\n",
       "    }\n",
       "</style>\n",
       "<table border=\"1\" class=\"dataframe\">\n",
       "  <thead>\n",
       "    <tr style=\"text-align: right;\">\n",
       "      <th></th>\n",
       "      <th>text_src</th>\n",
       "      <th>text_tgt</th>\n",
       "      <th>cos_src_tgt</th>\n",
       "    </tr>\n",
       "  </thead>\n",
       "  <tbody>\n",
       "    <tr>\n",
       "      <th>288</th>\n",
       "      <td>Bye</td>\n",
       "      <td>Bye</td>\n",
       "      <td>1.0</td>\n",
       "    </tr>\n",
       "    <tr>\n",
       "      <th>429</th>\n",
       "      <td>Tracy</td>\n",
       "      <td>Tracy</td>\n",
       "      <td>1.0</td>\n",
       "    </tr>\n",
       "    <tr>\n",
       "      <th>553</th>\n",
       "      <td>Hi ,</td>\n",
       "      <td>Hi ,</td>\n",
       "      <td>1.0</td>\n",
       "    </tr>\n",
       "    <tr>\n",
       "      <th>565</th>\n",
       "      <td>Steve</td>\n",
       "      <td>Steve</td>\n",
       "      <td>1.0</td>\n",
       "    </tr>\n",
       "    <tr>\n",
       "      <th>580</th>\n",
       "      <td>Ola</td>\n",
       "      <td>Ola</td>\n",
       "      <td>1.0</td>\n",
       "    </tr>\n",
       "    <tr>\n",
       "      <th>...</th>\n",
       "      <td>...</td>\n",
       "      <td>...</td>\n",
       "      <td>...</td>\n",
       "    </tr>\n",
       "    <tr>\n",
       "      <th>32572</th>\n",
       "      <td>Wydra</td>\n",
       "      <td>Wydra</td>\n",
       "      <td>1.0</td>\n",
       "    </tr>\n",
       "    <tr>\n",
       "      <th>33144</th>\n",
       "      <td>Samia</td>\n",
       "      <td>Samia</td>\n",
       "      <td>1.0</td>\n",
       "    </tr>\n",
       "    <tr>\n",
       "      <th>33212</th>\n",
       "      <td>Price</td>\n",
       "      <td>Price</td>\n",
       "      <td>1.0</td>\n",
       "    </tr>\n",
       "    <tr>\n",
       "      <th>33647</th>\n",
       "      <td>For</td>\n",
       "      <td>For</td>\n",
       "      <td>1.0</td>\n",
       "    </tr>\n",
       "    <tr>\n",
       "      <th>34194</th>\n",
       "      <td>-</td>\n",
       "      <td>-</td>\n",
       "      <td>1.0</td>\n",
       "    </tr>\n",
       "  </tbody>\n",
       "</table>\n",
       "<p>153 rows × 3 columns</p>\n",
       "</div>"
      ],
      "text/plain": [
       "      text_src text_tgt  cos_src_tgt\n",
       "288        Bye      Bye          1.0\n",
       "429      Tracy    Tracy          1.0\n",
       "553       Hi ,     Hi ,          1.0\n",
       "565      Steve    Steve          1.0\n",
       "580        Ola      Ola          1.0\n",
       "...        ...      ...          ...\n",
       "32572    Wydra    Wydra          1.0\n",
       "33144    Samia    Samia          1.0\n",
       "33212    Price    Price          1.0\n",
       "33647      For      For          1.0\n",
       "34194        -        -          1.0\n",
       "\n",
       "[153 rows x 3 columns]"
      ]
     },
     "execution_count": 23,
     "metadata": {},
     "output_type": "execute_result"
    }
   ],
   "source": [
    "df[df[\"text_tgt\"].str.len() <= 5]"
   ]
  },
  {
   "cell_type": "code",
   "execution_count": 24,
   "metadata": {},
   "outputs": [],
   "source": [
    "df = df[df[\"text_tgt\"].str.len() > 5]"
   ]
  },
  {
   "cell_type": "code",
   "execution_count": 13,
   "metadata": {},
   "outputs": [
    {
     "data": {
      "text/plain": [
       "33340"
      ]
     },
     "execution_count": 13,
     "metadata": {},
     "output_type": "execute_result"
    }
   ],
   "source": [
    "len(df)"
   ]
  },
  {
   "cell_type": "code",
   "execution_count": 25,
   "metadata": {},
   "outputs": [
    {
     "data": {
      "text/html": [
       "<div>\n",
       "<style scoped>\n",
       "    .dataframe tbody tr th:only-of-type {\n",
       "        vertical-align: middle;\n",
       "    }\n",
       "\n",
       "    .dataframe tbody tr th {\n",
       "        vertical-align: top;\n",
       "    }\n",
       "\n",
       "    .dataframe thead th {\n",
       "        text-align: right;\n",
       "    }\n",
       "</style>\n",
       "<table border=\"1\" class=\"dataframe\">\n",
       "  <thead>\n",
       "    <tr style=\"text-align: right;\">\n",
       "      <th></th>\n",
       "      <th>text_src</th>\n",
       "      <th>text_tgt</th>\n",
       "      <th>cos_src_tgt</th>\n",
       "    </tr>\n",
       "  </thead>\n",
       "  <tbody>\n",
       "    <tr>\n",
       "      <th>49</th>\n",
       "      <td>because it 's difficult to understand ; for ex...</td>\n",
       "      <td>because it 's difficult to understand ; for ex...</td>\n",
       "      <td>1.000000</td>\n",
       "    </tr>\n",
       "    <tr>\n",
       "      <th>52</th>\n",
       "      <td>scary .</td>\n",
       "      <td>scary .</td>\n",
       "      <td>1.000000</td>\n",
       "    </tr>\n",
       "    <tr>\n",
       "      <th>54</th>\n",
       "      <td>from a story their mom read often .</td>\n",
       "      <td>from a story their mom often reads .</td>\n",
       "      <td>0.991840</td>\n",
       "    </tr>\n",
       "    <tr>\n",
       "      <th>56</th>\n",
       "      <td>used in other times .</td>\n",
       "      <td>used in other times .</td>\n",
       "      <td>1.000000</td>\n",
       "    </tr>\n",
       "    <tr>\n",
       "      <th>58</th>\n",
       "      <td>had a weird painting of two sisters just like ...</td>\n",
       "      <td>had a weird painting of two sisters just like ...</td>\n",
       "      <td>0.993085</td>\n",
       "    </tr>\n",
       "    <tr>\n",
       "      <th>...</th>\n",
       "      <td>...</td>\n",
       "      <td>...</td>\n",
       "      <td>...</td>\n",
       "    </tr>\n",
       "    <tr>\n",
       "      <th>33476</th>\n",
       "      <td>pastimes , when I cook it 's usually for a big...</td>\n",
       "      <td>pastimes . When I cook , it 's usually for a b...</td>\n",
       "      <td>0.988201</td>\n",
       "    </tr>\n",
       "    <tr>\n",
       "      <th>33477</th>\n",
       "      <td>really enjoy .</td>\n",
       "      <td>really enjoy .</td>\n",
       "      <td>1.000000</td>\n",
       "    </tr>\n",
       "    <tr>\n",
       "      <th>33643</th>\n",
       "      <td>programme .</td>\n",
       "      <td>programme .</td>\n",
       "      <td>1.000000</td>\n",
       "    </tr>\n",
       "    <tr>\n",
       "      <th>33648</th>\n",
       "      <td>example , is there _ park or cinema nearby ?</td>\n",
       "      <td>example , is there a park or cinema nearby ?</td>\n",
       "      <td>0.978424</td>\n",
       "    </tr>\n",
       "    <tr>\n",
       "      <th>33902</th>\n",
       "      <td>they nearly always reply with their occupation .</td>\n",
       "      <td>they nearly always reply with their occupation .</td>\n",
       "      <td>1.000000</td>\n",
       "    </tr>\n",
       "  </tbody>\n",
       "</table>\n",
       "<p>295 rows × 3 columns</p>\n",
       "</div>"
      ],
      "text/plain": [
       "                                                text_src  \\\n",
       "49     because it 's difficult to understand ; for ex...   \n",
       "52                                               scary .   \n",
       "54                   from a story their mom read often .   \n",
       "56                                 used in other times .   \n",
       "58     had a weird painting of two sisters just like ...   \n",
       "...                                                  ...   \n",
       "33476  pastimes , when I cook it 's usually for a big...   \n",
       "33477                                     really enjoy .   \n",
       "33643                                        programme .   \n",
       "33648       example , is there _ park or cinema nearby ?   \n",
       "33902   they nearly always reply with their occupation .   \n",
       "\n",
       "                                                text_tgt  cos_src_tgt  \n",
       "49     because it 's difficult to understand ; for ex...     1.000000  \n",
       "52                                               scary .     1.000000  \n",
       "54                  from a story their mom often reads .     0.991840  \n",
       "56                                 used in other times .     1.000000  \n",
       "58     had a weird painting of two sisters just like ...     0.993085  \n",
       "...                                                  ...          ...  \n",
       "33476  pastimes . When I cook , it 's usually for a b...     0.988201  \n",
       "33477                                     really enjoy .     1.000000  \n",
       "33643                                        programme .     1.000000  \n",
       "33648       example , is there a park or cinema nearby ?     0.978424  \n",
       "33902   they nearly always reply with their occupation .     1.000000  \n",
       "\n",
       "[295 rows x 3 columns]"
      ]
     },
     "execution_count": 25,
     "metadata": {},
     "output_type": "execute_result"
    }
   ],
   "source": [
    "df[df[\"text_tgt\"].apply(lambda x: x[0] != x[0].upper())]"
   ]
  },
  {
   "cell_type": "code",
   "execution_count": 26,
   "metadata": {},
   "outputs": [],
   "source": [
    "df = df[df[\"text_tgt\"].apply(lambda x: x[0] == x[0].upper())]"
   ]
  },
  {
   "cell_type": "code",
   "execution_count": 27,
   "metadata": {},
   "outputs": [
    {
     "data": {
      "text/plain": [
       "33045"
      ]
     },
     "execution_count": 27,
     "metadata": {},
     "output_type": "execute_result"
    }
   ],
   "source": [
    "len(df)"
   ]
  },
  {
   "cell_type": "code",
   "execution_count": 28,
   "metadata": {},
   "outputs": [
    {
     "data": {
      "text/plain": [
       "<AxesSubplot:ylabel='Frequency'>"
      ]
     },
     "execution_count": 28,
     "metadata": {},
     "output_type": "execute_result"
    },
    {
     "data": {
      "image/png": "[encoded data removed]",
      "text/plain": [
       "<Figure size 432x288 with 1 Axes>"
      ]
     },
     "metadata": {
      "needs_background": "light"
     },
     "output_type": "display_data"
    }
   ],
   "source": [
    "df[\"cos_src_tgt\"].plot.hist()"
   ]
  },
  {
   "cell_type": "code",
   "execution_count": 156,
   "metadata": {},
   "outputs": [],
   "source": [
    "df_sort = df.sort_values(\"cos_src_tgt\")"
   ]
  },
  {
   "cell_type": "code",
   "execution_count": 182,
   "metadata": {},
   "outputs": [
    {
     "data": {
      "text/html": [
       "<div>\n",
       "<style scoped>\n",
       "    .dataframe tbody tr th:only-of-type {\n",
       "        vertical-align: middle;\n",
       "    }\n",
       "\n",
       "    .dataframe tbody tr th {\n",
       "        vertical-align: top;\n",
       "    }\n",
       "\n",
       "    .dataframe thead th {\n",
       "        text-align: right;\n",
       "    }\n",
       "</style>\n",
       "<table border=\"1\" class=\"dataframe\">\n",
       "  <thead>\n",
       "    <tr style=\"text-align: right;\">\n",
       "      <th></th>\n",
       "      <th>text_src</th>\n",
       "      <th>text_tgt</th>\n",
       "      <th>cos_src_tgt</th>\n",
       "      <th>have_change</th>\n",
       "    </tr>\n",
       "  </thead>\n",
       "  <tbody>\n",
       "    <tr>\n",
       "      <th>2380</th>\n",
       "      <td>I am stydying envaermantal saents .</td>\n",
       "      <td>I am studying environmental science .</td>\n",
       "      <td>0.057646</td>\n",
       "      <td>1</td>\n",
       "    </tr>\n",
       "    <tr>\n",
       "      <th>2557</th>\n",
       "      <td>And terolism is scare also .</td>\n",
       "      <td>And terrorism is scarce also .</td>\n",
       "      <td>0.166419</td>\n",
       "      <td>1</td>\n",
       "    </tr>\n",
       "    <tr>\n",
       "      <th>13529</th>\n",
       "      <td>Good Morning :</td>\n",
       "      <td>Dear Sir / Madam</td>\n",
       "      <td>0.186326</td>\n",
       "      <td>1</td>\n",
       "    </tr>\n",
       "    <tr>\n",
       "      <th>5518</th>\n",
       "      <td>fsdjgdofg</td>\n",
       "      <td></td>\n",
       "      <td>0.196443</td>\n",
       "      <td>1</td>\n",
       "    </tr>\n",
       "    <tr>\n",
       "      <th>23629</th>\n",
       "      <td>Rest is anything but completely different .</td>\n",
       "      <td>The rest is completely different .</td>\n",
       "      <td>0.201329</td>\n",
       "      <td>1</td>\n",
       "    </tr>\n",
       "    <tr>\n",
       "      <th>...</th>\n",
       "      <td>...</td>\n",
       "      <td>...</td>\n",
       "      <td>...</td>\n",
       "      <td>...</td>\n",
       "    </tr>\n",
       "    <tr>\n",
       "      <th>24042</th>\n",
       "      <td>Dear MR . Smith</td>\n",
       "      <td>Dear Mr . Smith</td>\n",
       "      <td>0.899792</td>\n",
       "      <td>1</td>\n",
       "    </tr>\n",
       "    <tr>\n",
       "      <th>2239</th>\n",
       "      <td>They collect house hold waste in a dustbin and...</td>\n",
       "      <td>They collect household waste in a dustbin and ...</td>\n",
       "      <td>0.899825</td>\n",
       "      <td>1</td>\n",
       "    </tr>\n",
       "    <tr>\n",
       "      <th>6165</th>\n",
       "      <td>I have to say that study another language give...</td>\n",
       "      <td>I have to say that studying another language g...</td>\n",
       "      <td>0.899843</td>\n",
       "      <td>1</td>\n",
       "    </tr>\n",
       "    <tr>\n",
       "      <th>5848</th>\n",
       "      <td>What I like most in this game is that The fewe...</td>\n",
       "      <td>What I like most about this game is that the s...</td>\n",
       "      <td>0.899913</td>\n",
       "      <td>1</td>\n",
       "    </tr>\n",
       "    <tr>\n",
       "      <th>3074</th>\n",
       "      <td>They explained all services procedures .</td>\n",
       "      <td>They explained all the procedures .</td>\n",
       "      <td>0.899922</td>\n",
       "      <td>1</td>\n",
       "    </tr>\n",
       "  </tbody>\n",
       "</table>\n",
       "<p>2979 rows × 4 columns</p>\n",
       "</div>"
      ],
      "text/plain": [
       "                                                text_src  \\\n",
       "2380                 I am stydying envaermantal saents .   \n",
       "2557                        And terolism is scare also .   \n",
       "13529                                     Good Morning :   \n",
       "5518                                           fsdjgdofg   \n",
       "23629        Rest is anything but completely different .   \n",
       "...                                                  ...   \n",
       "24042                                    Dear MR . Smith   \n",
       "2239   They collect house hold waste in a dustbin and...   \n",
       "6165   I have to say that study another language give...   \n",
       "5848   What I like most in this game is that The fewe...   \n",
       "3074            They explained all services procedures .   \n",
       "\n",
       "                                                text_tgt  cos_src_tgt  \\\n",
       "2380               I am studying environmental science .     0.057646   \n",
       "2557                      And terrorism is scarce also .     0.166419   \n",
       "13529                                   Dear Sir / Madam     0.186326   \n",
       "5518                                                         0.196443   \n",
       "23629                 The rest is completely different .     0.201329   \n",
       "...                                                  ...          ...   \n",
       "24042                                    Dear Mr . Smith     0.899792   \n",
       "2239   They collect household waste in a dustbin and ...     0.899825   \n",
       "6165   I have to say that studying another language g...     0.899843   \n",
       "5848   What I like most about this game is that the s...     0.899913   \n",
       "3074                 They explained all the procedures .     0.899922   \n",
       "\n",
       "       have_change  \n",
       "2380             1  \n",
       "2557             1  \n",
       "13529            1  \n",
       "5518             1  \n",
       "23629            1  \n",
       "...            ...  \n",
       "24042            1  \n",
       "2239             1  \n",
       "6165             1  \n",
       "5848             1  \n",
       "3074             1  \n",
       "\n",
       "[2979 rows x 4 columns]"
      ]
     },
     "execution_count": 182,
     "metadata": {},
     "output_type": "execute_result"
    }
   ],
   "source": [
    "df_sort[df_sort[\"cos_src_tgt\"] <= 0.9]"
   ]
  },
  {
   "cell_type": "code",
   "execution_count": 84,
   "metadata": {},
   "outputs": [
    {
     "data": {
      "text/plain": [
       "'However , I was too dizzy to go straight so that I took a ride .'"
      ]
     },
     "execution_count": 84,
     "metadata": {},
     "output_type": "execute_result"
    }
   ],
   "source": [
    "df.loc[2943,'text_src']"
   ]
  },
  {
   "cell_type": "code",
   "execution_count": 83,
   "metadata": {},
   "outputs": [
    {
     "data": {
      "text/plain": [
       "'However , I was too dizzy to walk straight so that I took a taxi .'"
      ]
     },
     "execution_count": 83,
     "metadata": {},
     "output_type": "execute_result"
    }
   ],
   "source": [
    "df.loc[2943,'text_tgt']"
   ]
  },
  {
   "cell_type": "code",
   "execution_count": 31,
   "metadata": {},
   "outputs": [],
   "source": [
    "df = df[df[\"cos_src_tgt\"] > 0.75]"
   ]
  },
  {
   "cell_type": "code",
   "execution_count": 33,
   "metadata": {},
   "outputs": [
    {
     "data": {
      "text/plain": [
       "0.9449108079748164"
      ]
     },
     "execution_count": 33,
     "metadata": {},
     "output_type": "execute_result"
    }
   ],
   "source": [
    "32418/34308"
   ]
  },
  {
   "cell_type": "code",
   "execution_count": 32,
   "metadata": {},
   "outputs": [
    {
     "data": {
      "text/plain": [
       "32418"
      ]
     },
     "execution_count": 32,
     "metadata": {},
     "output_type": "execute_result"
    }
   ],
   "source": [
    "len(df)"
   ]
  },
  {
   "cell_type": "code",
   "execution_count": 44,
   "metadata": {},
   "outputs": [],
   "source": [
    "df = df[df['text_tgt'].apply(lambda x: len(x.split(\" \")) > 3)]"
   ]
  },
  {
   "cell_type": "code",
   "execution_count": 45,
   "metadata": {},
   "outputs": [
    {
     "data": {
      "text/plain": [
       "31502"
      ]
     },
     "execution_count": 45,
     "metadata": {},
     "output_type": "execute_result"
    }
   ],
   "source": [
    "len(df)"
   ]
  },
  {
   "cell_type": "code",
   "execution_count": 46,
   "metadata": {},
   "outputs": [
    {
     "data": {
      "text/html": [
       "<div>\n",
       "<style scoped>\n",
       "    .dataframe tbody tr th:only-of-type {\n",
       "        vertical-align: middle;\n",
       "    }\n",
       "\n",
       "    .dataframe tbody tr th {\n",
       "        vertical-align: top;\n",
       "    }\n",
       "\n",
       "    .dataframe thead th {\n",
       "        text-align: right;\n",
       "    }\n",
       "</style>\n",
       "<table border=\"1\" class=\"dataframe\">\n",
       "  <thead>\n",
       "    <tr style=\"text-align: right;\">\n",
       "      <th></th>\n",
       "      <th>text_src</th>\n",
       "      <th>text_tgt</th>\n",
       "      <th>cos_src_tgt</th>\n",
       "    </tr>\n",
       "  </thead>\n",
       "  <tbody>\n",
       "    <tr>\n",
       "      <th>0</th>\n",
       "      <td>My town is a medium size city with eighty thou...</td>\n",
       "      <td>My town is a medium - sized city with eighty t...</td>\n",
       "      <td>0.993933</td>\n",
       "    </tr>\n",
       "    <tr>\n",
       "      <th>1</th>\n",
       "      <td>It has a high density population because its s...</td>\n",
       "      <td>It has a high - density population because of ...</td>\n",
       "      <td>0.990306</td>\n",
       "    </tr>\n",
       "  </tbody>\n",
       "</table>\n",
       "</div>"
      ],
      "text/plain": [
       "                                            text_src  \\\n",
       "0  My town is a medium size city with eighty thou...   \n",
       "1  It has a high density population because its s...   \n",
       "\n",
       "                                            text_tgt  cos_src_tgt  \n",
       "0  My town is a medium - sized city with eighty t...     0.993933  \n",
       "1  It has a high - density population because of ...     0.990306  "
      ]
     },
     "execution_count": 46,
     "metadata": {},
     "output_type": "execute_result"
    }
   ],
   "source": [
    "df.head(2)"
   ]
  },
  {
   "cell_type": "code",
   "execution_count": 57,
   "metadata": {},
   "outputs": [],
   "source": [
    "val_count = df.text_src.value_counts()"
   ]
  },
  {
   "cell_type": "code",
   "execution_count": 55,
   "metadata": {},
   "outputs": [
    {
     "data": {
      "text/plain": [
       "15"
      ]
     },
     "execution_count": 55,
     "metadata": {},
     "output_type": "execute_result"
    }
   ],
   "source": [
    "len(val_count[val_count > 1])"
   ]
  },
  {
   "cell_type": "code",
   "execution_count": 56,
   "metadata": {},
   "outputs": [
    {
     "data": {
      "text/plain": [
       "In the summer around the lake are so many concerts so you have the difficulty finding the right one .    2\n",
       "To sum up , there are lot of cleary strong arguments for against keeping animals in zoo .                2\n",
       "In my opinion people should bulid some kind of wildlife parks . This solution will allow                 2\n",
       "But lot of peoples saying that , the zoo can protected endagered spices against illegal poachers .       2\n",
       "Aactivist of animals rights claimed that the reason is the keeping animals in zoo .                      2\n",
       "Dear sir or madam ,                                                                                      2\n",
       "All the best .                                                                                           2\n",
       "Sometimes I play golf and I think it 's pretty fun , I like to be out with our sail boat .               2\n",
       "So what should we do with that problem ?                                                                 2\n",
       "I love it .                                                                                              2\n",
       "Michael closed the door and knew at that moment he had made a mistake                                    2\n",
       "Dear Mrs Kate Ashby ,                                                                                    2\n",
       "Dear Sir / Madam                                                                                         2\n",
       "Nowdays , the number of endangered species has increased .                                               2\n",
       "At least they can meet other folks and relax , have a sunbathe and listen to the music .                 2\n",
       "Name: text_src, dtype: int64"
      ]
     },
     "execution_count": 56,
     "metadata": {},
     "output_type": "execute_result"
    }
   ],
   "source": [
    "val_count[val_count > 1]"
   ]
  },
  {
   "cell_type": "code",
   "execution_count": 52,
   "metadata": {},
   "outputs": [
    {
     "data": {
      "text/html": [
       "<div>\n",
       "<style scoped>\n",
       "    .dataframe tbody tr th:only-of-type {\n",
       "        vertical-align: middle;\n",
       "    }\n",
       "\n",
       "    .dataframe tbody tr th {\n",
       "        vertical-align: top;\n",
       "    }\n",
       "\n",
       "    .dataframe thead th {\n",
       "        text-align: right;\n",
       "    }\n",
       "</style>\n",
       "<table border=\"1\" class=\"dataframe\">\n",
       "  <thead>\n",
       "    <tr style=\"text-align: right;\">\n",
       "      <th></th>\n",
       "      <th>text_src</th>\n",
       "      <th>text_tgt</th>\n",
       "      <th>cos_src_tgt</th>\n",
       "    </tr>\n",
       "  </thead>\n",
       "  <tbody>\n",
       "    <tr>\n",
       "      <th>9570</th>\n",
       "      <td>But lot of peoples saying that , the zoo can p...</td>\n",
       "      <td>But a lot of people say that a zoo can protect...</td>\n",
       "      <td>0.806661</td>\n",
       "    </tr>\n",
       "    <tr>\n",
       "      <th>9580</th>\n",
       "      <td>But lot of peoples saying that , the zoo can p...</td>\n",
       "      <td>But lot of peoples saying that , the zoo can p...</td>\n",
       "      <td>1.000000</td>\n",
       "    </tr>\n",
       "  </tbody>\n",
       "</table>\n",
       "</div>"
      ],
      "text/plain": [
       "                                               text_src  \\\n",
       "9570  But lot of peoples saying that , the zoo can p...   \n",
       "9580  But lot of peoples saying that , the zoo can p...   \n",
       "\n",
       "                                               text_tgt  cos_src_tgt  \n",
       "9570  But a lot of people say that a zoo can protect...     0.806661  \n",
       "9580  But lot of peoples saying that , the zoo can p...     1.000000  "
      ]
     },
     "execution_count": 52,
     "metadata": {},
     "output_type": "execute_result"
    }
   ],
   "source": [
    "df[df.text_src == \"But lot of peoples saying that , the zoo can protected endagered spices against illegal poachers .\"]"
   ]
  },
  {
   "cell_type": "code",
   "execution_count": 51,
   "metadata": {},
   "outputs": [
    {
     "data": {
      "text/plain": [
       "array(['Aactivist of animals rights claimed that the reason is the keeping animals in zoo .',\n",
       "       'Aactivist of animals rights claim that the reason is keeping animals in zoos .',\n",
       "       0.9479724168777466], dtype=object)"
      ]
     },
     "execution_count": 51,
     "metadata": {},
     "output_type": "execute_result"
    }
   ],
   "source": [
    "df.loc[9569].values"
   ]
  },
  {
   "cell_type": "code",
   "execution_count": 53,
   "metadata": {},
   "outputs": [
    {
     "data": {
      "text/plain": [
       "array(['But lot of peoples saying that , the zoo can protected endagered spices against illegal poachers .',\n",
       "       'But a lot of people say that a zoo can protect endangered species from illegal poachers .',\n",
       "       0.806660532951355], dtype=object)"
      ]
     },
     "execution_count": 53,
     "metadata": {},
     "output_type": "execute_result"
    }
   ],
   "source": [
    "df.loc[9570].values"
   ]
  },
  {
   "cell_type": "code",
   "execution_count": 58,
   "metadata": {},
   "outputs": [
    {
     "data": {
      "text/html": [
       "<div>\n",
       "<style scoped>\n",
       "    .dataframe tbody tr th:only-of-type {\n",
       "        vertical-align: middle;\n",
       "    }\n",
       "\n",
       "    .dataframe tbody tr th {\n",
       "        vertical-align: top;\n",
       "    }\n",
       "\n",
       "    .dataframe thead th {\n",
       "        text-align: right;\n",
       "    }\n",
       "</style>\n",
       "<table border=\"1\" class=\"dataframe\">\n",
       "  <thead>\n",
       "    <tr style=\"text-align: right;\">\n",
       "      <th></th>\n",
       "      <th>text_src</th>\n",
       "      <th>text_tgt</th>\n",
       "      <th>cos_src_tgt</th>\n",
       "    </tr>\n",
       "  </thead>\n",
       "  <tbody>\n",
       "    <tr>\n",
       "      <th>4230</th>\n",
       "      <td>Dear Sir / Madam</td>\n",
       "      <td>Dear Sir / Madam ,</td>\n",
       "      <td>0.987556</td>\n",
       "    </tr>\n",
       "    <tr>\n",
       "      <th>4736</th>\n",
       "      <td>Dear Sir / Madam</td>\n",
       "      <td>Dear Sir / Madam</td>\n",
       "      <td>1.000000</td>\n",
       "    </tr>\n",
       "  </tbody>\n",
       "</table>\n",
       "</div>"
      ],
      "text/plain": [
       "              text_src            text_tgt  cos_src_tgt\n",
       "4230  Dear Sir / Madam  Dear Sir / Madam ,     0.987556\n",
       "4736  Dear Sir / Madam    Dear Sir / Madam     1.000000"
      ]
     },
     "execution_count": 58,
     "metadata": {},
     "output_type": "execute_result"
    }
   ],
   "source": [
    "df[df.text_src == \"Dear Sir / Madam\"]"
   ]
  },
  {
   "cell_type": "code",
   "execution_count": 60,
   "metadata": {},
   "outputs": [
    {
     "data": {
      "text/html": [
       "<div>\n",
       "<style scoped>\n",
       "    .dataframe tbody tr th:only-of-type {\n",
       "        vertical-align: middle;\n",
       "    }\n",
       "\n",
       "    .dataframe tbody tr th {\n",
       "        vertical-align: top;\n",
       "    }\n",
       "\n",
       "    .dataframe thead th {\n",
       "        text-align: right;\n",
       "    }\n",
       "</style>\n",
       "<table border=\"1\" class=\"dataframe\">\n",
       "  <thead>\n",
       "    <tr style=\"text-align: right;\">\n",
       "      <th></th>\n",
       "      <th>text_src</th>\n",
       "      <th>text_tgt</th>\n",
       "      <th>cos_src_tgt</th>\n",
       "    </tr>\n",
       "  </thead>\n",
       "  <tbody>\n",
       "    <tr>\n",
       "      <th>1943</th>\n",
       "      <td>Dear sir or madam ,</td>\n",
       "      <td>Dear sir or madam ,</td>\n",
       "      <td>1.000000</td>\n",
       "    </tr>\n",
       "    <tr>\n",
       "      <th>20030</th>\n",
       "      <td>Dear sir or madam ,</td>\n",
       "      <td>Dear Sir or Madam ,</td>\n",
       "      <td>0.844556</td>\n",
       "    </tr>\n",
       "  </tbody>\n",
       "</table>\n",
       "</div>"
      ],
      "text/plain": [
       "                  text_src             text_tgt  cos_src_tgt\n",
       "1943   Dear sir or madam ,  Dear sir or madam ,     1.000000\n",
       "20030  Dear sir or madam ,  Dear Sir or Madam ,     0.844556"
      ]
     },
     "execution_count": 60,
     "metadata": {},
     "output_type": "execute_result"
    }
   ],
   "source": [
    "df[df.text_src == \"Dear sir or madam ,\"]"
   ]
  },
  {
   "cell_type": "code",
   "execution_count": 59,
   "metadata": {},
   "outputs": [
    {
     "data": {
      "text/html": [
       "<div>\n",
       "<style scoped>\n",
       "    .dataframe tbody tr th:only-of-type {\n",
       "        vertical-align: middle;\n",
       "    }\n",
       "\n",
       "    .dataframe tbody tr th {\n",
       "        vertical-align: top;\n",
       "    }\n",
       "\n",
       "    .dataframe thead th {\n",
       "        text-align: right;\n",
       "    }\n",
       "</style>\n",
       "<table border=\"1\" class=\"dataframe\">\n",
       "  <thead>\n",
       "    <tr style=\"text-align: right;\">\n",
       "      <th></th>\n",
       "      <th>text_src</th>\n",
       "      <th>text_tgt</th>\n",
       "      <th>cos_src_tgt</th>\n",
       "    </tr>\n",
       "  </thead>\n",
       "  <tbody>\n",
       "    <tr>\n",
       "      <th>4672</th>\n",
       "      <td>I love it .</td>\n",
       "      <td>I love them .</td>\n",
       "      <td>0.922197</td>\n",
       "    </tr>\n",
       "    <tr>\n",
       "      <th>26888</th>\n",
       "      <td>I love it .</td>\n",
       "      <td>I loved it .</td>\n",
       "      <td>0.979061</td>\n",
       "    </tr>\n",
       "  </tbody>\n",
       "</table>\n",
       "</div>"
      ],
      "text/plain": [
       "          text_src       text_tgt  cos_src_tgt\n",
       "4672   I love it .  I love them .     0.922197\n",
       "26888  I love it .   I loved it .     0.979061"
      ]
     },
     "execution_count": 59,
     "metadata": {},
     "output_type": "execute_result"
    }
   ],
   "source": [
    "df[df.text_src == \"I love it .\"]"
   ]
  },
  {
   "cell_type": "code",
   "execution_count": 61,
   "metadata": {},
   "outputs": [
    {
     "data": {
      "text/html": [
       "<div>\n",
       "<style scoped>\n",
       "    .dataframe tbody tr th:only-of-type {\n",
       "        vertical-align: middle;\n",
       "    }\n",
       "\n",
       "    .dataframe tbody tr th {\n",
       "        vertical-align: top;\n",
       "    }\n",
       "\n",
       "    .dataframe thead th {\n",
       "        text-align: right;\n",
       "    }\n",
       "</style>\n",
       "<table border=\"1\" class=\"dataframe\">\n",
       "  <thead>\n",
       "    <tr style=\"text-align: right;\">\n",
       "      <th></th>\n",
       "      <th>text_src</th>\n",
       "      <th>text_tgt</th>\n",
       "      <th>cos_src_tgt</th>\n",
       "    </tr>\n",
       "  </thead>\n",
       "  <tbody>\n",
       "    <tr>\n",
       "      <th>9573</th>\n",
       "      <td>In my opinion people should bulid some kind of...</td>\n",
       "      <td>In my opinion , people should build some kinds...</td>\n",
       "      <td>0.883226</td>\n",
       "    </tr>\n",
       "    <tr>\n",
       "      <th>9583</th>\n",
       "      <td>In my opinion people should bulid some kind of...</td>\n",
       "      <td>In my opinion people should bulid some kind of...</td>\n",
       "      <td>1.000000</td>\n",
       "    </tr>\n",
       "  </tbody>\n",
       "</table>\n",
       "</div>"
      ],
      "text/plain": [
       "                                               text_src  \\\n",
       "9573  In my opinion people should bulid some kind of...   \n",
       "9583  In my opinion people should bulid some kind of...   \n",
       "\n",
       "                                               text_tgt  cos_src_tgt  \n",
       "9573  In my opinion , people should build some kinds...     0.883226  \n",
       "9583  In my opinion people should bulid some kind of...     1.000000  "
      ]
     },
     "execution_count": 61,
     "metadata": {},
     "output_type": "execute_result"
    }
   ],
   "source": [
    "df[df.text_src == \"In my opinion people should bulid some kind of wildlife parks . This solution will allow\"]"
   ]
  },
  {
   "cell_type": "code",
   "execution_count": 62,
   "metadata": {},
   "outputs": [
    {
     "data": {
      "text/plain": [
       "array(['In my opinion people should bulid some kind of wildlife parks . This solution will allow',\n",
       "       'In my opinion , people should build some kinds of wildlife parks . This solution will allow',\n",
       "       0.8832262754440308], dtype=object)"
      ]
     },
     "execution_count": 62,
     "metadata": {},
     "output_type": "execute_result"
    }
   ],
   "source": [
    "df.loc[9573].values"
   ]
  },
  {
   "cell_type": "code",
   "execution_count": 71,
   "metadata": {},
   "outputs": [],
   "source": [
    "index_to_delete = []\n",
    "for text_src in val_count[val_count > 1].index:\n",
    "    sub_df = df[df.text_src == text_src]\n",
    "    res_ind = sub_df[sub_df[\"cos_src_tgt\"] > 0.999].index\n",
    "    if len(res_ind):\n",
    "        index_to_delete.extend(res_ind)"
   ]
  },
  {
   "cell_type": "code",
   "execution_count": 74,
   "metadata": {},
   "outputs": [
    {
     "data": {
      "text/plain": [
       "[9582, 9583, 9580, 9579, 1943, 25823, 9581, 4792, 9222, 4736, 9578]"
      ]
     },
     "execution_count": 74,
     "metadata": {},
     "output_type": "execute_result"
    }
   ],
   "source": [
    "index_to_delete"
   ]
  },
  {
   "cell_type": "code",
   "execution_count": 78,
   "metadata": {
    "scrolled": true
   },
   "outputs": [
    {
     "data": {
      "text/plain": [
       "31502"
      ]
     },
     "execution_count": 78,
     "metadata": {},
     "output_type": "execute_result"
    }
   ],
   "source": [
    "len(df)"
   ]
  },
  {
   "cell_type": "code",
   "execution_count": 79,
   "metadata": {},
   "outputs": [],
   "source": [
    "df = df[~df.index.isin(index_to_delete)]"
   ]
  },
  {
   "cell_type": "code",
   "execution_count": 80,
   "metadata": {},
   "outputs": [
    {
     "data": {
      "text/plain": [
       "31491"
      ]
     },
     "execution_count": 80,
     "metadata": {},
     "output_type": "execute_result"
    }
   ],
   "source": [
    "len(df)"
   ]
  },
  {
   "cell_type": "code",
   "execution_count": 87,
   "metadata": {},
   "outputs": [
    {
     "data": {
      "text/plain": [
       "0.917890870933893"
      ]
     },
     "execution_count": 87,
     "metadata": {},
     "output_type": "execute_result"
    }
   ],
   "source": [
    "31491/34308"
   ]
  },
  {
   "cell_type": "code",
   "execution_count": 81,
   "metadata": {},
   "outputs": [],
   "source": [
    "from sklearn.model_selection import train_test_split"
   ]
  },
  {
   "cell_type": "code",
   "execution_count": 82,
   "metadata": {},
   "outputs": [],
   "source": [
    "train, dev = train_test_split(df, test_size=0.02, random_state=4)"
   ]
  },
  {
   "cell_type": "code",
   "execution_count": 83,
   "metadata": {},
   "outputs": [],
   "source": [
    "train_src = train.text_src.values \n",
    "train_tgt = train.text_tgt.values \n",
    "dev_src = dev.text_src.values \n",
    "dev_tgt = dev.text_tgt.values "
   ]
  },
  {
   "cell_type": "code",
   "execution_count": 84,
   "metadata": {},
   "outputs": [],
   "source": [
    "path_save = \"../../data_parallel/clean_wl/\""
   ]
  },
  {
   "cell_type": "code",
   "execution_count": 85,
   "metadata": {},
   "outputs": [],
   "source": [
    "write_lines(path_save+\"train_src\", train_src, mode='w')\n",
    "write_lines(path_save+\"train_tgt\", train_tgt, mode='w')\n",
    "write_lines(path_save+\"dev_src\", dev_src, mode='w')\n",
    "write_lines(path_save+\"dev_tgt\", dev_tgt, mode='w')"
   ]
  },
  {
   "cell_type": "code",
   "execution_count": 60,
   "metadata": {},
   "outputs": [],
   "source": [
    "# with open(\"../Checkpoint_exp/wl_cos.pickle\", \"rb\") as f:\n",
    "#     cos_check_wl = pickle.load(f)"
   ]
  },
  {
   "cell_type": "markdown",
   "metadata": {},
   "source": [
    "### Nucle"
   ]
  },
  {
   "cell_type": "code",
   "execution_count": 174,
   "metadata": {},
   "outputs": [],
   "source": [
    "text_src = read_lines(\"../../data_parallel/nucle/nucle_src\")\n",
    "text_tgt = read_lines(\"../../data_parallel/nucle/nucle_tgt\")\n",
    "\n",
    "with open(\"../Clustering/data/nucle_train_src_embed.pickle\", \"rb\") as f:\n",
    "    vectors_src = pickle.load(f)\n",
    "\n",
    "with open(\"../Clustering/data/nucle_train_tgt_embed.pickle\", \"rb\") as f:\n",
    "    vectors_tgt = pickle.load(f)"
   ]
  },
  {
   "cell_type": "code",
   "execution_count": 175,
   "metadata": {},
   "outputs": [
    {
     "data": {
      "application/vnd.jupyter.widget-view+json": {
       "model_id": "db7318038fd746fcbf144fc2d35e9a84",
       "version_major": 2,
       "version_minor": 0
      },
      "text/plain": [
       "HBox(children=(HTML(value=''), FloatProgress(value=0.0, max=57151.0), HTML(value='')))"
      ]
     },
     "metadata": {},
     "output_type": "display_data"
    },
    {
     "name": "stdout",
     "output_type": "stream",
     "text": [
      "\n"
     ]
    }
   ],
   "source": [
    "cos_sim = []\n",
    "for i in tqdm(range(len(vectors_src))):\n",
    "    cos_sim.append(cosine_similarity([vectors_src[i]],[vectors_tgt[i]])[0,0])"
   ]
  },
  {
   "cell_type": "code",
   "execution_count": 176,
   "metadata": {},
   "outputs": [],
   "source": [
    "with open(\"../Checkpoint_exp/nucle_cos.pickle\", \"rb\") as f:\n",
    "    cos_check = pickle.load(f)"
   ]
  },
  {
   "cell_type": "code",
   "execution_count": 177,
   "metadata": {},
   "outputs": [],
   "source": [
    "df = pd.DataFrame({\"text_src\": text_src, \"text_tgt\": text_tgt, \"cos_src_tgt\": cos_sim, \"cos_check\": cos_check})"
   ]
  },
  {
   "cell_type": "code",
   "execution_count": 178,
   "metadata": {},
   "outputs": [
    {
     "data": {
      "text/plain": [
       "57151"
      ]
     },
     "execution_count": 178,
     "metadata": {},
     "output_type": "execute_result"
    }
   ],
   "source": [
    "len(df)"
   ]
  },
  {
   "cell_type": "code",
   "execution_count": 180,
   "metadata": {},
   "outputs": [
    {
     "name": "stdout",
     "output_type": "stream",
     "text": [
      "Initial statistics\n",
      "Count of rows:  57151\n",
      "Count of rows with change:  21834\n",
      "Rate of rows with change:  0.38\n",
      "\n",
      "Drop dulicates\n",
      "Count of rows:  53681\n",
      "Diff count:  3470\n",
      "Count of rows with change:  21830\n",
      "Rate of rows with change:  0.41\n",
      "\n",
      "Drop where len less 5 and less then 3 token\n",
      "Count of rows:  52343\n",
      "Diff count:  1338\n",
      "Count of rows with change:  21559\n",
      "Rate of rows with change:  0.41\n",
      "\n",
      "Drop where start from non-capital\n",
      "Count of rows:  51967\n",
      "Diff count:  376\n",
      "Count of rows with change:  21328\n",
      "Rate of rows with change:  0.41\n",
      "\n",
      "Drop where for one src more than one target\n",
      "Count of rows:  51944\n",
      "Diff count:  23\n",
      "Count of rows with change:  21328\n",
      "Rate of rows with change:  0.41\n",
      "\n",
      "Drop where cosine similarity between src and tgt is less than  0.935\n",
      "Count of rows:  49177\n",
      "Diff count:  2767\n",
      "Count of rows with change:  18561\n",
      "Rate of rows with change:  0.38\n",
      "\n",
      "Final rate of cleaned data:  0.86\n"
     ]
    }
   ],
   "source": [
    "basic_clean_nucle = basic_clean(df, show = True, min_cos_src_tgt_sim=0.935)"
   ]
  },
  {
   "cell_type": "code",
   "execution_count": 181,
   "metadata": {},
   "outputs": [],
   "source": [
    "# df = df.drop_duplicates(subset=['text_src', 'text_tgt'])\n",
    "# df = df[df['cos_src_tgt'] >= 0.935]\n",
    "# df = df[df['cos_check'] >= 0.96]"
   ]
  },
  {
   "cell_type": "code",
   "execution_count": 105,
   "metadata": {},
   "outputs": [],
   "source": [
    "#df[df['text_src']!=df['text_tgt']]"
   ]
  },
  {
   "cell_type": "code",
   "execution_count": 106,
   "metadata": {},
   "outputs": [
    {
     "data": {
      "text/plain": [
       "<AxesSubplot:ylabel='Frequency'>"
      ]
     },
     "execution_count": 106,
     "metadata": {},
     "output_type": "execute_result"
    },
    {
     "data": {
      "image/png": "[encoded data removed]",
      "text/plain": [
       "<Figure size 432x288 with 1 Axes>"
      ]
     },
     "metadata": {
      "needs_background": "light"
     },
     "output_type": "display_data"
    }
   ],
   "source": [
    "df['cos_check'].plot.hist()"
   ]
  },
  {
   "cell_type": "code",
   "execution_count": 109,
   "metadata": {},
   "outputs": [
    {
     "data": {
      "text/html": [
       "<div>\n",
       "<style scoped>\n",
       "    .dataframe tbody tr th:only-of-type {\n",
       "        vertical-align: middle;\n",
       "    }\n",
       "\n",
       "    .dataframe tbody tr th {\n",
       "        vertical-align: top;\n",
       "    }\n",
       "\n",
       "    .dataframe thead th {\n",
       "        text-align: right;\n",
       "    }\n",
       "</style>\n",
       "<table border=\"1\" class=\"dataframe\">\n",
       "  <thead>\n",
       "    <tr style=\"text-align: right;\">\n",
       "      <th></th>\n",
       "      <th>text_src</th>\n",
       "      <th>text_tgt</th>\n",
       "      <th>cos_src_tgt</th>\n",
       "      <th>cos_check</th>\n",
       "    </tr>\n",
       "  </thead>\n",
       "  <tbody>\n",
       "    <tr>\n",
       "      <th>19571</th>\n",
       "      <td>Refereneces</td>\n",
       "      <td>Refereneces</td>\n",
       "      <td>1.000000</td>\n",
       "      <td>0.803712</td>\n",
       "    </tr>\n",
       "    <tr>\n",
       "      <th>10379</th>\n",
       "      <td>Introduction</td>\n",
       "      <td>Introduction</td>\n",
       "      <td>1.000000</td>\n",
       "      <td>0.866820</td>\n",
       "    </tr>\n",
       "    <tr>\n",
       "      <th>38255</th>\n",
       "      <td>2.COST</td>\n",
       "      <td>2.COST</td>\n",
       "      <td>1.000000</td>\n",
       "      <td>0.887483</td>\n",
       "    </tr>\n",
       "    <tr>\n",
       "      <th>38268</th>\n",
       "      <td>3.SECURITY</td>\n",
       "      <td>3.SECURITY</td>\n",
       "      <td>1.000000</td>\n",
       "      <td>0.891711</td>\n",
       "    </tr>\n",
       "    <tr>\n",
       "      <th>7708</th>\n",
       "      <td>( ST/ESA/SER.R/85 ) &lt; { http : //db.jhuccp.org...</td>\n",
       "      <td>( ST/ESA/SER.R/85 ) &lt; { http : //db.jhuccp.org...</td>\n",
       "      <td>1.000000</td>\n",
       "      <td>0.901031</td>\n",
       "    </tr>\n",
       "    <tr>\n",
       "      <th>...</th>\n",
       "      <td>...</td>\n",
       "      <td>...</td>\n",
       "      <td>...</td>\n",
       "      <td>...</td>\n",
       "    </tr>\n",
       "    <tr>\n",
       "      <th>35882</th>\n",
       "      <td>Nuclear fission fuel is inexhaustible .</td>\n",
       "      <td>Nuclear fission fuel is inexhaustible .</td>\n",
       "      <td>1.000000</td>\n",
       "      <td>0.969999</td>\n",
       "    </tr>\n",
       "    <tr>\n",
       "      <th>21679</th>\n",
       "      <td>The public will then need to assist his needs ...</td>\n",
       "      <td>The public will then need to assist them in or...</td>\n",
       "      <td>0.969285</td>\n",
       "      <td>0.969999</td>\n",
       "    </tr>\n",
       "    <tr>\n",
       "      <th>11105</th>\n",
       "      <td>It consequently does ease the aging process , ...</td>\n",
       "      <td>It consequently does ease the aging process , ...</td>\n",
       "      <td>0.996917</td>\n",
       "      <td>0.969999</td>\n",
       "    </tr>\n",
       "    <tr>\n",
       "      <th>10841</th>\n",
       "      <td>These highly active grandchildren may become a...</td>\n",
       "      <td>These highly active grandchildren may become a...</td>\n",
       "      <td>1.000000</td>\n",
       "      <td>0.969999</td>\n",
       "    </tr>\n",
       "    <tr>\n",
       "      <th>34659</th>\n",
       "      <td>NRC requires each nuclear plant to periodicall...</td>\n",
       "      <td>The NRC requires each nuclear plant to periodi...</td>\n",
       "      <td>0.998280</td>\n",
       "      <td>0.970000</td>\n",
       "    </tr>\n",
       "  </tbody>\n",
       "</table>\n",
       "<p>18157 rows × 4 columns</p>\n",
       "</div>"
      ],
      "text/plain": [
       "                                                text_src  \\\n",
       "19571                                        Refereneces   \n",
       "10379                                       Introduction   \n",
       "38255                                             2.COST   \n",
       "38268                                         3.SECURITY   \n",
       "7708   ( ST/ESA/SER.R/85 ) < { http : //db.jhuccp.org...   \n",
       "...                                                  ...   \n",
       "35882            Nuclear fission fuel is inexhaustible .   \n",
       "21679  The public will then need to assist his needs ...   \n",
       "11105  It consequently does ease the aging process , ...   \n",
       "10841  These highly active grandchildren may become a...   \n",
       "34659  NRC requires each nuclear plant to periodicall...   \n",
       "\n",
       "                                                text_tgt  cos_src_tgt  \\\n",
       "19571                                        Refereneces     1.000000   \n",
       "10379                                       Introduction     1.000000   \n",
       "38255                                             2.COST     1.000000   \n",
       "38268                                         3.SECURITY     1.000000   \n",
       "7708   ( ST/ESA/SER.R/85 ) < { http : //db.jhuccp.org...     1.000000   \n",
       "...                                                  ...          ...   \n",
       "35882            Nuclear fission fuel is inexhaustible .     1.000000   \n",
       "21679  The public will then need to assist them in or...     0.969285   \n",
       "11105  It consequently does ease the aging process , ...     0.996917   \n",
       "10841  These highly active grandchildren may become a...     1.000000   \n",
       "34659  The NRC requires each nuclear plant to periodi...     0.998280   \n",
       "\n",
       "       cos_check  \n",
       "19571   0.803712  \n",
       "10379   0.866820  \n",
       "38255   0.887483  \n",
       "38268   0.891711  \n",
       "7708    0.901031  \n",
       "...          ...  \n",
       "35882   0.969999  \n",
       "21679   0.969999  \n",
       "11105   0.969999  \n",
       "10841   0.969999  \n",
       "34659   0.970000  \n",
       "\n",
       "[18157 rows x 4 columns]"
      ]
     },
     "execution_count": 109,
     "metadata": {},
     "output_type": "execute_result"
    }
   ],
   "source": [
    "df_sort = df.sort_values('cos_check')\n",
    "df_sort[df_sort['cos_check']<=0.97]"
   ]
  },
  {
   "cell_type": "code",
   "execution_count": 15,
   "metadata": {},
   "outputs": [],
   "source": [
    "df = df.sort_values('cos')"
   ]
  },
  {
   "cell_type": "code",
   "execution_count": 17,
   "metadata": {},
   "outputs": [
    {
     "data": {
      "text/plain": [
       "<AxesSubplot:ylabel='Frequency'>"
      ]
     },
     "execution_count": 17,
     "metadata": {},
     "output_type": "execute_result"
    },
    {
     "data": {
      "image/png": "[encoded data removed]",
      "text/plain": [
       "<Figure size 432x288 with 1 Axes>"
      ]
     },
     "metadata": {
      "needs_background": "light"
     },
     "output_type": "display_data"
    }
   ],
   "source": [
    "df['cos'].plot.hist()"
   ]
  },
  {
   "cell_type": "code",
   "execution_count": 102,
   "metadata": {},
   "outputs": [
    {
     "data": {
      "text/html": [
       "<div>\n",
       "<style scoped>\n",
       "    .dataframe tbody tr th:only-of-type {\n",
       "        vertical-align: middle;\n",
       "    }\n",
       "\n",
       "    .dataframe tbody tr th {\n",
       "        vertical-align: top;\n",
       "    }\n",
       "\n",
       "    .dataframe thead th {\n",
       "        text-align: right;\n",
       "    }\n",
       "</style>\n",
       "<table border=\"1\" class=\"dataframe\">\n",
       "  <thead>\n",
       "    <tr style=\"text-align: right;\">\n",
       "      <th></th>\n",
       "      <th>text_src</th>\n",
       "      <th>text_tgt</th>\n",
       "      <th>cos_src_tgt</th>\n",
       "      <th>cos_check</th>\n",
       "    </tr>\n",
       "  </thead>\n",
       "  <tbody>\n",
       "    <tr>\n",
       "      <th>14963</th>\n",
       "      <td>Even if a minority will have no intention to t...</td>\n",
       "      <td>.</td>\n",
       "      <td>-0.246615</td>\n",
       "      <td>0.974864</td>\n",
       "    </tr>\n",
       "    <tr>\n",
       "      <th>19124</th>\n",
       "      <td>It may be objected that despite great accommod...</td>\n",
       "      <td></td>\n",
       "      <td>-0.228636</td>\n",
       "      <td>0.972713</td>\n",
       "    </tr>\n",
       "    <tr>\n",
       "      <th>27646</th>\n",
       "      <td>Furthermore , the federal government ignored a...</td>\n",
       "      <td></td>\n",
       "      <td>-0.216451</td>\n",
       "      <td>0.977595</td>\n",
       "    </tr>\n",
       "    <tr>\n",
       "      <th>30054</th>\n",
       "      <td>Normal employees are not inspirited also limit...</td>\n",
       "      <td></td>\n",
       "      <td>-0.198910</td>\n",
       "      <td>0.973263</td>\n",
       "    </tr>\n",
       "    <tr>\n",
       "      <th>15812</th>\n",
       "      <td>This harsh behavior brings fear to adult who i...</td>\n",
       "      <td></td>\n",
       "      <td>-0.188985</td>\n",
       "      <td>0.969514</td>\n",
       "    </tr>\n",
       "    <tr>\n",
       "      <th>...</th>\n",
       "      <td>...</td>\n",
       "      <td>...</td>\n",
       "      <td>...</td>\n",
       "      <td>...</td>\n",
       "    </tr>\n",
       "    <tr>\n",
       "      <th>7396</th>\n",
       "      <td>In fact , governments should only focus on tho...</td>\n",
       "      <td>In fact , governments should only focus on tho...</td>\n",
       "      <td>0.934937</td>\n",
       "      <td>0.972960</td>\n",
       "    </tr>\n",
       "    <tr>\n",
       "      <th>21401</th>\n",
       "      <td>Other charity organisations like the NKF , TOU...</td>\n",
       "      <td>Other charity organisations like the NKF , TOU...</td>\n",
       "      <td>0.934943</td>\n",
       "      <td>0.971466</td>\n",
       "    </tr>\n",
       "    <tr>\n",
       "      <th>12582</th>\n",
       "      <td>Children often expect their parents to contrib...</td>\n",
       "      <td>Children often expect their parents to contrib...</td>\n",
       "      <td>0.934955</td>\n",
       "      <td>0.980428</td>\n",
       "    </tr>\n",
       "    <tr>\n",
       "      <th>31328</th>\n",
       "      <td>Therefore , the costs of aged should be borne ...</td>\n",
       "      <td>Therefore , the costs of spending for the shou...</td>\n",
       "      <td>0.934959</td>\n",
       "      <td>0.970989</td>\n",
       "    </tr>\n",
       "    <tr>\n",
       "      <th>3551</th>\n",
       "      <td>Another problem faced in singapore is society ...</td>\n",
       "      <td>Another problem faced by Sngapore is society '...</td>\n",
       "      <td>0.934987</td>\n",
       "      <td>0.977504</td>\n",
       "    </tr>\n",
       "  </tbody>\n",
       "</table>\n",
       "<p>3109 rows × 4 columns</p>\n",
       "</div>"
      ],
      "text/plain": [
       "                                                text_src  \\\n",
       "14963  Even if a minority will have no intention to t...   \n",
       "19124  It may be objected that despite great accommod...   \n",
       "27646  Furthermore , the federal government ignored a...   \n",
       "30054  Normal employees are not inspirited also limit...   \n",
       "15812  This harsh behavior brings fear to adult who i...   \n",
       "...                                                  ...   \n",
       "7396   In fact , governments should only focus on tho...   \n",
       "21401  Other charity organisations like the NKF , TOU...   \n",
       "12582  Children often expect their parents to contrib...   \n",
       "31328  Therefore , the costs of aged should be borne ...   \n",
       "3551   Another problem faced in singapore is society ...   \n",
       "\n",
       "                                                text_tgt  cos_src_tgt  \\\n",
       "14963                                                  .    -0.246615   \n",
       "19124                                                       -0.228636   \n",
       "27646                                                       -0.216451   \n",
       "30054                                                       -0.198910   \n",
       "15812                                                       -0.188985   \n",
       "...                                                  ...          ...   \n",
       "7396   In fact , governments should only focus on tho...     0.934937   \n",
       "21401  Other charity organisations like the NKF , TOU...     0.934943   \n",
       "12582  Children often expect their parents to contrib...     0.934955   \n",
       "31328  Therefore , the costs of spending for the shou...     0.934959   \n",
       "3551   Another problem faced by Sngapore is society '...     0.934987   \n",
       "\n",
       "       cos_check  \n",
       "14963   0.974864  \n",
       "19124   0.972713  \n",
       "27646   0.977595  \n",
       "30054   0.973263  \n",
       "15812   0.969514  \n",
       "...          ...  \n",
       "7396    0.972960  \n",
       "21401   0.971466  \n",
       "12582   0.980428  \n",
       "31328   0.970989  \n",
       "3551    0.977504  \n",
       "\n",
       "[3109 rows x 4 columns]"
      ]
     },
     "execution_count": 102,
     "metadata": {},
     "output_type": "execute_result"
    }
   ],
   "source": [
    "df[df['cos_src_tgt'] <=0.935].sort_values(\"cos_src_tgt\")"
   ]
  }
 ],
 "metadata": {
  "kernelspec": {
   "display_name": "Python 3",
   "language": "python",
   "name": "python3"
  },
  "language_info": {
   "codemirror_mode": {
    "name": "ipython",
    "version": 3
   },
   "file_extension": ".py",
   "mimetype": "text/x-python",
   "name": "python",
   "nbconvert_exporter": "python",
   "pygments_lexer": "ipython3",
   "version": "3.6.9"
  }
 },
 "nbformat": 4,
 "nbformat_minor": 4
}
