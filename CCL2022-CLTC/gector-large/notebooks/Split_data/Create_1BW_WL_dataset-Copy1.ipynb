{
 "cells": [
  {
   "cell_type": "code",
   "execution_count": 1,
   "metadata": {},
   "outputs": [],
   "source": [
    "import os\n",
    "import numpy as np\n",
    "import pandas as pd"
   ]
  },
  {
   "cell_type": "code",
   "execution_count": 2,
   "metadata": {},
   "outputs": [
    {
     "data": {
      "text/plain": [
       "['blogs_texts.txt', 'blogs_texts_2.txt']"
      ]
     },
     "execution_count": 2,
     "metadata": {},
     "output_type": "execute_result"
    }
   ],
   "source": [
    "os.listdir(\"../../data_to_predict/blogs/\")"
   ]
  },
  {
   "cell_type": "code",
   "execution_count": 2,
   "metadata": {},
   "outputs": [],
   "source": [
    "def read_lines(fn):\n",
    "    if not os.path.exists(fn):\n",
    "        return []\n",
    "    with open(fn, 'r', encoding='utf-8') as f:\n",
    "        text = f.read()\n",
    "    lines = text.split(\"\\n\")\n",
    "    if lines[-1] == '':\n",
    "        return lines[:-1]\n",
    "    else:\n",
    "        return lines\n",
    "\n",
    "def write_lines(fn, lines, mode='w'):\n",
    "    text_to_write = \"\\n\".join(lines)\n",
    "    with open(fn, encoding='utf-8', mode=mode) as f:\n",
    "        f.write(text_to_write)"
   ]
  },
  {
   "cell_type": "code",
   "execution_count": 4,
   "metadata": {},
   "outputs": [],
   "source": [
    "path = \"../../data_predicted/\"\n",
    "blogs_v1 = read_lines(path+\"blogs_v1\")\n",
    "blogs_v2 = read_lines(path+\"blogs_v2\")"
   ]
  },
  {
   "cell_type": "code",
   "execution_count": 5,
   "metadata": {},
   "outputs": [],
   "source": [
    "path_src = \"../../data_to_predict/blogs/\"\n",
    "src_blogs_v1 = read_lines(path_src+\"blogs_texts.txt\")\n",
    "src_blogs_v2 = read_lines(path_src+\"blogs_texts_2.txt\")"
   ]
  },
  {
   "cell_type": "code",
   "execution_count": 6,
   "metadata": {},
   "outputs": [],
   "source": [
    "blogs_v1_cor = read_lines(path+\"blogs_v1.check_correction\")\n",
    "blogs_v2_cor = read_lines(path+\"blogs_v2.check_correction\")"
   ]
  },
  {
   "cell_type": "code",
   "execution_count": 7,
   "metadata": {},
   "outputs": [],
   "source": [
    "src_blogs_v2 = src_blogs_v2[:len(blogs_v2)]"
   ]
  },
  {
   "cell_type": "code",
   "execution_count": 8,
   "metadata": {},
   "outputs": [],
   "source": [
    "text_src = []\n",
    "text_src.extend(src_blogs_v1)\n",
    "text_src.extend(src_blogs_v2)\n",
    "\n",
    "text_tgt = []\n",
    "text_tgt.extend(blogs_v1)\n",
    "text_tgt.extend(blogs_v2)\n",
    "\n",
    "cor = []\n",
    "cor.extend(blogs_v1_cor)\n",
    "cor.extend(blogs_v2_cor)"
   ]
  },
  {
   "cell_type": "code",
   "execution_count": 9,
   "metadata": {},
   "outputs": [],
   "source": [
    "df = pd.DataFrame({\"text_src\": text_src, \"text_tgt\": text_tgt, \"cor\":cor})"
   ]
  },
  {
   "cell_type": "code",
   "execution_count": 10,
   "metadata": {},
   "outputs": [
    {
     "data": {
      "text/html": [
       "<div>\n",
       "<style scoped>\n",
       "    .dataframe tbody tr th:only-of-type {\n",
       "        vertical-align: middle;\n",
       "    }\n",
       "\n",
       "    .dataframe tbody tr th {\n",
       "        vertical-align: top;\n",
       "    }\n",
       "\n",
       "    .dataframe thead th {\n",
       "        text-align: right;\n",
       "    }\n",
       "</style>\n",
       "<table border=\"1\" class=\"dataframe\">\n",
       "  <thead>\n",
       "    <tr style=\"text-align: right;\">\n",
       "      <th></th>\n",
       "      <th>text_src</th>\n",
       "      <th>text_tgt</th>\n",
       "      <th>cor</th>\n",
       "    </tr>\n",
       "  </thead>\n",
       "  <tbody>\n",
       "    <tr>\n",
       "      <th>0</th>\n",
       "      <td>steack knife , caro shark , con job , boot cut...</td>\n",
       "      <td>steack knife , caro shark , con job , boot cut...</td>\n",
       "      <td>0</td>\n",
       "    </tr>\n",
       "    <tr>\n",
       "      <th>1</th>\n",
       "      <td>Ok one time I was playing socom and the guy , ...</td>\n",
       "      <td>Ok one time I was playing socom and the guy , ...</td>\n",
       "      <td>1</td>\n",
       "    </tr>\n",
       "    <tr>\n",
       "      <th>2</th>\n",
       "      <td>And like he got hit right in his chest(me thin...</td>\n",
       "      <td>And like he got hit right in his chest(me thin...</td>\n",
       "      <td>1</td>\n",
       "    </tr>\n",
       "    <tr>\n",
       "      <th>3</th>\n",
       "      <td>Hoping my nad dropped before I was killed I wa...</td>\n",
       "      <td>Hoping my nad dropped before I was killed , I ...</td>\n",
       "      <td>1</td>\n",
       "    </tr>\n",
       "    <tr>\n",
       "      <th>4</th>\n",
       "      <td>And I won the round for my team .</td>\n",
       "      <td>And I won the round for my team .</td>\n",
       "      <td>0</td>\n",
       "    </tr>\n",
       "    <tr>\n",
       "      <th>5</th>\n",
       "      <td>THAT 'S F.U.B.A.R.(Fucked Up beyond All Recogn...</td>\n",
       "      <td>THAT 'S F.U.B.A.R.(Fucked Up beyond All Recogn...</td>\n",
       "      <td>0</td>\n",
       "    </tr>\n",
       "    <tr>\n",
       "      <th>6</th>\n",
       "      <td>Do u ever wonder why where here , why do they ...</td>\n",
       "      <td>Do you ever wonder why they were here , why do...</td>\n",
       "      <td>1</td>\n",
       "    </tr>\n",
       "    <tr>\n",
       "      <th>7</th>\n",
       "      <td>does anyone ever pay attention in health accep...</td>\n",
       "      <td>Does anyone ever pay attention to health accep...</td>\n",
       "      <td>1</td>\n",
       "    </tr>\n",
       "    <tr>\n",
       "      <th>8</th>\n",
       "      <td>Do n't deny it , you know it 's true .</td>\n",
       "      <td>Do n't deny it , you know it 's true .</td>\n",
       "      <td>0</td>\n",
       "    </tr>\n",
       "    <tr>\n",
       "      <th>9</th>\n",
       "      <td>You know all that other crap like \" saving peo...</td>\n",
       "      <td>You know all that other crap like \" saving peo...</td>\n",
       "      <td>1</td>\n",
       "    </tr>\n",
       "  </tbody>\n",
       "</table>\n",
       "</div>"
      ],
      "text/plain": [
       "                                            text_src  \\\n",
       "0  steack knife , caro shark , con job , boot cut...   \n",
       "1  Ok one time I was playing socom and the guy , ...   \n",
       "2  And like he got hit right in his chest(me thin...   \n",
       "3  Hoping my nad dropped before I was killed I wa...   \n",
       "4                  And I won the round for my team .   \n",
       "5  THAT 'S F.U.B.A.R.(Fucked Up beyond All Recogn...   \n",
       "6  Do u ever wonder why where here , why do they ...   \n",
       "7  does anyone ever pay attention in health accep...   \n",
       "8             Do n't deny it , you know it 's true .   \n",
       "9  You know all that other crap like \" saving peo...   \n",
       "\n",
       "                                            text_tgt cor  \n",
       "0  steack knife , caro shark , con job , boot cut...   0  \n",
       "1  Ok one time I was playing socom and the guy , ...   1  \n",
       "2  And like he got hit right in his chest(me thin...   1  \n",
       "3  Hoping my nad dropped before I was killed , I ...   1  \n",
       "4                  And I won the round for my team .   0  \n",
       "5  THAT 'S F.U.B.A.R.(Fucked Up beyond All Recogn...   0  \n",
       "6  Do you ever wonder why they were here , why do...   1  \n",
       "7  Does anyone ever pay attention to health accep...   1  \n",
       "8             Do n't deny it , you know it 's true .   0  \n",
       "9  You know all that other crap like \" saving peo...   1  "
      ]
     },
     "execution_count": 10,
     "metadata": {},
     "output_type": "execute_result"
    }
   ],
   "source": [
    "df.head(10)"
   ]
  },
  {
   "cell_type": "code",
   "execution_count": 11,
   "metadata": {},
   "outputs": [],
   "source": [
    "df['cor'] = df['cor'].astype(int)"
   ]
  },
  {
   "cell_type": "code",
   "execution_count": 12,
   "metadata": {},
   "outputs": [
    {
     "data": {
      "text/html": [
       "<div>\n",
       "<style scoped>\n",
       "    .dataframe tbody tr th:only-of-type {\n",
       "        vertical-align: middle;\n",
       "    }\n",
       "\n",
       "    .dataframe tbody tr th {\n",
       "        vertical-align: top;\n",
       "    }\n",
       "\n",
       "    .dataframe thead th {\n",
       "        text-align: right;\n",
       "    }\n",
       "</style>\n",
       "<table border=\"1\" class=\"dataframe\">\n",
       "  <thead>\n",
       "    <tr style=\"text-align: right;\">\n",
       "      <th></th>\n",
       "      <th>text_src</th>\n",
       "      <th>text_tgt</th>\n",
       "      <th>cor</th>\n",
       "    </tr>\n",
       "  </thead>\n",
       "  <tbody>\n",
       "    <tr>\n",
       "      <th>1</th>\n",
       "      <td>Ok one time I was playing socom and the guy , ...</td>\n",
       "      <td>Ok one time I was playing socom and the guy , ...</td>\n",
       "      <td>1</td>\n",
       "    </tr>\n",
       "    <tr>\n",
       "      <th>2</th>\n",
       "      <td>And like he got hit right in his chest(me thin...</td>\n",
       "      <td>And like he got hit right in his chest(me thin...</td>\n",
       "      <td>1</td>\n",
       "    </tr>\n",
       "    <tr>\n",
       "      <th>3</th>\n",
       "      <td>Hoping my nad dropped before I was killed I wa...</td>\n",
       "      <td>Hoping my nad dropped before I was killed , I ...</td>\n",
       "      <td>1</td>\n",
       "    </tr>\n",
       "    <tr>\n",
       "      <th>6</th>\n",
       "      <td>Do u ever wonder why where here , why do they ...</td>\n",
       "      <td>Do you ever wonder why they were here , why do...</td>\n",
       "      <td>1</td>\n",
       "    </tr>\n",
       "    <tr>\n",
       "      <th>7</th>\n",
       "      <td>does anyone ever pay attention in health accep...</td>\n",
       "      <td>Does anyone ever pay attention to health accep...</td>\n",
       "      <td>1</td>\n",
       "    </tr>\n",
       "  </tbody>\n",
       "</table>\n",
       "</div>"
      ],
      "text/plain": [
       "                                            text_src  \\\n",
       "1  Ok one time I was playing socom and the guy , ...   \n",
       "2  And like he got hit right in his chest(me thin...   \n",
       "3  Hoping my nad dropped before I was killed I wa...   \n",
       "6  Do u ever wonder why where here , why do they ...   \n",
       "7  does anyone ever pay attention in health accep...   \n",
       "\n",
       "                                            text_tgt  cor  \n",
       "1  Ok one time I was playing socom and the guy , ...    1  \n",
       "2  And like he got hit right in his chest(me thin...    1  \n",
       "3  Hoping my nad dropped before I was killed , I ...    1  \n",
       "6  Do you ever wonder why they were here , why do...    1  \n",
       "7  Does anyone ever pay attention to health accep...    1  "
      ]
     },
     "execution_count": 12,
     "metadata": {},
     "output_type": "execute_result"
    }
   ],
   "source": [
    "cor_df = df[df['cor']==1]\n",
    "cor_df.head()"
   ]
  },
  {
   "cell_type": "code",
   "execution_count": 13,
   "metadata": {},
   "outputs": [
    {
     "data": {
      "text/plain": [
       "1704229"
      ]
     },
     "execution_count": 13,
     "metadata": {},
     "output_type": "execute_result"
    }
   ],
   "source": [
    "len(cor_df)"
   ]
  },
  {
   "cell_type": "code",
   "execution_count": 14,
   "metadata": {},
   "outputs": [
    {
     "name": "stderr",
     "output_type": "stream",
     "text": [
      "<ipython-input-14-c86232a09d6d>:1: SettingWithCopyWarning: \n",
      "A value is trying to be set on a copy of a slice from a DataFrame.\n",
      "Try using .loc[row_indexer,col_indexer] = value instead\n",
      "\n",
      "See the caveats in the documentation: https://pandas.pydata.org/pandas-docs/stable/user_guide/indexing.html#returning-a-view-versus-a-copy\n",
      "  cor_df['good'] = (cor_df['text_src'].str.len() <= 160).astype(int)\n"
     ]
    }
   ],
   "source": [
    "cor_df['good'] = (cor_df['text_src'].str.len() <= 160).astype(int)"
   ]
  },
  {
   "cell_type": "code",
   "execution_count": 15,
   "metadata": {},
   "outputs": [],
   "source": [
    "#cor_df['good'].mean()"
   ]
  },
  {
   "cell_type": "code",
   "execution_count": 16,
   "metadata": {},
   "outputs": [],
   "source": [
    "good_df = cor_df[cor_df['good'] == 1]"
   ]
  },
  {
   "cell_type": "code",
   "execution_count": 17,
   "metadata": {},
   "outputs": [
    {
     "data": {
      "text/plain": [
       "1406932"
      ]
     },
     "execution_count": 17,
     "metadata": {},
     "output_type": "execute_result"
    }
   ],
   "source": [
    "len(good_df)"
   ]
  },
  {
   "cell_type": "code",
   "execution_count": 18,
   "metadata": {},
   "outputs": [
    {
     "name": "stderr",
     "output_type": "stream",
     "text": [
      "<ipython-input-18-ac0626d65af7>:1: SettingWithCopyWarning: \n",
      "A value is trying to be set on a copy of a slice from a DataFrame.\n",
      "Try using .loc[row_indexer,col_indexer] = value instead\n",
      "\n",
      "See the caveats in the documentation: https://pandas.pydata.org/pandas-docs/stable/user_guide/indexing.html#returning-a-view-versus-a-copy\n",
      "  good_df['first_upper'] = good_df['text_tgt'].apply(lambda x: x[0] == x[0].upper())\n"
     ]
    }
   ],
   "source": [
    "good_df['first_upper'] = good_df['text_tgt'].apply(lambda x: x[0] == x[0].upper())"
   ]
  },
  {
   "cell_type": "code",
   "execution_count": 19,
   "metadata": {},
   "outputs": [
    {
     "name": "stderr",
     "output_type": "stream",
     "text": [
      "<ipython-input-19-fea59cac373b>:1: SettingWithCopyWarning: \n",
      "A value is trying to be set on a copy of a slice from a DataFrame.\n",
      "Try using .loc[row_indexer,col_indexer] = value instead\n",
      "\n",
      "See the caveats in the documentation: https://pandas.pydata.org/pandas-docs/stable/user_guide/indexing.html#returning-a-view-versus-a-copy\n",
      "  good_df['all_camel_case'] = good_df['text_tgt'].apply(lambda x: x == x.upper())\n"
     ]
    }
   ],
   "source": [
    "good_df['all_camel_case'] = good_df['text_tgt'].apply(lambda x: x == x.upper())"
   ]
  },
  {
   "cell_type": "code",
   "execution_count": 20,
   "metadata": {},
   "outputs": [
    {
     "name": "stderr",
     "output_type": "stream",
     "text": [
      "<ipython-input-20-d6ca0baf3450>:1: SettingWithCopyWarning: \n",
      "A value is trying to be set on a copy of a slice from a DataFrame.\n",
      "Try using .loc[row_indexer,col_indexer] = value instead\n",
      "\n",
      "See the caveats in the documentation: https://pandas.pydata.org/pandas-docs/stable/user_guide/indexing.html#returning-a-view-versus-a-copy\n",
      "  good_df['len_less_5'] = good_df['text_tgt'].str.len() <= 5\n"
     ]
    }
   ],
   "source": [
    "good_df['len_less_5'] = good_df['text_tgt'].str.len() <= 5"
   ]
  },
  {
   "cell_type": "code",
   "execution_count": 21,
   "metadata": {},
   "outputs": [],
   "source": [
    "#good_df['len_less_5'].mean()"
   ]
  },
  {
   "cell_type": "code",
   "execution_count": 22,
   "metadata": {},
   "outputs": [],
   "source": [
    "#good_df[good_df['first_upper'] == 1].mean()"
   ]
  },
  {
   "cell_type": "code",
   "execution_count": 23,
   "metadata": {},
   "outputs": [
    {
     "name": "stdout",
     "output_type": "stream",
     "text": [
      "\n"
     ]
    }
   ],
   "source": [
    "print()"
   ]
  },
  {
   "cell_type": "code",
   "execution_count": 24,
   "metadata": {},
   "outputs": [],
   "source": [
    "best_df = good_df[good_df['first_upper'] == 1]"
   ]
  },
  {
   "cell_type": "code",
   "execution_count": 25,
   "metadata": {},
   "outputs": [
    {
     "data": {
      "text/plain": [
       "1269399"
      ]
     },
     "execution_count": 25,
     "metadata": {},
     "output_type": "execute_result"
    }
   ],
   "source": [
    "len(best_df)"
   ]
  },
  {
   "cell_type": "code",
   "execution_count": 26,
   "metadata": {},
   "outputs": [
    {
     "data": {
      "text/html": [
       "<div>\n",
       "<style scoped>\n",
       "    .dataframe tbody tr th:only-of-type {\n",
       "        vertical-align: middle;\n",
       "    }\n",
       "\n",
       "    .dataframe tbody tr th {\n",
       "        vertical-align: top;\n",
       "    }\n",
       "\n",
       "    .dataframe thead th {\n",
       "        text-align: right;\n",
       "    }\n",
       "</style>\n",
       "<table border=\"1\" class=\"dataframe\">\n",
       "  <thead>\n",
       "    <tr style=\"text-align: right;\">\n",
       "      <th></th>\n",
       "      <th>text_src</th>\n",
       "      <th>text_tgt</th>\n",
       "      <th>cor</th>\n",
       "      <th>good</th>\n",
       "      <th>first_upper</th>\n",
       "      <th>all_camel_case</th>\n",
       "      <th>len_less_5</th>\n",
       "    </tr>\n",
       "  </thead>\n",
       "  <tbody>\n",
       "    <tr>\n",
       "      <th>1</th>\n",
       "      <td>Ok one time I was playing socom and the guy , ...</td>\n",
       "      <td>Ok one time I was playing socom and the guy , ...</td>\n",
       "      <td>1</td>\n",
       "      <td>1</td>\n",
       "      <td>True</td>\n",
       "      <td>False</td>\n",
       "      <td>False</td>\n",
       "    </tr>\n",
       "    <tr>\n",
       "      <th>2</th>\n",
       "      <td>And like he got hit right in his chest(me thin...</td>\n",
       "      <td>And like he got hit right in his chest(me thin...</td>\n",
       "      <td>1</td>\n",
       "      <td>1</td>\n",
       "      <td>True</td>\n",
       "      <td>False</td>\n",
       "      <td>False</td>\n",
       "    </tr>\n",
       "    <tr>\n",
       "      <th>6</th>\n",
       "      <td>Do u ever wonder why where here , why do they ...</td>\n",
       "      <td>Do you ever wonder why they were here , why do...</td>\n",
       "      <td>1</td>\n",
       "      <td>1</td>\n",
       "      <td>True</td>\n",
       "      <td>False</td>\n",
       "      <td>False</td>\n",
       "    </tr>\n",
       "    <tr>\n",
       "      <th>7</th>\n",
       "      <td>does anyone ever pay attention in health accep...</td>\n",
       "      <td>Does anyone ever pay attention to health accep...</td>\n",
       "      <td>1</td>\n",
       "      <td>1</td>\n",
       "      <td>True</td>\n",
       "      <td>False</td>\n",
       "      <td>False</td>\n",
       "    </tr>\n",
       "    <tr>\n",
       "      <th>9</th>\n",
       "      <td>You know all that other crap like \" saving peo...</td>\n",
       "      <td>You know all that other crap like \" saving peo...</td>\n",
       "      <td>1</td>\n",
       "      <td>1</td>\n",
       "      <td>True</td>\n",
       "      <td>False</td>\n",
       "      <td>False</td>\n",
       "    </tr>\n",
       "  </tbody>\n",
       "</table>\n",
       "</div>"
      ],
      "text/plain": [
       "                                            text_src  \\\n",
       "1  Ok one time I was playing socom and the guy , ...   \n",
       "2  And like he got hit right in his chest(me thin...   \n",
       "6  Do u ever wonder why where here , why do they ...   \n",
       "7  does anyone ever pay attention in health accep...   \n",
       "9  You know all that other crap like \" saving peo...   \n",
       "\n",
       "                                            text_tgt  cor  good  first_upper  \\\n",
       "1  Ok one time I was playing socom and the guy , ...    1     1         True   \n",
       "2  And like he got hit right in his chest(me thin...    1     1         True   \n",
       "6  Do you ever wonder why they were here , why do...    1     1         True   \n",
       "7  Does anyone ever pay attention to health accep...    1     1         True   \n",
       "9  You know all that other crap like \" saving peo...    1     1         True   \n",
       "\n",
       "   all_camel_case  len_less_5  \n",
       "1           False       False  \n",
       "2           False       False  \n",
       "6           False       False  \n",
       "7           False       False  \n",
       "9           False       False  "
      ]
     },
     "execution_count": 26,
     "metadata": {},
     "output_type": "execute_result"
    }
   ],
   "source": [
    "best_df.head()"
   ]
  },
  {
   "cell_type": "code",
   "execution_count": 3,
   "metadata": {},
   "outputs": [],
   "source": [
    "from sklearn.model_selection import train_test_split"
   ]
  },
  {
   "cell_type": "code",
   "execution_count": 28,
   "metadata": {},
   "outputs": [],
   "source": [
    "blogs_train, blogs_dev = train_test_split(best_df, test_size=0.02, random_state=4)"
   ]
  },
  {
   "cell_type": "code",
   "execution_count": 3,
   "metadata": {},
   "outputs": [],
   "source": [
    "bw_train_src = read_lines('../../data_parallel/new_1bw/train_source')\n",
    "bw_train_tgt = read_lines('../../data_parallel/new_1bw/train_target')\n",
    "bw_test_src = read_lines('../../data_parallel/new_1bw/test_source')\n",
    "bw_test_tgt = read_lines('../../data_parallel/new_1bw/test_target')"
   ]
  },
  {
   "cell_type": "code",
   "execution_count": 4,
   "metadata": {},
   "outputs": [],
   "source": [
    "bw_src = []\n",
    "bw_src.extend(bw_train_src)\n",
    "bw_src.extend(bw_test_src)\n",
    "\n",
    "bw_tgt = []\n",
    "bw_tgt.extend(bw_train_tgt)\n",
    "bw_tgt.extend(bw_test_tgt)"
   ]
  },
  {
   "cell_type": "code",
   "execution_count": 5,
   "metadata": {},
   "outputs": [
    {
     "data": {
      "text/plain": [
       "1196622"
      ]
     },
     "execution_count": 5,
     "metadata": {},
     "output_type": "execute_result"
    }
   ],
   "source": [
    "len(bw_src)"
   ]
  },
  {
   "cell_type": "code",
   "execution_count": 6,
   "metadata": {},
   "outputs": [],
   "source": [
    "bw_df = pd.DataFrame({\"text_src\": bw_src, \"text_tgt\": bw_tgt})"
   ]
  },
  {
   "cell_type": "code",
   "execution_count": 7,
   "metadata": {},
   "outputs": [],
   "source": [
    "good_df = bw_df"
   ]
  },
  {
   "cell_type": "code",
   "execution_count": 8,
   "metadata": {},
   "outputs": [],
   "source": [
    "good_df['first_upper'] = good_df['text_tgt'].apply(lambda x: x[0] == x[0].upper())"
   ]
  },
  {
   "cell_type": "code",
   "execution_count": 9,
   "metadata": {},
   "outputs": [],
   "source": [
    "best_df = good_df[good_df['first_upper'] == 1]"
   ]
  },
  {
   "cell_type": "code",
   "execution_count": 10,
   "metadata": {},
   "outputs": [],
   "source": [
    "bw_train, bw_dev = train_test_split(best_df, test_size=0.02, random_state=4)"
   ]
  },
  {
   "cell_type": "code",
   "execution_count": 11,
   "metadata": {},
   "outputs": [],
   "source": [
    "train = bw_train #.append(blogs_train)"
   ]
  },
  {
   "cell_type": "code",
   "execution_count": 12,
   "metadata": {},
   "outputs": [],
   "source": [
    "dev = bw_dev #.append(blogs_dev)"
   ]
  },
  {
   "cell_type": "code",
   "execution_count": 13,
   "metadata": {},
   "outputs": [],
   "source": [
    "def get_train_dev_splits(source, target, test_size=0.02, random_state=4, stratify=True):\n",
    "    ser_source = pd.Series(source)\n",
    "    ser_target = pd.Series(target)\n",
    "    source_train, source_dev, target_train, target_dev = [],[],[],[]\n",
    "    if stratify:\n",
    "        have_changes = ser_source != ser_target\n",
    "        source_train, source_dev, target_train, target_dev = train_test_split(ser_source, ser_target,\\\n",
    "                                            test_size=test_size, random_state=random_state, stratify = have_changes)\n",
    "    else:\n",
    "        source_train, source_dev, target_train, target_dev = train_test_split(ser_source, ser_target,\\\n",
    "                                            test_size=test_size, random_state=random_state)\n",
    "    \n",
    "    return source_train.values, source_dev.values, target_train.values, target_dev.values"
   ]
  },
  {
   "cell_type": "code",
   "execution_count": 14,
   "metadata": {},
   "outputs": [],
   "source": [
    "wl_src = read_lines(\"../../data_parallel/wi+locness/train_src\")\n",
    "wl_tgt = read_lines(\"../../data_parallel/wi+locness/train_tgt\")"
   ]
  },
  {
   "cell_type": "code",
   "execution_count": 15,
   "metadata": {},
   "outputs": [],
   "source": [
    "source_train_wl, source_dev_wl, target_train_wl, target_dev_wl = get_train_dev_splits(wl_src, wl_tgt)"
   ]
  },
  {
   "cell_type": "code",
   "execution_count": null,
   "metadata": {},
   "outputs": [],
   "source": []
  },
  {
   "cell_type": "code",
   "execution_count": 16,
   "metadata": {},
   "outputs": [],
   "source": [
    "train_src = train.text_src.values \n",
    "train_tgt = train.text_tgt.values \n",
    "dev_src = dev.text_src.values \n",
    "dev_tgt = dev.text_tgt.values "
   ]
  },
  {
   "cell_type": "code",
   "execution_count": 17,
   "metadata": {},
   "outputs": [
    {
     "data": {
      "text/plain": [
       "1154481"
      ]
     },
     "execution_count": 17,
     "metadata": {},
     "output_type": "execute_result"
    }
   ],
   "source": [
    "len(train_src)"
   ]
  },
  {
   "cell_type": "code",
   "execution_count": 18,
   "metadata": {},
   "outputs": [],
   "source": [
    "train_src = list(train_src)\n",
    "train_src.extend(source_train_wl)"
   ]
  },
  {
   "cell_type": "code",
   "execution_count": 19,
   "metadata": {},
   "outputs": [
    {
     "data": {
      "text/plain": [
       "1188102"
      ]
     },
     "execution_count": 19,
     "metadata": {},
     "output_type": "execute_result"
    }
   ],
   "source": [
    "len(train_src)"
   ]
  },
  {
   "cell_type": "code",
   "execution_count": 20,
   "metadata": {},
   "outputs": [],
   "source": [
    "train_tgt = list(train_tgt)\n",
    "train_tgt.extend(target_train_wl)"
   ]
  },
  {
   "cell_type": "code",
   "execution_count": 21,
   "metadata": {},
   "outputs": [],
   "source": [
    "dev_src = list(dev_src)\n",
    "dev_src.extend(source_dev_wl)"
   ]
  },
  {
   "cell_type": "code",
   "execution_count": 22,
   "metadata": {},
   "outputs": [],
   "source": [
    "dev_tgt = list(dev_tgt)\n",
    "dev_tgt.extend(target_dev_wl)"
   ]
  },
  {
   "cell_type": "code",
   "execution_count": 23,
   "metadata": {},
   "outputs": [],
   "source": [
    "path_save = \"../../data_parallel/1bw+wl/\""
   ]
  },
  {
   "cell_type": "code",
   "execution_count": 24,
   "metadata": {},
   "outputs": [],
   "source": [
    "write_lines(path_save+\"train_src\", train_src, mode='w')\n",
    "write_lines(path_save+\"train_tgt\", train_tgt, mode='w')\n",
    "write_lines(path_save+\"dev_src\", dev_src, mode='w')\n",
    "write_lines(path_save+\"dev_tgt\", dev_tgt, mode='w')"
   ]
  },
  {
   "cell_type": "code",
   "execution_count": null,
   "metadata": {},
   "outputs": [],
   "source": []
  },
  {
   "cell_type": "code",
   "execution_count": 11,
   "metadata": {},
   "outputs": [],
   "source": [
    "train_tgt = read_lines(path_save+\"train_tgt\")"
   ]
  },
  {
   "cell_type": "code",
   "execution_count": 12,
   "metadata": {},
   "outputs": [],
   "source": [
    "df = pd.DataFrame({\"text_tgt\": train_tgt})"
   ]
  },
  {
   "cell_type": "code",
   "execution_count": 13,
   "metadata": {},
   "outputs": [],
   "source": [
    "df['first_upper'] = df['text_tgt'].apply(lambda x: x[0] == x[0].upper())"
   ]
  },
  {
   "cell_type": "code",
   "execution_count": 15,
   "metadata": {},
   "outputs": [
    {
     "data": {
      "text/plain": [
       "0.8968886054421769"
      ]
     },
     "execution_count": 15,
     "metadata": {},
     "output_type": "execute_result"
    }
   ],
   "source": [
    "df['first_upper'].astype(int).mean()"
   ]
  },
  {
   "cell_type": "code",
   "execution_count": 16,
   "metadata": {},
   "outputs": [
    {
     "data": {
      "text/html": [
       "<div>\n",
       "<style scoped>\n",
       "    .dataframe tbody tr th:only-of-type {\n",
       "        vertical-align: middle;\n",
       "    }\n",
       "\n",
       "    .dataframe tbody tr th {\n",
       "        vertical-align: top;\n",
       "    }\n",
       "\n",
       "    .dataframe thead th {\n",
       "        text-align: right;\n",
       "    }\n",
       "</style>\n",
       "<table border=\"1\" class=\"dataframe\">\n",
       "  <thead>\n",
       "    <tr style=\"text-align: right;\">\n",
       "      <th></th>\n",
       "      <th>text_tgt</th>\n",
       "      <th>first_upper</th>\n",
       "    </tr>\n",
       "  </thead>\n",
       "  <tbody>\n",
       "    <tr>\n",
       "      <th>20</th>\n",
       "      <td>csi northwestern : forensic chemistry searchin...</td>\n",
       "      <td>False</td>\n",
       "    </tr>\n",
       "    <tr>\n",
       "      <th>23</th>\n",
       "      <td>risks will always be a 50 - 50 situation and i...</td>\n",
       "      <td>False</td>\n",
       "    </tr>\n",
       "    <tr>\n",
       "      <th>36</th>\n",
       "      <td>and then somewhere in there one of the main do...</td>\n",
       "      <td>False</td>\n",
       "    </tr>\n",
       "    <tr>\n",
       "      <th>37</th>\n",
       "      <td>and even the times I have a map , it does no g...</td>\n",
       "      <td>False</td>\n",
       "    </tr>\n",
       "    <tr>\n",
       "      <th>59</th>\n",
       "      <td>and I m not talking about guys in aviator sung...</td>\n",
       "      <td>False</td>\n",
       "    </tr>\n",
       "    <tr>\n",
       "      <th>...</th>\n",
       "      <td>...</td>\n",
       "      <td>...</td>\n",
       "    </tr>\n",
       "    <tr>\n",
       "      <th>1175947</th>\n",
       "      <td>but seriously .... that s about all I got peace</td>\n",
       "      <td>False</td>\n",
       "    </tr>\n",
       "    <tr>\n",
       "      <th>1175959</th>\n",
       "      <td>have been the last couple of days .</td>\n",
       "      <td>False</td>\n",
       "    </tr>\n",
       "    <tr>\n",
       "      <th>1175963</th>\n",
       "      <td>lol That s why I told Joe to stay away from Li...</td>\n",
       "      <td>False</td>\n",
       "    </tr>\n",
       "    <tr>\n",
       "      <th>1175964</th>\n",
       "      <td>modern technology what will they think up next ?</td>\n",
       "      <td>False</td>\n",
       "    </tr>\n",
       "    <tr>\n",
       "      <th>1175973</th>\n",
       "      <td>and I made plans with Sharlit and Becky before...</td>\n",
       "      <td>False</td>\n",
       "    </tr>\n",
       "  </tbody>\n",
       "</table>\n",
       "<p>121259 rows × 2 columns</p>\n",
       "</div>"
      ],
      "text/plain": [
       "                                                  text_tgt  first_upper\n",
       "20       csi northwestern : forensic chemistry searchin...        False\n",
       "23       risks will always be a 50 - 50 situation and i...        False\n",
       "36       and then somewhere in there one of the main do...        False\n",
       "37       and even the times I have a map , it does no g...        False\n",
       "59       and I m not talking about guys in aviator sung...        False\n",
       "...                                                    ...          ...\n",
       "1175947    but seriously .... that s about all I got peace        False\n",
       "1175959                have been the last couple of days .        False\n",
       "1175963  lol That s why I told Joe to stay away from Li...        False\n",
       "1175964   modern technology what will they think up next ?        False\n",
       "1175973  and I made plans with Sharlit and Becky before...        False\n",
       "\n",
       "[121259 rows x 2 columns]"
      ]
     },
     "execution_count": 16,
     "metadata": {},
     "output_type": "execute_result"
    }
   ],
   "source": [
    "df[df['first_upper']==False]"
   ]
  }
 ],
 "metadata": {
  "kernelspec": {
   "display_name": "Python 3",
   "language": "python",
   "name": "python3"
  },
  "language_info": {
   "codemirror_mode": {
    "name": "ipython",
    "version": 3
   },
   "file_extension": ".py",
   "mimetype": "text/x-python",
   "name": "python",
   "nbconvert_exporter": "python",
   "pygments_lexer": "ipython3",
   "version": "3.8.5"
  }
 },
 "nbformat": 4,
 "nbformat_minor": 4
}
