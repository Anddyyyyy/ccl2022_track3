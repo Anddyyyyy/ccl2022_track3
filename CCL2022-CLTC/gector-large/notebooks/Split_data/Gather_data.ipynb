{
 "cells": [
  {
   "cell_type": "code",
   "execution_count": null,
   "metadata": {},
   "outputs": [],
   "source": [
    "import glob\n",
    "import os"
   ]
  },
  {
   "cell_type": "code",
   "execution_count": 2,
   "metadata": {},
   "outputs": [],
   "source": [
    "#os.listdir(\"../data_to_predict/training-monolingual/\")"
   ]
  },
  {
   "cell_type": "code",
   "execution_count": 3,
   "metadata": {},
   "outputs": [],
   "source": [
    "# path = \"../data_to_predict/training-monolingual/\"\n",
    "# name = \"news.2009.en.shuffled\""
   ]
  },
  {
   "cell_type": "code",
   "execution_count": 4,
   "metadata": {},
   "outputs": [],
   "source": [
    "# with open(path+name, 'r') as f:\n",
    "#     text = f.read()\n",
    "#     lines = text.split(\"\\n\")"
   ]
  },
  {
   "cell_type": "code",
   "execution_count": 17,
   "metadata": {},
   "outputs": [],
   "source": [
    "import numpy as np\n",
    "import pandas as pd"
   ]
  },
  {
   "cell_type": "code",
   "execution_count": 33,
   "metadata": {},
   "outputs": [],
   "source": [
    "def write_lines(fn, lines, mode='w'):\n",
    "    text_to_write = \"\\n\".join(lines)\n",
    "    if len(text_to_write) > 0:\n",
    "        text_to_write + \"\\n\"\n",
    "    with open(fn, encoding='utf-8', mode=mode) as f:\n",
    "        f.write(text_to_write)"
   ]
  },
  {
   "cell_type": "code",
   "execution_count": 37,
   "metadata": {},
   "outputs": [],
   "source": [
    "def read_lines(fn):\n",
    "    if not os.path.exists(fn):\n",
    "        return []\n",
    "    with open(fn, 'r', encoding='utf-8') as f:\n",
    "        text = f.read()\n",
    "    lines = text.split(\"\\n\")\n",
    "#     if lines[-1] == '':\n",
    "#         return lines[:-1]\n",
    "    return lines"
   ]
  },
  {
   "cell_type": "code",
   "execution_count": 38,
   "metadata": {},
   "outputs": [
    {
     "name": "stdout",
     "output_type": "stream",
     "text": [
      "['new_1bw_europarl-v6', 'new_1bw_news_2007_v1', 'new_1bw_news_2008_v1', 'new_1bw_news_2010_v1', 'new_1bw_news_2011_v1']\n",
      "['new_1bw_europarl-v6.log', 'new_1bw_news_2007_v1.log', 'new_1bw_news_2008_v1.log', 'new_1bw_news_2010_v1.log', 'new_1bw_news_2011_v1.log']\n",
      "['new_1bw_europarl-v6.check_correction', 'new_1bw_news_2007_v1.check_correction', 'new_1bw_news_2008_v1.check_correction', 'new_1bw_news_2010_v1.check_correction', 'new_1bw_news_2011_v1.check_correction']\n"
     ]
    }
   ],
   "source": [
    "path = '../data_predicted/'\n",
    "data_predicted = os.listdir(path)\n",
    "\n",
    "data_predicted = [name for name in data_predicted if name[:7]=='new_1bw']\n",
    "\n",
    "logs = sorted([name for name in data_predicted if 'log' in name])\n",
    "labels = sorted([name for name in data_predicted if 'check_correction' in name])\n",
    "preds = sorted(list(set(data_predicted) - (set(logs).union(set(labels)))))\n",
    "print(preds)\n",
    "print(logs)\n",
    "print(labels)"
   ]
  },
  {
   "cell_type": "code",
   "execution_count": 10,
   "metadata": {},
   "outputs": [
    {
     "data": {
      "text/plain": [
       "['europarl-v6',\n",
       " 'europarl-v6_log',\n",
       " 'news-commentary-v6',\n",
       " 'news-commentary-v6_log',\n",
       " 'news.2011',\n",
       " 'news.2011_log',\n",
       " 'news_2007_v1',\n",
       " 'news_2007_v1_log',\n",
       " 'news_2008_v1',\n",
       " 'news_2008_v1_log',\n",
       " 'news_2010_v1',\n",
       " 'news_2010_v1_log']"
      ]
     },
     "execution_count": 10,
     "metadata": {},
     "output_type": "execute_result"
    }
   ],
   "source": [
    "path_to_predict = \"../data_to_predict/1bw/\"\n",
    "all_files = os.listdir(path_to_predict)\n",
    "sorted(all_files)"
   ]
  },
  {
   "cell_type": "code",
   "execution_count": 39,
   "metadata": {},
   "outputs": [],
   "source": [
    "to_pred = ['europarl-v6', 'news.2011','news_2007_v1', 'news_2008_v1', 'news_2010_v1']"
   ]
  },
  {
   "cell_type": "code",
   "execution_count": 61,
   "metadata": {},
   "outputs": [],
   "source": [
    "import pandas as pd"
   ]
  },
  {
   "cell_type": "code",
   "execution_count": 64,
   "metadata": {},
   "outputs": [
    {
     "data": {
      "text/plain": [
       "2686699"
      ]
     },
     "execution_count": 64,
     "metadata": {},
     "output_type": "execute_result"
    }
   ],
   "source": [
    "(pd.Series(labels_lines) == '1').sum()"
   ]
  },
  {
   "cell_type": "code",
   "execution_count": null,
   "metadata": {},
   "outputs": [],
   "source": []
  },
  {
   "cell_type": "code",
   "execution_count": null,
   "metadata": {},
   "outputs": [],
   "source": []
  },
  {
   "cell_type": "code",
   "execution_count": null,
   "metadata": {},
   "outputs": [],
   "source": []
  },
  {
   "cell_type": "code",
   "execution_count": 40,
   "metadata": {},
   "outputs": [
    {
     "name": "stdout",
     "output_type": "stream",
     "text": [
      "europarl-v6\n",
      "356460\n",
      "356460\n",
      "356460\n",
      "news.2011\n",
      "379556\n",
      "379556\n",
      "379556\n",
      "news_2007_v1\n",
      "397294\n",
      "397294\n",
      "397294\n",
      "news_2008_v1\n",
      "676548\n",
      "676548\n",
      "676548\n",
      "news_2010_v1\n",
      "1189608\n",
      "1189608\n",
      "1189608\n"
     ]
    }
   ],
   "source": [
    "source_lines = []\n",
    "target_lines = []\n",
    "labels_lines = []\n",
    "\n",
    "for name in to_pred:#\n",
    "    print(name)\n",
    "    source = read_lines(path_to_predict+name)\n",
    "    source_lines.extend(source)\n",
    "    print(len(source))\n",
    "    if name=='news.2011':\n",
    "        name = 'news_2011_v1'\n",
    "        \n",
    "    target = read_lines(path+\"new_1bw_\"+name)\n",
    "    target_lines.extend(target[:-1])\n",
    "    print(len(target[:-1]))\n",
    "    labels = read_lines(path+\"new_1bw_\"+name+\".check_correction\")\n",
    "    labels_lines.extend(labels[:-1])\n",
    "    print(len(labels[:-1]))\n",
    "    \n",
    "    "
   ]
  },
  {
   "cell_type": "code",
   "execution_count": 41,
   "metadata": {},
   "outputs": [
    {
     "data": {
      "text/plain": [
       "'A growing group of senior lawyers and clients is less sanguine .'"
      ]
     },
     "execution_count": 41,
     "metadata": {},
     "output_type": "execute_result"
    }
   ],
   "source": [
    "source_lines[-1]"
   ]
  },
  {
   "cell_type": "code",
   "execution_count": 42,
   "metadata": {},
   "outputs": [
    {
     "data": {
      "text/plain": [
       "'A growing group of senior lawyers and clients is less sanguine .'"
      ]
     },
     "execution_count": 42,
     "metadata": {},
     "output_type": "execute_result"
    }
   ],
   "source": [
    "target_lines[-1]"
   ]
  },
  {
   "cell_type": "code",
   "execution_count": 18,
   "metadata": {},
   "outputs": [],
   "source": [
    "ser_labels_lines = pd.Series(labels_lines)\n",
    "ser_source_lines = pd.Series(source_lines)\n",
    "ser_target_lines = pd.Series(target_lines)"
   ]
  },
  {
   "cell_type": "code",
   "execution_count": 19,
   "metadata": {},
   "outputs": [],
   "source": [
    "good = ser_labels_lines == '1'\n",
    "\n",
    "good_source = ser_source_lines[good]\n",
    "good_target = ser_target_lines[good]"
   ]
  },
  {
   "cell_type": "code",
   "execution_count": 22,
   "metadata": {},
   "outputs": [
    {
     "data": {
      "text/plain": [
       "'Madam President , I would firstly like to compliment you on the fact that you have kept your word and that , during this first part - session of the new year , the number of television channels in our offices has indeed increased considerably .'"
      ]
     },
     "execution_count": 22,
     "metadata": {},
     "output_type": "execute_result"
    }
   ],
   "source": [
    "good_source[5]"
   ]
  },
  {
   "cell_type": "code",
   "execution_count": 23,
   "metadata": {},
   "outputs": [
    {
     "data": {
      "text/plain": [
       "'Madam President , I would firstly like to compliment you on the fact that you have kept your word and that , during this first part session of the new year , the number of television channels in our offices has indeed increased considerably .'"
      ]
     },
     "execution_count": 23,
     "metadata": {},
     "output_type": "execute_result"
    }
   ],
   "source": [
    "good_target[5]"
   ]
  },
  {
   "cell_type": "code",
   "execution_count": 112,
   "metadata": {},
   "outputs": [],
   "source": []
  },
  {
   "cell_type": "code",
   "execution_count": 113,
   "metadata": {},
   "outputs": [],
   "source": [
    "# ser = pd.Series(source_lines)\n",
    "# cur_text = \"\"\n",
    "# add_text = '\\xa0'\n",
    "# for i in range(12):\n",
    "#     cur_text += add_text\n",
    "#     ser = ser[ser != cur_text]"
   ]
  },
  {
   "cell_type": "code",
   "execution_count": 132,
   "metadata": {
    "scrolled": true
   },
   "outputs": [],
   "source": [
    "# j=0\n",
    "# k=0\n",
    "# for i in range(len(source_lines)):\n",
    "#     if ser_values[i][:10] != target_lines[i][:10]:\n",
    "#         if j == i-1:\n",
    "#             k+=1\n",
    "#         else:\n",
    "#             k=0\n",
    "#         j=i\n",
    "#         if k>10:\n",
    "#             break\n",
    "            \n",
    "#         print(\"##########\")\n",
    "#         print(i)\n",
    "#         print()\n",
    "#         print(source_lines[i])\n",
    "#         print()\n",
    "#         print(target_lines[i])\n",
    "#         print()\n",
    "#         print()\n",
    "#         print()"
   ]
  },
  {
   "cell_type": "code",
   "execution_count": null,
   "metadata": {},
   "outputs": [],
   "source": []
  },
  {
   "cell_type": "code",
   "execution_count": 18,
   "metadata": {},
   "outputs": [],
   "source": [
    "path = \"../data_to_predict/1bw/\""
   ]
  },
  {
   "cell_type": "code",
   "execution_count": 9,
   "metadata": {},
   "outputs": [],
   "source": [
    "path = \"../data_parallel/1_billion_words/\""
   ]
  },
  {
   "cell_type": "code",
   "execution_count": 19,
   "metadata": {},
   "outputs": [],
   "source": [
    "all_files = os.listdir(path)"
   ]
  },
  {
   "cell_type": "code",
   "execution_count": 20,
   "metadata": {},
   "outputs": [
    {
     "data": {
      "text/plain": [
       "['news_2010_v1_log',\n",
       " 'news-commentary-v6',\n",
       " 'news_2007_v1',\n",
       " 'europarl-v6_log',\n",
       " 'news.2011',\n",
       " 'news.2011_log',\n",
       " 'europarl-v6',\n",
       " 'news_2008_v1',\n",
       " 'news_2008_v1_log',\n",
       " 'news-commentary-v6_log',\n",
       " 'news_2010_v1',\n",
       " 'news_2007_v1_log']"
      ]
     },
     "execution_count": 20,
     "metadata": {},
     "output_type": "execute_result"
    }
   ],
   "source": [
    "all_files"
   ]
  },
  {
   "cell_type": "code",
   "execution_count": 12,
   "metadata": {},
   "outputs": [],
   "source": [
    "target_files = sorted([file for file in all_files if '_target' in file])\n",
    "source_files = sorted([file for file in all_files if '_source' in file])"
   ]
  },
  {
   "cell_type": "code",
   "execution_count": 13,
   "metadata": {},
   "outputs": [
    {
     "data": {
      "text/plain": [
       "['europarl-v6_target',\n",
       " 'news-commentary-v6_target',\n",
       " 'news.2011_target',\n",
       " 'news_2007_v1_target',\n",
       " 'news_2008_v1_target',\n",
       " 'news_2010_v1_target',\n",
       " 'test_target',\n",
       " 'train_target']"
      ]
     },
     "execution_count": 13,
     "metadata": {},
     "output_type": "execute_result"
    }
   ],
   "source": [
    "target_files "
   ]
  },
  {
   "cell_type": "code",
   "execution_count": 17,
   "metadata": {},
   "outputs": [
    {
     "data": {
      "text/plain": [
       "['adslk']"
      ]
     },
     "execution_count": 17,
     "metadata": {},
     "output_type": "execute_result"
    }
   ],
   "source": [
    "[sen for sen in [' ', 'adslk'] if len(sen) > 2]"
   ]
  },
  {
   "cell_type": "code",
   "execution_count": 14,
   "metadata": {},
   "outputs": [
    {
     "data": {
      "text/plain": [
       "['europarl-v6_source',\n",
       " 'news-commentary-v6_source',\n",
       " 'news.2011_source',\n",
       " 'news_2007_v1_source',\n",
       " 'news_2008_v1_source',\n",
       " 'news_2010_v1_source',\n",
       " 'test_source',\n",
       " 'train_source']"
      ]
     },
     "execution_count": 14,
     "metadata": {},
     "output_type": "execute_result"
    }
   ],
   "source": [
    "source_files"
   ]
  },
  {
   "cell_type": "code",
   "execution_count": 19,
   "metadata": {},
   "outputs": [],
   "source": [
    "from tqdm.auto import tqdm"
   ]
  },
  {
   "cell_type": "code",
   "execution_count": 21,
   "metadata": {},
   "outputs": [],
   "source": [
    "with open(path+\"news-commentary-v6\", 'r') as f:\n",
    "    text = f.read()\n",
    "lines = text.split(\"\\n\")"
   ]
  },
  {
   "cell_type": "code",
   "execution_count": 22,
   "metadata": {},
   "outputs": [
    {
     "data": {
      "text/plain": [
       "108173"
      ]
     },
     "execution_count": 22,
     "metadata": {},
     "output_type": "execute_result"
    }
   ],
   "source": [
    "len(lines)"
   ]
  },
  {
   "cell_type": "code",
   "execution_count": 20,
   "metadata": {},
   "outputs": [
    {
     "name": "stdout",
     "output_type": "stream",
     "text": [
      "europarl-v6_source 358853\n",
      "news-commentary-v6_source 20210\n",
      "news.2011_source 359421\n",
      "news_2007_v1_source 378477\n",
      "news_2008_v1_source 637965\n",
      "news_2010_v1_source 1140233\n"
     ]
    }
   ],
   "source": [
    "source_lines = []\n",
    "for name in source_files:\n",
    "    with open(path+name, 'r') as f:\n",
    "        text = f.read()\n",
    "    lines = text.split(\"\\n\")\n",
    "    print(name, len(lines))\n",
    "    source_lines.extend(lines)"
   ]
  },
  {
   "cell_type": "code",
   "execution_count": 22,
   "metadata": {},
   "outputs": [
    {
     "data": {
      "text/plain": [
       "2895159"
      ]
     },
     "execution_count": 22,
     "metadata": {},
     "output_type": "execute_result"
    }
   ],
   "source": [
    "len(source_lines)"
   ]
  },
  {
   "cell_type": "code",
   "execution_count": 23,
   "metadata": {},
   "outputs": [
    {
     "name": "stdout",
     "output_type": "stream",
     "text": [
      "europarl-v6_target 358853\n",
      "news-commentary-v6_target 20210\n",
      "news.2011_target 359421\n",
      "news_2007_v1_target 378477\n",
      "news_2008_v1_target 637965\n",
      "news_2010_v1_target 1140233\n"
     ]
    }
   ],
   "source": [
    "target_lines = []\n",
    "for name in target_files:\n",
    "    with open(path+name, 'r') as f:\n",
    "        text = f.read()\n",
    "    lines = text.split(\"\\n\")\n",
    "    print(name, len(lines))\n",
    "    target_lines.extend(lines)"
   ]
  },
  {
   "cell_type": "code",
   "execution_count": 24,
   "metadata": {},
   "outputs": [
    {
     "data": {
      "text/plain": [
       "2895159"
      ]
     },
     "execution_count": 24,
     "metadata": {},
     "output_type": "execute_result"
    }
   ],
   "source": [
    "len(target_lines)"
   ]
  },
  {
   "cell_type": "code",
   "execution_count": 56,
   "metadata": {},
   "outputs": [
    {
     "data": {
      "text/plain": [
       "'In the Conference of Presidents, we had an in-depth discussion.'"
      ]
     },
     "execution_count": 56,
     "metadata": {},
     "output_type": "execute_result"
    }
   ],
   "source": [
    "source_lines[16]"
   ]
  },
  {
   "cell_type": "code",
   "execution_count": 57,
   "metadata": {},
   "outputs": [
    {
     "data": {
      "text/plain": [
       "'At the Conference of Presidents, we had an in-depth discussion.'"
      ]
     },
     "execution_count": 57,
     "metadata": {},
     "output_type": "execute_result"
    }
   ],
   "source": [
    "target_lines[16]"
   ]
  },
  {
   "cell_type": "code",
   "execution_count": null,
   "metadata": {},
   "outputs": [],
   "source": []
  },
  {
   "cell_type": "code",
   "execution_count": null,
   "metadata": {},
   "outputs": [],
   "source": [
    "good_source"
   ]
  },
  {
   "cell_type": "code",
   "execution_count": 24,
   "metadata": {},
   "outputs": [],
   "source": [
    "source_lines = good_source.values\n",
    "target_lines = good_target.values"
   ]
  },
  {
   "cell_type": "code",
   "execution_count": 25,
   "metadata": {},
   "outputs": [
    {
     "data": {
      "text/plain": [
       "1196622"
      ]
     },
     "execution_count": 25,
     "metadata": {},
     "output_type": "execute_result"
    }
   ],
   "source": [
    "len(source_lines)"
   ]
  },
  {
   "cell_type": "code",
   "execution_count": 26,
   "metadata": {},
   "outputs": [],
   "source": [
    "from sklearn.model_selection import train_test_split"
   ]
  },
  {
   "cell_type": "code",
   "execution_count": 27,
   "metadata": {},
   "outputs": [],
   "source": [
    "corr_train, corr_test, incorr_train, incorr_test = train_test_split(target_lines, source_lines, test_size=0.02, random_state=4)"
   ]
  },
  {
   "cell_type": "code",
   "execution_count": 28,
   "metadata": {},
   "outputs": [
    {
     "data": {
      "text/plain": [
       "1172689"
      ]
     },
     "execution_count": 28,
     "metadata": {},
     "output_type": "execute_result"
    }
   ],
   "source": [
    "len(corr_train)"
   ]
  },
  {
   "cell_type": "code",
   "execution_count": 30,
   "metadata": {},
   "outputs": [
    {
     "data": {
      "text/plain": [
       "23933"
      ]
     },
     "execution_count": 30,
     "metadata": {},
     "output_type": "execute_result"
    }
   ],
   "source": [
    "len(corr_test)"
   ]
  },
  {
   "cell_type": "code",
   "execution_count": 45,
   "metadata": {},
   "outputs": [],
   "source": [
    "path = \"../data_parallel/new_1bw/\""
   ]
  },
  {
   "cell_type": "code",
   "execution_count": 47,
   "metadata": {},
   "outputs": [],
   "source": [
    "write_lines(path+\"train_target\", corr_train, mode='w')\n",
    "write_lines(path+\"train_source\", incorr_train, mode='w')\n",
    "write_lines(path+\"test_source\", incorr_test, mode='w')\n",
    "write_lines(path+\"test_target\", corr_test, mode='w')"
   ]
  }
 ],
 "metadata": {
  "kernelspec": {
   "display_name": "Python 3",
   "language": "python",
   "name": "python3"
  },
  "language_info": {
   "codemirror_mode": {
    "name": "ipython",
    "version": 3
   },
   "file_extension": ".py",
   "mimetype": "text/x-python",
   "name": "python",
   "nbconvert_exporter": "python",
   "pygments_lexer": "ipython3",
   "version": "3.8.5"
  }
 },
 "nbformat": 4,
 "nbformat_minor": 4
}
