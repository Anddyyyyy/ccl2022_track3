{
 "cells": [
  {
   "cell_type": "code",
   "execution_count": 1,
   "metadata": {},
   "outputs": [],
   "source": [
    "import os\n",
    "import numpy as np\n",
    "import pandas as pd"
   ]
  },
  {
   "cell_type": "code",
   "execution_count": 3,
   "metadata": {},
   "outputs": [
    {
     "data": {
      "text/plain": [
       "['news.2008.en.shuffled',\n",
       " 'news.2009.en.shuffled',\n",
       " 'news.2007.en.shuffled',\n",
       " 'news.2011.en.shuffled',\n",
       " '.ipynb_checkpoints',\n",
       " 'europarl-v6.en',\n",
       " 'news-commentary-v6.en',\n",
       " 'news.2010.en.shuffled',\n",
       " 'review_texts.txt']"
      ]
     },
     "execution_count": 3,
     "metadata": {},
     "output_type": "execute_result"
    }
   ],
   "source": [
    "os.listdir(\"../../data_to_predict/amazon\")"
   ]
  },
  {
   "cell_type": "code",
   "execution_count": 5,
   "metadata": {},
   "outputs": [
    {
     "data": {
      "text/plain": [
       "['blogs_v2.log',\n",
       " 'test_source',\n",
       " 'blogs_v2',\n",
       " 'ABCN.test.bea19.orig.log',\n",
       " 'blogs_v1.log',\n",
       " 'old_v2',\n",
       " 'amazon_v1.log',\n",
       " 'new_1bw_europarl-v6.log',\n",
       " 'amazon_v1',\n",
       " 'new_1bw_news_2008_v1.log',\n",
       " 'new_1bw_news_2011_v1.check_correction',\n",
       " 'new_1bw_news_2007_v1.check_correction',\n",
       " 'blogs_v1',\n",
       " 'train_target',\n",
       " 'ABCN.test.bea19.orig',\n",
       " 'blogs_v2.check_correction',\n",
       " 'new_1bw_news_2011_v1.log',\n",
       " 'old_data_predicted',\n",
       " 'new_1bw_news_2010_v1',\n",
       " 'new_1bw_news_2007_v1.log',\n",
       " 'blogs_v1.check_correction',\n",
       " 'amazon_v1.check_correction',\n",
       " 'new_1bw_news_2010_v1.check_correction',\n",
       " 'new_1bw_news_2010_v1.log',\n",
       " '.ipynb_checkpoints',\n",
       " 'new_1bw_europarl-v6',\n",
       " 'ABCN.test.bea19.orig.check_correction',\n",
       " 'train_source',\n",
       " 'new_1bw_europarl-v6.check_correction',\n",
       " 'test_target',\n",
       " 'new_1bw_news_2011_v1',\n",
       " 'pred_conll14_ens_v1',\n",
       " 'new_1bw_news_2008_v1.check_correction',\n",
       " 'new_1bw_news_2007_v1',\n",
       " 'new_1bw_news_2008_v1']"
      ]
     },
     "execution_count": 5,
     "metadata": {},
     "output_type": "execute_result"
    }
   ],
   "source": [
    "os.listdir(\"../../data_predicted/\")"
   ]
  },
  {
   "cell_type": "code",
   "execution_count": 4,
   "metadata": {},
   "outputs": [],
   "source": [
    "def read_lines(fn):\n",
    "    if not os.path.exists(fn):\n",
    "        return []\n",
    "    with open(fn, 'r', encoding='utf-8') as f:\n",
    "        text = f.read()\n",
    "    lines = text.split(\"\\n\")\n",
    "    if lines[-1] == '':\n",
    "        return lines[:-1]\n",
    "    else:\n",
    "        return lines\n",
    "\n",
    "def write_lines(fn, lines, mode='w'):\n",
    "    text_to_write = \"\\n\".join(lines)\n",
    "    with open(fn, encoding='utf-8', mode=mode) as f:\n",
    "        f.write(text_to_write)"
   ]
  },
  {
   "cell_type": "code",
   "execution_count": 33,
   "metadata": {},
   "outputs": [],
   "source": [
    "path = \"../../data_predicted/\"\n",
    "amazon_v1 = read_lines(path+\"amazon_v1\")\n",
    "amazon_v1_cor = read_lines(path+\"amazon_v1.check_correction\")"
   ]
  },
  {
   "cell_type": "code",
   "execution_count": 34,
   "metadata": {},
   "outputs": [],
   "source": [
    "path_src = \"../../data_to_predict/amazon/\"\n",
    "src_amazon_v1 = read_lines(path_src+\"review_texts.txt\")"
   ]
  },
  {
   "cell_type": "code",
   "execution_count": 35,
   "metadata": {},
   "outputs": [
    {
     "data": {
      "text/plain": [
       "5194624"
      ]
     },
     "execution_count": 35,
     "metadata": {},
     "output_type": "execute_result"
    }
   ],
   "source": [
    "len(amazon_v1)"
   ]
  },
  {
   "cell_type": "code",
   "execution_count": 36,
   "metadata": {},
   "outputs": [
    {
     "data": {
      "text/plain": [
       "5194624"
      ]
     },
     "execution_count": 36,
     "metadata": {},
     "output_type": "execute_result"
    }
   ],
   "source": [
    "len(amazon_v1_cor)"
   ]
  },
  {
   "cell_type": "code",
   "execution_count": 37,
   "metadata": {},
   "outputs": [],
   "source": [
    "src_amazon_v1 = src_amazon_v1[:len(amazon_v1)]"
   ]
  },
  {
   "cell_type": "code",
   "execution_count": 38,
   "metadata": {},
   "outputs": [],
   "source": [
    "text_src = []\n",
    "text_src.extend(src_amazon_v1)\n",
    "\n",
    "text_tgt = []\n",
    "text_tgt.extend(amazon_v1)\n",
    "\n",
    "cor = []\n",
    "cor.extend(amazon_v1_cor)"
   ]
  },
  {
   "cell_type": "code",
   "execution_count": 39,
   "metadata": {},
   "outputs": [],
   "source": [
    "df = pd.DataFrame({\"text_src\": text_src, \"text_tgt\": text_tgt, \"cor\":cor})"
   ]
  },
  {
   "cell_type": "code",
   "execution_count": 40,
   "metadata": {},
   "outputs": [
    {
     "data": {
      "text/html": [
       "<div>\n",
       "<style scoped>\n",
       "    .dataframe tbody tr th:only-of-type {\n",
       "        vertical-align: middle;\n",
       "    }\n",
       "\n",
       "    .dataframe tbody tr th {\n",
       "        vertical-align: top;\n",
       "    }\n",
       "\n",
       "    .dataframe thead th {\n",
       "        text-align: right;\n",
       "    }\n",
       "</style>\n",
       "<table border=\"1\" class=\"dataframe\">\n",
       "  <thead>\n",
       "    <tr style=\"text-align: right;\">\n",
       "      <th></th>\n",
       "      <th>text_src</th>\n",
       "      <th>text_tgt</th>\n",
       "      <th>cor</th>\n",
       "    </tr>\n",
       "  </thead>\n",
       "  <tbody>\n",
       "    <tr>\n",
       "      <th>0</th>\n",
       "      <td>This book has beautiful photos , good and unde...</td>\n",
       "      <td>This book has beautiful photos , good and unde...</td>\n",
       "      <td>0</td>\n",
       "    </tr>\n",
       "    <tr>\n",
       "      <th>1</th>\n",
       "      <td>Wire working and metalsmithing jewelry are cov...</td>\n",
       "      <td>Wire working and metalsmithing jewelry are cov...</td>\n",
       "      <td>0</td>\n",
       "    </tr>\n",
       "    <tr>\n",
       "      <th>2</th>\n",
       "      <td>Highly recommend this book .</td>\n",
       "      <td>I highly recommend this book .</td>\n",
       "      <td>1</td>\n",
       "    </tr>\n",
       "    <tr>\n",
       "      <th>3</th>\n",
       "      <td>Loved their approach in this book and that it ...</td>\n",
       "      <td>Loved their approach in this book and that it ...</td>\n",
       "      <td>0</td>\n",
       "    </tr>\n",
       "    <tr>\n",
       "      <th>4</th>\n",
       "      <td>Easy to use and inspiring me to use up my beac...</td>\n",
       "      <td>It is easy to use and inspires me to use up my...</td>\n",
       "      <td>1</td>\n",
       "    </tr>\n",
       "    <tr>\n",
       "      <th>5</th>\n",
       "      <td>Always love the way Eva thinks , and there are...</td>\n",
       "      <td>I always love the way Eva thinks , and there a...</td>\n",
       "      <td>1</td>\n",
       "    </tr>\n",
       "    <tr>\n",
       "      <th>6</th>\n",
       "      <td>Easy to advanced for all .</td>\n",
       "      <td>Easy to advanced for all .</td>\n",
       "      <td>0</td>\n",
       "    </tr>\n",
       "    <tr>\n",
       "      <th>7</th>\n",
       "      <td>Fast shipping .</td>\n",
       "      <td>Fast shipping .</td>\n",
       "      <td>0</td>\n",
       "    </tr>\n",
       "    <tr>\n",
       "      <th>8</th>\n",
       "      <td>Nice patterns</td>\n",
       "      <td>Nice patterns</td>\n",
       "      <td>0</td>\n",
       "    </tr>\n",
       "    <tr>\n",
       "      <th>9</th>\n",
       "      <td>love the spirit of the book and some of the pr...</td>\n",
       "      <td>love the spirit of the book and some of the pr...</td>\n",
       "      <td>0</td>\n",
       "    </tr>\n",
       "  </tbody>\n",
       "</table>\n",
       "</div>"
      ],
      "text/plain": [
       "                                            text_src  \\\n",
       "0  This book has beautiful photos , good and unde...   \n",
       "1  Wire working and metalsmithing jewelry are cov...   \n",
       "2                       Highly recommend this book .   \n",
       "3  Loved their approach in this book and that it ...   \n",
       "4  Easy to use and inspiring me to use up my beac...   \n",
       "5  Always love the way Eva thinks , and there are...   \n",
       "6                         Easy to advanced for all .   \n",
       "7                                    Fast shipping .   \n",
       "8                                      Nice patterns   \n",
       "9  love the spirit of the book and some of the pr...   \n",
       "\n",
       "                                            text_tgt cor  \n",
       "0  This book has beautiful photos , good and unde...   0  \n",
       "1  Wire working and metalsmithing jewelry are cov...   0  \n",
       "2                     I highly recommend this book .   1  \n",
       "3  Loved their approach in this book and that it ...   0  \n",
       "4  It is easy to use and inspires me to use up my...   1  \n",
       "5  I always love the way Eva thinks , and there a...   1  \n",
       "6                         Easy to advanced for all .   0  \n",
       "7                                    Fast shipping .   0  \n",
       "8                                      Nice patterns   0  \n",
       "9  love the spirit of the book and some of the pr...   0  "
      ]
     },
     "execution_count": 40,
     "metadata": {},
     "output_type": "execute_result"
    }
   ],
   "source": [
    "df.head(10)"
   ]
  },
  {
   "cell_type": "code",
   "execution_count": 41,
   "metadata": {},
   "outputs": [],
   "source": [
    "df['cor'] = df['cor'].astype(int)"
   ]
  },
  {
   "cell_type": "code",
   "execution_count": 42,
   "metadata": {},
   "outputs": [
    {
     "data": {
      "text/html": [
       "<div>\n",
       "<style scoped>\n",
       "    .dataframe tbody tr th:only-of-type {\n",
       "        vertical-align: middle;\n",
       "    }\n",
       "\n",
       "    .dataframe tbody tr th {\n",
       "        vertical-align: top;\n",
       "    }\n",
       "\n",
       "    .dataframe thead th {\n",
       "        text-align: right;\n",
       "    }\n",
       "</style>\n",
       "<table border=\"1\" class=\"dataframe\">\n",
       "  <thead>\n",
       "    <tr style=\"text-align: right;\">\n",
       "      <th></th>\n",
       "      <th>text_src</th>\n",
       "      <th>text_tgt</th>\n",
       "      <th>cor</th>\n",
       "    </tr>\n",
       "  </thead>\n",
       "  <tbody>\n",
       "    <tr>\n",
       "      <th>2</th>\n",
       "      <td>Highly recommend this book .</td>\n",
       "      <td>I highly recommend this book .</td>\n",
       "      <td>1</td>\n",
       "    </tr>\n",
       "    <tr>\n",
       "      <th>4</th>\n",
       "      <td>Easy to use and inspiring me to use up my beac...</td>\n",
       "      <td>It is easy to use and inspires me to use up my...</td>\n",
       "      <td>1</td>\n",
       "    </tr>\n",
       "    <tr>\n",
       "      <th>5</th>\n",
       "      <td>Always love the way Eva thinks , and there are...</td>\n",
       "      <td>I always love the way Eva thinks , and there a...</td>\n",
       "      <td>1</td>\n",
       "    </tr>\n",
       "    <tr>\n",
       "      <th>16</th>\n",
       "      <td>Hi , have been making jewelry now for the last...</td>\n",
       "      <td>Hi , I have been making jewelry for the last 5...</td>\n",
       "      <td>1</td>\n",
       "    </tr>\n",
       "    <tr>\n",
       "      <th>22</th>\n",
       "      <td>I 've been fortunate to have taken classes wit...</td>\n",
       "      <td>I 've been fortunate to have taken classes wit...</td>\n",
       "      <td>1</td>\n",
       "    </tr>\n",
       "  </tbody>\n",
       "</table>\n",
       "</div>"
      ],
      "text/plain": [
       "                                             text_src  \\\n",
       "2                        Highly recommend this book .   \n",
       "4   Easy to use and inspiring me to use up my beac...   \n",
       "5   Always love the way Eva thinks , and there are...   \n",
       "16  Hi , have been making jewelry now for the last...   \n",
       "22  I 've been fortunate to have taken classes wit...   \n",
       "\n",
       "                                             text_tgt  cor  \n",
       "2                      I highly recommend this book .    1  \n",
       "4   It is easy to use and inspires me to use up my...    1  \n",
       "5   I always love the way Eva thinks , and there a...    1  \n",
       "16  Hi , I have been making jewelry for the last 5...    1  \n",
       "22  I 've been fortunate to have taken classes wit...    1  "
      ]
     },
     "execution_count": 42,
     "metadata": {},
     "output_type": "execute_result"
    }
   ],
   "source": [
    "cor_df = df[df['cor']==1]\n",
    "cor_df.head()"
   ]
  },
  {
   "cell_type": "code",
   "execution_count": 43,
   "metadata": {},
   "outputs": [
    {
     "data": {
      "text/plain": [
       "1457901"
      ]
     },
     "execution_count": 43,
     "metadata": {},
     "output_type": "execute_result"
    }
   ],
   "source": [
    "len(cor_df)"
   ]
  },
  {
   "cell_type": "code",
   "execution_count": 44,
   "metadata": {},
   "outputs": [
    {
     "name": "stderr",
     "output_type": "stream",
     "text": [
      "<ipython-input-44-c86232a09d6d>:1: SettingWithCopyWarning: \n",
      "A value is trying to be set on a copy of a slice from a DataFrame.\n",
      "Try using .loc[row_indexer,col_indexer] = value instead\n",
      "\n",
      "See the caveats in the documentation: https://pandas.pydata.org/pandas-docs/stable/user_guide/indexing.html#returning-a-view-versus-a-copy\n",
      "  cor_df['good'] = (cor_df['text_src'].str.len() <= 160).astype(int)\n"
     ]
    }
   ],
   "source": [
    "cor_df['good'] = (cor_df['text_src'].str.len() <= 160).astype(int)"
   ]
  },
  {
   "cell_type": "code",
   "execution_count": 45,
   "metadata": {},
   "outputs": [
    {
     "data": {
      "text/plain": [
       "0.9408354888294884"
      ]
     },
     "execution_count": 45,
     "metadata": {},
     "output_type": "execute_result"
    }
   ],
   "source": [
    "cor_df['good'].mean()"
   ]
  },
  {
   "cell_type": "code",
   "execution_count": 46,
   "metadata": {},
   "outputs": [],
   "source": [
    "good_df = cor_df[cor_df['good'] == 1]"
   ]
  },
  {
   "cell_type": "code",
   "execution_count": 47,
   "metadata": {},
   "outputs": [
    {
     "data": {
      "text/plain": [
       "1371645"
      ]
     },
     "execution_count": 47,
     "metadata": {},
     "output_type": "execute_result"
    }
   ],
   "source": [
    "len(good_df)"
   ]
  },
  {
   "cell_type": "code",
   "execution_count": 48,
   "metadata": {},
   "outputs": [
    {
     "name": "stderr",
     "output_type": "stream",
     "text": [
      "<ipython-input-48-ac0626d65af7>:1: SettingWithCopyWarning: \n",
      "A value is trying to be set on a copy of a slice from a DataFrame.\n",
      "Try using .loc[row_indexer,col_indexer] = value instead\n",
      "\n",
      "See the caveats in the documentation: https://pandas.pydata.org/pandas-docs/stable/user_guide/indexing.html#returning-a-view-versus-a-copy\n",
      "  good_df['first_upper'] = good_df['text_tgt'].apply(lambda x: x[0] == x[0].upper())\n"
     ]
    }
   ],
   "source": [
    "good_df['first_upper'] = good_df['text_tgt'].apply(lambda x: x[0] == x[0].upper())"
   ]
  },
  {
   "cell_type": "code",
   "execution_count": 49,
   "metadata": {},
   "outputs": [],
   "source": [
    "best_df = good_df[good_df['first_upper'] == 1]"
   ]
  },
  {
   "cell_type": "code",
   "execution_count": 50,
   "metadata": {},
   "outputs": [
    {
     "data": {
      "text/html": [
       "<div>\n",
       "<style scoped>\n",
       "    .dataframe tbody tr th:only-of-type {\n",
       "        vertical-align: middle;\n",
       "    }\n",
       "\n",
       "    .dataframe tbody tr th {\n",
       "        vertical-align: top;\n",
       "    }\n",
       "\n",
       "    .dataframe thead th {\n",
       "        text-align: right;\n",
       "    }\n",
       "</style>\n",
       "<table border=\"1\" class=\"dataframe\">\n",
       "  <thead>\n",
       "    <tr style=\"text-align: right;\">\n",
       "      <th></th>\n",
       "      <th>text_src</th>\n",
       "      <th>text_tgt</th>\n",
       "      <th>cor</th>\n",
       "      <th>good</th>\n",
       "      <th>first_upper</th>\n",
       "    </tr>\n",
       "  </thead>\n",
       "  <tbody>\n",
       "    <tr>\n",
       "      <th>2</th>\n",
       "      <td>Highly recommend this book .</td>\n",
       "      <td>I highly recommend this book .</td>\n",
       "      <td>1</td>\n",
       "      <td>1</td>\n",
       "      <td>True</td>\n",
       "    </tr>\n",
       "    <tr>\n",
       "      <th>4</th>\n",
       "      <td>Easy to use and inspiring me to use up my beac...</td>\n",
       "      <td>It is easy to use and inspires me to use up my...</td>\n",
       "      <td>1</td>\n",
       "      <td>1</td>\n",
       "      <td>True</td>\n",
       "    </tr>\n",
       "    <tr>\n",
       "      <th>5</th>\n",
       "      <td>Always love the way Eva thinks , and there are...</td>\n",
       "      <td>I always love the way Eva thinks , and there a...</td>\n",
       "      <td>1</td>\n",
       "      <td>1</td>\n",
       "      <td>True</td>\n",
       "    </tr>\n",
       "    <tr>\n",
       "      <th>16</th>\n",
       "      <td>Hi , have been making jewelry now for the last...</td>\n",
       "      <td>Hi , I have been making jewelry for the last 5...</td>\n",
       "      <td>1</td>\n",
       "      <td>1</td>\n",
       "      <td>True</td>\n",
       "    </tr>\n",
       "    <tr>\n",
       "      <th>22</th>\n",
       "      <td>I 've been fortunate to have taken classes wit...</td>\n",
       "      <td>I 've been fortunate to have taken classes wit...</td>\n",
       "      <td>1</td>\n",
       "      <td>1</td>\n",
       "      <td>True</td>\n",
       "    </tr>\n",
       "    <tr>\n",
       "      <th>...</th>\n",
       "      <td>...</td>\n",
       "      <td>...</td>\n",
       "      <td>...</td>\n",
       "      <td>...</td>\n",
       "      <td>...</td>\n",
       "    </tr>\n",
       "    <tr>\n",
       "      <th>5194600</th>\n",
       "      <td>They are a little stiff , but since they 're n...</td>\n",
       "      <td>They are a little stiff , but since they 're n...</td>\n",
       "      <td>1</td>\n",
       "      <td>1</td>\n",
       "      <td>True</td>\n",
       "    </tr>\n",
       "    <tr>\n",
       "      <th>5194601</th>\n",
       "      <td>Wish they came in more colors , but the colors...</td>\n",
       "      <td>I wish they came in more colors , but the colo...</td>\n",
       "      <td>1</td>\n",
       "      <td>1</td>\n",
       "      <td>True</td>\n",
       "    </tr>\n",
       "    <tr>\n",
       "      <th>5194611</th>\n",
       "      <td>A little larger than i expected but oh well .</td>\n",
       "      <td>A little larger than I expected , but oh well .</td>\n",
       "      <td>1</td>\n",
       "      <td>1</td>\n",
       "      <td>True</td>\n",
       "    </tr>\n",
       "    <tr>\n",
       "      <th>5194612</th>\n",
       "      <td>Overall happy with the purchase and purchased ...</td>\n",
       "      <td>Overall , I was happy with the purchase and pu...</td>\n",
       "      <td>1</td>\n",
       "      <td>1</td>\n",
       "      <td>True</td>\n",
       "    </tr>\n",
       "    <tr>\n",
       "      <th>5194623</th>\n",
       "      <td>Loved the fit exactly what I wanted</td>\n",
       "      <td>Loved the fit exactly what I wanted .</td>\n",
       "      <td>1</td>\n",
       "      <td>1</td>\n",
       "      <td>True</td>\n",
       "    </tr>\n",
       "  </tbody>\n",
       "</table>\n",
       "<p>1217843 rows × 5 columns</p>\n",
       "</div>"
      ],
      "text/plain": [
       "                                                  text_src  \\\n",
       "2                             Highly recommend this book .   \n",
       "4        Easy to use and inspiring me to use up my beac...   \n",
       "5        Always love the way Eva thinks , and there are...   \n",
       "16       Hi , have been making jewelry now for the last...   \n",
       "22       I 've been fortunate to have taken classes wit...   \n",
       "...                                                    ...   \n",
       "5194600  They are a little stiff , but since they 're n...   \n",
       "5194601  Wish they came in more colors , but the colors...   \n",
       "5194611      A little larger than i expected but oh well .   \n",
       "5194612  Overall happy with the purchase and purchased ...   \n",
       "5194623                Loved the fit exactly what I wanted   \n",
       "\n",
       "                                                  text_tgt  cor  good  \\\n",
       "2                           I highly recommend this book .    1     1   \n",
       "4        It is easy to use and inspires me to use up my...    1     1   \n",
       "5        I always love the way Eva thinks , and there a...    1     1   \n",
       "16       Hi , I have been making jewelry for the last 5...    1     1   \n",
       "22       I 've been fortunate to have taken classes wit...    1     1   \n",
       "...                                                    ...  ...   ...   \n",
       "5194600  They are a little stiff , but since they 're n...    1     1   \n",
       "5194601  I wish they came in more colors , but the colo...    1     1   \n",
       "5194611    A little larger than I expected , but oh well .    1     1   \n",
       "5194612  Overall , I was happy with the purchase and pu...    1     1   \n",
       "5194623              Loved the fit exactly what I wanted .    1     1   \n",
       "\n",
       "         first_upper  \n",
       "2               True  \n",
       "4               True  \n",
       "5               True  \n",
       "16              True  \n",
       "22              True  \n",
       "...              ...  \n",
       "5194600         True  \n",
       "5194601         True  \n",
       "5194611         True  \n",
       "5194612         True  \n",
       "5194623         True  \n",
       "\n",
       "[1217843 rows x 5 columns]"
      ]
     },
     "execution_count": 50,
     "metadata": {},
     "output_type": "execute_result"
    }
   ],
   "source": [
    "best_df"
   ]
  },
  {
   "cell_type": "code",
   "execution_count": 52,
   "metadata": {},
   "outputs": [
    {
     "data": {
      "text/plain": [
       "1217843"
      ]
     },
     "execution_count": 52,
     "metadata": {},
     "output_type": "execute_result"
    }
   ],
   "source": [
    "len(best_df)"
   ]
  },
  {
   "cell_type": "code",
   "execution_count": 21,
   "metadata": {},
   "outputs": [],
   "source": [
    "#sample_cor = cor_df.sample(1200000)"
   ]
  },
  {
   "cell_type": "code",
   "execution_count": 27,
   "metadata": {},
   "outputs": [
    {
     "data": {
      "text/html": [
       "<div>\n",
       "<style scoped>\n",
       "    .dataframe tbody tr th:only-of-type {\n",
       "        vertical-align: middle;\n",
       "    }\n",
       "\n",
       "    .dataframe tbody tr th {\n",
       "        vertical-align: top;\n",
       "    }\n",
       "\n",
       "    .dataframe thead th {\n",
       "        text-align: right;\n",
       "    }\n",
       "</style>\n",
       "<table border=\"1\" class=\"dataframe\">\n",
       "  <thead>\n",
       "    <tr style=\"text-align: right;\">\n",
       "      <th></th>\n",
       "      <th>text_src</th>\n",
       "      <th>text_tgt</th>\n",
       "      <th>cor</th>\n",
       "      <th>good</th>\n",
       "    </tr>\n",
       "  </thead>\n",
       "  <tbody>\n",
       "    <tr>\n",
       "      <th>3291031</th>\n",
       "      <td>Very cute , my granddaughter loves them &amp; she ...</td>\n",
       "      <td>Very cute . My granddaughter loves them &amp; she ...</td>\n",
       "      <td>1</td>\n",
       "      <td>1</td>\n",
       "    </tr>\n",
       "    <tr>\n",
       "      <th>4829918</th>\n",
       "      <td>what I can say more of 501 model .</td>\n",
       "      <td>What I can say more of 501 model ?</td>\n",
       "      <td>1</td>\n",
       "      <td>1</td>\n",
       "    </tr>\n",
       "    <tr>\n",
       "      <th>3435079</th>\n",
       "      <td>love them , fits well , very plush and comfort...</td>\n",
       "      <td>love them , fit well , very plush and comforta...</td>\n",
       "      <td>1</td>\n",
       "      <td>1</td>\n",
       "    </tr>\n",
       "    <tr>\n",
       "      <th>2561778</th>\n",
       "      <td>Every time I have looked closely I find them a...</td>\n",
       "      <td>Every time I look closely I find them and reme...</td>\n",
       "      <td>1</td>\n",
       "      <td>1</td>\n",
       "    </tr>\n",
       "    <tr>\n",
       "      <th>2695123</th>\n",
       "      <td>Awesome quality and Style .</td>\n",
       "      <td>Awesome quality and style .</td>\n",
       "      <td>1</td>\n",
       "      <td>1</td>\n",
       "    </tr>\n",
       "    <tr>\n",
       "      <th>925630</th>\n",
       "      <td>I bought it for my mother , and after 10 minut...</td>\n",
       "      <td>I bought them for my mother , and after 10 min...</td>\n",
       "      <td>1</td>\n",
       "      <td>1</td>\n",
       "    </tr>\n",
       "    <tr>\n",
       "      <th>3765920</th>\n",
       "      <td>I like it but had to return , will order a big...</td>\n",
       "      <td>I liked it but had to return . will order a bi...</td>\n",
       "      <td>1</td>\n",
       "      <td>1</td>\n",
       "    </tr>\n",
       "    <tr>\n",
       "      <th>897000</th>\n",
       "      <td>I have replaced the shoes just so he could hav...</td>\n",
       "      <td>I have replaced the shoes just so he could hav...</td>\n",
       "      <td>1</td>\n",
       "      <td>1</td>\n",
       "    </tr>\n",
       "    <tr>\n",
       "      <th>4847305</th>\n",
       "      <td>My husband has lost a considerable amount of w...</td>\n",
       "      <td>My husband has lost a considerable amount of w...</td>\n",
       "      <td>1</td>\n",
       "      <td>0</td>\n",
       "    </tr>\n",
       "    <tr>\n",
       "      <th>2819810</th>\n",
       "      <td>Look exactly like the picture .</td>\n",
       "      <td>look exactly like the picture .</td>\n",
       "      <td>1</td>\n",
       "      <td>1</td>\n",
       "    </tr>\n",
       "  </tbody>\n",
       "</table>\n",
       "</div>"
      ],
      "text/plain": [
       "                                                  text_src  \\\n",
       "3291031  Very cute , my granddaughter loves them & she ...   \n",
       "4829918                 what I can say more of 501 model .   \n",
       "3435079  love them , fits well , very plush and comfort...   \n",
       "2561778  Every time I have looked closely I find them a...   \n",
       "2695123                        Awesome quality and Style .   \n",
       "925630   I bought it for my mother , and after 10 minut...   \n",
       "3765920  I like it but had to return , will order a big...   \n",
       "897000   I have replaced the shoes just so he could hav...   \n",
       "4847305  My husband has lost a considerable amount of w...   \n",
       "2819810                    Look exactly like the picture .   \n",
       "\n",
       "                                                  text_tgt  cor  good  \n",
       "3291031  Very cute . My granddaughter loves them & she ...    1     1  \n",
       "4829918                 What I can say more of 501 model ?    1     1  \n",
       "3435079  love them , fit well , very plush and comforta...    1     1  \n",
       "2561778  Every time I look closely I find them and reme...    1     1  \n",
       "2695123                        Awesome quality and style .    1     1  \n",
       "925630   I bought them for my mother , and after 10 min...    1     1  \n",
       "3765920  I liked it but had to return . will order a bi...    1     1  \n",
       "897000   I have replaced the shoes just so he could hav...    1     1  \n",
       "4847305  My husband has lost a considerable amount of w...    1     0  \n",
       "2819810                    look exactly like the picture .    1     1  "
      ]
     },
     "execution_count": 27,
     "metadata": {},
     "output_type": "execute_result"
    }
   ],
   "source": [
    "#sample_cor.sample(10)"
   ]
  },
  {
   "cell_type": "code",
   "execution_count": 53,
   "metadata": {},
   "outputs": [],
   "source": [
    "from sklearn.model_selection import train_test_split"
   ]
  },
  {
   "cell_type": "code",
   "execution_count": 54,
   "metadata": {},
   "outputs": [],
   "source": [
    "train, dev = train_test_split(best_df, test_size=0.02, random_state=4)"
   ]
  },
  {
   "cell_type": "code",
   "execution_count": 55,
   "metadata": {},
   "outputs": [],
   "source": [
    "train_src = train.text_src.values \n",
    "train_tgt = train.text_tgt.values \n",
    "dev_src = dev.text_src.values \n",
    "dev_tgt = dev.text_tgt.values "
   ]
  },
  {
   "cell_type": "code",
   "execution_count": 56,
   "metadata": {},
   "outputs": [],
   "source": [
    "path_save = \"../../data_parallel/amazon/\""
   ]
  },
  {
   "cell_type": "code",
   "execution_count": 57,
   "metadata": {},
   "outputs": [],
   "source": [
    "write_lines(path_save+\"train_src\", train_src, mode='w')\n",
    "write_lines(path_save+\"train_tgt\", train_tgt, mode='w')\n",
    "write_lines(path_save+\"dev_src\", dev_src, mode='w')\n",
    "write_lines(path_save+\"dev_tgt\", dev_tgt, mode='w')"
   ]
  }
 ],
 "metadata": {
  "kernelspec": {
   "display_name": "Python 3",
   "language": "python",
   "name": "python3"
  },
  "language_info": {
   "codemirror_mode": {
    "name": "ipython",
    "version": 3
   },
   "file_extension": ".py",
   "mimetype": "text/x-python",
   "name": "python",
   "nbconvert_exporter": "python",
   "pygments_lexer": "ipython3",
   "version": "3.8.5"
  }
 },
 "nbformat": 4,
 "nbformat_minor": 4
}
