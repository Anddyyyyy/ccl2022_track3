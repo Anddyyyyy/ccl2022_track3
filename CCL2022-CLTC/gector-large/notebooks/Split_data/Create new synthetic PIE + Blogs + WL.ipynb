{
 "cells": [
  {
   "cell_type": "code",
   "execution_count": 1,
   "metadata": {},
   "outputs": [],
   "source": [
    "import os\n",
    "import pandas\n",
    "import numpy"
   ]
  },
  {
   "cell_type": "code",
   "execution_count": 2,
   "metadata": {},
   "outputs": [],
   "source": [
    "def read_lines(fn):\n",
    "    if not os.path.exists(fn):\n",
    "        return []\n",
    "    with open(fn, 'r', encoding='utf-8') as f:\n",
    "        text = f.read()\n",
    "    lines = text.split(\"\\n\")\n",
    "    if lines[-1] == '':\n",
    "        return lines[:-1]\n",
    "    else:\n",
    "        return lines\n",
    "\n",
    "def write_lines(fn, lines, mode='w'):\n",
    "    text_to_write = \"\\n\".join(lines)\n",
    "    with open(fn, encoding='utf-8', mode=mode) as f:\n",
    "        f.write(text_to_write)"
   ]
  },
  {
   "cell_type": "code",
   "execution_count": 3,
   "metadata": {},
   "outputs": [],
   "source": [
    "import pandas as pd\n",
    "from sklearn.model_selection import train_test_split"
   ]
  },
  {
   "cell_type": "code",
   "execution_count": 4,
   "metadata": {},
   "outputs": [
    {
     "data": {
      "text/plain": [
       "['a1_corr_dev_02.txt',\n",
       " 'a1_corr_train_98.txt',\n",
       " 'a1_incorr_dev_02.txt',\n",
       " 'a1_incorr_train_98.txt',\n",
       " 'a1_train_corr_sentences.txt',\n",
       " 'a1_train_incorr_sentences.txt']"
      ]
     },
     "execution_count": 4,
     "metadata": {},
     "output_type": "execute_result"
    }
   ],
   "source": [
    "sorted(os.listdir(\"../../data_parallel/synthetic/a1/\"))"
   ]
  },
  {
   "cell_type": "code",
   "execution_count": 5,
   "metadata": {},
   "outputs": [
    {
     "data": {
      "text/plain": [
       "['dev_src', 'dev_tgt', 'train_src', 'train_tgt']"
      ]
     },
     "execution_count": 5,
     "metadata": {},
     "output_type": "execute_result"
    }
   ],
   "source": [
    "os.listdir(\"../../data_parallel/blogs\")"
   ]
  },
  {
   "cell_type": "code",
   "execution_count": 6,
   "metadata": {},
   "outputs": [],
   "source": [
    "bw_train_src = read_lines('../../data_parallel/blogs/train_src')\n",
    "bw_train_tgt = read_lines('../../data_parallel/blogs/train_tgt')\n",
    "bw_test_src = read_lines('../../data_parallel/blogs/dev_src')\n",
    "bw_test_tgt = read_lines('../../data_parallel/blogs/dev_tgt')"
   ]
  },
  {
   "cell_type": "code",
   "execution_count": 7,
   "metadata": {},
   "outputs": [
    {
     "data": {
      "text/plain": [
       "1244011"
      ]
     },
     "execution_count": 7,
     "metadata": {},
     "output_type": "execute_result"
    }
   ],
   "source": [
    "len_train = len(bw_train_src)\n",
    "len_train"
   ]
  },
  {
   "cell_type": "code",
   "execution_count": 8,
   "metadata": {},
   "outputs": [
    {
     "data": {
      "text/plain": [
       "25388"
      ]
     },
     "execution_count": 8,
     "metadata": {},
     "output_type": "execute_result"
    }
   ],
   "source": [
    "len_test = len(bw_test_src)\n",
    "len_test"
   ]
  },
  {
   "cell_type": "code",
   "execution_count": 12,
   "metadata": {},
   "outputs": [],
   "source": [
    "pie_train_src = read_lines('../../data_parallel/synthetic/a1/a1_incorr_train_98.txt')\n",
    "pie_train_tgt = read_lines('../../data_parallel/synthetic/a1/a1_corr_train_98.txt')\n",
    "pie_test_src = read_lines('../../data_parallel/synthetic/a1/a1_incorr_dev_02.txt')\n",
    "pie_test_tgt = read_lines('../../data_parallel/synthetic/a1/a1_corr_dev_02.txt')"
   ]
  },
  {
   "cell_type": "code",
   "execution_count": 13,
   "metadata": {},
   "outputs": [],
   "source": [
    "wl_train_src = read_lines('../../data_parallel/wi+locness/train98_src')\n",
    "wl_train_tgt = read_lines('../../data_parallel/wi+locness/train98_tgt')\n",
    "wl_test_src = read_lines('../../data_parallel/wi+locness/dev02_src')\n",
    "wl_test_tgt = read_lines('../../data_parallel/wi+locness/dev02_tgt')"
   ]
  },
  {
   "cell_type": "code",
   "execution_count": 14,
   "metadata": {},
   "outputs": [
    {
     "data": {
      "text/plain": [
       "33621"
      ]
     },
     "execution_count": 14,
     "metadata": {},
     "output_type": "execute_result"
    }
   ],
   "source": [
    "len(wl_train_src)"
   ]
  },
  {
   "cell_type": "code",
   "execution_count": 15,
   "metadata": {},
   "outputs": [
    {
     "data": {
      "text/plain": [
       "687"
      ]
     },
     "execution_count": 15,
     "metadata": {},
     "output_type": "execute_result"
    }
   ],
   "source": [
    "len(wl_test_src)"
   ]
  },
  {
   "cell_type": "code",
   "execution_count": 16,
   "metadata": {},
   "outputs": [],
   "source": [
    "train_src = []\n",
    "train_src.extend(pie_train_src[:len_train])\n",
    "train_src.extend(bw_train_src)\n",
    "train_src.extend(wl_train_src)\n",
    "\n",
    "train_tgt = []\n",
    "train_tgt.extend(pie_train_tgt[:len_train])\n",
    "train_tgt.extend(bw_train_tgt)\n",
    "train_tgt.extend(wl_train_tgt)\n",
    "\n",
    "dev_src = []\n",
    "dev_src.extend(pie_test_src[:len_test])\n",
    "dev_src.extend(bw_test_src)\n",
    "dev_src.extend(wl_test_src)\n",
    "\n",
    "\n",
    "dev_tgt = []\n",
    "dev_tgt.extend(pie_test_tgt[:len_test])\n",
    "dev_tgt.extend(bw_test_tgt)\n",
    "dev_tgt.extend(wl_test_tgt)"
   ]
  },
  {
   "cell_type": "code",
   "execution_count": 17,
   "metadata": {},
   "outputs": [],
   "source": [
    "import numpy as np"
   ]
  },
  {
   "cell_type": "code",
   "execution_count": 15,
   "metadata": {},
   "outputs": [],
   "source": [
    "arr = np.arange(len(train_src))\n",
    "np.random.shuffle(arr)"
   ]
  },
  {
   "cell_type": "code",
   "execution_count": 16,
   "metadata": {},
   "outputs": [],
   "source": [
    "from tqdm.auto import tqdm"
   ]
  },
  {
   "cell_type": "code",
   "execution_count": 17,
   "metadata": {},
   "outputs": [],
   "source": [
    "sh_train_src = [train_src[i] for i in arr]\n",
    "sh_train_tgt = [train_tgt[i] for i in arr]"
   ]
  },
  {
   "cell_type": "code",
   "execution_count": 18,
   "metadata": {},
   "outputs": [],
   "source": [
    "arr = np.arange(len(dev_src))\n",
    "np.random.shuffle(arr)"
   ]
  },
  {
   "cell_type": "code",
   "execution_count": 19,
   "metadata": {},
   "outputs": [],
   "source": [
    "sh_dev_src = [dev_src[i] for i in arr]\n",
    "sh_dev_tgt = [dev_tgt[i] for i in arr]"
   ]
  },
  {
   "cell_type": "code",
   "execution_count": 19,
   "metadata": {},
   "outputs": [],
   "source": [
    "write_lines('../../data_parallel/pie+blogs+wl/train_src', train_src, mode='w')\n",
    "write_lines('../../data_parallel/pie+blogs+wl/train_tgt', train_tgt, mode='w')"
   ]
  },
  {
   "cell_type": "code",
   "execution_count": 20,
   "metadata": {},
   "outputs": [],
   "source": [
    "write_lines('../../data_parallel/pie+blogs+wl/dev_src', dev_src, mode='w')\n",
    "write_lines('../../data_parallel/pie+blogs+wl/dev_tgt', dev_tgt, mode='w')"
   ]
  }
 ],
 "metadata": {
  "kernelspec": {
   "display_name": "Python 3",
   "language": "python",
   "name": "python3"
  },
  "language_info": {
   "codemirror_mode": {
    "name": "ipython",
    "version": 3
   },
   "file_extension": ".py",
   "mimetype": "text/x-python",
   "name": "python",
   "nbconvert_exporter": "python",
   "pygments_lexer": "ipython3",
   "version": "3.8.5"
  }
 },
 "nbformat": 4,
 "nbformat_minor": 4
}
