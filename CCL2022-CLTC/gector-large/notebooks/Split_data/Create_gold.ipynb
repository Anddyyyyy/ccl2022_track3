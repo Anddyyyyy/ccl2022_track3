{
 "cells": [
  {
   "cell_type": "code",
   "execution_count": 2,
   "metadata": {},
   "outputs": [
    {
     "data": {
      "text/plain": [
       "['synthetic',\n",
       " 'gold',\n",
       " 'fce',\n",
       " '1_billion_words',\n",
       " 'wi+locness',\n",
       " 'lang8',\n",
       " 'nucle',\n",
       " '.ipynb_checkpoints',\n",
       " '1bw']"
      ]
     },
     "execution_count": 2,
     "metadata": {},
     "output_type": "execute_result"
    }
   ],
   "source": [
    "import os\n",
    "\n",
    "os.listdir(\"../data_parallel\")"
   ]
  },
  {
   "cell_type": "code",
   "execution_count": 58,
   "metadata": {},
   "outputs": [],
   "source": [
    "def read_lines(fn):\n",
    "    if not os.path.exists(fn):\n",
    "        return []\n",
    "    with open(fn, 'r', encoding='utf-8') as f:\n",
    "        text = f.read()\n",
    "    lines = text.split(\"\\n\")\n",
    "    if lines[-1] == '':\n",
    "        return lines[:-1]\n",
    "    else:\n",
    "        return lines\n",
    "\n",
    "def write_lines(fn, lines, mode='w'):\n",
    "    text_to_write = \"\\n\".join(lines)\n",
    "#     if len(text_to_write) > 0:\n",
    "#         text_to_write + \"\\n\"\n",
    "    with open(fn, encoding='utf-8', mode=mode) as f:\n",
    "        f.write(text_to_write)"
   ]
  },
  {
   "cell_type": "code",
   "execution_count": 59,
   "metadata": {},
   "outputs": [],
   "source": [
    "import pandas as pd\n",
    "from sklearn.model_selection import train_test_split"
   ]
  },
  {
   "cell_type": "markdown",
   "metadata": {},
   "source": [
    "### Lang8"
   ]
  },
  {
   "cell_type": "code",
   "execution_count": 60,
   "metadata": {},
   "outputs": [
    {
     "data": {
      "text/plain": [
       "['lang8_tgt', 'lang8_src']"
      ]
     },
     "execution_count": 60,
     "metadata": {},
     "output_type": "execute_result"
    }
   ],
   "source": [
    "os.listdir(\"../data_parallel/lang8\")"
   ]
  },
  {
   "cell_type": "code",
   "execution_count": 61,
   "metadata": {},
   "outputs": [],
   "source": [
    "lang8_src = read_lines(\"../data_parallel/lang8/lang8_src\")\n",
    "lang8_tgt = read_lines(\"../data_parallel/lang8/lang8_tgt\")"
   ]
  },
  {
   "cell_type": "code",
   "execution_count": 62,
   "metadata": {},
   "outputs": [
    {
     "data": {
      "text/plain": [
       "1037561"
      ]
     },
     "execution_count": 62,
     "metadata": {},
     "output_type": "execute_result"
    }
   ],
   "source": [
    "len(lang8_src)"
   ]
  },
  {
   "cell_type": "code",
   "execution_count": 63,
   "metadata": {},
   "outputs": [
    {
     "data": {
      "text/plain": [
       "499205"
      ]
     },
     "execution_count": 63,
     "metadata": {},
     "output_type": "execute_result"
    }
   ],
   "source": [
    "(pd.Series(lang8_src) != pd.Series(lang8_tgt)).sum()"
   ]
  },
  {
   "cell_type": "code",
   "execution_count": 140,
   "metadata": {},
   "outputs": [
    {
     "data": {
      "text/plain": [
       "0.48113315747218716"
      ]
     },
     "execution_count": 140,
     "metadata": {},
     "output_type": "execute_result"
    }
   ],
   "source": [
    "(pd.Series(lang8_src) != pd.Series(lang8_tgt)).mean()"
   ]
  },
  {
   "cell_type": "code",
   "execution_count": 64,
   "metadata": {},
   "outputs": [],
   "source": [
    "def get_train_dev_splits(source, target, test_size=0.02, random_state=4, stratify=True):\n",
    "    ser_source = pd.Series(source)\n",
    "    ser_target = pd.Series(target)\n",
    "    source_train, source_dev, target_train, target_dev = [],[],[],[]\n",
    "    if stratify:\n",
    "        have_changes = ser_source != ser_target\n",
    "        source_train, source_dev, target_train, target_dev = train_test_split(ser_source, ser_target,\\\n",
    "                                            test_size=test_size, random_state=random_state, stratify = have_changes)\n",
    "    else:\n",
    "        source_train, source_dev, target_train, target_dev = train_test_split(ser_source, ser_target,\\\n",
    "                                            test_size=test_size, random_state=random_state)\n",
    "    \n",
    "    return source_train.values, source_dev.values, target_train.values, target_dev.values"
   ]
  },
  {
   "cell_type": "code",
   "execution_count": 66,
   "metadata": {},
   "outputs": [],
   "source": [
    "source_train_lang8, source_dev_lang8, target_train_lang8, target_dev_lang8 = get_train_dev_splits(lang8_src, lang8_tgt)"
   ]
  },
  {
   "cell_type": "markdown",
   "metadata": {},
   "source": [
    "### FCE"
   ]
  },
  {
   "cell_type": "code",
   "execution_count": 68,
   "metadata": {},
   "outputs": [],
   "source": [
    "fce_train_src = read_lines(\"../data_parallel/fce/fce_train_src\")\n",
    "fce_train_tgt = read_lines(\"../data_parallel/fce/fce_train_tgt\")"
   ]
  },
  {
   "cell_type": "code",
   "execution_count": 69,
   "metadata": {},
   "outputs": [
    {
     "data": {
      "text/plain": [
       "28350"
      ]
     },
     "execution_count": 69,
     "metadata": {},
     "output_type": "execute_result"
    }
   ],
   "source": [
    "len(pd.Series(fce_train_src))"
   ]
  },
  {
   "cell_type": "code",
   "execution_count": 70,
   "metadata": {},
   "outputs": [
    {
     "data": {
      "text/plain": [
       "17742"
      ]
     },
     "execution_count": 70,
     "metadata": {},
     "output_type": "execute_result"
    }
   ],
   "source": [
    "(pd.Series(fce_train_src) != pd.Series(fce_train_tgt)).sum()"
   ]
  },
  {
   "cell_type": "code",
   "execution_count": 71,
   "metadata": {},
   "outputs": [],
   "source": [
    "fce_dev_src = read_lines(\"../data_parallel/fce/fce_dev_src\")\n",
    "fce_dev_tgt = read_lines(\"../data_parallel/fce/fce_dev_tgt\")\n",
    "\n",
    "fce_test_src = read_lines(\"../data_parallel/fce/fce_test_src\")\n",
    "fce_test_tgt = read_lines(\"../data_parallel/fce/fce_test_tgt\")"
   ]
  },
  {
   "cell_type": "code",
   "execution_count": 72,
   "metadata": {},
   "outputs": [],
   "source": [
    "all_fce_src = []\n",
    "all_fce_src.extend(fce_train_src)\n",
    "all_fce_src.extend(fce_dev_src)\n",
    "all_fce_src.extend(fce_test_src)\n",
    "\n",
    "all_fce_tgt = []\n",
    "all_fce_tgt.extend(fce_train_tgt)\n",
    "all_fce_tgt.extend(fce_dev_tgt)\n",
    "all_fce_tgt.extend(fce_test_tgt)"
   ]
  },
  {
   "cell_type": "code",
   "execution_count": 141,
   "metadata": {},
   "outputs": [
    {
     "data": {
      "text/plain": [
       "33236"
      ]
     },
     "execution_count": 141,
     "metadata": {},
     "output_type": "execute_result"
    }
   ],
   "source": [
    "len(all_fce_src)"
   ]
  },
  {
   "cell_type": "code",
   "execution_count": 142,
   "metadata": {},
   "outputs": [
    {
     "data": {
      "text/plain": [
       "20905"
      ]
     },
     "execution_count": 142,
     "metadata": {},
     "output_type": "execute_result"
    }
   ],
   "source": [
    "(pd.Series(all_fce_src) != pd.Series(all_fce_tgt)).sum()"
   ]
  },
  {
   "cell_type": "code",
   "execution_count": 143,
   "metadata": {},
   "outputs": [
    {
     "data": {
      "text/plain": [
       "0.6289866409916958"
      ]
     },
     "execution_count": 143,
     "metadata": {},
     "output_type": "execute_result"
    }
   ],
   "source": [
    "(pd.Series(all_fce_src) != pd.Series(all_fce_tgt)).mean()"
   ]
  },
  {
   "cell_type": "code",
   "execution_count": 74,
   "metadata": {},
   "outputs": [],
   "source": [
    "source_train_fce, source_dev_fce, target_train_fce, target_dev_fce = get_train_dev_splits(all_fce_src, all_fce_tgt)"
   ]
  },
  {
   "cell_type": "markdown",
   "metadata": {},
   "source": [
    "### Nucle"
   ]
  },
  {
   "cell_type": "code",
   "execution_count": 75,
   "metadata": {},
   "outputs": [],
   "source": [
    "nucle_src = read_lines(\"../data_parallel/nucle/nucle_src\")\n",
    "nucle_tgt = read_lines(\"../data_parallel/nucle/nucle_tgt\")"
   ]
  },
  {
   "cell_type": "code",
   "execution_count": 76,
   "metadata": {},
   "outputs": [
    {
     "data": {
      "text/plain": [
       "21834"
      ]
     },
     "execution_count": 76,
     "metadata": {},
     "output_type": "execute_result"
    }
   ],
   "source": [
    "(pd.Series(nucle_src) != pd.Series(nucle_tgt)).sum()"
   ]
  },
  {
   "cell_type": "code",
   "execution_count": 144,
   "metadata": {},
   "outputs": [
    {
     "data": {
      "text/plain": [
       "0.3820405592203111"
      ]
     },
     "execution_count": 144,
     "metadata": {},
     "output_type": "execute_result"
    }
   ],
   "source": [
    "(pd.Series(nucle_src) != pd.Series(nucle_tgt)).mean()"
   ]
  },
  {
   "cell_type": "code",
   "execution_count": 77,
   "metadata": {
    "scrolled": true
   },
   "outputs": [
    {
     "data": {
      "text/plain": [
       "57151"
      ]
     },
     "execution_count": 77,
     "metadata": {},
     "output_type": "execute_result"
    }
   ],
   "source": [
    "len(pd.Series(nucle_src))"
   ]
  },
  {
   "cell_type": "code",
   "execution_count": 78,
   "metadata": {},
   "outputs": [],
   "source": [
    "source_train_nucle, source_dev_nucle, target_train_nucle, target_dev_nucle = get_train_dev_splits(nucle_src, nucle_tgt)"
   ]
  },
  {
   "cell_type": "markdown",
   "metadata": {},
   "source": [
    "### WI+Locness"
   ]
  },
  {
   "cell_type": "code",
   "execution_count": 79,
   "metadata": {},
   "outputs": [
    {
     "data": {
      "text/plain": [
       "['dev_src', 'dev_tgt', 'train_src', 'train_tgt']"
      ]
     },
     "execution_count": 79,
     "metadata": {},
     "output_type": "execute_result"
    }
   ],
   "source": [
    "os.listdir(\"../data_parallel/wi+locness\")"
   ]
  },
  {
   "cell_type": "code",
   "execution_count": 80,
   "metadata": {},
   "outputs": [],
   "source": [
    "wl_src = read_lines(\"../data_parallel/wi+locness/train_src\")\n",
    "wl_tgt = read_lines(\"../data_parallel/wi+locness/train_tgt\")"
   ]
  },
  {
   "cell_type": "code",
   "execution_count": 145,
   "metadata": {},
   "outputs": [
    {
     "data": {
      "text/plain": [
       "34308"
      ]
     },
     "execution_count": 145,
     "metadata": {},
     "output_type": "execute_result"
    }
   ],
   "source": [
    "len(wl_src)"
   ]
  },
  {
   "cell_type": "code",
   "execution_count": 148,
   "metadata": {},
   "outputs": [
    {
     "data": {
      "text/plain": [
       "1162256"
      ]
     },
     "execution_count": 148,
     "metadata": {},
     "output_type": "execute_result"
    }
   ],
   "source": [
    "1037561+33236+57151+34308"
   ]
  },
  {
   "cell_type": "code",
   "execution_count": 149,
   "metadata": {},
   "outputs": [
    {
     "data": {
      "text/plain": [
       "564688"
      ]
     },
     "execution_count": 149,
     "metadata": {},
     "output_type": "execute_result"
    }
   ],
   "source": [
    "499205+20905+21834+22744"
   ]
  },
  {
   "cell_type": "code",
   "execution_count": 150,
   "metadata": {},
   "outputs": [
    {
     "data": {
      "text/plain": [
       "0.485855095607164"
      ]
     },
     "execution_count": 150,
     "metadata": {},
     "output_type": "execute_result"
    }
   ],
   "source": [
    "564688/1162256"
   ]
  },
  {
   "cell_type": "code",
   "execution_count": 147,
   "metadata": {},
   "outputs": [
    {
     "data": {
      "text/plain": [
       "22744"
      ]
     },
     "execution_count": 147,
     "metadata": {},
     "output_type": "execute_result"
    }
   ],
   "source": [
    "(pd.Series(wl_src) != pd.Series(wl_tgt)).sum()"
   ]
  },
  {
   "cell_type": "code",
   "execution_count": 146,
   "metadata": {},
   "outputs": [
    {
     "data": {
      "text/plain": [
       "0.6629357584236912"
      ]
     },
     "execution_count": 146,
     "metadata": {},
     "output_type": "execute_result"
    }
   ],
   "source": [
    "(pd.Series(wl_src) != pd.Series(wl_tgt)).mean()"
   ]
  },
  {
   "cell_type": "code",
   "execution_count": 81,
   "metadata": {},
   "outputs": [],
   "source": [
    "source_train_wl, source_dev_wl, target_train_wl, target_dev_wl = get_train_dev_splits(wl_src, wl_tgt)"
   ]
  },
  {
   "cell_type": "code",
   "execution_count": 139,
   "metadata": {},
   "outputs": [],
   "source": [
    "write_lines(\"../data_parallel/wi+locness/train98_src\", source_train_wl)\n",
    "write_lines(\"../data_parallel/wi+locness/train98_tgt\", target_train_wl)\n",
    "write_lines(\"../data_parallel/wi+locness/dev02_src\", source_dev_wl)\n",
    "write_lines(\"../data_parallel/wi+locness/dev02_tgt\", target_dev_wl)"
   ]
  },
  {
   "cell_type": "markdown",
   "metadata": {},
   "source": [
    "### 1 Billion words"
   ]
  },
  {
   "cell_type": "code",
   "execution_count": 51,
   "metadata": {},
   "outputs": [
    {
     "data": {
      "text/plain": [
       "['test_source', 'train_target', 'train_source', 'test_target']"
      ]
     },
     "execution_count": 51,
     "metadata": {},
     "output_type": "execute_result"
    }
   ],
   "source": [
    "os.listdir(\"../data_parallel/1bw/\")"
   ]
  },
  {
   "cell_type": "code",
   "execution_count": 82,
   "metadata": {},
   "outputs": [],
   "source": [
    "syn_train_src = read_lines(\"../data_parallel/1bw/train_source\")\n",
    "syn_train_tgt = read_lines(\"../data_parallel/1bw/train_target\")\n",
    "\n",
    "syn_dev_src = read_lines(\"../data_parallel/1bw/test_source\")\n",
    "syn_dev_tgt = read_lines(\"../data_parallel/1bw/test_target\")"
   ]
  },
  {
   "cell_type": "code",
   "execution_count": 94,
   "metadata": {},
   "outputs": [
    {
     "data": {
      "text/plain": [
       "2616302"
      ]
     },
     "execution_count": 94,
     "metadata": {},
     "output_type": "execute_result"
    }
   ],
   "source": [
    "len(syn_train_src)"
   ]
  },
  {
   "cell_type": "markdown",
   "metadata": {},
   "source": [
    "### Generate gold"
   ]
  },
  {
   "cell_type": "code",
   "execution_count": 135,
   "metadata": {},
   "outputs": [],
   "source": [
    "gold_train_src = []\n",
    "gold_train_tgt = []\n",
    "gold_dev_src = []\n",
    "gold_dev_tgt = []\n",
    "\n",
    "gold_train_src.extend(source_train_lang8)\n",
    "gold_train_src.extend(source_train_fce)\n",
    "gold_train_src.extend(source_train_nucle)\n",
    "gold_train_src.extend(source_train_wl)\n",
    "\n",
    "gold_train_tgt.extend(target_train_lang8)\n",
    "gold_train_tgt.extend(target_train_fce)\n",
    "gold_train_tgt.extend(target_train_nucle)\n",
    "gold_train_tgt.extend(target_train_wl)\n",
    "\n",
    "gold_dev_src.extend(source_dev_lang8)\n",
    "gold_dev_src.extend(source_dev_fce)\n",
    "gold_dev_src.extend(source_dev_nucle)\n",
    "gold_dev_src.extend(source_dev_wl)\n",
    "\n",
    "gold_dev_tgt.extend(target_dev_lang8)\n",
    "gold_dev_tgt.extend(target_dev_fce)\n",
    "gold_dev_tgt.extend(target_dev_nucle)\n",
    "gold_dev_tgt.extend(target_dev_wl)"
   ]
  },
  {
   "cell_type": "code",
   "execution_count": 118,
   "metadata": {},
   "outputs": [
    {
     "data": {
      "text/plain": [
       "1139008"
      ]
     },
     "execution_count": 118,
     "metadata": {},
     "output_type": "execute_result"
    }
   ],
   "source": [
    "len(gold_train_src)"
   ]
  },
  {
   "cell_type": "code",
   "execution_count": 119,
   "metadata": {},
   "outputs": [
    {
     "data": {
      "text/plain": [
       "23248"
      ]
     },
     "execution_count": 119,
     "metadata": {},
     "output_type": "execute_result"
    }
   ],
   "source": [
    "len(gold_dev_src)"
   ]
  },
  {
   "cell_type": "code",
   "execution_count": 120,
   "metadata": {},
   "outputs": [
    {
     "data": {
      "text/plain": [
       "553394"
      ]
     },
     "execution_count": 120,
     "metadata": {},
     "output_type": "execute_result"
    }
   ],
   "source": [
    "(pd.Series(gold_train_src) != pd.Series(gold_train_tgt)).sum()"
   ]
  },
  {
   "cell_type": "code",
   "execution_count": 122,
   "metadata": {},
   "outputs": [
    {
     "data": {
      "text/plain": [
       "0.48585611338989715"
      ]
     },
     "execution_count": 122,
     "metadata": {},
     "output_type": "execute_result"
    }
   ],
   "source": [
    "(pd.Series(gold_train_src) != pd.Series(gold_train_tgt)).mean()"
   ]
  },
  {
   "cell_type": "code",
   "execution_count": 136,
   "metadata": {},
   "outputs": [
    {
     "data": {
      "text/plain": [
       "11294"
      ]
     },
     "execution_count": 136,
     "metadata": {},
     "output_type": "execute_result"
    }
   ],
   "source": [
    "(pd.Series(gold_dev_src) != pd.Series(gold_dev_tgt)).sum()"
   ]
  },
  {
   "cell_type": "code",
   "execution_count": 137,
   "metadata": {},
   "outputs": [
    {
     "data": {
      "text/plain": [
       "0.4858052305574673"
      ]
     },
     "execution_count": 137,
     "metadata": {},
     "output_type": "execute_result"
    }
   ],
   "source": [
    "(pd.Series(gold_dev_src) != pd.Series(gold_dev_tgt)).mean()"
   ]
  },
  {
   "cell_type": "code",
   "execution_count": 93,
   "metadata": {},
   "outputs": [],
   "source": [
    "write_lines(\"../data_parallel/gold/train_src\", gold_train_src)\n",
    "write_lines(\"../data_parallel/gold/train_tgt\", gold_train_tgt)\n",
    "write_lines(\"../data_parallel/gold/dev_src\", gold_dev_src)\n",
    "write_lines(\"../data_parallel/gold/dev_tgt\", gold_dev_tgt)"
   ]
  },
  {
   "cell_type": "markdown",
   "metadata": {},
   "source": [
    "### Gold + 0.5 1BW"
   ]
  },
  {
   "cell_type": "code",
   "execution_count": 92,
   "metadata": {},
   "outputs": [],
   "source": [
    "#try_gold_train_src = read_lines(\"../data_parallel/gold/train_src\")"
   ]
  },
  {
   "cell_type": "code",
   "execution_count": 110,
   "metadata": {},
   "outputs": [
    {
     "data": {
      "text/plain": [
       "10000.0"
      ]
     },
     "execution_count": 110,
     "metadata": {},
     "output_type": "execute_result"
    }
   ],
   "source": [
    "500000*0.02"
   ]
  },
  {
   "cell_type": "code",
   "execution_count": 111,
   "metadata": {},
   "outputs": [
    {
     "data": {
      "text/plain": [
       "500000"
      ]
     },
     "execution_count": 111,
     "metadata": {},
     "output_type": "execute_result"
    }
   ],
   "source": [
    "syn_train_src[:500000]"
   ]
  },
  {
   "cell_type": "code",
   "execution_count": 127,
   "metadata": {},
   "outputs": [],
   "source": [
    "gold_train_src = []\n",
    "gold_train_tgt = []\n",
    "gold_dev_src = []\n",
    "gold_dev_tgt = []\n",
    "\n",
    "gold_train_src.extend(syn_train_src[:500000])\n",
    "gold_train_src.extend(source_train_lang8)\n",
    "gold_train_src.extend(source_train_fce)\n",
    "gold_train_src.extend(source_train_nucle)\n",
    "gold_train_src.extend(source_train_wl)\n",
    "\n",
    "gold_train_tgt.extend(syn_train_tgt[:500000])\n",
    "gold_train_tgt.extend(target_train_lang8)\n",
    "gold_train_tgt.extend(target_train_fce)\n",
    "gold_train_tgt.extend(target_train_nucle)\n",
    "gold_train_tgt.extend(target_train_wl)\n",
    "\n",
    "gold_dev_src.extend(syn_dev_src[:10000])\n",
    "gold_dev_src.extend(source_dev_lang8)\n",
    "gold_dev_src.extend(source_dev_fce)\n",
    "gold_dev_src.extend(source_dev_nucle)\n",
    "gold_dev_src.extend(source_dev_wl)\n",
    "\n",
    "gold_dev_tgt.extend(syn_dev_tgt[:10000])\n",
    "gold_dev_tgt.extend(target_dev_lang8)\n",
    "gold_dev_tgt.extend(target_dev_fce)\n",
    "gold_dev_tgt.extend(target_dev_nucle)\n",
    "gold_dev_tgt.extend(target_dev_wl)"
   ]
  },
  {
   "cell_type": "code",
   "execution_count": 128,
   "metadata": {},
   "outputs": [],
   "source": [
    "write_lines(\"../data_parallel/gold+1bw/train_src\", gold_train_src)\n",
    "write_lines(\"../data_parallel/gold+1bw/train_tgt\", gold_train_tgt)\n",
    "write_lines(\"../data_parallel/gold+1bw/dev_src\", gold_dev_src)\n",
    "write_lines(\"../data_parallel/gold+1bw/dev_tgt\", gold_dev_tgt)"
   ]
  },
  {
   "cell_type": "code",
   "execution_count": 129,
   "metadata": {},
   "outputs": [
    {
     "data": {
      "text/plain": [
       "1639008"
      ]
     },
     "execution_count": 129,
     "metadata": {},
     "output_type": "execute_result"
    }
   ],
   "source": [
    "len(gold_train_src)"
   ]
  },
  {
   "cell_type": "code",
   "execution_count": 130,
   "metadata": {},
   "outputs": [
    {
     "data": {
      "text/plain": [
       "33248"
      ]
     },
     "execution_count": 130,
     "metadata": {},
     "output_type": "execute_result"
    }
   ],
   "source": [
    "len(gold_dev_src)"
   ]
  },
  {
   "cell_type": "code",
   "execution_count": 131,
   "metadata": {},
   "outputs": [
    {
     "data": {
      "text/plain": [
       "1053394"
      ]
     },
     "execution_count": 131,
     "metadata": {},
     "output_type": "execute_result"
    }
   ],
   "source": [
    "(pd.Series(gold_train_src) != pd.Series(gold_train_tgt)).sum()"
   ]
  },
  {
   "cell_type": "code",
   "execution_count": 132,
   "metadata": {},
   "outputs": [
    {
     "data": {
      "text/plain": [
       "0.6427021710693297"
      ]
     },
     "execution_count": 132,
     "metadata": {},
     "output_type": "execute_result"
    }
   ],
   "source": [
    "(pd.Series(gold_train_src) != pd.Series(gold_train_tgt)).mean()"
   ]
  },
  {
   "cell_type": "code",
   "execution_count": 133,
   "metadata": {},
   "outputs": [
    {
     "data": {
      "text/plain": [
       "21294"
      ]
     },
     "execution_count": 133,
     "metadata": {},
     "output_type": "execute_result"
    }
   ],
   "source": [
    "(pd.Series(gold_dev_src) != pd.Series(gold_dev_tgt)).sum()"
   ]
  },
  {
   "cell_type": "code",
   "execution_count": 134,
   "metadata": {},
   "outputs": [
    {
     "data": {
      "text/plain": [
       "0.6404595765158807"
      ]
     },
     "execution_count": 134,
     "metadata": {},
     "output_type": "execute_result"
    }
   ],
   "source": [
    "(pd.Series(gold_dev_src) != pd.Series(gold_dev_tgt)).mean()"
   ]
  }
 ],
 "metadata": {
  "kernelspec": {
   "display_name": "Python 3",
   "language": "python",
   "name": "python3"
  },
  "language_info": {
   "codemirror_mode": {
    "name": "ipython",
    "version": 3
   },
   "file_extension": ".py",
   "mimetype": "text/x-python",
   "name": "python",
   "nbconvert_exporter": "python",
   "pygments_lexer": "ipython3",
   "version": "3.8.5"
  }
 },
 "nbformat": 4,
 "nbformat_minor": 4
}
