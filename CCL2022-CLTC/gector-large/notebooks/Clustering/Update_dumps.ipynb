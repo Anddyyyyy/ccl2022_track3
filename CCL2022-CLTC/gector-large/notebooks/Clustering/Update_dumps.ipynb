{
 "cells": [
  {
   "cell_type": "code",
   "execution_count": 5,
   "metadata": {},
   "outputs": [],
   "source": [
    "import pickle \n",
    "from sklearn.metrics.pairwise import cosine_similarity\n",
    "import pandas as pd\n",
    "import numpy as np\n",
    "\n",
    "import os\n",
    "import glob\n",
    "def read_lines(fn):\n",
    "    if not os.path.exists(fn):\n",
    "        return []\n",
    "    with open(fn, 'r', encoding='utf-8') as f:\n",
    "        text = f.read()\n",
    "    lines = text.split(\"\\n\")\n",
    "    if lines[-1] == '':\n",
    "        return lines[:-1]\n",
    "    else:\n",
    "        return lines"
   ]
  },
  {
   "cell_type": "markdown",
   "metadata": {},
   "source": [
    "### Update WL"
   ]
  },
  {
   "cell_type": "code",
   "execution_count": 21,
   "metadata": {},
   "outputs": [],
   "source": [
    "wl_texts_src = read_lines(\"../../data_parallel/wi+locness/train_src\")"
   ]
  },
  {
   "cell_type": "code",
   "execution_count": 22,
   "metadata": {},
   "outputs": [],
   "source": [
    "with open(\"data/dump_wl.pickle\", \"rb\") as f:\n",
    "    dump_wl = pickle.load(f)"
   ]
  },
  {
   "cell_type": "code",
   "execution_count": 23,
   "metadata": {},
   "outputs": [],
   "source": [
    "dump = {\n",
    "    'text_src':  wl_texts_src,\n",
    "    'text_tgt':  dump_wl['texts'],\n",
    "    'vectors': dump_wl['vectors'],\n",
    "    'clusters': dump_wl['clusters'], \n",
    "    'mean_vectors': dump_wl['mean_vectors']\n",
    "}"
   ]
  },
  {
   "cell_type": "code",
   "execution_count": 24,
   "metadata": {},
   "outputs": [],
   "source": [
    "with open(\"data/dump_wl_1.pickle\", \"wb\") as f:\n",
    "    pickle.dump(dump, f)"
   ]
  },
  {
   "cell_type": "markdown",
   "metadata": {},
   "source": [
    "### Update FCE"
   ]
  },
  {
   "cell_type": "code",
   "execution_count": 25,
   "metadata": {},
   "outputs": [],
   "source": [
    "fce_texts_src = read_lines(\"../../data_parallel/fce/fce_train_src\")"
   ]
  },
  {
   "cell_type": "code",
   "execution_count": 26,
   "metadata": {},
   "outputs": [],
   "source": [
    "with open(\"data/dump_fce.pickle\", \"rb\") as f:\n",
    "    dump_fce = pickle.load(f)"
   ]
  },
  {
   "cell_type": "code",
   "execution_count": 27,
   "metadata": {},
   "outputs": [],
   "source": [
    "dump = {\n",
    "    'text_src':  fce_texts_src,\n",
    "    'text_tgt':  dump_fce['texts'],\n",
    "    'vectors': dump_fce['vectors'],\n",
    "    'clusters': dump_fce['clusters'], \n",
    "    'mean_vectors': dump_fce['mean_vectors']\n",
    "}"
   ]
  },
  {
   "cell_type": "code",
   "execution_count": 28,
   "metadata": {},
   "outputs": [],
   "source": [
    "with open(\"data/dump_fce_1.pickle\", \"wb\") as f:\n",
    "    pickle.dump(dump, f)"
   ]
  },
  {
   "cell_type": "markdown",
   "metadata": {},
   "source": [
    "### Update NUCLE"
   ]
  },
  {
   "cell_type": "code",
   "execution_count": 33,
   "metadata": {},
   "outputs": [],
   "source": [
    "nucle_texts_src = read_lines(\"../../data_parallel/nucle/nucle_src\")"
   ]
  },
  {
   "cell_type": "code",
   "execution_count": 34,
   "metadata": {},
   "outputs": [
    {
     "data": {
      "text/plain": [
       "57151"
      ]
     },
     "execution_count": 34,
     "metadata": {},
     "output_type": "execute_result"
    }
   ],
   "source": [
    "len(nucle_texts_src)"
   ]
  },
  {
   "cell_type": "code",
   "execution_count": 35,
   "metadata": {},
   "outputs": [],
   "source": [
    "with open(\"data/dump_nucle.pickle\", \"rb\") as f:\n",
    "    dump_nucle = pickle.load(f)"
   ]
  },
  {
   "cell_type": "code",
   "execution_count": 36,
   "metadata": {},
   "outputs": [],
   "source": [
    "dump = {\n",
    "    'text_src':  nucle_texts_src,\n",
    "    'text_tgt':  dump_nucle['texts'],\n",
    "    'vectors': dump_nucle['vectors'],\n",
    "    'clusters': dump_nucle['clusters'], \n",
    "    'mean_vectors': dump_nucle['mean_vectors']\n",
    "}"
   ]
  },
  {
   "cell_type": "code",
   "execution_count": 37,
   "metadata": {},
   "outputs": [],
   "source": [
    "with open(\"data/dump_nucle_1.pickle\", \"wb\") as f:\n",
    "    pickle.dump(dump, f)"
   ]
  }
 ],
 "metadata": {
  "kernelspec": {
   "display_name": "Python 3",
   "language": "python",
   "name": "python3"
  },
  "language_info": {
   "codemirror_mode": {
    "name": "ipython",
    "version": 3
   },
   "file_extension": ".py",
   "mimetype": "text/x-python",
   "name": "python",
   "nbconvert_exporter": "python",
   "pygments_lexer": "ipython3",
   "version": "3.8.5"
  }
 },
 "nbformat": 4,
 "nbformat_minor": 4
}
