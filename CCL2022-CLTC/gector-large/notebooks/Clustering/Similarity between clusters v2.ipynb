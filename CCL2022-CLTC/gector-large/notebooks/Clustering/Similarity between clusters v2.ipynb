{
 "cells": [
  {
   "cell_type": "code",
   "execution_count": 1,
   "metadata": {},
   "outputs": [],
   "source": [
    "import pickle \n",
    "from sklearn.metrics.pairwise import cosine_similarity\n",
    "import pandas as pd\n",
    "import numpy as np"
   ]
  },
  {
   "cell_type": "code",
   "execution_count": 2,
   "metadata": {},
   "outputs": [],
   "source": [
    "def write_lines(fn, lines, mode='w'):\n",
    "    text_to_write = \"\\n\".join(lines)\n",
    "    with open(fn, encoding='utf-8', mode=mode) as f:\n",
    "        f.write(text_to_write)"
   ]
  },
  {
   "cell_type": "code",
   "execution_count": 3,
   "metadata": {},
   "outputs": [],
   "source": [
    "with open(\"data/dump_wl_1.pickle\", \"rb\") as f:\n",
    "    dump_wl = pickle.load(f)\n",
    "    \n",
    "with open(\"data/dump_fce_1.pickle\", \"rb\") as f:\n",
    "    dump_fce = pickle.load(f)\n",
    "    \n",
    "with open(\"data/dump_nucle_1.pickle\", \"rb\") as f:\n",
    "    dump_nucle = pickle.load(f)\n",
    "    \n",
    "with open(\"data/dump_lang8_1.pickle\", \"rb\") as f:\n",
    "    dump_lang8 = pickle.load(f)"
   ]
  },
  {
   "cell_type": "code",
   "execution_count": 4,
   "metadata": {},
   "outputs": [
    {
     "data": {
      "text/plain": [
       "dict_keys(['text_src', 'text_tgt', 'vectors', 'clusters', 'mean_vectors'])"
      ]
     },
     "execution_count": 4,
     "metadata": {},
     "output_type": "execute_result"
    }
   ],
   "source": [
    "dump_wl.keys()"
   ]
  },
  {
   "cell_type": "code",
   "execution_count": 5,
   "metadata": {},
   "outputs": [
    {
     "data": {
      "text/plain": [
       "34308"
      ]
     },
     "execution_count": 5,
     "metadata": {},
     "output_type": "execute_result"
    }
   ],
   "source": [
    "len(dump_wl['text_src'])"
   ]
  },
  {
   "cell_type": "code",
   "execution_count": 6,
   "metadata": {},
   "outputs": [],
   "source": [
    "wl_clusters = dump_wl[\"clusters\"]\n",
    "wl_mean_vectors = dump_wl[\"mean_vectors\"]"
   ]
  },
  {
   "cell_type": "code",
   "execution_count": 7,
   "metadata": {},
   "outputs": [],
   "source": [
    "fce_mean_vectors = dump_fce[\"mean_vectors\"]\n",
    "nucle_mean_vectors = dump_nucle[\"mean_vectors\"]\n",
    "lang8_mean_vectors = dump_lang8[\"mean_vectors\"]"
   ]
  },
  {
   "cell_type": "code",
   "execution_count": 8,
   "metadata": {},
   "outputs": [],
   "source": [
    "wl_mean_cluster_ids = np.array(list(wl_mean_vectors.keys()))\n",
    "wl_mean_cluster_vectors = np.array(list(wl_mean_vectors.values()))\n",
    "\n",
    "fce_mean_cluster_ids = np.array(list(fce_mean_vectors.keys()))\n",
    "fce_mean_cluster_vectors = np.array(list(fce_mean_vectors.values()))\n",
    "\n",
    "nucle_mean_cluster_ids = np.array(list(nucle_mean_vectors.keys()))\n",
    "nucle_mean_cluster_vectors = np.array(list(nucle_mean_vectors.values()))\n",
    "\n",
    "lang8_mean_cluster_ids = np.array(list(lang8_mean_vectors.keys()))\n",
    "lang8_mean_cluster_vectors = np.array(list(lang8_mean_vectors.values()))"
   ]
  },
  {
   "cell_type": "markdown",
   "metadata": {},
   "source": [
    "### FCE"
   ]
  },
  {
   "cell_type": "code",
   "execution_count": 9,
   "metadata": {},
   "outputs": [],
   "source": [
    "cos_sim_wl_fce = cosine_similarity(wl_mean_cluster_vectors, fce_mean_cluster_vectors)"
   ]
  },
  {
   "cell_type": "code",
   "execution_count": 10,
   "metadata": {},
   "outputs": [
    {
     "data": {
      "text/plain": [
       "(1515, 912)"
      ]
     },
     "execution_count": 10,
     "metadata": {},
     "output_type": "execute_result"
    }
   ],
   "source": [
    "cos_sim_wl_fce.shape"
   ]
  },
  {
   "cell_type": "code",
   "execution_count": 101,
   "metadata": {},
   "outputs": [],
   "source": [
    "fce_sim_clusters = []\n",
    "for i in range(1, 1515):\n",
    "    ind = cos_sim_wl_fce[i].argsort()[::-1]\n",
    "    good_ind = cos_sim_wl_fce[i][ind] > 0.6\n",
    "    fce_sim_clusters.extend(ind[good_ind])"
   ]
  },
  {
   "cell_type": "code",
   "execution_count": 102,
   "metadata": {},
   "outputs": [
    {
     "data": {
      "text/plain": [
       "14509"
      ]
     },
     "execution_count": 102,
     "metadata": {},
     "output_type": "execute_result"
    }
   ],
   "source": [
    "len(fce_sim_clusters)"
   ]
  },
  {
   "cell_type": "code",
   "execution_count": 103,
   "metadata": {},
   "outputs": [],
   "source": [
    "fce_most_sim_cluster = list(pd.Series(fce_sim_clusters).value_counts().index)"
   ]
  },
  {
   "cell_type": "code",
   "execution_count": 104,
   "metadata": {},
   "outputs": [
    {
     "data": {
      "text/plain": [
       "829"
      ]
     },
     "execution_count": 104,
     "metadata": {},
     "output_type": "execute_result"
    }
   ],
   "source": [
    "len(set(fce_sim_clusters))"
   ]
  },
  {
   "cell_type": "code",
   "execution_count": 105,
   "metadata": {},
   "outputs": [
    {
     "data": {
      "text/plain": [
       "{12,\n",
       " 15,\n",
       " 16,\n",
       " 21,\n",
       " 22,\n",
       " 27,\n",
       " 29,\n",
       " 40,\n",
       " 51,\n",
       " 63,\n",
       " 89,\n",
       " 98,\n",
       " 113,\n",
       " 118,\n",
       " 125,\n",
       " 185,\n",
       " 238,\n",
       " 248,\n",
       " 265,\n",
       " 280,\n",
       " 299,\n",
       " 309,\n",
       " 330,\n",
       " 333,\n",
       " 342,\n",
       " 357,\n",
       " 375,\n",
       " 381,\n",
       " 382,\n",
       " 389,\n",
       " 397,\n",
       " 409,\n",
       " 427,\n",
       " 475,\n",
       " 479,\n",
       " 480,\n",
       " 484,\n",
       " 487,\n",
       " 493,\n",
       " 510,\n",
       " 521,\n",
       " 528,\n",
       " 536,\n",
       " 546,\n",
       " 564,\n",
       " 581,\n",
       " 592,\n",
       " 601,\n",
       " 605,\n",
       " 613,\n",
       " 619,\n",
       " 628,\n",
       " 635,\n",
       " 657,\n",
       " 681,\n",
       " 692,\n",
       " 699,\n",
       " 703,\n",
       " 710,\n",
       " 721,\n",
       " 723,\n",
       " 724,\n",
       " 729,\n",
       " 747,\n",
       " 750,\n",
       " 754,\n",
       " 781,\n",
       " 787,\n",
       " 800,\n",
       " 807,\n",
       " 812,\n",
       " 815,\n",
       " 836,\n",
       " 840,\n",
       " 849,\n",
       " 875,\n",
       " 879,\n",
       " 881,\n",
       " 884,\n",
       " 888,\n",
       " 889,\n",
       " 890,\n",
       " 910}"
      ]
     },
     "execution_count": 105,
     "metadata": {},
     "output_type": "execute_result"
    }
   ],
   "source": [
    "diff_fce_class = {i for i in range(cos_sim_wl_fce.shape[1])} - set(fce_sim_clusters)\n",
    "diff_fce_class"
   ]
  },
  {
   "cell_type": "code",
   "execution_count": 106,
   "metadata": {},
   "outputs": [],
   "source": [
    "fce_df = pd.DataFrame({\"text_src\": dump_fce['text_src'], \"text_tgt\": dump_fce[\"text_tgt\"], \"clusters\": dump_fce[\"clusters\"]})"
   ]
  },
  {
   "cell_type": "code",
   "execution_count": 108,
   "metadata": {},
   "outputs": [
    {
     "data": {
      "text/plain": [
       "28350"
      ]
     },
     "execution_count": 108,
     "metadata": {},
     "output_type": "execute_result"
    }
   ],
   "source": [
    "len(fce_df)"
   ]
  },
  {
   "cell_type": "code",
   "execution_count": 112,
   "metadata": {},
   "outputs": [
    {
     "data": {
      "text/plain": [
       "17742"
      ]
     },
     "execution_count": 112,
     "metadata": {},
     "output_type": "execute_result"
    }
   ],
   "source": [
    "fce_df[\"has_change\"].sum()"
   ]
  },
  {
   "cell_type": "code",
   "execution_count": 109,
   "metadata": {},
   "outputs": [],
   "source": [
    "fce_df[\"has_change\"] = (fce_df[\"text_src\"] != fce_df[\"text_tgt\"]).astype(int)"
   ]
  },
  {
   "cell_type": "code",
   "execution_count": 110,
   "metadata": {},
   "outputs": [
    {
     "data": {
      "text/plain": [
       "25852"
      ]
     },
     "execution_count": 110,
     "metadata": {},
     "output_type": "execute_result"
    }
   ],
   "source": [
    "len(fce_df[~fce_df[\"clusters\"].isin(diff_fce_class)])"
   ]
  },
  {
   "cell_type": "code",
   "execution_count": 111,
   "metadata": {},
   "outputs": [
    {
     "data": {
      "text/plain": [
       "16414"
      ]
     },
     "execution_count": 111,
     "metadata": {},
     "output_type": "execute_result"
    }
   ],
   "source": [
    "fce_df[~fce_df[\"clusters\"].isin(diff_fce_class)][\"has_change\"].sum()"
   ]
  },
  {
   "cell_type": "markdown",
   "metadata": {},
   "source": [
    "### Nucle"
   ]
  },
  {
   "cell_type": "code",
   "execution_count": 53,
   "metadata": {},
   "outputs": [
    {
     "data": {
      "text/plain": [
       "(1515, 1798)"
      ]
     },
     "execution_count": 53,
     "metadata": {},
     "output_type": "execute_result"
    }
   ],
   "source": [
    "cos_sim_wl_nucle = cosine_similarity(wl_mean_cluster_vectors, nucle_mean_cluster_vectors)\n",
    "cos_sim_wl_nucle.shape"
   ]
  },
  {
   "cell_type": "code",
   "execution_count": 113,
   "metadata": {},
   "outputs": [],
   "source": [
    "nucle_sim_clusters = []\n",
    "for i in range(1, 1515):\n",
    "    ind = cos_sim_wl_nucle[i].argsort()[::-1]\n",
    "    good_ind = cos_sim_wl_nucle[i][ind] > 0.6\n",
    "    nucle_sim_clusters.extend(ind[good_ind])"
   ]
  },
  {
   "cell_type": "code",
   "execution_count": 114,
   "metadata": {},
   "outputs": [
    {
     "data": {
      "text/plain": [
       "18844"
      ]
     },
     "execution_count": 114,
     "metadata": {},
     "output_type": "execute_result"
    }
   ],
   "source": [
    "len(nucle_sim_clusters)"
   ]
  },
  {
   "cell_type": "code",
   "execution_count": 115,
   "metadata": {},
   "outputs": [
    {
     "data": {
      "text/plain": [
       "1236"
      ]
     },
     "execution_count": 115,
     "metadata": {},
     "output_type": "execute_result"
    }
   ],
   "source": [
    "len(set(nucle_sim_clusters))"
   ]
  },
  {
   "cell_type": "code",
   "execution_count": 116,
   "metadata": {},
   "outputs": [],
   "source": [
    "nucle_most_sim_cluster = list(pd.Series(nucle_sim_clusters).value_counts().index)"
   ]
  },
  {
   "cell_type": "code",
   "execution_count": 117,
   "metadata": {},
   "outputs": [],
   "source": [
    "diff_nucle_class = {i for i in range(cos_sim_wl_nucle.shape[1])} - set(nucle_sim_clusters) "
   ]
  },
  {
   "cell_type": "code",
   "execution_count": 118,
   "metadata": {},
   "outputs": [],
   "source": [
    "#diff_nucle_class"
   ]
  },
  {
   "cell_type": "code",
   "execution_count": 123,
   "metadata": {},
   "outputs": [],
   "source": [
    "def create_df(dump):\n",
    "    df = pd.DataFrame({\"text_src\": dump['text_src'], \"text_tgt\": dump[\"text_tgt\"], \"clusters\": dump[\"clusters\"]})\n",
    "    df[\"has_change\"] = (df[\"text_src\"] != df[\"text_tgt\"]).astype(int)\n",
    "    return df"
   ]
  },
  {
   "cell_type": "code",
   "execution_count": 124,
   "metadata": {},
   "outputs": [],
   "source": [
    "nucle_df = create_df(dump_nucle)"
   ]
  },
  {
   "cell_type": "code",
   "execution_count": 128,
   "metadata": {},
   "outputs": [
    {
     "data": {
      "text/plain": [
       "57151"
      ]
     },
     "execution_count": 128,
     "metadata": {},
     "output_type": "execute_result"
    }
   ],
   "source": [
    "len(nucle_df)"
   ]
  },
  {
   "cell_type": "code",
   "execution_count": 126,
   "metadata": {
    "scrolled": true
   },
   "outputs": [
    {
     "data": {
      "text/plain": [
       "21834"
      ]
     },
     "execution_count": 126,
     "metadata": {},
     "output_type": "execute_result"
    }
   ],
   "source": [
    "nucle_df.has_change.sum()"
   ]
  },
  {
   "cell_type": "code",
   "execution_count": 127,
   "metadata": {},
   "outputs": [
    {
     "data": {
      "text/plain": [
       "46199"
      ]
     },
     "execution_count": 127,
     "metadata": {},
     "output_type": "execute_result"
    }
   ],
   "source": [
    "len(nucle_df[~nucle_df[\"clusters\"].isin(diff_nucle_class)])"
   ]
  },
  {
   "cell_type": "code",
   "execution_count": 129,
   "metadata": {},
   "outputs": [
    {
     "data": {
      "text/plain": [
       "19958"
      ]
     },
     "execution_count": 129,
     "metadata": {},
     "output_type": "execute_result"
    }
   ],
   "source": [
    "nucle_df[~nucle_df[\"clusters\"].isin(diff_nucle_class)][\"has_change\"].sum()"
   ]
  },
  {
   "cell_type": "markdown",
   "metadata": {},
   "source": [
    "### Lang8"
   ]
  },
  {
   "cell_type": "code",
   "execution_count": 29,
   "metadata": {},
   "outputs": [
    {
     "data": {
      "text/plain": [
       "(1515, 1427)"
      ]
     },
     "execution_count": 29,
     "metadata": {},
     "output_type": "execute_result"
    }
   ],
   "source": [
    "cos_sim_wl_lang8 = cosine_similarity(wl_mean_cluster_vectors, lang8_mean_cluster_vectors)\n",
    "cos_sim_wl_lang8.shape"
   ]
  },
  {
   "cell_type": "code",
   "execution_count": 130,
   "metadata": {},
   "outputs": [],
   "source": [
    "lang8_sim_clusters = []\n",
    "for i in range(1, 1515):\n",
    "    ind = cos_sim_wl_lang8[i].argsort()[::-1]\n",
    "    good_ind = cos_sim_wl_lang8[i][ind] > 0.6\n",
    "    lang8_sim_clusters.extend(ind[good_ind])"
   ]
  },
  {
   "cell_type": "code",
   "execution_count": 138,
   "metadata": {},
   "outputs": [],
   "source": [
    "diff_lang8_class = {i for i in range(cos_sim_wl_lang8.shape[1])} - set(lang8_sim_clusters) "
   ]
  },
  {
   "cell_type": "code",
   "execution_count": 139,
   "metadata": {},
   "outputs": [
    {
     "data": {
      "text/plain": [
       "16653"
      ]
     },
     "execution_count": 139,
     "metadata": {},
     "output_type": "execute_result"
    }
   ],
   "source": [
    "len(lang8_sim_clusters)"
   ]
  },
  {
   "cell_type": "code",
   "execution_count": 140,
   "metadata": {},
   "outputs": [
    {
     "data": {
      "text/plain": [
       "1219"
      ]
     },
     "execution_count": 140,
     "metadata": {},
     "output_type": "execute_result"
    }
   ],
   "source": [
    "len(set(lang8_sim_clusters))"
   ]
  },
  {
   "cell_type": "code",
   "execution_count": 133,
   "metadata": {},
   "outputs": [],
   "source": [
    "lang8_most_sim_cluster = list(pd.Series(lang8_sim_clusters).value_counts().index)"
   ]
  },
  {
   "cell_type": "code",
   "execution_count": 135,
   "metadata": {},
   "outputs": [],
   "source": [
    "lang8_df = create_df(dump_lang8)"
   ]
  },
  {
   "cell_type": "code",
   "execution_count": 136,
   "metadata": {},
   "outputs": [
    {
     "data": {
      "text/plain": [
       "35000"
      ]
     },
     "execution_count": 136,
     "metadata": {},
     "output_type": "execute_result"
    }
   ],
   "source": [
    "len(lang8_df)"
   ]
  },
  {
   "cell_type": "code",
   "execution_count": 137,
   "metadata": {},
   "outputs": [
    {
     "data": {
      "text/plain": [
       "16928"
      ]
     },
     "execution_count": 137,
     "metadata": {},
     "output_type": "execute_result"
    }
   ],
   "source": [
    "lang8_df.has_change.sum()"
   ]
  },
  {
   "cell_type": "code",
   "execution_count": 141,
   "metadata": {},
   "outputs": [
    {
     "data": {
      "text/plain": [
       "33097"
      ]
     },
     "execution_count": 141,
     "metadata": {},
     "output_type": "execute_result"
    }
   ],
   "source": [
    "len(lang8_df[~lang8_df[\"clusters\"].isin(diff_lang8_class)])"
   ]
  },
  {
   "cell_type": "code",
   "execution_count": 142,
   "metadata": {},
   "outputs": [
    {
     "data": {
      "text/plain": [
       "16265"
      ]
     },
     "execution_count": 142,
     "metadata": {},
     "output_type": "execute_result"
    }
   ],
   "source": [
    "lang8_df[~lang8_df[\"clusters\"].isin(diff_lang8_class)][\"has_change\"].sum()"
   ]
  },
  {
   "cell_type": "code",
   "execution_count": null,
   "metadata": {},
   "outputs": [],
   "source": []
  },
  {
   "cell_type": "code",
   "execution_count": 140,
   "metadata": {},
   "outputs": [],
   "source": [
    "def generate_text_dicts(dump):\n",
    "    df = pd.DataFrame({\"text_src\":dump['text_src'], 'text_tgt': dump['text_tgt'], 'clusters':dump['clusters']})\n",
    "    cluster_text_src = df.groupby(['clusters'])['text_src'].apply(lambda grp: list(grp)).to_dict()\n",
    "    cluster_text_tgt = df.groupby(['clusters'])['text_tgt'].apply(lambda grp: list(grp)).to_dict()\n",
    "    return cluster_text_src, cluster_text_tgt"
   ]
  },
  {
   "cell_type": "code",
   "execution_count": 141,
   "metadata": {},
   "outputs": [],
   "source": [
    "fce_cluster_text_src, fce_cluster_text_tgt = generate_text_dicts(dump_fce)\n",
    "nucle_cluster_text_src, nucle_cluster_text_tgt = generate_text_dicts(dump_nucle)\n",
    "lang8_cluster_text_src, lang8_cluster_text_tgt = generate_text_dicts(dump_lang8)"
   ]
  },
  {
   "cell_type": "code",
   "execution_count": 142,
   "metadata": {},
   "outputs": [],
   "source": [
    "fce_src = []\n",
    "fce_tgt = []\n",
    "for cl in fce_most_sim_cluster:\n",
    "    fce_src.extend(fce_cluster_text_src.get(cl, []))\n",
    "    fce_tgt.extend(fce_cluster_text_tgt.get(cl, []))"
   ]
  },
  {
   "cell_type": "code",
   "execution_count": 143,
   "metadata": {},
   "outputs": [
    {
     "data": {
      "text/plain": [
       "8242"
      ]
     },
     "execution_count": 143,
     "metadata": {},
     "output_type": "execute_result"
    }
   ],
   "source": [
    "len(fce_src)"
   ]
  },
  {
   "cell_type": "code",
   "execution_count": 144,
   "metadata": {},
   "outputs": [],
   "source": [
    "nucle_src = []\n",
    "nucle_tgt = []\n",
    "for cl in nucle_most_sim_cluster:\n",
    "    nucle_src.extend(nucle_cluster_text_src.get(cl, []))\n",
    "    nucle_tgt.extend(nucle_cluster_text_tgt.get(cl, []))"
   ]
  },
  {
   "cell_type": "code",
   "execution_count": 145,
   "metadata": {},
   "outputs": [
    {
     "data": {
      "text/plain": [
       "4750"
      ]
     },
     "execution_count": 145,
     "metadata": {},
     "output_type": "execute_result"
    }
   ],
   "source": [
    "len(nucle_src)"
   ]
  },
  {
   "cell_type": "code",
   "execution_count": 146,
   "metadata": {},
   "outputs": [],
   "source": [
    "lang8_src = []\n",
    "lang8_tgt = []\n",
    "for cl in lang8_most_sim_cluster:\n",
    "    lang8_src.extend(lang8_cluster_text_src.get(cl, []))\n",
    "    lang8_tgt.extend(lang8_cluster_text_tgt.get(cl, []))"
   ]
  },
  {
   "cell_type": "code",
   "execution_count": 147,
   "metadata": {},
   "outputs": [
    {
     "data": {
      "text/plain": [
       "9674"
      ]
     },
     "execution_count": 147,
     "metadata": {},
     "output_type": "execute_result"
    }
   ],
   "source": [
    "len(lang8_src)"
   ]
  },
  {
   "cell_type": "code",
   "execution_count": 156,
   "metadata": {},
   "outputs": [
    {
     "name": "stdout",
     "output_type": "stream",
     "text": [
      "36.0 %\n",
      "21.0 %\n",
      "43.0 %\n"
     ]
    }
   ],
   "source": [
    "total_len = len(nucle_tgt)+len(fce_src)+len(lang8_src)\n",
    "fce_prop = round(len(fce_src)/total_len,2)\n",
    "nucle_prop = round(len(nucle_src)/total_len,2)\n",
    "lang8_prop = round(len(lang8_src)/total_len,2)\n",
    "\n",
    "print(100*fce_prop,\"%\")\n",
    "print(100*nucle_prop,\"%\")\n",
    "print(100*lang8_prop,\"%\")"
   ]
  },
  {
   "cell_type": "code",
   "execution_count": 257,
   "metadata": {},
   "outputs": [
    {
     "name": "stdout",
     "output_type": "stream",
     "text": [
      "7200.0\n",
      "4200.0\n",
      "8600.0\n"
     ]
    }
   ],
   "source": [
    "c = 20000\n",
    "fce_get = c*fce_prop\n",
    "nucle_get = c*nucle_prop\n",
    "lang8_get = c*lang8_prop\n",
    "print(fce_get)\n",
    "print(nucle_get)\n",
    "print(lang8_get)"
   ]
  },
  {
   "cell_type": "code",
   "execution_count": 258,
   "metadata": {},
   "outputs": [],
   "source": [
    "np.random.seed(4)\n",
    "fce_ind = np.random.choice(np.arange(len(fce_src)), int(fce_get), replace=False)\n",
    "nucle_ind = np.random.choice(np.arange(len(nucle_src)), int(nucle_get), replace=False)\n",
    "lang8_ind = np.random.choice(np.arange(len(lang8_src)), int(lang8_get), replace=False)"
   ]
  },
  {
   "cell_type": "code",
   "execution_count": 259,
   "metadata": {},
   "outputs": [
    {
     "data": {
      "text/plain": [
       "54308"
      ]
     },
     "execution_count": 259,
     "metadata": {},
     "output_type": "execute_result"
    }
   ],
   "source": [
    "final_scr = []\n",
    "final_scr.extend([lang8_src[i] for i in lang8_ind])\n",
    "final_scr.extend([nucle_src[i] for i in nucle_ind])\n",
    "final_scr.extend([fce_src[i] for i in fce_ind])\n",
    "final_scr.extend(dump_wl['text_src'])\n",
    "\n",
    "len(final_scr)"
   ]
  },
  {
   "cell_type": "code",
   "execution_count": 260,
   "metadata": {},
   "outputs": [
    {
     "data": {
      "text/plain": [
       "54308"
      ]
     },
     "execution_count": 260,
     "metadata": {},
     "output_type": "execute_result"
    }
   ],
   "source": [
    "final_tgt = []\n",
    "final_tgt.extend([lang8_tgt[i] for i in lang8_ind])\n",
    "final_tgt.extend([nucle_tgt[i] for i in nucle_ind])\n",
    "final_tgt.extend([fce_tgt[i] for i in fce_ind])\n",
    "final_tgt.extend(dump_wl['text_tgt'])\n",
    "\n",
    "len(final_tgt)"
   ]
  },
  {
   "cell_type": "code",
   "execution_count": 261,
   "metadata": {},
   "outputs": [],
   "source": [
    "from sklearn.model_selection import train_test_split"
   ]
  },
  {
   "cell_type": "code",
   "execution_count": 262,
   "metadata": {},
   "outputs": [],
   "source": [
    "train_tgt, dev_tgt, train_src, dev_src = train_test_split(final_tgt, final_scr, test_size=0.02, random_state=4)"
   ]
  },
  {
   "cell_type": "code",
   "execution_count": 263,
   "metadata": {},
   "outputs": [],
   "source": [
    "path = \"../../data_parallel/clustering/\""
   ]
  },
  {
   "cell_type": "code",
   "execution_count": 264,
   "metadata": {},
   "outputs": [],
   "source": [
    "# write_lines(path + \"cluster_5k_train_src\", train_src, mode='w')\n",
    "# write_lines(path + \"cluster_5k_train_tgt\", train_tgt, mode='w')\n",
    "# write_lines(path + \"cluster_5k_dev_src\", dev_src, mode='w')\n",
    "# write_lines(path + \"cluster_5k_dev_tgt\", dev_tgt, mode='w')"
   ]
  },
  {
   "cell_type": "code",
   "execution_count": 248,
   "metadata": {},
   "outputs": [],
   "source": [
    "# write_lines(path + \"cluster_10k_train_src\", train_src, mode='w')\n",
    "# write_lines(path + \"cluster_10k_train_tgt\", train_tgt, mode='w')\n",
    "# write_lines(path + \"cluster_10k_dev_src\", dev_src, mode='w')\n",
    "# write_lines(path + \"cluster_10k_dev_tgt\", dev_tgt, mode='w')"
   ]
  },
  {
   "cell_type": "code",
   "execution_count": 265,
   "metadata": {},
   "outputs": [],
   "source": [
    "# write_lines(path + \"cluster_15k_train_src\", train_src, mode='w')\n",
    "# write_lines(path + \"cluster_15k_train_tgt\", train_tgt, mode='w')\n",
    "# write_lines(path + \"cluster_15k_dev_src\", dev_src, mode='w')\n",
    "# write_lines(path + \"cluster_15k_dev_tgt\", dev_tgt, mode='w')"
   ]
  },
  {
   "cell_type": "code",
   "execution_count": 266,
   "metadata": {},
   "outputs": [],
   "source": [
    "write_lines(path + \"cluster_20k_train_src\", train_src, mode='w')\n",
    "write_lines(path + \"cluster_20k_train_tgt\", train_tgt, mode='w')\n",
    "write_lines(path + \"cluster_20k_dev_src\", dev_src, mode='w')\n",
    "write_lines(path + \"cluster_20k_dev_tgt\", dev_tgt, mode='w')"
   ]
  }
 ],
 "metadata": {
  "kernelspec": {
   "display_name": "Python 3",
   "language": "python",
   "name": "python3"
  },
  "language_info": {
   "codemirror_mode": {
    "name": "ipython",
    "version": 3
   },
   "file_extension": ".py",
   "mimetype": "text/x-python",
   "name": "python",
   "nbconvert_exporter": "python",
   "pygments_lexer": "ipython3",
   "version": "3.8.5"
  }
 },
 "nbformat": 4,
 "nbformat_minor": 4
}
