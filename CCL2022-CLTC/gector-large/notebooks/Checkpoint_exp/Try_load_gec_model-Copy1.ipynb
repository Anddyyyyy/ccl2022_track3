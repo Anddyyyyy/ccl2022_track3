{
 "cells": [
  {
   "cell_type": "code",
   "execution_count": 9,
   "metadata": {},
   "outputs": [],
   "source": [
    "import os\n",
    "os.environ['CUDA_VISIBLE_DEVICES'] = '1'\n",
    "os.environ['CUDA_DEVICE_ORDER']='PCI_BUS_ID'\n",
    "\n",
    "import torch\n",
    "from allennlp.nn import util"
   ]
  },
  {
   "cell_type": "code",
   "execution_count": 2,
   "metadata": {},
   "outputs": [],
   "source": [
    "import sys\n",
    "sys.path.insert(0, \"../../gector\")\n",
    "sys.path.insert(0, \"../../\")"
   ]
  },
  {
   "cell_type": "code",
   "execution_count": 3,
   "metadata": {},
   "outputs": [],
   "source": [
    "from gector.gec_model import GecBERTModel"
   ]
  },
  {
   "cell_type": "code",
   "execution_count": 4,
   "metadata": {},
   "outputs": [],
   "source": [
    "vocab_path = \"../../data/output_vocabulary\"\n",
    "model_paths = \"../../models/Exp_005_roberta_base_coldstep_2_fixed_vocab/best.th\"\n",
    "model_name = 'roberta'\n",
    "\n",
    "model_1 = GecBERTModel(vocab_path=vocab_path,\n",
    "                     model_paths=[model_paths],\n",
    "                     max_len=50, \n",
    "                     min_len=3,\n",
    "                     iterations=5,\n",
    "                     min_error_probability=0.0,\n",
    "                     min_probability=0.0,\n",
    "                     lowercase_tokens=0,\n",
    "                     model_name= model_name,\n",
    "                     special_tokens_fix=1,\n",
    "                     log=False,\n",
    "                     confidence=0,\n",
    "                     is_ensemble=0,\n",
    "                     weigths=None,\n",
    "                     use_cpu=False)"
   ]
  },
  {
   "cell_type": "code",
   "execution_count": 5,
   "metadata": {},
   "outputs": [],
   "source": [
    "vocab_path = \"../../data/output_vocabulary\"\n",
    "model_paths = \"../../models/Exp_049_2_roberta_base_stage_3_gold/model_state_epoch_3.th\"\n",
    "model_name = 'roberta'\n",
    "\n",
    "model_2 = GecBERTModel(vocab_path=vocab_path,\n",
    "                     model_paths=[model_paths],\n",
    "                     max_len=50, \n",
    "                     min_len=3,\n",
    "                     iterations=5,\n",
    "                     min_error_probability=0.0,\n",
    "                     min_probability=0.0,\n",
    "                     lowercase_tokens=0,\n",
    "                     model_name= model_name,\n",
    "                     special_tokens_fix=1,\n",
    "                     log=False,\n",
    "                     confidence=0,\n",
    "                     is_ensemble=0,\n",
    "                     weigths=None,\n",
    "                     use_cpu=False)"
   ]
  },
  {
   "cell_type": "code",
   "execution_count": 6,
   "metadata": {},
   "outputs": [],
   "source": [
    "def get_embedings_for_batch(words_batch, model):\n",
    "    batch = model.preprocess(words_batch)\n",
    "    batch = util.move_to_device(batch[0].as_tensor_dict(), 0 if torch.cuda.is_available() else -1)\n",
    "    embed = model.models[0].text_field_embedder(batch['tokens'])\n",
    "    tensors = []\n",
    "    for i in range(len(words_batch)):\n",
    "        tensors.append(embed[i][batch['tokens']['mask'][i]==1].mean(dim=0).cpu().detach().numpy())\n",
    "    return tensors"
   ]
  },
  {
   "cell_type": "code",
   "execution_count": 7,
   "metadata": {},
   "outputs": [],
   "source": [
    "from sklearn.metrics.pairwise import cosine_similarity\n",
    "import numpy as np"
   ]
  },
  {
   "cell_type": "code",
   "execution_count": 8,
   "metadata": {},
   "outputs": [],
   "source": [
    "import pickle \n",
    "from sklearn.metrics.pairwise import cosine_similarity\n",
    "import pandas as pd\n",
    "import numpy as np\n",
    "\n",
    "import os\n",
    "import glob\n",
    "def read_lines(fn):\n",
    "    if not os.path.exists(fn):\n",
    "        return []\n",
    "    with open(fn, 'r', encoding='utf-8') as f:\n",
    "        text = f.read()\n",
    "    lines = text.split(\"\\n\")\n",
    "    if lines[-1] == '':\n",
    "        return lines[:-1]\n",
    "    else:\n",
    "        return lines"
   ]
  },
  {
   "cell_type": "code",
   "execution_count": 11,
   "metadata": {},
   "outputs": [],
   "source": [
    "from tqdm.auto import tqdm"
   ]
  },
  {
   "cell_type": "code",
   "execution_count": 12,
   "metadata": {},
   "outputs": [],
   "source": [
    "def get_embedings_for_text(src_text, model, batch_size=32):\n",
    "    embedings = []\n",
    "    batch = []\n",
    "    for sent in tqdm(src_text):\n",
    "        batch.append(sent.split())\n",
    "        if len(batch) == batch_size:\n",
    "            batch_embed = get_embedings_for_batch(batch, model)\n",
    "            embedings.extend(batch_embed)\n",
    "            batch = []\n",
    "    batch_embed = get_embedings_for_batch(batch, model)\n",
    "    embedings.extend(batch_embed)\n",
    "    return embedings"
   ]
  },
  {
   "cell_type": "markdown",
   "metadata": {},
   "source": [
    "### Fce"
   ]
  },
  {
   "cell_type": "code",
   "execution_count": 44,
   "metadata": {},
   "outputs": [],
   "source": [
    "fce_texts_src = read_lines(\"../../data_parallel/fce/fce_train_src\")"
   ]
  },
  {
   "cell_type": "code",
   "execution_count": 45,
   "metadata": {},
   "outputs": [
    {
     "data": {
      "application/vnd.jupyter.widget-view+json": {
       "model_id": "b6e01dbdadc945878c7568f2028bc3b6",
       "version_major": 2,
       "version_minor": 0
      },
      "text/plain": [
       "HBox(children=(HTML(value=''), FloatProgress(value=0.0, max=28350.0), HTML(value='')))"
      ]
     },
     "metadata": {},
     "output_type": "display_data"
    },
    {
     "name": "stdout",
     "output_type": "stream",
     "text": [
      "\n"
     ]
    }
   ],
   "source": [
    "fce_embed_1 = get_embedings_for_text(fce_texts_src, model_1, batch_size=32)"
   ]
  },
  {
   "cell_type": "code",
   "execution_count": 46,
   "metadata": {},
   "outputs": [
    {
     "data": {
      "application/vnd.jupyter.widget-view+json": {
       "model_id": "89a3b046309a454781f8479a373a6c3c",
       "version_major": 2,
       "version_minor": 0
      },
      "text/plain": [
       "HBox(children=(HTML(value=''), FloatProgress(value=0.0, max=28350.0), HTML(value='')))"
      ]
     },
     "metadata": {},
     "output_type": "display_data"
    },
    {
     "name": "stdout",
     "output_type": "stream",
     "text": [
      "\n"
     ]
    }
   ],
   "source": [
    "fce_embed_2 = get_embedings_for_text(fce_texts_src, model_2, batch_size=32)"
   ]
  },
  {
   "cell_type": "code",
   "execution_count": 47,
   "metadata": {},
   "outputs": [],
   "source": [
    "fce_cos = np.diag(cosine_similarity(fce_embed_1,fce_embed_2))"
   ]
  },
  {
   "cell_type": "code",
   "execution_count": 48,
   "metadata": {},
   "outputs": [],
   "source": [
    "import pickle\n",
    "with open(\"fce_embed_1_large.pickle\", \"wb\") as f:\n",
    "    pickle.dump(fce_embed_1, f)"
   ]
  },
  {
   "cell_type": "code",
   "execution_count": 49,
   "metadata": {},
   "outputs": [],
   "source": [
    "with open(\"fce_embed_2_large.pickle\", \"wb\") as f:\n",
    "    pickle.dump(fce_embed_2, f)"
   ]
  },
  {
   "cell_type": "code",
   "execution_count": 50,
   "metadata": {},
   "outputs": [],
   "source": [
    "with open(\"fce_cos_large.pickle\", \"wb\") as f:\n",
    "    pickle.dump(fce_cos, f)"
   ]
  },
  {
   "cell_type": "markdown",
   "metadata": {},
   "source": [
    "for base"
   ]
  },
  {
   "cell_type": "code",
   "execution_count": 67,
   "metadata": {},
   "outputs": [],
   "source": [
    "with open(\"fce_embed_1.pickle\", \"rb\") as f:\n",
    "    fce_embed_1 = pickle.load(f)\n",
    "\n",
    "with open(\"fce_embed_2.pickle\", \"rb\") as f:\n",
    "    fce_embed_2 = pickle.load(f)"
   ]
  },
  {
   "cell_type": "code",
   "execution_count": 68,
   "metadata": {},
   "outputs": [],
   "source": [
    "fce_cos = np.diag(cosine_similarity(fce_embed_1,fce_embed_2))"
   ]
  },
  {
   "cell_type": "code",
   "execution_count": 70,
   "metadata": {},
   "outputs": [],
   "source": [
    "with open(\"fce_cos.pickle\", \"wb\") as f:\n",
    "    pickle.dump(fce_cos, f)"
   ]
  },
  {
   "cell_type": "code",
   "execution_count": null,
   "metadata": {},
   "outputs": [],
   "source": []
  },
  {
   "cell_type": "code",
   "execution_count": 18,
   "metadata": {},
   "outputs": [
    {
     "data": {
      "text/plain": [
       "0.7934608"
      ]
     },
     "execution_count": 18,
     "metadata": {},
     "output_type": "execute_result"
    }
   ],
   "source": [
    "fce_cos.min()"
   ]
  },
  {
   "cell_type": "code",
   "execution_count": 19,
   "metadata": {},
   "outputs": [
    {
     "data": {
      "text/plain": [
       "0.9866495"
      ]
     },
     "execution_count": 19,
     "metadata": {},
     "output_type": "execute_result"
    }
   ],
   "source": [
    "fce_cos.max()"
   ]
  },
  {
   "cell_type": "code",
   "execution_count": 20,
   "metadata": {},
   "outputs": [
    {
     "data": {
      "text/plain": [
       "0.9742297"
      ]
     },
     "execution_count": 20,
     "metadata": {},
     "output_type": "execute_result"
    }
   ],
   "source": [
    "fce_cos.mean()"
   ]
  },
  {
   "cell_type": "markdown",
   "metadata": {},
   "source": [
    "for large"
   ]
  },
  {
   "cell_type": "code",
   "execution_count": 51,
   "metadata": {},
   "outputs": [
    {
     "data": {
      "text/plain": [
       "0.93526495"
      ]
     },
     "execution_count": 51,
     "metadata": {},
     "output_type": "execute_result"
    }
   ],
   "source": [
    "fce_cos.min()"
   ]
  },
  {
   "cell_type": "code",
   "execution_count": 52,
   "metadata": {},
   "outputs": [
    {
     "data": {
      "text/plain": [
       "0.9965112"
      ]
     },
     "execution_count": 52,
     "metadata": {},
     "output_type": "execute_result"
    }
   ],
   "source": [
    "fce_cos.max()"
   ]
  },
  {
   "cell_type": "code",
   "execution_count": 53,
   "metadata": {},
   "outputs": [
    {
     "data": {
      "text/plain": [
       "0.9899379"
      ]
     },
     "execution_count": 53,
     "metadata": {},
     "output_type": "execute_result"
    }
   ],
   "source": [
    "fce_cos.mean()"
   ]
  },
  {
   "cell_type": "markdown",
   "metadata": {},
   "source": [
    "### Nucle"
   ]
  },
  {
   "cell_type": "code",
   "execution_count": 54,
   "metadata": {},
   "outputs": [],
   "source": [
    "nucle_texts_src = read_lines(\"../../data_parallel/nucle/nucle_src\")"
   ]
  },
  {
   "cell_type": "code",
   "execution_count": 55,
   "metadata": {},
   "outputs": [
    {
     "data": {
      "application/vnd.jupyter.widget-view+json": {
       "model_id": "e3bb0b1d13984affa704a2de44842be3",
       "version_major": 2,
       "version_minor": 0
      },
      "text/plain": [
       "HBox(children=(HTML(value=''), FloatProgress(value=0.0, max=57151.0), HTML(value='')))"
      ]
     },
     "metadata": {},
     "output_type": "display_data"
    },
    {
     "name": "stdout",
     "output_type": "stream",
     "text": [
      "\n"
     ]
    }
   ],
   "source": [
    "nucle_embed_1 = get_embedings_for_text(nucle_texts_src, model_1, batch_size=32)"
   ]
  },
  {
   "cell_type": "code",
   "execution_count": 56,
   "metadata": {},
   "outputs": [
    {
     "data": {
      "application/vnd.jupyter.widget-view+json": {
       "model_id": "f8ce8f6b2f0f445b9323adebd8845287",
       "version_major": 2,
       "version_minor": 0
      },
      "text/plain": [
       "HBox(children=(HTML(value=''), FloatProgress(value=0.0, max=57151.0), HTML(value='')))"
      ]
     },
     "metadata": {},
     "output_type": "display_data"
    },
    {
     "name": "stdout",
     "output_type": "stream",
     "text": [
      "\n"
     ]
    }
   ],
   "source": [
    "nucle_embed_2 = get_embedings_for_text(nucle_texts_src, model_2, batch_size=32)"
   ]
  },
  {
   "cell_type": "code",
   "execution_count": 57,
   "metadata": {},
   "outputs": [],
   "source": [
    "with open(\"nucle_embed_2_large.pickle\", \"wb\") as f:\n",
    "    pickle.dump(nucle_embed_2, f)"
   ]
  },
  {
   "cell_type": "code",
   "execution_count": 58,
   "metadata": {},
   "outputs": [],
   "source": [
    "with open(\"nucle_embed_1_large.pickle\", \"wb\") as f:\n",
    "    pickle.dump(nucle_embed_1, f)"
   ]
  },
  {
   "cell_type": "code",
   "execution_count": 59,
   "metadata": {},
   "outputs": [],
   "source": [
    "nucle_cos = np.diag(cosine_similarity(nucle_embed_1,nucle_embed_2))"
   ]
  },
  {
   "cell_type": "code",
   "execution_count": 60,
   "metadata": {},
   "outputs": [],
   "source": [
    "with open(\"nucle_cos_large.pickle\", \"wb\") as f:\n",
    "    pickle.dump(nucle_cos, f)"
   ]
  },
  {
   "cell_type": "code",
   "execution_count": 31,
   "metadata": {},
   "outputs": [
    {
     "data": {
      "text/plain": [
       "0.80371165"
      ]
     },
     "execution_count": 31,
     "metadata": {},
     "output_type": "execute_result"
    }
   ],
   "source": [
    "nucle_cos.min()"
   ]
  },
  {
   "cell_type": "code",
   "execution_count": 32,
   "metadata": {},
   "outputs": [
    {
     "data": {
      "text/plain": [
       "0.98458177"
      ]
     },
     "execution_count": 32,
     "metadata": {},
     "output_type": "execute_result"
    }
   ],
   "source": [
    "nucle_cos.max()"
   ]
  },
  {
   "cell_type": "code",
   "execution_count": 33,
   "metadata": {},
   "outputs": [
    {
     "data": {
      "text/plain": [
       "0.9692955"
      ]
     },
     "execution_count": 33,
     "metadata": {},
     "output_type": "execute_result"
    }
   ],
   "source": [
    "nucle_cos.mean()"
   ]
  },
  {
   "cell_type": "markdown",
   "metadata": {},
   "source": [
    "### Lang8"
   ]
  },
  {
   "cell_type": "code",
   "execution_count": null,
   "metadata": {},
   "outputs": [],
   "source": [
    "lang8_texts_src = read_lines(\"../../data_parallel/lang8/lang8_src\")"
   ]
  },
  {
   "cell_type": "code",
   "execution_count": 35,
   "metadata": {},
   "outputs": [
    {
     "data": {
      "application/vnd.jupyter.widget-view+json": {
       "model_id": "f41b903b53854a75bdc811bbb6b8c7e6",
       "version_major": 2,
       "version_minor": 0
      },
      "text/plain": [
       "HBox(children=(HTML(value=''), FloatProgress(value=0.0, max=1037561.0), HTML(value='')))"
      ]
     },
     "metadata": {},
     "output_type": "display_data"
    },
    {
     "name": "stdout",
     "output_type": "stream",
     "text": [
      "\n"
     ]
    }
   ],
   "source": [
    "lang8_embed_1 = get_embedings_for_text(lang8_texts_src, model_1, batch_size=32)"
   ]
  },
  {
   "cell_type": "code",
   "execution_count": 36,
   "metadata": {},
   "outputs": [
    {
     "data": {
      "application/vnd.jupyter.widget-view+json": {
       "model_id": "c629eb509a074e878010a82811691330",
       "version_major": 2,
       "version_minor": 0
      },
      "text/plain": [
       "HBox(children=(HTML(value=''), FloatProgress(value=0.0, max=1037561.0), HTML(value='')))"
      ]
     },
     "metadata": {},
     "output_type": "display_data"
    },
    {
     "name": "stdout",
     "output_type": "stream",
     "text": [
      "\n"
     ]
    }
   ],
   "source": [
    "lang8_embed_2 = get_embedings_for_text(lang8_texts_src, model_2, batch_size=32)"
   ]
  },
  {
   "cell_type": "code",
   "execution_count": 37,
   "metadata": {},
   "outputs": [],
   "source": [
    "with open(\"lang8_embed_2.pickle\", \"wb\") as f:\n",
    "    pickle.dump(lang8_embed_2, f)"
   ]
  },
  {
   "cell_type": "code",
   "execution_count": 38,
   "metadata": {},
   "outputs": [],
   "source": [
    "with open(\"lang8_embed_1.pickle\", \"wb\") as f:\n",
    "    pickle.dump(lang8_embed_1, f)"
   ]
  },
  {
   "cell_type": "code",
   "execution_count": 40,
   "metadata": {},
   "outputs": [],
   "source": [
    "#lang8_cos = np.diag(cosine_similarity(lang8_embed_1,lang8_embed_2))"
   ]
  },
  {
   "cell_type": "code",
   "execution_count": null,
   "metadata": {},
   "outputs": [],
   "source": [
    "with open(\"lang8_cos.pickle\", \"wb\") as f:\n",
    "    pickle.dump(lang8_cos, f)"
   ]
  },
  {
   "cell_type": "code",
   "execution_count": null,
   "metadata": {},
   "outputs": [],
   "source": [
    "#lang8_cos.min()"
   ]
  },
  {
   "cell_type": "code",
   "execution_count": null,
   "metadata": {},
   "outputs": [],
   "source": [
    "#lang8_cos.max()"
   ]
  },
  {
   "cell_type": "code",
   "execution_count": null,
   "metadata": {},
   "outputs": [],
   "source": [
    "#lang8_cos.mean()"
   ]
  },
  {
   "cell_type": "code",
   "execution_count": null,
   "metadata": {},
   "outputs": [],
   "source": []
  },
  {
   "cell_type": "code",
   "execution_count": null,
   "metadata": {},
   "outputs": [],
   "source": []
  },
  {
   "cell_type": "code",
   "execution_count": 61,
   "metadata": {},
   "outputs": [
    {
     "data": {
      "application/vnd.jupyter.widget-view+json": {
       "model_id": "c258ddfe4e5e48b8b07259911dfe4f49",
       "version_major": 2,
       "version_minor": 0
      },
      "text/plain": [
       "HBox(children=(HTML(value=''), FloatProgress(value=0.0, max=1037561.0), HTML(value='')))"
      ]
     },
     "metadata": {},
     "output_type": "display_data"
    },
    {
     "name": "stdout",
     "output_type": "stream",
     "text": [
      "\n"
     ]
    }
   ],
   "source": [
    "lang8_embed_1_large = get_embedings_for_text(lang8_texts_src, model_1, batch_size=32)"
   ]
  },
  {
   "cell_type": "code",
   "execution_count": 63,
   "metadata": {},
   "outputs": [
    {
     "data": {
      "application/vnd.jupyter.widget-view+json": {
       "model_id": "3923997d76524b8d8dfe1c212aeb3208",
       "version_major": 2,
       "version_minor": 0
      },
      "text/plain": [
       "HBox(children=(HTML(value=''), FloatProgress(value=0.0, max=1037561.0), HTML(value='')))"
      ]
     },
     "metadata": {},
     "output_type": "display_data"
    },
    {
     "name": "stdout",
     "output_type": "stream",
     "text": [
      "\n"
     ]
    }
   ],
   "source": [
    "lang8_embed_2_large = get_embedings_for_text(lang8_texts_src, model_2, batch_size=32)"
   ]
  },
  {
   "cell_type": "code",
   "execution_count": 64,
   "metadata": {},
   "outputs": [],
   "source": [
    "with open(\"lang8_embed_2_large.pickle\", \"wb\") as f:\n",
    "    pickle.dump(lang8_embed_2_large, f)"
   ]
  },
  {
   "cell_type": "code",
   "execution_count": 62,
   "metadata": {},
   "outputs": [],
   "source": [
    "with open(\"lang8_embed_1_large.pickle\", \"wb\") as f:\n",
    "    pickle.dump(lang8_embed_1_large, f)"
   ]
  },
  {
   "cell_type": "code",
   "execution_count": null,
   "metadata": {},
   "outputs": [],
   "source": [
    "lang8_cos_large = np.diag(cosine_similarity(lang8_embed_1_large,lang8_embed_2_large))"
   ]
  },
  {
   "cell_type": "code",
   "execution_count": null,
   "metadata": {},
   "outputs": [],
   "source": [
    "with open(\"lang8_cos_large.pickle\", \"wb\") as f:\n",
    "    pickle.dump(lang8_cos_large, f)"
   ]
  },
  {
   "cell_type": "code",
   "execution_count": null,
   "metadata": {},
   "outputs": [],
   "source": []
  },
  {
   "cell_type": "code",
   "execution_count": null,
   "metadata": {},
   "outputs": [],
   "source": []
  },
  {
   "cell_type": "code",
   "execution_count": 43,
   "metadata": {},
   "outputs": [],
   "source": [
    "del lang8_embed_2\n",
    "del lang8_embed_1\n",
    "\n",
    "del fce_embed_2\n",
    "del fce_embed_1\n",
    "\n",
    "del nucle_embed_2\n",
    "del nucle_embed_1\n",
    "\n",
    "del fce_cos\n",
    "del nucle_cos\n",
    "#del lang8_cos"
   ]
  },
  {
   "cell_type": "markdown",
   "metadata": {},
   "source": [
    "### Try large models"
   ]
  },
  {
   "cell_type": "code",
   "execution_count": 41,
   "metadata": {},
   "outputs": [],
   "source": [
    "vocab_path = \"../../data/output_vocabulary\"\n",
    "model_paths = \"../../models/Exp_008_roberta_large/best.th\"\n",
    "model_name = 'roberta-large'\n",
    "\n",
    "model_1 = GecBERTModel(vocab_path=vocab_path,\n",
    "                     model_paths=[model_paths],\n",
    "                     max_len=50, \n",
    "                     min_len=3,\n",
    "                     iterations=5,\n",
    "                     min_error_probability=0.0,\n",
    "                     min_probability=0.0,\n",
    "                     lowercase_tokens=0,\n",
    "                     model_name= model_name,\n",
    "                     special_tokens_fix=1,\n",
    "                     log=False,\n",
    "                     confidence=0,\n",
    "                     is_ensemble=0,\n",
    "                     weigths=None,\n",
    "                     use_cpu=False)"
   ]
  },
  {
   "cell_type": "code",
   "execution_count": 42,
   "metadata": {},
   "outputs": [],
   "source": [
    "vocab_path = \"../../data/output_vocabulary\"\n",
    "model_paths = \"../../models/Exp_037_roberta_large_st3/model_state_epoch_1.th\"\n",
    "model_name = 'roberta-large'\n",
    "\n",
    "model_2 = GecBERTModel(vocab_path=vocab_path,\n",
    "                     model_paths=[model_paths],\n",
    "                     max_len=50, \n",
    "                     min_len=3,\n",
    "                     iterations=5,\n",
    "                     min_error_probability=0.0,\n",
    "                     min_probability=0.0,\n",
    "                     lowercase_tokens=0,\n",
    "                     model_name= model_name,\n",
    "                     special_tokens_fix=1,\n",
    "                     log=False,\n",
    "                     confidence=0,\n",
    "                     is_ensemble=0,\n",
    "                     weigths=None,\n",
    "                     use_cpu=False)"
   ]
  },
  {
   "cell_type": "code",
   "execution_count": null,
   "metadata": {},
   "outputs": [],
   "source": []
  },
  {
   "cell_type": "code",
   "execution_count": 12,
   "metadata": {},
   "outputs": [],
   "source": [
    "# from transformers import pipeline, RobertaForMaskedLM, RobertaTokenizer\n",
    "\n",
    "# model = RobertaForMaskedLM.from_pretrained(\"youscan/ukr-roberta-base\")\n",
    "# tokenizer = RobertaTokenizer.from_pretrained(\"youscan/ukr-roberta-base\")"
   ]
  },
  {
   "cell_type": "code",
   "execution_count": null,
   "metadata": {},
   "outputs": [],
   "source": []
  },
  {
   "cell_type": "code",
   "execution_count": null,
   "metadata": {},
   "outputs": [],
   "source": []
  },
  {
   "cell_type": "code",
   "execution_count": null,
   "metadata": {},
   "outputs": [],
   "source": []
  },
  {
   "cell_type": "code",
   "execution_count": 10,
   "metadata": {},
   "outputs": [],
   "source": [
    "#os.listdir('../../models/Exp_005_roberta_base_coldstep_2_fixed_vocab/')"
   ]
  },
  {
   "cell_type": "code",
   "execution_count": 9,
   "metadata": {},
   "outputs": [],
   "source": [
    "from sentence_transformers import SentenceTransformer"
   ]
  },
  {
   "cell_type": "code",
   "execution_count": 3,
   "metadata": {},
   "outputs": [],
   "source": [
    "from transformers import AutoTokenizer, AutoModel\n"
   ]
  },
  {
   "cell_type": "code",
   "execution_count": 6,
   "metadata": {},
   "outputs": [],
   "source": [
    "# from transformers import pipeline, RobertaForMaskedLM, RobertaTokenizer\n",
    "\n",
    "# model = RobertaForMaskedLM.from_pretrained(\"ukr-roberta-base\")\n",
    "# tokenizer = RobertaTokenizer.from_pretrained(\"ukr-roberta-base\")"
   ]
  },
  {
   "cell_type": "code",
   "execution_count": 13,
   "metadata": {
    "scrolled": true
   },
   "outputs": [],
   "source": [
    "tokenizer = AutoTokenizer.from_pretrained(\"youscan/ukr-roberta-base\")"
   ]
  },
  {
   "cell_type": "code",
   "execution_count": 106,
   "metadata": {},
   "outputs": [],
   "source": [
    "# input_ids = torch.tensor(tokenizer.encode(\"Hello, my dog is cute\")).unsqueeze(0)  # Batch size 1\n",
    "# outputs = model(input_ids)\n",
    "# last_hidden_states = outputs[0]"
   ]
  },
  {
   "cell_type": "code",
   "execution_count": 8,
   "metadata": {},
   "outputs": [],
   "source": [
    "#sorted(os.listdir(\"../models/Exp_046_roberta_base_stage_2_new/\"))"
   ]
  },
  {
   "cell_type": "code",
   "execution_count": null,
   "metadata": {},
   "outputs": [],
   "source": []
  },
  {
   "cell_type": "code",
   "execution_count": null,
   "metadata": {},
   "outputs": [],
   "source": []
  }
 ],
 "metadata": {
  "kernelspec": {
   "display_name": "maks_env",
   "language": "python",
   "name": "maks_env"
  },
  "language_info": {
   "codemirror_mode": {
    "name": "ipython",
    "version": 3
   },
   "file_extension": ".py",
   "mimetype": "text/x-python",
   "name": "python",
   "nbconvert_exporter": "python",
   "pygments_lexer": "ipython3",
   "version": "3.7.9"
  }
 },
 "nbformat": 4,
 "nbformat_minor": 4
}
