{
 "cells": [
  {
   "cell_type": "code",
   "execution_count": 1,
   "id": "771d0368-ef17-420e-a458-8d38bb73cf1e",
   "metadata": {},
   "outputs": [
    {
     "name": "stdout",
     "output_type": "stream",
     "text": [
      "^C\n",
      "Traceback (most recent call last):\n",
      "  File \"../ensemble.py\", line 3, in <module>\n",
      "    import spacy\n",
      "  File \"/root/.local/lib/python3.7/site-packages/spacy/__init__.py\", line 12, in <module>\n",
      "    from .cli.info import info as cli_info\n",
      "  File \"/root/.local/lib/python3.7/site-packages/spacy/cli/__init__.py\", line 6, in <module>\n",
      "    from .train import train  # noqa: F401\n",
      "  File \"/root/.local/lib/python3.7/site-packages/spacy/cli/train.py\", line 16, in <module>\n",
      "    from .._ml import create_default_optimizer\n",
      "  File \"/root/.local/lib/python3.7/site-packages/spacy/_ml.py\", line 31, in <module>\n",
      "    import torch.nn\n",
      "  File \"/root/.local/lib/python3.7/site-packages/torch/__init__.py\", line 721, in <module>\n",
      "    import torch.utils.data\n",
      "  File \"/root/.local/lib/python3.7/site-packages/torch/utils/data/__init__.py\", line 38, in <module>\n",
      "    from torch.utils.data.dataloader_experimental import DataLoader2\n",
      "  File \"/root/.local/lib/python3.7/site-packages/torch/utils/data/dataloader_experimental.py\", line 11, in <module>\n",
      "    from torch.utils.data.datapipes.iter import IterableWrapper\n",
      "  File \"/root/.local/lib/python3.7/site-packages/torch/utils/data/datapipes/__init__.py\", line 1, in <module>\n",
      "    from . import iter\n",
      "  File \"/root/.local/lib/python3.7/site-packages/torch/utils/data/datapipes/iter/__init__.py\", line 16, in <module>\n",
      "    from torch.utils.data.datapipes.iter.filelister import (\n",
      "  File \"<frozen importlib._bootstrap>\", line 983, in _find_and_load\n",
      "  File \"<frozen importlib._bootstrap>\", line 967, in _find_and_load_unlocked\n",
      "  File \"<frozen importlib._bootstrap>\", line 677, in _load_unlocked\n",
      "  File \"<frozen importlib._bootstrap_external>\", line 724, in exec_module\n",
      "  File \"<frozen importlib._bootstrap_external>\", line 818, in get_code\n",
      "  File \"<frozen importlib._bootstrap_external>\", line 916, in get_data\n",
      "KeyboardInterrupt\n"
     ]
    }
   ],
   "source": [
    "!python ../ensemble.py \\\n",
    "--source_file yaclc-fluency_testA.src \\\n",
    "--target_files 1.tgt 2.tgt 3.tgt \\\n",
    "--output_file yaclc-fluency_testA.preds"
   ]
  }
 ],
 "metadata": {
  "kernelspec": {
   "display_name": "Python 3",
   "language": "python",
   "name": "python3"
  },
  "language_info": {
   "codemirror_mode": {
    "name": "ipython",
    "version": 3
   },
   "file_extension": ".py",
   "mimetype": "text/x-python",
   "name": "python",
   "nbconvert_exporter": "python",
   "pygments_lexer": "ipython3",
   "version": "3.7.6"
  }
 },
 "nbformat": 4,
 "nbformat_minor": 5
}
